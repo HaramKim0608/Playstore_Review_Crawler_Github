{
  "cells": [
    {
      "cell_type": "code",
      "execution_count": null,
      "id": "f2878856",
      "metadata": {
        "scrolled": true,
        "id": "f2878856"
      },
      "outputs": [],
      "source": [
        "# chrome_driver = '../chromedriver.exe' # 파일 확장자 이름 표기\n",
        "chrome_driver = 'C:/Users/haramkim/Desktop' # 파일 확장자 이름 미표기"
      ]
    },
    {
      "cell_type": "code",
      "execution_count": null,
      "id": "37450dcd",
      "metadata": {
        "id": "37450dcd"
      },
      "outputs": [],
      "source": [
        "url = 'https://play.google.com/store/apps/details?id=com.sampleapp&hl=ko&gl=US&showAllReviews=true'"
      ]
    },
    {
      "cell_type": "code",
      "execution_count": null,
      "id": "60ada46a",
      "metadata": {
        "colab": {
          "base_uri": "https://localhost:8080/",
          "height": 394
        },
        "id": "60ada46a",
        "outputId": "08fa06d6-1b11-4aea-959f-4fbfbf1bd854"
      },
      "outputs": [
        {
          "output_type": "error",
          "ename": "ModuleNotFoundError",
          "evalue": "ignored",
          "traceback": [
            "\u001b[0;31m---------------------------------------------------------------------------\u001b[0m",
            "\u001b[0;31mModuleNotFoundError\u001b[0m                       Traceback (most recent call last)",
            "\u001b[0;32m<ipython-input-5-09d6316b733b>\u001b[0m in \u001b[0;36m<module>\u001b[0;34m()\u001b[0m\n\u001b[1;32m      1\u001b[0m \u001b[0;32mimport\u001b[0m \u001b[0mrequests\u001b[0m\u001b[0;34m\u001b[0m\u001b[0;34m\u001b[0m\u001b[0m\n\u001b[0;32m----> 2\u001b[0;31m \u001b[0;32mfrom\u001b[0m \u001b[0mselenium\u001b[0m \u001b[0;32mimport\u001b[0m \u001b[0mwebdriver\u001b[0m\u001b[0;34m\u001b[0m\u001b[0;34m\u001b[0m\u001b[0m\n\u001b[0m\u001b[1;32m      3\u001b[0m \u001b[0;32mfrom\u001b[0m \u001b[0mselenium\u001b[0m\u001b[0;34m.\u001b[0m\u001b[0mwebdriver\u001b[0m\u001b[0;34m.\u001b[0m\u001b[0mcommon\u001b[0m\u001b[0;34m.\u001b[0m\u001b[0mkeys\u001b[0m \u001b[0;32mimport\u001b[0m \u001b[0mKeys\u001b[0m\u001b[0;34m\u001b[0m\u001b[0;34m\u001b[0m\u001b[0m\n\u001b[1;32m      4\u001b[0m \u001b[0;32mfrom\u001b[0m \u001b[0mselenium\u001b[0m\u001b[0;34m.\u001b[0m\u001b[0mwebdriver\u001b[0m\u001b[0;34m.\u001b[0m\u001b[0msupport\u001b[0m\u001b[0;34m.\u001b[0m\u001b[0mui\u001b[0m \u001b[0;32mimport\u001b[0m \u001b[0mWebDriverWait\u001b[0m\u001b[0;34m\u001b[0m\u001b[0;34m\u001b[0m\u001b[0m\n\u001b[1;32m      5\u001b[0m \u001b[0;32mfrom\u001b[0m \u001b[0mselenium\u001b[0m\u001b[0;34m.\u001b[0m\u001b[0mwebdriver\u001b[0m\u001b[0;34m.\u001b[0m\u001b[0msupport\u001b[0m \u001b[0;32mimport\u001b[0m \u001b[0mexpected_conditions\u001b[0m \u001b[0;32mas\u001b[0m \u001b[0mEC\u001b[0m\u001b[0;34m\u001b[0m\u001b[0;34m\u001b[0m\u001b[0m\n",
            "\u001b[0;31mModuleNotFoundError\u001b[0m: No module named 'selenium'",
            "",
            "\u001b[0;31m---------------------------------------------------------------------------\u001b[0;32m\nNOTE: If your import is failing due to a missing package, you can\nmanually install dependencies using either !pip or !apt.\n\nTo view examples of installing some common dependencies, click the\n\"Open Examples\" button below.\n\u001b[0;31m---------------------------------------------------------------------------\u001b[0m\n"
          ],
          "errorDetails": {
            "actions": [
              {
                "action": "open_url",
                "actionText": "Open Examples",
                "url": "/notebooks/snippets/importing_libraries.ipynb"
              }
            ]
          }
        }
      ],
      "source": [
        "import requests\n",
        "from selenium import webdriver\n",
        "from selenium.webdriver.common.keys import Keys\n",
        "from selenium.webdriver.support.ui import WebDriverWait\n",
        "from selenium.webdriver.support import expected_conditions as EC\n",
        "from selenium.webdriver.common.by import By\n",
        "from selenium.webdriver.common.keys import Keys\n",
        "from bs4 import BeautifulSoup\n",
        "import time\n",
        "from time import sleep\n",
        "import random\n",
        "from tqdm.auto import tqdm, trange\n",
        "import pandas as pd"
      ]
    },
    {
      "cell_type": "code",
      "execution_count": null,
      "id": "f8cbe764",
      "metadata": {
        "id": "f8cbe764"
      },
      "outputs": [],
      "source": [
        "def scrolling():\n",
        "    try:        \n",
        "        # 스크롤 높이 받아오기\n",
        "        last_height = driver.execute_script(\"return document.body.scrollHeight\")\n",
        "        while True:\n",
        "            pause_time = random.uniform(0.5, 0.8)\n",
        "            # 최하단까지 스크롤\n",
        "            driver.execute_script(\"window.scrollTo(0, document.body.scrollHeight);\")\n",
        "            # 페이지 로딩 대기\n",
        "            time.sleep(pause_time)\n",
        "            # 무한 스크롤 동작을 위해 살짝 위로 스크롤\n",
        "            driver.execute_script(\"window.scrollTo(0, document.body.scrollHeight-50);\")\n",
        "            time.sleep(pause_time)\n",
        "            # 스크롤 높이 새롭게 받아오기\n",
        "            new_height = driver.execute_script(\"return document.body.scrollHeight\")\n",
        "            try:\n",
        "                # '더보기' 버튼 있을 경우 클릭\n",
        "                more_btn = driver.find_element_by_xpath('/html/body/div[1]/div[4]/c-wiz/div/div[2]/div/div/main/div/div[1]/div[2]/div[2]/div/span/span').click()\n",
        "            except:\n",
        "                # 스크롤 완료 경우\n",
        "                if new_height == last_height:\n",
        "                    print(\"Scrolling is completed!!!\")\n",
        "                    break\n",
        "                last_height = new_height\n",
        "                \n",
        "    except Exception as e:\n",
        "        print(\"error occurred: \", e)"
      ]
    },
    {
      "cell_type": "code",
      "execution_count": null,
      "id": "3394b274",
      "metadata": {
        "id": "3394b274",
        "outputId": "e26c03a6-37c3-481c-fa13-a666cfab5747"
      },
      "outputs": [
        {
          "name": "stderr",
          "output_type": "stream",
          "text": [
            "<ipython-input-6-a8e41bb54054>:1: DeprecationWarning: executable_path has been deprecated, please pass in a Service object\n",
            "  driver = webdriver.Chrome(chrome_driver)\n",
            "<ipython-input-4-10bbc0072956>:18: DeprecationWarning: find_element_by_* commands are deprecated. Please use find_element() instead\n",
            "  more_btn = driver.find_element_by_xpath('/html/body/div[1]/div[4]/c-wiz/div/div[2]/div/div/main/div/div[1]/div[2]/div[2]/div/span/span').click()\n"
          ]
        },
        {
          "name": "stdout",
          "output_type": "stream",
          "text": [
            "Scrolling is completed!!!\n"
          ]
        }
      ],
      "source": [
        "driver = webdriver.Chrome(chrome_driver)\n",
        "# 페이지열기\n",
        "driver.get(url)\n",
        "# 페이지 로딩 대기\n",
        "wait = WebDriverWait(driver, 5)\n",
        "#allreview_btn = '/html/body/c-wiz[2]/div/div/div[1]/div[2]/div/div[1]/c-wiz[3]/section/div/div/div[5]/div/div/button/span'\n",
        "#chk_loading = wait.until(EC.element_to_be_clickable((By.XPATH, allreview_btn)))\n",
        "#driver.find_element_by_xpath(allreview_btn).click()\n",
        "chk_xpath = '/html/body/div[1]/div[4]/c-wiz/div/div[2]/div/div/main/div/div[1]/div[2]/h3'\n",
        "chk_loading = wait.until(EC.element_to_be_clickable((By.XPATH, chk_xpath)))\n",
        "# 페이지 무한 스크롤 다운\n",
        "scrolling()\n",
        "# html parsing하기\n",
        "html_src = driver.page_source\n",
        "soup_src = BeautifulSoup(html_src, 'html.parser')"
      ]
    },
    {
      "cell_type": "code",
      "execution_count": null,
      "id": "a75b7965",
      "metadata": {
        "id": "a75b7965"
      },
      "outputs": [],
      "source": [
        "# html 데이터 저장\n",
        "with open(\"C:/Users/1/Desktop/playstore-review-crawler-main/playstore-review-crawler-main/dataset/html_data.html\", \"w\", encoding = 'utf-8') as file:\n",
        "    file.write(str(soup_src))"
      ]
    },
    {
      "cell_type": "code",
      "execution_count": null,
      "id": "e5371c7a",
      "metadata": {
        "id": "e5371c7a"
      },
      "outputs": [],
      "source": [
        "# 리뷰 데이터 클래스 접근\n",
        "review_all= soup_src.find_all(class_ = 'd15Mdf bAhLNe')"
      ]
    },
    {
      "cell_type": "code",
      "execution_count": null,
      "id": "026457a4",
      "metadata": {
        "colab": {
          "referenced_widgets": [
            "0abc2bd1180745be836094a739f9d54f"
          ]
        },
        "id": "026457a4",
        "outputId": "c90e1ea0-2f70-4240-d091-004ccba410d3"
      },
      "outputs": [
        {
          "data": {
            "application/vnd.jupyter.widget-view+json": {
              "model_id": "0abc2bd1180745be836094a739f9d54f",
              "version_major": 2,
              "version_minor": 0
            },
            "text/plain": [
              "  0%|          | 0/8840 [00:00<?, ?it/s]"
            ]
          },
          "metadata": {},
          "output_type": "display_data"
        },
        {
          "name": "stdout",
          "output_type": "stream",
          "text": [
            "26.85418152809143\n"
          ]
        }
      ],
      "source": [
        "start = time.time() # 코드 실행 시간 측정을 위한 변수\n",
        "date_ymd = [] # 리뷰등록일을 yyyymmdd 형태로 저장할 리스트 생성\n",
        "date_y = [] # 리뷰등록일 중 연도 정보를 yyyy 형태로 저장할 리스트 생성\n",
        "date_m = [] # 리뷰등록일 중 월 정보를 mm 형태 저장할 리스트 생성\n",
        "date_d = [] # 리뷰등록일 중 일 정보를 dd 형태로 저장할 리스트 생성\n",
        "username_list = [] # 사용자 닉네임 저장용 리스트\n",
        "rating_list = [] # 평점 데이터 저장용 리스트\n",
        "content_list = [] # 텍스트 리뷰 저장용 리스트\n",
        "\n",
        "# 리뷰 1개씩 접근해 정보 추출\n",
        "for rv in tqdm(review_all):\n",
        "    \n",
        "    date_ymd_v = rv.find_all(class_ = 'p2TkOb')[0].text\n",
        "    date_y_v = date_ymd_v[0:4] # 연도 정보만 추출\n",
        "    # 해당 단어가 등장한 인덱스 추출\n",
        "    idx_y = date_ymd_v.find('년')\n",
        "    idx_m = date_ymd_v.find('월')\n",
        "    idx_d = date_ymd_v.find('일')\n",
        "    date_m_v = str(int(date_ymd_v[idx_y+1:idx_m])) # 월 정보만 추출\n",
        "    date_d_v = str(int(date_ymd_v[idx_m+1:idx_d])) # 일 정보만 추출\n",
        "    \n",
        "    # 월 정보가 1자리의 경우 앞에 0 붙여줌(e.g., 1월 -> 01월)\n",
        "    if len(date_m_v) == 1:\n",
        "        date_m_v = '0' + date_m_v\n",
        "    # 일 정보가 1자리의 경우 앞에 0 붙여줌(e.g., 7일 -> 07일)\n",
        "    if len(date_d_v) == 1:\n",
        "        date_d_v = '0' + date_d_v\n",
        "    \n",
        "    # 리뷰등록일 full version은 최종적으로 yyyymmdd 형태로 저장\n",
        "    date_full = date_y_v + date_m_v + date_d_v\n",
        "    date_ymd.append(date_full)\n",
        "    date_y.append(date_y_v)\n",
        "    date_m.append(date_m_v)\n",
        "    date_d.append(date_d_v)\n",
        "    username_list.append(rv.find_all(class_ = 'X43Kjb')[0].text) # 닉네임 정보 추출 및 저장\n",
        "    rating_list.append(rv.select('span.nt2C1d > .pf5lIe > div')[0]['aria-label'][10]) # 평점 정보 추출 및 저장\n",
        "    content = rv.find_all('span', attrs={'jsname':\"fbQN7e\"})[0].text # 장문 리뷰 내용 추출 및 저장\n",
        "    # 장문 리뷰 존재하는 경우 그대로 리스트에 저장\n",
        "    if content:\n",
        "        content_list.append(content)\n",
        "    # 단문 리뷰만 존재하는 경우, 단문 리뷰 추출 및 저장\n",
        "    else:\n",
        "        content_list.append(rv.find_all('span', attrs={'jsname':\"bN97Pc\"})[0].text)\n",
        "# 코드 실행 소요시간 출력\n",
        "print(time.time() - start)"
      ]
    },
    {
      "cell_type": "code",
      "execution_count": null,
      "id": "25b3e8c7",
      "metadata": {
        "id": "25b3e8c7",
        "outputId": "8ccbeac0-e131-4835-f04e-00829a3a106d"
      },
      "outputs": [
        {
          "name": "stdout",
          "output_type": "stream",
          "text": [
            "0.16156864166259766\n"
          ]
        }
      ],
      "source": [
        "start = time.time() # 코드 실행 시간 측정을 위한 변수\n",
        "rv_df = pd.DataFrame({'id': range(len(date_ymd)), # userID 임의부여\n",
        "                      'date': date_ymd, # 리뷰등록일 전체(yyyymmdd)\n",
        "                      'date_y': date_y, # 리뷰등록일 중 연도(yyyy)\n",
        "                      'date_m': date_m, # 리뷰등록일 중 월(mm)\n",
        "                      'date_d': date_d, # 리뷰등록일 중 일(dd)\n",
        "                     'username': username_list, # 사용자 닉네임\n",
        "                     'rating': rating_list, # 평점\n",
        "                     'content': content_list}) # 리뷰 내용\n",
        "rv_df.to_csv('C:/Users/1/Desktop/playstore-review-crawler-main/playstore-review-crawler-main/dataset/review_dataset(B).csv', encoding = 'utf-8-sig') # csv 파일로 저장\n",
        "\n",
        "print(time.time() - start) # 코드 실행 소요시간 출력"
      ]
    },
    {
      "cell_type": "code",
      "execution_count": null,
      "id": "6652654d",
      "metadata": {
        "id": "6652654d",
        "outputId": "877b18e6-f74f-4a52-cb76-6247b88fdf55"
      },
      "outputs": [
        {
          "data": {
            "text/html": [
              "<div>\n",
              "<style scoped>\n",
              "    .dataframe tbody tr th:only-of-type {\n",
              "        vertical-align: middle;\n",
              "    }\n",
              "\n",
              "    .dataframe tbody tr th {\n",
              "        vertical-align: top;\n",
              "    }\n",
              "\n",
              "    .dataframe thead th {\n",
              "        text-align: right;\n",
              "    }\n",
              "</style>\n",
              "<table border=\"1\" class=\"dataframe\">\n",
              "  <thead>\n",
              "    <tr style=\"text-align: right;\">\n",
              "      <th></th>\n",
              "      <th>id</th>\n",
              "      <th>date</th>\n",
              "      <th>date_y</th>\n",
              "      <th>date_m</th>\n",
              "      <th>date_d</th>\n",
              "      <th>username</th>\n",
              "      <th>rating</th>\n",
              "      <th>content</th>\n",
              "    </tr>\n",
              "  </thead>\n",
              "  <tbody>\n",
              "    <tr>\n",
              "      <th>0</th>\n",
              "      <td>0</td>\n",
              "      <td>20210906</td>\n",
              "      <td>2021</td>\n",
              "      <td>9</td>\n",
              "      <td>6</td>\n",
              "      <td>수달</td>\n",
              "      <td>1</td>\n",
              "      <td>인증이 안됨. 문자가 안옴. 차단한 문자도 찾아봤는데도 안됨.</td>\n",
              "    </tr>\n",
              "    <tr>\n",
              "      <th>1</th>\n",
              "      <td>1</td>\n",
              "      <td>20211120</td>\n",
              "      <td>2021</td>\n",
              "      <td>11</td>\n",
              "      <td>20</td>\n",
              "      <td>Lala</td>\n",
              "      <td>1</td>\n",
              "      <td>같은 가게가 깃발을 여러개 꼽아서 그런진 모르겠지만 중복가게가 너무 많이 보여서 덕...</td>\n",
              "    </tr>\n",
              "    <tr>\n",
              "      <th>2</th>\n",
              "      <td>2</td>\n",
              "      <td>20211120</td>\n",
              "      <td>2021</td>\n",
              "      <td>11</td>\n",
              "      <td>20</td>\n",
              "      <td>김지현</td>\n",
              "      <td>1</td>\n",
              "      <td>음식을 씹다가를 쓰려는데 씹자가 안써져서 어케하라는 거냐했더니 대체어를 쓰라네여. ...</td>\n",
              "    </tr>\n",
              "    <tr>\n",
              "      <th>3</th>\n",
              "      <td>3</td>\n",
              "      <td>20211120</td>\n",
              "      <td>2021</td>\n",
              "      <td>11</td>\n",
              "      <td>20</td>\n",
              "      <td>양윤지</td>\n",
              "      <td>1</td>\n",
              "      <td>오늘 회원 탈퇴했어요. 한달에 30번을 시켜먹는다고 할 정도로 거의 매일 매일 이용...</td>\n",
              "    </tr>\n",
              "    <tr>\n",
              "      <th>4</th>\n",
              "      <td>4</td>\n",
              "      <td>20211120</td>\n",
              "      <td>2021</td>\n",
              "      <td>11</td>\n",
              "      <td>20</td>\n",
              "      <td>달인</td>\n",
              "      <td>2</td>\n",
              "      <td>제발 주소좀 이전주소로 안시키게 확인좀 합시다.. 주소 저장이안되게 하던가 이건 다...</td>\n",
              "    </tr>\n",
              "  </tbody>\n",
              "</table>\n",
              "</div>"
            ],
            "text/plain": [
              "   id      date  date_y  date_m  date_d username  rating  \\\n",
              "0   0  20210906    2021       9       6       수달       1   \n",
              "1   1  20211120    2021      11      20     Lala       1   \n",
              "2   2  20211120    2021      11      20      김지현       1   \n",
              "3   3  20211120    2021      11      20      양윤지       1   \n",
              "4   4  20211120    2021      11      20       달인       2   \n",
              "\n",
              "                                             content  \n",
              "0                 인증이 안됨. 문자가 안옴. 차단한 문자도 찾아봤는데도 안됨.  \n",
              "1  같은 가게가 깃발을 여러개 꼽아서 그런진 모르겠지만 중복가게가 너무 많이 보여서 덕...  \n",
              "2  음식을 씹다가를 쓰려는데 씹자가 안써져서 어케하라는 거냐했더니 대체어를 쓰라네여. ...  \n",
              "3  오늘 회원 탈퇴했어요. 한달에 30번을 시켜먹는다고 할 정도로 거의 매일 매일 이용...  \n",
              "4  제발 주소좀 이전주소로 안시키게 확인좀 합시다.. 주소 저장이안되게 하던가 이건 다...  "
            ]
          },
          "execution_count": 57,
          "metadata": {},
          "output_type": "execute_result"
        }
      ],
      "source": [
        "# 저장한 리뷰 정보 불러오기\n",
        "rv_df = pd.read_csv('C:/Users/1/Desktop/playstore-review-crawler-main/playstore-review-crawler-main/dataset/review_dataset(B).csv', encoding = 'utf-8-sig')\n",
        "rv_df = rv_df.drop(['Unnamed: 0'], axis = 1) # 불필요한 칼럼 삭제\n",
        "rv_df.head()"
      ]
    },
    {
      "cell_type": "code",
      "execution_count": null,
      "id": "42cd6458",
      "metadata": {
        "id": "42cd6458",
        "outputId": "fd6fed35-84e6-4362-ea01-11db407c581d"
      },
      "outputs": [
        {
          "data": {
            "text/plain": [
              "8840"
            ]
          },
          "execution_count": 58,
          "metadata": {},
          "output_type": "execute_result"
        }
      ],
      "source": [
        "len(rv_df)"
      ]
    },
    {
      "cell_type": "code",
      "execution_count": null,
      "id": "ce6f9fc1",
      "metadata": {
        "id": "ce6f9fc1"
      },
      "outputs": [],
      "source": []
    }
  ],
  "metadata": {
    "kernelspec": {
      "display_name": "Python 3",
      "language": "python",
      "name": "python3"
    },
    "language_info": {
      "codemirror_mode": {
        "name": "ipython",
        "version": 3
      },
      "file_extension": ".py",
      "mimetype": "text/x-python",
      "name": "python",
      "nbconvert_exporter": "python",
      "pygments_lexer": "ipython3",
      "version": "3.8.8"
    },
    "colab": {
      "provenance": []
    }
  },
  "nbformat": 4,
  "nbformat_minor": 5
}