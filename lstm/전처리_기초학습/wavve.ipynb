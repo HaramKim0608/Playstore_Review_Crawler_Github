{
 "cells": [
  {
   "cell_type": "code",
   "execution_count": 1,
   "metadata": {
    "colab": {
     "base_uri": "https://localhost:8080/"
    },
    "executionInfo": {
     "elapsed": 7941,
     "status": "ok",
     "timestamp": 1618060578604,
     "user": {
      "displayName": "A Choe",
      "photoUrl": "",
      "userId": "06991703264990634012"
     },
     "user_tz": -540
    },
    "id": "mkVE5vGVI67a",
    "outputId": "74781a8e-e54c-477a-f558-3f332c9e2aeb",
    "scrolled": true
   },
   "outputs": [
    {
     "name": "stdout",
     "output_type": "stream",
     "text": [
      "Collecting konlpy\n",
      "  Downloading konlpy-0.5.2-py2.py3-none-any.whl (19.4 MB)\n",
      "\u001b[K     |████████████████████████████████| 19.4 MB 1.7 MB/s eta 0:00:01\n",
      "\u001b[?25hCollecting lxml>=4.1.0\n",
      "  Downloading lxml-4.6.3-cp38-cp38-manylinux2014_x86_64.whl (6.8 MB)\n",
      "\u001b[K     |████████████████████████████████| 6.8 MB 11.9 MB/s eta 0:00:01\n",
      "\u001b[?25hCollecting numpy>=1.6\n",
      "  Downloading numpy-1.20.3-cp38-cp38-manylinux_2_12_x86_64.manylinux2010_x86_64.whl (15.4 MB)\n",
      "\u001b[K     |████████████████████████████████| 15.4 MB 11.9 MB/s eta 0:00:01\n",
      "\u001b[?25hCollecting beautifulsoup4==4.6.0\n",
      "  Downloading beautifulsoup4-4.6.0-py3-none-any.whl (86 kB)\n",
      "\u001b[K     |████████████████████████████████| 86 kB 5.8 MB/s  eta 0:00:01\n",
      "\u001b[?25hCollecting colorama\n",
      "  Downloading colorama-0.4.4-py2.py3-none-any.whl (16 kB)\n",
      "Collecting JPype1>=0.7.0\n",
      "  Downloading JPype1-1.2.1-cp38-cp38-manylinux2010_x86_64.whl (457 kB)\n",
      "\u001b[K     |████████████████████████████████| 457 kB 11.8 MB/s eta 0:00:01\n",
      "\u001b[?25hCollecting tweepy>=3.7.0\n",
      "  Downloading tweepy-3.10.0-py2.py3-none-any.whl (30 kB)\n",
      "Collecting requests[socks]>=2.11.1\n",
      "  Using cached requests-2.25.1-py2.py3-none-any.whl (61 kB)\n",
      "Requirement already satisfied: six>=1.10.0 in /home/sslab/.jupyter/ej/lib/python3.8/site-packages (from tweepy>=3.7.0->konlpy) (1.16.0)\n",
      "Collecting requests-oauthlib>=0.7.0\n",
      "  Using cached requests_oauthlib-1.3.0-py2.py3-none-any.whl (23 kB)\n",
      "Collecting idna<3,>=2.5\n",
      "  Using cached idna-2.10-py2.py3-none-any.whl (58 kB)\n",
      "Collecting urllib3<1.27,>=1.21.1\n",
      "  Using cached urllib3-1.26.5-py2.py3-none-any.whl (138 kB)\n",
      "Collecting chardet<5,>=3.0.2\n",
      "  Using cached chardet-4.0.0-py2.py3-none-any.whl (178 kB)\n",
      "Collecting certifi>=2017.4.17\n",
      "  Downloading certifi-2021.5.30-py2.py3-none-any.whl (145 kB)\n",
      "\u001b[K     |████████████████████████████████| 145 kB 11.8 MB/s eta 0:00:01\n",
      "\u001b[?25hCollecting PySocks!=1.5.7,>=1.5.6; extra == \"socks\"\n",
      "  Downloading PySocks-1.7.1-py3-none-any.whl (16 kB)\n",
      "Collecting oauthlib>=3.0.0\n",
      "  Using cached oauthlib-3.1.0-py2.py3-none-any.whl (147 kB)\n",
      "Installing collected packages: lxml, numpy, beautifulsoup4, colorama, JPype1, idna, urllib3, chardet, certifi, PySocks, requests, oauthlib, requests-oauthlib, tweepy, konlpy\n",
      "Successfully installed JPype1-1.2.1 PySocks-1.7.1 beautifulsoup4-4.6.0 certifi-2021.5.30 chardet-4.0.0 colorama-0.4.4 idna-2.10 konlpy-0.5.2 lxml-4.6.3 numpy-1.20.3 oauthlib-3.1.0 requests-2.25.1 requests-oauthlib-1.3.0 tweepy-3.10.0 urllib3-1.26.5\n",
      "\u001b[33mWARNING: You are using pip version 20.2.3; however, version 21.1.2 is available.\n",
      "You should consider upgrading via the '/home/sslab/.jupyter/ej/bin/python -m pip install --upgrade pip' command.\u001b[0m\n",
      "Note: you may need to restart the kernel to use updated packages.\n"
     ]
    }
   ],
   "source": [
    "# pip install konlpy"
   ]
  },
  {
   "cell_type": "code",
   "execution_count": 4,
   "metadata": {
    "colab": {
     "base_uri": "https://localhost:8080/"
    },
    "executionInfo": {
     "elapsed": 16841,
     "status": "ok",
     "timestamp": 1618060587512,
     "user": {
      "displayName": "A Choe",
      "photoUrl": "",
      "userId": "06991703264990634012"
     },
     "user_tz": -540
    },
    "id": "hJgAaOTd3WFS",
    "outputId": "e2842244-272d-4e5d-f0df-c9564217ff65",
    "scrolled": true
   },
   "outputs": [
    {
     "name": "stdout",
     "output_type": "stream",
     "text": [
      "Requirement already satisfied: soyspacing in /home/sslab/anaconda3/lib/python3.8/site-packages (1.0.17)\r\n",
      "Requirement already satisfied: numpy>=1.12.0 in /home/sslab/anaconda3/lib/python3.8/site-packages (from soyspacing) (1.19.5)\r\n"
     ]
    }
   ],
   "source": [
    "# !pip install soyspacing"
   ]
  },
  {
   "cell_type": "code",
   "execution_count": 5,
   "metadata": {
    "colab": {
     "base_uri": "https://localhost:8080/"
    },
    "executionInfo": {
     "elapsed": 20386,
     "status": "ok",
     "timestamp": 1618060591061,
     "user": {
      "displayName": "A Choe",
      "photoUrl": "",
      "userId": "06991703264990634012"
     },
     "user_tz": -540
    },
    "id": "8yI5yBW52sP7",
    "outputId": "ba35fe41-27a0-4eee-aed8-8231bfee87eb",
    "scrolled": false
   },
   "outputs": [
    {
     "name": "stdout",
     "output_type": "stream",
     "text": [
      "Collecting soynlp\n",
      "  Downloading soynlp-0.0.493-py3-none-any.whl (416 kB)\n",
      "\u001b[K     |████████████████████████████████| 416 kB 1.9 MB/s eta 0:00:01\n",
      "\u001b[?25hCollecting psutil>=5.0.1\n",
      "  Downloading psutil-5.8.0-cp38-cp38-manylinux2010_x86_64.whl (296 kB)\n",
      "\u001b[K     |████████████████████████████████| 296 kB 10.0 MB/s eta 0:00:01\n",
      "\u001b[?25hRequirement already satisfied: numpy>=1.12.1 in /home/sslab/.jupyter/ej/lib/python3.8/site-packages (from soynlp) (1.20.3)\n",
      "Collecting scikit-learn>=0.20.0\n",
      "  Downloading scikit_learn-0.24.2-cp38-cp38-manylinux2010_x86_64.whl (24.9 MB)\n",
      "\u001b[K     |████████████████████████████████| 24.9 MB 10.8 MB/s eta 0:00:01\n",
      "\u001b[?25hCollecting scipy>=1.1.0\n",
      "  Downloading scipy-1.6.3-cp38-cp38-manylinux1_x86_64.whl (27.2 MB)\n",
      "\u001b[K     |████████████████████████████████| 27.2 MB 5.6 MB/s eta 0:00:011\n",
      "\u001b[?25hCollecting joblib>=0.11\n",
      "  Using cached joblib-1.0.1-py3-none-any.whl (303 kB)\n",
      "Collecting threadpoolctl>=2.0.0\n",
      "  Downloading threadpoolctl-2.1.0-py3-none-any.whl (12 kB)\n",
      "Installing collected packages: psutil, joblib, threadpoolctl, scipy, scikit-learn, soynlp\n",
      "Successfully installed joblib-1.0.1 psutil-5.8.0 scikit-learn-0.24.2 scipy-1.6.3 soynlp-0.0.493 threadpoolctl-2.1.0\n",
      "\u001b[33mWARNING: You are using pip version 20.2.3; however, version 21.1.2 is available.\n",
      "You should consider upgrading via the '/home/sslab/.jupyter/ej/bin/python -m pip install --upgrade pip' command.\u001b[0m\n",
      "Note: you may need to restart the kernel to use updated packages.\n"
     ]
    }
   ],
   "source": [
    "# pip install soynlp"
   ]
  },
  {
   "cell_type": "code",
   "execution_count": 6,
   "metadata": {
    "scrolled": true
   },
   "outputs": [
    {
     "name": "stdout",
     "output_type": "stream",
     "text": [
      "Collecting graphviz\n",
      "  Downloading graphviz-0.16-py2.py3-none-any.whl (19 kB)\n",
      "Installing collected packages: graphviz\n",
      "Successfully installed graphviz-0.16\n"
     ]
    }
   ],
   "source": [
    "# !pip install graphviz"
   ]
  },
  {
   "cell_type": "code",
   "execution_count": 7,
   "metadata": {
    "scrolled": true
   },
   "outputs": [
    {
     "name": "stdout",
     "output_type": "stream",
     "text": [
      "Requirement already satisfied: fsspec in /home/sslab/anaconda3/lib/python3.8/site-packages (0.9.0)\r\n"
     ]
    }
   ],
   "source": [
    "# !pip install fsspec"
   ]
  },
  {
   "cell_type": "code",
   "execution_count": 8,
   "metadata": {
    "scrolled": true
   },
   "outputs": [
    {
     "name": "stdout",
     "output_type": "stream",
     "text": [
      "\u001b[31mERROR: Can not perform a '--user' install. User site-packages are not visible in this virtualenv.\u001b[0m\n",
      "\u001b[33mWARNING: You are using pip version 20.2.3; however, version 21.1.2 is available.\n",
      "You should consider upgrading via the '/home/sslab/.jupyter/ej/bin/python -m pip install --upgrade pip' command.\u001b[0m\n",
      "Note: you may need to restart the kernel to use updated packages.\n"
     ]
    }
   ],
   "source": [
    "# pip install --user JPype1-1.2.0-cp38-cp38-win_amd64.whl"
   ]
  },
  {
   "cell_type": "code",
   "execution_count": 10,
   "metadata": {},
   "outputs": [
    {
     "name": "stdout",
     "output_type": "stream",
     "text": [
      "Collecting pip\n",
      "  Using cached pip-21.1.2-py3-none-any.whl (1.5 MB)\n",
      "Installing collected packages: pip\n",
      "  Attempting uninstall: pip\n",
      "    Found existing installation: pip 20.2.3\n",
      "    Uninstalling pip-20.2.3:\n",
      "      Successfully uninstalled pip-20.2.3\n",
      "Successfully installed pip-21.1.2\n",
      "Note: you may need to restart the kernel to use updated packages.\n"
     ]
    }
   ],
   "source": [
    "# pip install --upgrade pip"
   ]
  },
  {
   "cell_type": "code",
   "execution_count": 18,
   "metadata": {
    "scrolled": true
   },
   "outputs": [
    {
     "name": "stdout",
     "output_type": "stream",
     "text": [
      "Requirement already satisfied: tensorflow in /home/sslab/.jupyter/ej/lib/python3.8/site-packages (2.5.0)\n",
      "Requirement already satisfied: absl-py~=0.10 in /home/sslab/.jupyter/ej/lib/python3.8/site-packages (from tensorflow) (0.12.0)\n",
      "Requirement already satisfied: wrapt~=1.12.1 in /home/sslab/.jupyter/ej/lib/python3.8/site-packages (from tensorflow) (1.12.1)\n",
      "Requirement already satisfied: termcolor~=1.1.0 in /home/sslab/.jupyter/ej/lib/python3.8/site-packages (from tensorflow) (1.1.0)\n",
      "Requirement already satisfied: google-pasta~=0.2 in /home/sslab/.jupyter/ej/lib/python3.8/site-packages (from tensorflow) (0.2.0)\n",
      "Requirement already satisfied: wheel~=0.35 in /home/sslab/.jupyter/ej/lib/python3.8/site-packages (from tensorflow) (0.36.2)\n",
      "Requirement already satisfied: tensorboard~=2.5 in /home/sslab/.jupyter/ej/lib/python3.8/site-packages (from tensorflow) (2.5.0)\n",
      "Requirement already satisfied: typing-extensions~=3.7.4 in /home/sslab/.jupyter/ej/lib/python3.8/site-packages (from tensorflow) (3.7.4.3)\n",
      "Requirement already satisfied: h5py~=3.1.0 in /home/sslab/.jupyter/ej/lib/python3.8/site-packages (from tensorflow) (3.1.0)\n",
      "Requirement already satisfied: keras-nightly~=2.5.0.dev in /home/sslab/.jupyter/ej/lib/python3.8/site-packages (from tensorflow) (2.5.0.dev2021032900)\n",
      "Requirement already satisfied: astunparse~=1.6.3 in /home/sslab/.jupyter/ej/lib/python3.8/site-packages (from tensorflow) (1.6.3)\n",
      "Requirement already satisfied: protobuf>=3.9.2 in /home/sslab/.jupyter/ej/lib/python3.8/site-packages (from tensorflow) (3.17.1)\n",
      "Requirement already satisfied: numpy~=1.19.2 in /home/sslab/.jupyter/ej/lib/python3.8/site-packages (from tensorflow) (1.19.5)\n",
      "Requirement already satisfied: six~=1.15.0 in /home/sslab/.jupyter/ej/lib/python3.8/site-packages (from tensorflow) (1.15.0)\n",
      "Requirement already satisfied: gast==0.4.0 in /home/sslab/.jupyter/ej/lib/python3.8/site-packages (from tensorflow) (0.4.0)\n",
      "Requirement already satisfied: opt-einsum~=3.3.0 in /home/sslab/.jupyter/ej/lib/python3.8/site-packages (from tensorflow) (3.3.0)\n",
      "Requirement already satisfied: grpcio~=1.34.0 in /home/sslab/.jupyter/ej/lib/python3.8/site-packages (from tensorflow) (1.34.1)\n",
      "Requirement already satisfied: keras-preprocessing~=1.1.2 in /home/sslab/.jupyter/ej/lib/python3.8/site-packages (from tensorflow) (1.1.2)\n",
      "Requirement already satisfied: flatbuffers~=1.12.0 in /home/sslab/.jupyter/ej/lib/python3.8/site-packages (from tensorflow) (1.12)\n",
      "Requirement already satisfied: tensorflow-estimator<2.6.0,>=2.5.0rc0 in /home/sslab/.jupyter/ej/lib/python3.8/site-packages (from tensorflow) (2.5.0)\n",
      "Requirement already satisfied: markdown>=2.6.8 in /home/sslab/.jupyter/ej/lib/python3.8/site-packages (from tensorboard~=2.5->tensorflow) (3.3.4)\n",
      "Requirement already satisfied: requests<3,>=2.21.0 in /home/sslab/.jupyter/ej/lib/python3.8/site-packages (from tensorboard~=2.5->tensorflow) (2.25.1)\n",
      "Requirement already satisfied: tensorboard-data-server<0.7.0,>=0.6.0 in /home/sslab/.jupyter/ej/lib/python3.8/site-packages (from tensorboard~=2.5->tensorflow) (0.6.1)\n",
      "Requirement already satisfied: google-auth-oauthlib<0.5,>=0.4.1 in /home/sslab/.jupyter/ej/lib/python3.8/site-packages (from tensorboard~=2.5->tensorflow) (0.4.4)\n",
      "Requirement already satisfied: tensorboard-plugin-wit>=1.6.0 in /home/sslab/.jupyter/ej/lib/python3.8/site-packages (from tensorboard~=2.5->tensorflow) (1.8.0)\n",
      "Requirement already satisfied: werkzeug>=0.11.15 in /home/sslab/.jupyter/ej/lib/python3.8/site-packages (from tensorboard~=2.5->tensorflow) (2.0.1)\n",
      "Requirement already satisfied: setuptools>=41.0.0 in /home/sslab/.jupyter/ej/lib/python3.8/site-packages (from tensorboard~=2.5->tensorflow) (49.2.1)\n",
      "Requirement already satisfied: google-auth<2,>=1.6.3 in /home/sslab/.jupyter/ej/lib/python3.8/site-packages (from tensorboard~=2.5->tensorflow) (1.30.1)\n",
      "Requirement already satisfied: cachetools<5.0,>=2.0.0 in /home/sslab/.jupyter/ej/lib/python3.8/site-packages (from google-auth<2,>=1.6.3->tensorboard~=2.5->tensorflow) (4.2.2)\n",
      "Requirement already satisfied: pyasn1-modules>=0.2.1 in /home/sslab/.jupyter/ej/lib/python3.8/site-packages (from google-auth<2,>=1.6.3->tensorboard~=2.5->tensorflow) (0.2.8)\n",
      "Requirement already satisfied: rsa<5,>=3.1.4 in /home/sslab/.jupyter/ej/lib/python3.8/site-packages (from google-auth<2,>=1.6.3->tensorboard~=2.5->tensorflow) (4.7.2)\n",
      "Requirement already satisfied: requests-oauthlib>=0.7.0 in /home/sslab/.jupyter/ej/lib/python3.8/site-packages (from google-auth-oauthlib<0.5,>=0.4.1->tensorboard~=2.5->tensorflow) (1.3.0)\n",
      "Requirement already satisfied: pyasn1<0.5.0,>=0.4.6 in /home/sslab/.jupyter/ej/lib/python3.8/site-packages (from pyasn1-modules>=0.2.1->google-auth<2,>=1.6.3->tensorboard~=2.5->tensorflow) (0.4.8)\n",
      "Requirement already satisfied: chardet<5,>=3.0.2 in /home/sslab/.jupyter/ej/lib/python3.8/site-packages (from requests<3,>=2.21.0->tensorboard~=2.5->tensorflow) (4.0.0)\n",
      "Requirement already satisfied: idna<3,>=2.5 in /home/sslab/.jupyter/ej/lib/python3.8/site-packages (from requests<3,>=2.21.0->tensorboard~=2.5->tensorflow) (2.10)\n",
      "Requirement already satisfied: certifi>=2017.4.17 in /home/sslab/.jupyter/ej/lib/python3.8/site-packages (from requests<3,>=2.21.0->tensorboard~=2.5->tensorflow) (2021.5.30)\n",
      "Requirement already satisfied: urllib3<1.27,>=1.21.1 in /home/sslab/.jupyter/ej/lib/python3.8/site-packages (from requests<3,>=2.21.0->tensorboard~=2.5->tensorflow) (1.26.5)\n",
      "Requirement already satisfied: oauthlib>=3.0.0 in /home/sslab/.jupyter/ej/lib/python3.8/site-packages (from requests-oauthlib>=0.7.0->google-auth-oauthlib<0.5,>=0.4.1->tensorboard~=2.5->tensorflow) (3.1.0)\n",
      "Note: you may need to restart the kernel to use updated packages.\n"
     ]
    }
   ],
   "source": [
    "# pip install tensorflow"
   ]
  },
  {
   "cell_type": "code",
   "execution_count": 7,
   "metadata": {
    "colab": {
     "base_uri": "https://localhost:8080/"
    },
    "executionInfo": {
     "elapsed": 25730,
     "status": "ok",
     "timestamp": 1618060596408,
     "user": {
      "displayName": "A Choe",
      "photoUrl": "",
      "userId": "06991703264990634012"
     },
     "user_tz": -540
    },
    "id": "_uKy7wdFFyKA",
    "outputId": "66d2f6ac-8da3-428c-987d-deebde0d5229"
   },
   "outputs": [],
   "source": [
    "from datetime import datetime\n",
    "import pandas as pd\n",
    "import matplotlib.pyplot as plt\n",
    "%matplotlib inline\n",
    "\n",
    "from konlpy.tag import Hannanum\n",
    "from konlpy.tag import Komoran\n",
    "from hanspell import spell_checker\n",
    "import re\n",
    "from konlpy.tag import Okt\n",
    "from collections import Counter\n",
    "from sklearn.feature_extraction.text import CountVectorizer\n",
    "from konlpy.tag import Kkma\n",
    "from sklearn.linear_model import Lasso\n",
    "from sklearn.feature_extraction.text import TfidfTransformer\n",
    "from sklearn.model_selection import train_test_split\n",
    "from sklearn.linear_model import LogisticRegression\n",
    "from sklearn.metrics import accuracy_score, precision_score, recall_score, f1_score\n",
    "from sklearn.metrics import confusion_matrix\n",
    "\n",
    "import numpy as np\n",
    "import seaborn as sns\n",
    "import tensorflow as tf\n",
    "import os\n",
    "import graphviz\n",
    "from tqdm.notebook import tqdm\n",
    "\n",
    "from sklearn.preprocessing import LabelEncoder\n",
    "from sklearn.tree import DecisionTreeClassifier\n",
    "from sklearn.metrics import classification_report, confusion_matrix, precision_recall_curve, auc, roc_curve\n",
    "from sklearn.tree import DecisionTreeClassifier, export_graphviz\n",
    "from sklearn.metrics import mean_absolute_error, mean_squared_error\n",
    "from sklearn.model_selection import cross_val_score\n",
    "from soynlp.normalizer import *\n",
    "from soynlp.utils import DoublespaceLineCorpus\n",
    "from soynlp.noun import LRNounExtractor_v2"
   ]
  },
  {
   "cell_type": "code",
   "execution_count": 8,
   "metadata": {
    "colab": {
     "base_uri": "https://localhost:8080/",
     "height": 195
    },
    "executionInfo": {
     "elapsed": 46532,
     "status": "ok",
     "timestamp": 1618060617215,
     "user": {
      "displayName": "A Choe",
      "photoUrl": "",
      "userId": "06991703264990634012"
     },
     "user_tz": -540
    },
    "id": "qUKELgt8JgZW",
    "outputId": "89cc5147-4779-45e8-d1da-2c58d23e2bb5"
   },
   "outputs": [
    {
     "data": {
      "text/html": [
       "<div>\n",
       "<style scoped>\n",
       "    .dataframe tbody tr th:only-of-type {\n",
       "        vertical-align: middle;\n",
       "    }\n",
       "\n",
       "    .dataframe tbody tr th {\n",
       "        vertical-align: top;\n",
       "    }\n",
       "\n",
       "    .dataframe thead th {\n",
       "        text-align: right;\n",
       "    }\n",
       "</style>\n",
       "<table border=\"1\" class=\"dataframe\">\n",
       "  <thead>\n",
       "    <tr style=\"text-align: right;\">\n",
       "      <th></th>\n",
       "      <th>name</th>\n",
       "      <th>ratings</th>\n",
       "      <th>date</th>\n",
       "      <th>helpful</th>\n",
       "      <th>comment</th>\n",
       "      <th>developer_comment</th>\n",
       "    </tr>\n",
       "  </thead>\n",
       "  <tbody>\n",
       "    <tr>\n",
       "      <th>0</th>\n",
       "      <td>서울사람</td>\n",
       "      <td>1</td>\n",
       "      <td>2021-03-26</td>\n",
       "      <td>0</td>\n",
       "      <td>오류 굉장히 많고 개별구매 영화 개많아요 가뜩이나 비싼데 돈을 얼마나 더받으려고 넷...</td>\n",
       "      <td>wavve2021년 3월 26일안녕하세요, 웨이브입니다. 이용에 불편을 드려 죄송합...</td>\n",
       "    </tr>\n",
       "    <tr>\n",
       "      <th>1</th>\n",
       "      <td>황효원</td>\n",
       "      <td>1</td>\n",
       "      <td>2021-03-26</td>\n",
       "      <td>0</td>\n",
       "      <td>한번더팅기면 회사 소각시켜도되나요?</td>\n",
       "      <td>wavve2021년 3월 26일안녕하세요, 웨이브입니다. 이용에 불편을 드려 죄송합...</td>\n",
       "    </tr>\n",
       "    <tr>\n",
       "      <th>2</th>\n",
       "      <td>삥뽕</td>\n",
       "      <td>1</td>\n",
       "      <td>2021-03-25</td>\n",
       "      <td>0</td>\n",
       "      <td>프리미엄13900원짜리 후기입니다. 일단 사지 마세요. 재미있는 영화는 거의다 막아...</td>\n",
       "      <td>wavve2021년 3월 26일안녕하세요, 웨이브입니다. 이용에 불편을 드려 죄송합...</td>\n",
       "    </tr>\n",
       "    <tr>\n",
       "      <th>3</th>\n",
       "      <td>김은경</td>\n",
       "      <td>3</td>\n",
       "      <td>2021-03-25</td>\n",
       "      <td>0</td>\n",
       "      <td>오늘 앱이 죙일 안열리네요?자주 이러면 곤란한데 먼일이데요 ?? 언넝 조치를 취해주...</td>\n",
       "      <td>wavve2021년 3월 26일안녕하세요, 웨이브입니다. 이용에 불편을 드려 죄송합...</td>\n",
       "    </tr>\n",
       "    <tr>\n",
       "      <th>4</th>\n",
       "      <td>윤석원</td>\n",
       "      <td>5</td>\n",
       "      <td>2021-03-25</td>\n",
       "      <td>0</td>\n",
       "      <td>ㅡㄴㄴㄱㆍ 즈 ᆢㄱㄴ 그냥 ㄴㄴㆍㄴㆍ드ㅡㅡㅜ ㅣ두 ㆍ ㆍㄴ노트 ㄴㆍ ㆍ ㅡㅡ ㅡㅡ윤...</td>\n",
       "      <td>wavve2021년 3월 25일안녕하세요. wavve(웨이브)입니다. 소중한 리뷰 ...</td>\n",
       "    </tr>\n",
       "  </tbody>\n",
       "</table>\n",
       "</div>"
      ],
      "text/plain": [
       "   name  ratings        date  helpful  \\\n",
       "0  서울사람        1  2021-03-26        0   \n",
       "1   황효원        1  2021-03-26        0   \n",
       "2    삥뽕        1  2021-03-25        0   \n",
       "3   김은경        3  2021-03-25        0   \n",
       "4   윤석원        5  2021-03-25        0   \n",
       "\n",
       "                                             comment  \\\n",
       "0  오류 굉장히 많고 개별구매 영화 개많아요 가뜩이나 비싼데 돈을 얼마나 더받으려고 넷...   \n",
       "1                                한번더팅기면 회사 소각시켜도되나요?   \n",
       "2  프리미엄13900원짜리 후기입니다. 일단 사지 마세요. 재미있는 영화는 거의다 막아...   \n",
       "3  오늘 앱이 죙일 안열리네요?자주 이러면 곤란한데 먼일이데요 ?? 언넝 조치를 취해주...   \n",
       "4  ㅡㄴㄴㄱㆍ 즈 ᆢㄱㄴ 그냥 ㄴㄴㆍㄴㆍ드ㅡㅡㅜ ㅣ두 ㆍ ㆍㄴ노트 ㄴㆍ ㆍ ㅡㅡ ㅡㅡ윤...   \n",
       "\n",
       "                                   developer_comment  \n",
       "0  wavve2021년 3월 26일안녕하세요, 웨이브입니다. 이용에 불편을 드려 죄송합...  \n",
       "1  wavve2021년 3월 26일안녕하세요, 웨이브입니다. 이용에 불편을 드려 죄송합...  \n",
       "2  wavve2021년 3월 26일안녕하세요, 웨이브입니다. 이용에 불편을 드려 죄송합...  \n",
       "3  wavve2021년 3월 26일안녕하세요, 웨이브입니다. 이용에 불편을 드려 죄송합...  \n",
       "4  wavve2021년 3월 25일안녕하세요. wavve(웨이브)입니다. 소중한 리뷰 ...  "
      ]
     },
     "execution_count": 8,
     "metadata": {},
     "output_type": "execute_result"
    }
   ],
   "source": [
    "df = pd.read_csv('./2021-03-26_20-11-16 웨이브.csv')\n",
    "df.head()"
   ]
  },
  {
   "cell_type": "code",
   "execution_count": 9,
   "metadata": {
    "colab": {
     "base_uri": "https://localhost:8080/",
     "height": 284
    },
    "executionInfo": {
     "elapsed": 46529,
     "status": "ok",
     "timestamp": 1618060617216,
     "user": {
      "displayName": "A Choe",
      "photoUrl": "",
      "userId": "06991703264990634012"
     },
     "user_tz": -540
    },
    "id": "tVS0f-GlKyic",
    "outputId": "cd32bcee-091c-4b31-80ca-0fb1c0a7a50e"
   },
   "outputs": [
    {
     "data": {
      "text/html": [
       "<div>\n",
       "<style scoped>\n",
       "    .dataframe tbody tr th:only-of-type {\n",
       "        vertical-align: middle;\n",
       "    }\n",
       "\n",
       "    .dataframe tbody tr th {\n",
       "        vertical-align: top;\n",
       "    }\n",
       "\n",
       "    .dataframe thead th {\n",
       "        text-align: right;\n",
       "    }\n",
       "</style>\n",
       "<table border=\"1\" class=\"dataframe\">\n",
       "  <thead>\n",
       "    <tr style=\"text-align: right;\">\n",
       "      <th></th>\n",
       "      <th>ratings</th>\n",
       "      <th>helpful</th>\n",
       "    </tr>\n",
       "  </thead>\n",
       "  <tbody>\n",
       "    <tr>\n",
       "      <th>count</th>\n",
       "      <td>30400.000000</td>\n",
       "      <td>30400.000000</td>\n",
       "    </tr>\n",
       "    <tr>\n",
       "      <th>mean</th>\n",
       "      <td>2.157336</td>\n",
       "      <td>1.716974</td>\n",
       "    </tr>\n",
       "    <tr>\n",
       "      <th>std</th>\n",
       "      <td>1.582376</td>\n",
       "      <td>12.171663</td>\n",
       "    </tr>\n",
       "    <tr>\n",
       "      <th>min</th>\n",
       "      <td>1.000000</td>\n",
       "      <td>0.000000</td>\n",
       "    </tr>\n",
       "    <tr>\n",
       "      <th>25%</th>\n",
       "      <td>1.000000</td>\n",
       "      <td>0.000000</td>\n",
       "    </tr>\n",
       "    <tr>\n",
       "      <th>50%</th>\n",
       "      <td>1.000000</td>\n",
       "      <td>0.000000</td>\n",
       "    </tr>\n",
       "    <tr>\n",
       "      <th>75%</th>\n",
       "      <td>3.000000</td>\n",
       "      <td>1.000000</td>\n",
       "    </tr>\n",
       "    <tr>\n",
       "      <th>max</th>\n",
       "      <td>5.000000</td>\n",
       "      <td>1026.000000</td>\n",
       "    </tr>\n",
       "  </tbody>\n",
       "</table>\n",
       "</div>"
      ],
      "text/plain": [
       "            ratings       helpful\n",
       "count  30400.000000  30400.000000\n",
       "mean       2.157336      1.716974\n",
       "std        1.582376     12.171663\n",
       "min        1.000000      0.000000\n",
       "25%        1.000000      0.000000\n",
       "50%        1.000000      0.000000\n",
       "75%        3.000000      1.000000\n",
       "max        5.000000   1026.000000"
      ]
     },
     "execution_count": 9,
     "metadata": {},
     "output_type": "execute_result"
    }
   ],
   "source": [
    "df.describe() # data 살펴보기"
   ]
  },
  {
   "cell_type": "code",
   "execution_count": 10,
   "metadata": {
    "executionInfo": {
     "elapsed": 46528,
     "status": "ok",
     "timestamp": 1618060617217,
     "user": {
      "displayName": "A Choe",
      "photoUrl": "",
      "userId": "06991703264990634012"
     },
     "user_tz": -540
    },
    "id": "BsPZVI5a6qmu"
   },
   "outputs": [],
   "source": [
    "df = df[['date', 'comment', 'ratings']] # 날짜, 리뷰내용, 평점"
   ]
  },
  {
   "cell_type": "code",
   "execution_count": 11,
   "metadata": {
    "colab": {
     "base_uri": "https://localhost:8080/"
    },
    "executionInfo": {
     "elapsed": 46527,
     "status": "ok",
     "timestamp": 1618060617218,
     "user": {
      "displayName": "A Choe",
      "photoUrl": "",
      "userId": "06991703264990634012"
     },
     "user_tz": -540
    },
    "id": "AFUL23eELrV6",
    "outputId": "5130d540-0adc-4614-ab10-9cc06c39f0f0"
   },
   "outputs": [
    {
     "name": "stdout",
     "output_type": "stream",
     "text": [
      "<class 'pandas.core.frame.DataFrame'>\n",
      "Int64Index: 30400 entries, 0 to 30399\n",
      "Data columns (total 3 columns):\n",
      " #   Column   Non-Null Count  Dtype \n",
      "---  ------   --------------  ----- \n",
      " 0   date     30400 non-null  object\n",
      " 1   comment  30400 non-null  object\n",
      " 2   ratings  30400 non-null  int64 \n",
      "dtypes: int64(1), object(2)\n",
      "memory usage: 950.0+ KB\n"
     ]
    }
   ],
   "source": [
    "df = df.dropna(axis = 0, how = 'any') # 모든 행에서 NaN 값이 하나라도 있으면 삭제(결측치 제거)\n",
    "df.info()"
   ]
  },
  {
   "cell_type": "code",
   "execution_count": 12,
   "metadata": {
    "colab": {
     "base_uri": "https://localhost:8080/"
    },
    "executionInfo": {
     "elapsed": 46526,
     "status": "ok",
     "timestamp": 1618060617218,
     "user": {
      "displayName": "A Choe",
      "photoUrl": "",
      "userId": "06991703264990634012"
     },
     "user_tz": -540
    },
    "id": "YlTYF8ioMWkb",
    "outputId": "bc0f5ada-0a33-4168-c6a0-4ba75ee40f52"
   },
   "outputs": [
    {
     "data": {
      "text/plain": [
       "0        오류 굉장히 많고 개별구매 영화 개많아요 가뜩이나 비싼데 돈을 얼마나 더받으려고 넷...\n",
       "1                                      한번더팅기면 회사 소각시켜도되나요?\n",
       "2        프리미엄13900원짜리 후기입니다. 일단 사지 마세요. 재미있는 영화는 거의다 막아...\n",
       "3        오늘 앱이 죙일 안열리네요?자주 이러면 곤란한데 먼일이데요 ?? 언넝 조치를 취해주...\n",
       "4        ㅡㄴㄴㄱㆍ 즈 ᆢㄱㄴ 그냥 ㄴㄴㆍㄴㆍ드ㅡㅡㅜ ㅣ두 ㆍ ㆍㄴ노트 ㄴㆍ ㆍ ㅡㅡ ㅡㅡ윤...\n",
       "                               ...                        \n",
       "30395    암튼, 실시간 볼때도 계속 끊기거나 꺼지고.. 이걸 돈내고 써야하나 심각히 고민중입니다.\n",
       "30396    이거 시간 돌리기 쓰면 화질엄청 깨지고 랙먹고;;;;;;차라리 전에것이 더 좋았어요...\n",
       "30397    렉때문에 못참겠어요..... 다른서비스다좋고 티비광고하고 이벤트 좋은면 뭐해요 기존...\n",
       "30398    실시간티비이건 다시보기이건 왜이렇게 렉걸리고 똑같은 와이파이 사용하는데 비디오포털 ...\n",
       "30399    맛보기할땐 랙도안걸리고 버퍼링같은건 없었는데 유료결제하고나선 버퍼링이 심하게 생기는...\n",
       "Name: comment, Length: 30400, dtype: object"
      ]
     },
     "execution_count": 12,
     "metadata": {},
     "output_type": "execute_result"
    }
   ],
   "source": [
    "df['comment'] # comment 확인"
   ]
  },
  {
   "cell_type": "code",
   "execution_count": 13,
   "metadata": {
    "colab": {
     "base_uri": "https://localhost:8080/",
     "height": 213
    },
    "executionInfo": {
     "elapsed": 127367,
     "status": "ok",
     "timestamp": 1618060698084,
     "user": {
      "displayName": "A Choe",
      "photoUrl": "",
      "userId": "06991703264990634012"
     },
     "user_tz": -540
    },
    "id": "Ja9IMfVw3Cwk",
    "outputId": "888c3f66-954d-4a39-dd42-d62045d32262"
   },
   "outputs": [
    {
     "name": "stdout",
     "output_type": "stream",
     "text": [
      "all tags length = 477994 --> 46185, (num_doc = 13813)"
     ]
    },
    {
     "data": {
      "text/html": [
       "<div>\n",
       "<style scoped>\n",
       "    .dataframe tbody tr th:only-of-type {\n",
       "        vertical-align: middle;\n",
       "    }\n",
       "\n",
       "    .dataframe tbody tr th {\n",
       "        vertical-align: top;\n",
       "    }\n",
       "\n",
       "    .dataframe thead th {\n",
       "        text-align: right;\n",
       "    }\n",
       "</style>\n",
       "<table border=\"1\" class=\"dataframe\">\n",
       "  <thead>\n",
       "    <tr style=\"text-align: right;\">\n",
       "      <th></th>\n",
       "      <th>date</th>\n",
       "      <th>comment</th>\n",
       "      <th>ratings</th>\n",
       "    </tr>\n",
       "  </thead>\n",
       "  <tbody>\n",
       "    <tr>\n",
       "      <th>0</th>\n",
       "      <td>2021-03-26</td>\n",
       "      <td>오류 굉장히 많고 개별구매 영화 개많아요 가뜩이나 비싼데 돈을 얼마나 더받으려고 넷...</td>\n",
       "      <td>1</td>\n",
       "    </tr>\n",
       "    <tr>\n",
       "      <th>1</th>\n",
       "      <td>2021-03-26</td>\n",
       "      <td>한번 더팅기면 회사 소각시켜도되나요?</td>\n",
       "      <td>1</td>\n",
       "    </tr>\n",
       "    <tr>\n",
       "      <th>2</th>\n",
       "      <td>2021-03-25</td>\n",
       "      <td>프리미엄13900원짜리 후기입니다. 일단 사지 마세요. 재미있는 영화는 거의다 막아...</td>\n",
       "      <td>1</td>\n",
       "    </tr>\n",
       "    <tr>\n",
       "      <th>3</th>\n",
       "      <td>2021-03-25</td>\n",
       "      <td>오늘 앱이 죙일 안열리네요?자주 이러면 곤란한데 먼일이데요 ?? 언넝 조치를 취해주...</td>\n",
       "      <td>3</td>\n",
       "    </tr>\n",
       "    <tr>\n",
       "      <th>4</th>\n",
       "      <td>2021-03-25</td>\n",
       "      <td>ㅡㄴㄴㄱㆍ 즈 ᆢㄱㄴ 그냥 ㄴㄴㆍㄴㆍ드ㅡㅡㅜ ㅣ두 ㆍ ㆍㄴ노트 ㄴㆍ ㆍ ㅡㅡ ㅡㅡ윤...</td>\n",
       "      <td>5</td>\n",
       "    </tr>\n",
       "  </tbody>\n",
       "</table>\n",
       "</div>"
      ],
      "text/plain": [
       "         date                                            comment  ratings\n",
       "0  2021-03-26  오류 굉장히 많고 개별구매 영화 개많아요 가뜩이나 비싼데 돈을 얼마나 더받으려고 넷...        1\n",
       "1  2021-03-26                               한번 더팅기면 회사 소각시켜도되나요?        1\n",
       "2  2021-03-25  프리미엄13900원짜리 후기입니다. 일단 사지 마세요. 재미있는 영화는 거의다 막아...        1\n",
       "3  2021-03-25  오늘 앱이 죙일 안열리네요?자주 이러면 곤란한데 먼일이데요 ?? 언넝 조치를 취해주...        3\n",
       "4  2021-03-25  ㅡㄴㄴㄱㆍ 즈 ᆢㄱㄴ 그냥 ㄴㄴㆍㄴㆍ드ㅡㅡㅜ ㅣ두 ㆍ ㆍㄴ노트 ㄴㆍ ㆍ ㅡㅡ ㅡㅡ윤...        5"
      ]
     },
     "execution_count": 13,
     "metadata": {},
     "output_type": "execute_result"
    }
   ],
   "source": [
    "from soyspacing.countbase import CountSpace\n",
    "def 띄어쓰기(text):\n",
    "    verbose=False\n",
    "    mc = 10  # min_count\n",
    "    ft = 0.3 # force_abs_threshold\n",
    "    nt =-0.3 # nonspace_threshold\n",
    "    st = 0.3 # space_threshold\n",
    "\n",
    "\n",
    "    sent_corrected, tags = model.correct(\n",
    "    doc=text,\n",
    "    verbose=verbose,\n",
    "    force_abs_threshold=ft,\n",
    "    nonspace_threshold=nt,\n",
    "    space_threshold=st,\n",
    "    min_count=mc)\n",
    "    sent_corrected, tags = model.correct(text)\n",
    "    result = sent_corrected\n",
    "    return result\n",
    "corpus_fname = '99714_norm.txt' # 첨부파일을 경로에 저장\n",
    "model = CountSpace()\n",
    "model.train(corpus_fname)    \n",
    "\n",
    "df['comment'] = df['comment'].apply(lambda x: 띄어쓰기(x))\n",
    "df.head()"
   ]
  },
  {
   "cell_type": "code",
   "execution_count": 14,
   "metadata": {
    "colab": {
     "base_uri": "https://localhost:8080/",
     "height": 137,
     "referenced_widgets": [
      "4a5354731709467ab2b7a5bc5f26be86",
      "6a0915e048e14fc39157d878a27dfeef",
      "6e756bf80335497697ededd5673b9a01",
      "9a47fcfb79e341a49524424c1be53927",
      "9997cd1de2e44a4db3419f8c8fe0af62",
      "055df6cf1623491f927f8b28ac87ee50",
      "866f9b2b87b446f58377d43042f0a1e6",
      "9c5b50994bb34ce08c56a8c3537c9125"
     ]
    },
    "id": "zG_GUyJJ57jR",
    "outputId": "8589a09d-d1f3-421e-da1f-366f7b7dce61"
   },
   "outputs": [
    {
     "data": {
      "application/vnd.jupyter.widget-view+json": {
       "model_id": "f0ed49ee6c7a487d9cde7dc1a4a2fa5c",
       "version_major": 2,
       "version_minor": 0
      },
      "text/plain": [
       "  0%|          | 0/30400 [00:00<?, ?it/s]"
      ]
     },
     "metadata": {},
     "output_type": "display_data"
    },
    {
     "name": "stderr",
     "output_type": "stream",
     "text": [
      "<ipython-input-14-758cfaf193a0>:6: SettingWithCopyWarning: \n",
      "A value is trying to be set on a copy of a slice from a DataFrame\n",
      "\n",
      "See the caveats in the documentation: https://pandas.pydata.org/pandas-docs/stable/user_guide/indexing.html#returning-a-view-versus-a-copy\n",
      "  df['comment'][i] = a\n"
     ]
    }
   ],
   "source": [
    "#맞춤법 검사기\n",
    "for i in tqdm(range(len(df))): \n",
    "    try: \n",
    "        result = spell_checker.check(df['comment'][i])\n",
    "        a= result[1]\n",
    "        df['comment'][i] = a\n",
    "    except: \n",
    "        pass"
   ]
  },
  {
   "cell_type": "code",
   "execution_count": 15,
   "metadata": {
    "id": "QYvJRr1SM2qy"
   },
   "outputs": [
    {
     "data": {
      "text/html": [
       "<div>\n",
       "<style scoped>\n",
       "    .dataframe tbody tr th:only-of-type {\n",
       "        vertical-align: middle;\n",
       "    }\n",
       "\n",
       "    .dataframe tbody tr th {\n",
       "        vertical-align: top;\n",
       "    }\n",
       "\n",
       "    .dataframe thead th {\n",
       "        text-align: right;\n",
       "    }\n",
       "</style>\n",
       "<table border=\"1\" class=\"dataframe\">\n",
       "  <thead>\n",
       "    <tr style=\"text-align: right;\">\n",
       "      <th></th>\n",
       "      <th>date</th>\n",
       "      <th>comment</th>\n",
       "      <th>ratings</th>\n",
       "      <th>ko_text</th>\n",
       "    </tr>\n",
       "  </thead>\n",
       "  <tbody>\n",
       "    <tr>\n",
       "      <th>0</th>\n",
       "      <td>2021-03-26</td>\n",
       "      <td>오류 굉장히 많고 개별구매 영화 개많아요 가뜩이나 비싼데 돈을 얼마나 더받으려고 넷...</td>\n",
       "      <td>1</td>\n",
       "      <td>오류 굉장히 많고 개별구매 영화 개많아요 가뜩이나 비싼데 돈을 얼마나 더받으려고 넷...</td>\n",
       "    </tr>\n",
       "    <tr>\n",
       "      <th>1</th>\n",
       "      <td>2021-03-26</td>\n",
       "      <td>한번 더팅기면 회사 소각시켜도되나요?</td>\n",
       "      <td>1</td>\n",
       "      <td>한번 더팅기면 회사 소각시켜도되나요</td>\n",
       "    </tr>\n",
       "    <tr>\n",
       "      <th>2</th>\n",
       "      <td>2021-03-25</td>\n",
       "      <td>프리미엄13900원짜리 후기입니다. 일단 사지 마세요. 재미있는 영화는 거의다 막아...</td>\n",
       "      <td>1</td>\n",
       "      <td>프리미엄 원짜리 후기입니다 일단 사지 마세요 재미있는 영화는 거의다 막아서 프리미엄...</td>\n",
       "    </tr>\n",
       "    <tr>\n",
       "      <th>3</th>\n",
       "      <td>2021-03-25</td>\n",
       "      <td>오늘 앱이 죙일 안열리네요?자주 이러면 곤란한데 먼일이데요 ?? 언넝 조치를 취해주...</td>\n",
       "      <td>3</td>\n",
       "      <td>오늘 앱이 죙일 안열리네요 자주 이러면 곤란한데 먼일이데요 언넝 조치를 취해주셔요 ...</td>\n",
       "    </tr>\n",
       "    <tr>\n",
       "      <th>4</th>\n",
       "      <td>2021-03-25</td>\n",
       "      <td>ㅡㄴㄴㄱㆍ 즈 ᆢㄱㄴ 그냥 ㄴㄴㆍㄴㆍ드ㅡㅡㅜ ㅣ두 ㆍ ㆍㄴ노트 ㄴㆍ ㆍ ㅡㅡ ㅡㅡ윤...</td>\n",
       "      <td>5</td>\n",
       "      <td>ㅡㄴㄴㄱ 즈 ㄱㄴ 그냥 ㄴㄴ ㄴ 드ㅡㅡㅜ ㅣ두 ㄴㄴㅗ트 ㄴ ㅡㅡ ㅡㅡ윤석원드ㅡ ㄴ ...</td>\n",
       "    </tr>\n",
       "  </tbody>\n",
       "</table>\n",
       "</div>"
      ],
      "text/plain": [
       "         date                                            comment  ratings  \\\n",
       "0  2021-03-26  오류 굉장히 많고 개별구매 영화 개많아요 가뜩이나 비싼데 돈을 얼마나 더받으려고 넷...        1   \n",
       "1  2021-03-26                               한번 더팅기면 회사 소각시켜도되나요?        1   \n",
       "2  2021-03-25  프리미엄13900원짜리 후기입니다. 일단 사지 마세요. 재미있는 영화는 거의다 막아...        1   \n",
       "3  2021-03-25  오늘 앱이 죙일 안열리네요?자주 이러면 곤란한데 먼일이데요 ?? 언넝 조치를 취해주...        3   \n",
       "4  2021-03-25  ㅡㄴㄴㄱㆍ 즈 ᆢㄱㄴ 그냥 ㄴㄴㆍㄴㆍ드ㅡㅡㅜ ㅣ두 ㆍ ㆍㄴ노트 ㄴㆍ ㆍ ㅡㅡ ㅡㅡ윤...        5   \n",
       "\n",
       "                                             ko_text  \n",
       "0  오류 굉장히 많고 개별구매 영화 개많아요 가뜩이나 비싼데 돈을 얼마나 더받으려고 넷...  \n",
       "1                                한번 더팅기면 회사 소각시켜도되나요  \n",
       "2  프리미엄 원짜리 후기입니다 일단 사지 마세요 재미있는 영화는 거의다 막아서 프리미엄...  \n",
       "3  오늘 앱이 죙일 안열리네요 자주 이러면 곤란한데 먼일이데요 언넝 조치를 취해주셔요 ...  \n",
       "4  ㅡㄴㄴㄱ 즈 ㄱㄴ 그냥 ㄴㄴ ㄴ 드ㅡㅡㅜ ㅣ두 ㄴㄴㅗ트 ㄴ ㅡㅡ ㅡㅡ윤석원드ㅡ ㄴ ...  "
      ]
     },
     "execution_count": 15,
     "metadata": {},
     "output_type": "execute_result"
    }
   ],
   "source": [
    "def text_cleaning(text):\n",
    "    result = only_hangle(text)\n",
    "    result = repeat_normalize(result, num_repeats=3) #반복적인 단어 응축(3번 이상인것들)\n",
    "    result = emoticon_normalize(result,num_repeats=3) #반복적인 자음,모음 응축(3번 이상인것들)\n",
    "    return result\n",
    "df['ko_text'] = df['comment'].apply(lambda x: text_cleaning(x))\n",
    "df.head()"
   ]
  },
  {
   "cell_type": "code",
   "execution_count": 16,
   "metadata": {
    "id": "xayLJvWuNV-b"
   },
   "outputs": [
    {
     "name": "stdout",
     "output_type": "stream",
     "text": [
      "training was done. used memory 0.712 Gbory 0.700 Gb\n",
      "all cohesion probabilities was computed. # words = 1742\n",
      "all branching entropies was computed # words = 33544\n",
      "all accessor variety was computed # words = 33544\n"
     ]
    }
   ],
   "source": [
    "from soynlp.word import WordExtractor\n",
    "from soynlp.utils import DoublespaceLineCorpus\n",
    "from soynlp.tokenizer import LTokenizer\n",
    "word_extractor = WordExtractor(min_frequency=100,\n",
    "   min_cohesion_forward=0.05,\n",
    "   min_right_branching_entropy=0.0\n",
    ")\n",
    "word_extractor.train(df['ko_text'].values)\n",
    "words = word_extractor.extract()\n",
    "words\n",
    "\n",
    "cohesion_score = {word:score.cohesion_forward for word, score in words.items()}\n",
    "tokenizer = LTokenizer(scores=cohesion_score)\n"
   ]
  },
  {
   "cell_type": "code",
   "execution_count": 17,
   "metadata": {
    "id": "-WvCuTSNNhqc"
   },
   "outputs": [
    {
     "data": {
      "text/html": [
       "<div>\n",
       "<style scoped>\n",
       "    .dataframe tbody tr th:only-of-type {\n",
       "        vertical-align: middle;\n",
       "    }\n",
       "\n",
       "    .dataframe tbody tr th {\n",
       "        vertical-align: top;\n",
       "    }\n",
       "\n",
       "    .dataframe thead th {\n",
       "        text-align: right;\n",
       "    }\n",
       "</style>\n",
       "<table border=\"1\" class=\"dataframe\">\n",
       "  <thead>\n",
       "    <tr style=\"text-align: right;\">\n",
       "      <th></th>\n",
       "      <th>date</th>\n",
       "      <th>comment</th>\n",
       "      <th>ratings</th>\n",
       "      <th>ko_text</th>\n",
       "      <th>nouns</th>\n",
       "    </tr>\n",
       "  </thead>\n",
       "  <tbody>\n",
       "    <tr>\n",
       "      <th>0</th>\n",
       "      <td>2021-03-26</td>\n",
       "      <td>오류 굉장히 많고 개별구매 영화 개많아요 가뜩이나 비싼데 돈을 얼마나 더받으려고 넷...</td>\n",
       "      <td>1</td>\n",
       "      <td>오류 굉장히 많고 개별구매 영화 개많아요 가뜩이나 비싼데 돈을 얼마나 더받으려고 넷...</td>\n",
       "      <td>[오류, 굉장히, 많고, 개별구, 영화, 개많아요, 가뜩이나, 비싼, 돈을, 얼마,...</td>\n",
       "    </tr>\n",
       "    <tr>\n",
       "      <th>1</th>\n",
       "      <td>2021-03-26</td>\n",
       "      <td>한번 더팅기면 회사 소각시켜도되나요?</td>\n",
       "      <td>1</td>\n",
       "      <td>한번 더팅기면 회사 소각시켜도되나요</td>\n",
       "      <td>[한번, 더팅기면, 회사, 소각시켜도되나요]</td>\n",
       "    </tr>\n",
       "    <tr>\n",
       "      <th>2</th>\n",
       "      <td>2021-03-25</td>\n",
       "      <td>프리미엄13900원짜리 후기입니다. 일단 사지 마세요. 재미있는 영화는 거의다 막아...</td>\n",
       "      <td>1</td>\n",
       "      <td>프리미엄 원짜리 후기입니다 일단 사지 마세요 재미있는 영화는 거의다 막아서 프리미엄...</td>\n",
       "      <td>[프리, 원짜리, 후기입니다, 일단, 사지, 마세요, 재미있, 영화, 거의, 막아서...</td>\n",
       "    </tr>\n",
       "    <tr>\n",
       "      <th>3</th>\n",
       "      <td>2021-03-25</td>\n",
       "      <td>오늘 앱이 죙일 안열리네요?자주 이러면 곤란한데 먼일이데요 ?? 언넝 조치를 취해주...</td>\n",
       "      <td>3</td>\n",
       "      <td>오늘 앱이 죙일 안열리네요 자주 이러면 곤란한데 먼일이데요 언넝 조치를 취해주셔요 ...</td>\n",
       "      <td>[오늘, 앱이, 죙일, 안열리네요, 자주, 이러면, 곤란한데, 먼일이데요, 언넝, ...</td>\n",
       "    </tr>\n",
       "    <tr>\n",
       "      <th>4</th>\n",
       "      <td>2021-03-25</td>\n",
       "      <td>ㅡㄴㄴㄱㆍ 즈 ᆢㄱㄴ 그냥 ㄴㄴㆍㄴㆍ드ㅡㅡㅜ ㅣ두 ㆍ ㆍㄴ노트 ㄴㆍ ㆍ ㅡㅡ ㅡㅡ윤...</td>\n",
       "      <td>5</td>\n",
       "      <td>ㅡㄴㄴㄱ 즈 ㄱㄴ 그냥 ㄴㄴ ㄴ 드ㅡㅡㅜ ㅣ두 ㄴㄴㅗ트 ㄴ ㅡㅡ ㅡㅡ윤석원드ㅡ ㄴ ...</td>\n",
       "      <td>[ㅡㄴㄴㄱ, 즈, ㄱㄴ, 그냥, ㄴㄴ, ㄴ, 드ㅡㅡㅜ, ㅣ두, ㄴㄴㅗ트, ㄴ, ㅡㅡ...</td>\n",
       "    </tr>\n",
       "    <tr>\n",
       "      <th>...</th>\n",
       "      <td>...</td>\n",
       "      <td>...</td>\n",
       "      <td>...</td>\n",
       "      <td>...</td>\n",
       "      <td>...</td>\n",
       "    </tr>\n",
       "    <tr>\n",
       "      <th>30395</th>\n",
       "      <td>2015-11-22</td>\n",
       "      <td>암튼, 실시간 볼때도 계속 끊기거나 꺼지고.. 이걸 돈내고 써야하나 심각히 고민중입니다.</td>\n",
       "      <td>2</td>\n",
       "      <td>암튼 실시간 볼때도 계속 끊기거나 꺼지고 이걸 돈내고 써야하나 심각히 고민중입니다</td>\n",
       "      <td>[암튼, 실시간, 볼때, 계속, 끊기, 꺼지, 이걸, 돈내고, 써야하나, 심각히, 고민]</td>\n",
       "    </tr>\n",
       "    <tr>\n",
       "      <th>30396</th>\n",
       "      <td>2015-11-22</td>\n",
       "      <td>이거 시간 돌리기 쓰면 화질엄청 깨지고 랙먹고;;;;;;차라리 전에것이 더 좋았어요...</td>\n",
       "      <td>1</td>\n",
       "      <td>이거 시간 돌리기 쓰면 화질엄청 깨지고 랙먹고 차라리 전에것이 더 좋았어요</td>\n",
       "      <td>[이거, 시간, 돌리, 쓰면, 화질, 깨지고, 랙먹고, 차라리, 전에, 더, 좋았]</td>\n",
       "    </tr>\n",
       "    <tr>\n",
       "      <th>30397</th>\n",
       "      <td>2015-11-22</td>\n",
       "      <td>렉때문에 못참겠어요..... 다른서비스다좋고 티비광고하고 이벤트 좋은면 뭐해요 기존...</td>\n",
       "      <td>3</td>\n",
       "      <td>렉때문에 못참겠어요 다른서비스다좋고 티비광고하고 이벤트 좋은면 뭐해요 기존 사용자가...</td>\n",
       "      <td>[렉때문에, 못참겠어요, 다른, 티비, 이벤트, 좋은, 뭐해요, 기존, 사용, 오류...</td>\n",
       "    </tr>\n",
       "    <tr>\n",
       "      <th>30398</th>\n",
       "      <td>2015-11-22</td>\n",
       "      <td>실시간티비이건 다시보기이건 왜이렇게 렉걸리고 똑같은 와이파이 사용하는데 비디오포털 ...</td>\n",
       "      <td>1</td>\n",
       "      <td>실시간티비이건 다시보기이건 왜이렇게 렉걸리고 똑같은 와이파이 사용하는데 비디오포털 ...</td>\n",
       "      <td>[실시간, 다시보기, 왜이렇게, 렉걸리고, 똑같, 와이파이, 사용, 비디오포털, 티...</td>\n",
       "    </tr>\n",
       "    <tr>\n",
       "      <th>30399</th>\n",
       "      <td>2015-11-22</td>\n",
       "      <td>맛보기할땐 랙도안걸리고 버퍼링같은건 없었는데 유료결제하고 나선 버퍼링이 심하게 생기...</td>\n",
       "      <td>2</td>\n",
       "      <td>맛보기할땐 랙도안걸리고 버퍼링같은건 없었는데 유료결제하고 나선 버퍼링이 심하게 생기...</td>\n",
       "      <td>[맛보기할땐, 랙도안걸리고, 버퍼링, 없었는데, 유료, 나선, 버퍼링, 심하, 생기...</td>\n",
       "    </tr>\n",
       "  </tbody>\n",
       "</table>\n",
       "<p>30400 rows × 5 columns</p>\n",
       "</div>"
      ],
      "text/plain": [
       "             date                                            comment  ratings  \\\n",
       "0      2021-03-26  오류 굉장히 많고 개별구매 영화 개많아요 가뜩이나 비싼데 돈을 얼마나 더받으려고 넷...        1   \n",
       "1      2021-03-26                               한번 더팅기면 회사 소각시켜도되나요?        1   \n",
       "2      2021-03-25  프리미엄13900원짜리 후기입니다. 일단 사지 마세요. 재미있는 영화는 거의다 막아...        1   \n",
       "3      2021-03-25  오늘 앱이 죙일 안열리네요?자주 이러면 곤란한데 먼일이데요 ?? 언넝 조치를 취해주...        3   \n",
       "4      2021-03-25  ㅡㄴㄴㄱㆍ 즈 ᆢㄱㄴ 그냥 ㄴㄴㆍㄴㆍ드ㅡㅡㅜ ㅣ두 ㆍ ㆍㄴ노트 ㄴㆍ ㆍ ㅡㅡ ㅡㅡ윤...        5   \n",
       "...           ...                                                ...      ...   \n",
       "30395  2015-11-22  암튼, 실시간 볼때도 계속 끊기거나 꺼지고.. 이걸 돈내고 써야하나 심각히 고민중입니다.        2   \n",
       "30396  2015-11-22  이거 시간 돌리기 쓰면 화질엄청 깨지고 랙먹고;;;;;;차라리 전에것이 더 좋았어요...        1   \n",
       "30397  2015-11-22  렉때문에 못참겠어요..... 다른서비스다좋고 티비광고하고 이벤트 좋은면 뭐해요 기존...        3   \n",
       "30398  2015-11-22  실시간티비이건 다시보기이건 왜이렇게 렉걸리고 똑같은 와이파이 사용하는데 비디오포털 ...        1   \n",
       "30399  2015-11-22  맛보기할땐 랙도안걸리고 버퍼링같은건 없었는데 유료결제하고 나선 버퍼링이 심하게 생기...        2   \n",
       "\n",
       "                                                 ko_text  \\\n",
       "0      오류 굉장히 많고 개별구매 영화 개많아요 가뜩이나 비싼데 돈을 얼마나 더받으려고 넷...   \n",
       "1                                    한번 더팅기면 회사 소각시켜도되나요   \n",
       "2      프리미엄 원짜리 후기입니다 일단 사지 마세요 재미있는 영화는 거의다 막아서 프리미엄...   \n",
       "3      오늘 앱이 죙일 안열리네요 자주 이러면 곤란한데 먼일이데요 언넝 조치를 취해주셔요 ...   \n",
       "4      ㅡㄴㄴㄱ 즈 ㄱㄴ 그냥 ㄴㄴ ㄴ 드ㅡㅡㅜ ㅣ두 ㄴㄴㅗ트 ㄴ ㅡㅡ ㅡㅡ윤석원드ㅡ ㄴ ...   \n",
       "...                                                  ...   \n",
       "30395      암튼 실시간 볼때도 계속 끊기거나 꺼지고 이걸 돈내고 써야하나 심각히 고민중입니다   \n",
       "30396          이거 시간 돌리기 쓰면 화질엄청 깨지고 랙먹고 차라리 전에것이 더 좋았어요   \n",
       "30397  렉때문에 못참겠어요 다른서비스다좋고 티비광고하고 이벤트 좋은면 뭐해요 기존 사용자가...   \n",
       "30398  실시간티비이건 다시보기이건 왜이렇게 렉걸리고 똑같은 와이파이 사용하는데 비디오포털 ...   \n",
       "30399  맛보기할땐 랙도안걸리고 버퍼링같은건 없었는데 유료결제하고 나선 버퍼링이 심하게 생기...   \n",
       "\n",
       "                                                   nouns  \n",
       "0      [오류, 굉장히, 많고, 개별구, 영화, 개많아요, 가뜩이나, 비싼, 돈을, 얼마,...  \n",
       "1                               [한번, 더팅기면, 회사, 소각시켜도되나요]  \n",
       "2      [프리, 원짜리, 후기입니다, 일단, 사지, 마세요, 재미있, 영화, 거의, 막아서...  \n",
       "3      [오늘, 앱이, 죙일, 안열리네요, 자주, 이러면, 곤란한데, 먼일이데요, 언넝, ...  \n",
       "4      [ㅡㄴㄴㄱ, 즈, ㄱㄴ, 그냥, ㄴㄴ, ㄴ, 드ㅡㅡㅜ, ㅣ두, ㄴㄴㅗ트, ㄴ, ㅡㅡ...  \n",
       "...                                                  ...  \n",
       "30395  [암튼, 실시간, 볼때, 계속, 끊기, 꺼지, 이걸, 돈내고, 써야하나, 심각히, 고민]  \n",
       "30396     [이거, 시간, 돌리, 쓰면, 화질, 깨지고, 랙먹고, 차라리, 전에, 더, 좋았]  \n",
       "30397  [렉때문에, 못참겠어요, 다른, 티비, 이벤트, 좋은, 뭐해요, 기존, 사용, 오류...  \n",
       "30398  [실시간, 다시보기, 왜이렇게, 렉걸리고, 똑같, 와이파이, 사용, 비디오포털, 티...  \n",
       "30399  [맛보기할땐, 랙도안걸리고, 버퍼링, 없었는데, 유료, 나선, 버퍼링, 심하, 생기...  \n",
       "\n",
       "[30400 rows x 5 columns]"
      ]
     },
     "execution_count": 17,
     "metadata": {},
     "output_type": "execute_result"
    }
   ],
   "source": [
    "df['nouns'] = df['ko_text'].apply(lambda x: tokenizer.tokenize(x, remove_r=True)) # L과 R 분리하여 R은 삭제\n",
    "df"
   ]
  },
  {
   "cell_type": "code",
   "execution_count": 18,
   "metadata": {
    "id": "PKOlk9LpNu-S"
   },
   "outputs": [
    {
     "data": {
      "text/html": [
       "<div>\n",
       "<style scoped>\n",
       "    .dataframe tbody tr th:only-of-type {\n",
       "        vertical-align: middle;\n",
       "    }\n",
       "\n",
       "    .dataframe tbody tr th {\n",
       "        vertical-align: top;\n",
       "    }\n",
       "\n",
       "    .dataframe thead th {\n",
       "        text-align: right;\n",
       "    }\n",
       "</style>\n",
       "<table border=\"1\" class=\"dataframe\">\n",
       "  <thead>\n",
       "    <tr style=\"text-align: right;\">\n",
       "      <th></th>\n",
       "      <th>ratings</th>\n",
       "    </tr>\n",
       "  </thead>\n",
       "  <tbody>\n",
       "    <tr>\n",
       "      <th>count</th>\n",
       "      <td>30400.000000</td>\n",
       "    </tr>\n",
       "    <tr>\n",
       "      <th>mean</th>\n",
       "      <td>2.157336</td>\n",
       "    </tr>\n",
       "    <tr>\n",
       "      <th>std</th>\n",
       "      <td>1.582376</td>\n",
       "    </tr>\n",
       "    <tr>\n",
       "      <th>min</th>\n",
       "      <td>1.000000</td>\n",
       "    </tr>\n",
       "    <tr>\n",
       "      <th>25%</th>\n",
       "      <td>1.000000</td>\n",
       "    </tr>\n",
       "    <tr>\n",
       "      <th>50%</th>\n",
       "      <td>1.000000</td>\n",
       "    </tr>\n",
       "    <tr>\n",
       "      <th>75%</th>\n",
       "      <td>3.000000</td>\n",
       "    </tr>\n",
       "    <tr>\n",
       "      <th>max</th>\n",
       "      <td>5.000000</td>\n",
       "    </tr>\n",
       "  </tbody>\n",
       "</table>\n",
       "</div>"
      ],
      "text/plain": [
       "            ratings\n",
       "count  30400.000000\n",
       "mean       2.157336\n",
       "std        1.582376\n",
       "min        1.000000\n",
       "25%        1.000000\n",
       "50%        1.000000\n",
       "75%        3.000000\n",
       "max        5.000000"
      ]
     },
     "execution_count": 18,
     "metadata": {},
     "output_type": "execute_result"
    }
   ],
   "source": [
    "df.describe() # 정제된 data 살펴보기"
   ]
  },
  {
   "cell_type": "code",
   "execution_count": 19,
   "metadata": {
    "id": "L-x9DtgQNzMS"
   },
   "outputs": [],
   "source": [
    "df = df.reset_index() # 인덱스 제거\n",
    "del df['index']"
   ]
  },
  {
   "cell_type": "code",
   "execution_count": 85,
   "metadata": {},
   "outputs": [
    {
     "data": {
      "text/html": [
       "<div>\n",
       "<style scoped>\n",
       "    .dataframe tbody tr th:only-of-type {\n",
       "        vertical-align: middle;\n",
       "    }\n",
       "\n",
       "    .dataframe tbody tr th {\n",
       "        vertical-align: top;\n",
       "    }\n",
       "\n",
       "    .dataframe thead th {\n",
       "        text-align: right;\n",
       "    }\n",
       "</style>\n",
       "<table border=\"1\" class=\"dataframe\">\n",
       "  <thead>\n",
       "    <tr style=\"text-align: right;\">\n",
       "      <th></th>\n",
       "      <th>date</th>\n",
       "      <th>comment</th>\n",
       "      <th>ratings</th>\n",
       "      <th>ko_text</th>\n",
       "      <th>nouns</th>\n",
       "      <th>y</th>\n",
       "    </tr>\n",
       "  </thead>\n",
       "  <tbody>\n",
       "    <tr>\n",
       "      <th>0</th>\n",
       "      <td>2021-03-26</td>\n",
       "      <td>오류 굉장히 많고 개별구매 영화 개많아요 가뜩이나 비싼데 돈을 얼마나 더받으려고 넷...</td>\n",
       "      <td>1</td>\n",
       "      <td>오류 굉장히 많고 개별구매 영화 개많아요 가뜩이나 비싼데 돈을 얼마나 더받으려고 넷...</td>\n",
       "      <td>['오류', '개별', '구매', '영화', '가뜩이나', '얼마나', '넷플', ...</td>\n",
       "      <td>0</td>\n",
       "    </tr>\n",
       "    <tr>\n",
       "      <th>1</th>\n",
       "      <td>2021-03-26</td>\n",
       "      <td>한번 더팅기면 회사 소각시켜도되나요?</td>\n",
       "      <td>1</td>\n",
       "      <td>한번 더팅기면 회사 소각시켜도되나요</td>\n",
       "      <td>['한번', '회사', '각시']</td>\n",
       "      <td>0</td>\n",
       "    </tr>\n",
       "    <tr>\n",
       "      <th>2</th>\n",
       "      <td>2021-03-25</td>\n",
       "      <td>프리미엄13900원짜리 후기입니다. 일단 사지 마세요. 재미있는 영화는 거의다 막아...</td>\n",
       "      <td>1</td>\n",
       "      <td>프리미엄 원짜리 후기입니다 일단 사지 마세요 재미있는 영화는 거의다 막아서 프리미엄...</td>\n",
       "      <td>['프리미엄', '후기', '일단', '사지', '영화', '거의', '프리미엄',...</td>\n",
       "      <td>0</td>\n",
       "    </tr>\n",
       "    <tr>\n",
       "      <th>3</th>\n",
       "      <td>2021-03-25</td>\n",
       "      <td>오늘 앱이 죙일 안열리네요?자주 이러면 곤란한데 먼일이데요 ?? 언넝 조치를 취해주...</td>\n",
       "      <td>3</td>\n",
       "      <td>오늘 앱이 죙일 안열리네요 자주 이러면 곤란한데 먼일이데요 언넝 조치를 취해주셔요 ...</td>\n",
       "      <td>['오늘', '죙일', '자주', '먼일', '언넝', '조치', '오늘', '영상']</td>\n",
       "      <td>0</td>\n",
       "    </tr>\n",
       "    <tr>\n",
       "      <th>4</th>\n",
       "      <td>2021-03-25</td>\n",
       "      <td>ㅡㄴㄴㄱㆍ 즈 ᆢㄱㄴ 그냥 ㄴㄴㆍㄴㆍ드ㅡㅡㅜ ㅣ두 ㆍ ㆍㄴ노트 ㄴㆍ ㆍ ㅡㅡ ㅡㅡ윤...</td>\n",
       "      <td>5</td>\n",
       "      <td>ㅡㄴㄴㄱ 즈 ㄱㄴ 그냥 ㄴㄴ ㄴ 드ㅡㅡㅜ ㅣ두 ㄴㄴㅗ트 ㄴ ㅡㅡ ㅡㅡ윤석원드ㅡ ㄴ ...</td>\n",
       "      <td>['그냥', '윤석']</td>\n",
       "      <td>1</td>\n",
       "    </tr>\n",
       "    <tr>\n",
       "      <th>...</th>\n",
       "      <td>...</td>\n",
       "      <td>...</td>\n",
       "      <td>...</td>\n",
       "      <td>...</td>\n",
       "      <td>...</td>\n",
       "      <td>...</td>\n",
       "    </tr>\n",
       "    <tr>\n",
       "      <th>27387</th>\n",
       "      <td>2015-11-22</td>\n",
       "      <td>암튼, 실시간 볼때도 계속 끊기거나 꺼지고.. 이걸 돈내고 써야하나 심각히 고민중입니다.</td>\n",
       "      <td>2</td>\n",
       "      <td>암튼 실시간 볼때도 계속 끊기거나 꺼지고 이걸 돈내고 써야하나 심각히 고민중입니다</td>\n",
       "      <td>['실시간', '볼때', '계속', '고민']</td>\n",
       "      <td>0</td>\n",
       "    </tr>\n",
       "    <tr>\n",
       "      <th>27388</th>\n",
       "      <td>2015-11-22</td>\n",
       "      <td>이거 시간 돌리기 쓰면 화질엄청 깨지고 랙먹고;;;;;;차라리 전에것이 더 좋았어요...</td>\n",
       "      <td>1</td>\n",
       "      <td>이거 시간 돌리기 쓰면 화질엄청 깨지고 랙먹고 차라리 전에것이 더 좋았어요</td>\n",
       "      <td>['시간', '화질', '랙먹', '차라리']</td>\n",
       "      <td>0</td>\n",
       "    </tr>\n",
       "    <tr>\n",
       "      <th>27389</th>\n",
       "      <td>2015-11-22</td>\n",
       "      <td>렉때문에 못참겠어요..... 다른서비스다좋고 티비광고하고 이벤트 좋은면 뭐해요 기존...</td>\n",
       "      <td>3</td>\n",
       "      <td>렉때문에 못참겠어요 다른서비스다좋고 티비광고하고 이벤트 좋은면 뭐해요 기존 사용자가...</td>\n",
       "      <td>['때문', '서비스', '티비', '광고', '이벤트', '기존', '사용자', ...</td>\n",
       "      <td>0</td>\n",
       "    </tr>\n",
       "    <tr>\n",
       "      <th>27390</th>\n",
       "      <td>2015-11-22</td>\n",
       "      <td>실시간티비이건 다시보기이건 왜이렇게 렉걸리고 똑같은 와이파이 사용하는데 비디오포털 ...</td>\n",
       "      <td>1</td>\n",
       "      <td>실시간티비이건 다시보기이건 왜이렇게 렉걸리고 똑같은 와이파이 사용하는데 비디오포털 ...</td>\n",
       "      <td>['실시간', '티비', '이건', '다시', '보기', '이건', '와이파이', ...</td>\n",
       "      <td>0</td>\n",
       "    </tr>\n",
       "    <tr>\n",
       "      <th>27391</th>\n",
       "      <td>2015-11-22</td>\n",
       "      <td>맛보기할땐 랙도안걸리고 버퍼링같은건 없었는데 유료결제하고 나선 버퍼링이 심하게 생기...</td>\n",
       "      <td>2</td>\n",
       "      <td>맛보기할땐 랙도안걸리고 버퍼링같은건 없었는데 유료결제하고 나선 버퍼링이 심하게 생기...</td>\n",
       "      <td>['맛보기', '도안', '버퍼링', '유료', '결제', '나선', '버퍼링', ...</td>\n",
       "      <td>0</td>\n",
       "    </tr>\n",
       "  </tbody>\n",
       "</table>\n",
       "<p>27392 rows × 6 columns</p>\n",
       "</div>"
      ],
      "text/plain": [
       "             date                                            comment  ratings  \\\n",
       "0      2021-03-26  오류 굉장히 많고 개별구매 영화 개많아요 가뜩이나 비싼데 돈을 얼마나 더받으려고 넷...        1   \n",
       "1      2021-03-26                               한번 더팅기면 회사 소각시켜도되나요?        1   \n",
       "2      2021-03-25  프리미엄13900원짜리 후기입니다. 일단 사지 마세요. 재미있는 영화는 거의다 막아...        1   \n",
       "3      2021-03-25  오늘 앱이 죙일 안열리네요?자주 이러면 곤란한데 먼일이데요 ?? 언넝 조치를 취해주...        3   \n",
       "4      2021-03-25  ㅡㄴㄴㄱㆍ 즈 ᆢㄱㄴ 그냥 ㄴㄴㆍㄴㆍ드ㅡㅡㅜ ㅣ두 ㆍ ㆍㄴ노트 ㄴㆍ ㆍ ㅡㅡ ㅡㅡ윤...        5   \n",
       "...           ...                                                ...      ...   \n",
       "27387  2015-11-22  암튼, 실시간 볼때도 계속 끊기거나 꺼지고.. 이걸 돈내고 써야하나 심각히 고민중입니다.        2   \n",
       "27388  2015-11-22  이거 시간 돌리기 쓰면 화질엄청 깨지고 랙먹고;;;;;;차라리 전에것이 더 좋았어요...        1   \n",
       "27389  2015-11-22  렉때문에 못참겠어요..... 다른서비스다좋고 티비광고하고 이벤트 좋은면 뭐해요 기존...        3   \n",
       "27390  2015-11-22  실시간티비이건 다시보기이건 왜이렇게 렉걸리고 똑같은 와이파이 사용하는데 비디오포털 ...        1   \n",
       "27391  2015-11-22  맛보기할땐 랙도안걸리고 버퍼링같은건 없었는데 유료결제하고 나선 버퍼링이 심하게 생기...        2   \n",
       "\n",
       "                                                 ko_text  \\\n",
       "0      오류 굉장히 많고 개별구매 영화 개많아요 가뜩이나 비싼데 돈을 얼마나 더받으려고 넷...   \n",
       "1                                    한번 더팅기면 회사 소각시켜도되나요   \n",
       "2      프리미엄 원짜리 후기입니다 일단 사지 마세요 재미있는 영화는 거의다 막아서 프리미엄...   \n",
       "3      오늘 앱이 죙일 안열리네요 자주 이러면 곤란한데 먼일이데요 언넝 조치를 취해주셔요 ...   \n",
       "4      ㅡㄴㄴㄱ 즈 ㄱㄴ 그냥 ㄴㄴ ㄴ 드ㅡㅡㅜ ㅣ두 ㄴㄴㅗ트 ㄴ ㅡㅡ ㅡㅡ윤석원드ㅡ ㄴ ...   \n",
       "...                                                  ...   \n",
       "27387      암튼 실시간 볼때도 계속 끊기거나 꺼지고 이걸 돈내고 써야하나 심각히 고민중입니다   \n",
       "27388          이거 시간 돌리기 쓰면 화질엄청 깨지고 랙먹고 차라리 전에것이 더 좋았어요   \n",
       "27389  렉때문에 못참겠어요 다른서비스다좋고 티비광고하고 이벤트 좋은면 뭐해요 기존 사용자가...   \n",
       "27390  실시간티비이건 다시보기이건 왜이렇게 렉걸리고 똑같은 와이파이 사용하는데 비디오포털 ...   \n",
       "27391  맛보기할땐 랙도안걸리고 버퍼링같은건 없었는데 유료결제하고 나선 버퍼링이 심하게 생기...   \n",
       "\n",
       "                                                   nouns  y  \n",
       "0      ['오류', '개별', '구매', '영화', '가뜩이나', '얼마나', '넷플', ...  0  \n",
       "1                                     ['한번', '회사', '각시']  0  \n",
       "2      ['프리미엄', '후기', '일단', '사지', '영화', '거의', '프리미엄',...  0  \n",
       "3       ['오늘', '죙일', '자주', '먼일', '언넝', '조치', '오늘', '영상']  0  \n",
       "4                                           ['그냥', '윤석']  1  \n",
       "...                                                  ... ..  \n",
       "27387                          ['실시간', '볼때', '계속', '고민']  0  \n",
       "27388                          ['시간', '화질', '랙먹', '차라리']  0  \n",
       "27389  ['때문', '서비스', '티비', '광고', '이벤트', '기존', '사용자', ...  0  \n",
       "27390  ['실시간', '티비', '이건', '다시', '보기', '이건', '와이파이', ...  0  \n",
       "27391  ['맛보기', '도안', '버퍼링', '유료', '결제', '나선', '버퍼링', ...  0  \n",
       "\n",
       "[27392 rows x 6 columns]"
      ]
     },
     "execution_count": 85,
     "metadata": {},
     "output_type": "execute_result"
    }
   ],
   "source": [
    "# df.to_csv('./웨이브전처리.csv') # 'sadsad.csv' 원하는 이름 작성 주의: 한번적하면 주석 또는 지울것 \n",
    "# df = pd.read_csv('./웨이브전처리.csv') \n",
    "# del df['Unnamed: 0']\n",
    "# df"
   ]
  },
  {
   "cell_type": "code",
   "execution_count": 21,
   "metadata": {
    "id": "SwH3CvLpOBDL"
   },
   "outputs": [],
   "source": [
    "# 한국어 약식 불용어사전 예시 파일입니다. 출처 - (https://www.ranks.nl/stopwords/korean)\n",
    "korean_stopwords_path = \"99714_norm.txt\"\n",
    "with open(korean_stopwords_path, encoding='utf8') as f:\n",
    "    stopwords = f.readlines()\n",
    "stopwords = [x.strip() for x in stopwords]\n",
    "\n",
    "def get_nouns(x):\n",
    "    nouns_tagger = Okt()\n",
    "    nouns = nouns_tagger.nouns(x)\n",
    "    \n",
    "    # 한글자 키워드를 제거합니다.\n",
    "    nouns = [noun for noun in nouns if len(noun) > 1]\n",
    "    \n",
    "    # 불용어를 제거합니다.\n",
    "    nouns = [noun for noun in nouns if noun not in stopwords]\n",
    "    \n",
    "    return nouns"
   ]
  },
  {
   "cell_type": "code",
   "execution_count": 22,
   "metadata": {
    "id": "In8r2NNTOR9j"
   },
   "outputs": [
    {
     "name": "stdout",
     "output_type": "stream",
     "text": [
      "(27392, 5)\n"
     ]
    },
    {
     "data": {
      "text/html": [
       "<div>\n",
       "<style scoped>\n",
       "    .dataframe tbody tr th:only-of-type {\n",
       "        vertical-align: middle;\n",
       "    }\n",
       "\n",
       "    .dataframe tbody tr th {\n",
       "        vertical-align: top;\n",
       "    }\n",
       "\n",
       "    .dataframe thead th {\n",
       "        text-align: right;\n",
       "    }\n",
       "</style>\n",
       "<table border=\"1\" class=\"dataframe\">\n",
       "  <thead>\n",
       "    <tr style=\"text-align: right;\">\n",
       "      <th></th>\n",
       "      <th>date</th>\n",
       "      <th>comment</th>\n",
       "      <th>ratings</th>\n",
       "      <th>ko_text</th>\n",
       "      <th>nouns</th>\n",
       "    </tr>\n",
       "  </thead>\n",
       "  <tbody>\n",
       "    <tr>\n",
       "      <th>0</th>\n",
       "      <td>2021-03-26</td>\n",
       "      <td>오류 굉장히 많고 개별구매 영화 개많아요 가뜩이나 비싼데 돈을 얼마나 더받으려고 넷...</td>\n",
       "      <td>1</td>\n",
       "      <td>오류 굉장히 많고 개별구매 영화 개많아요 가뜩이나 비싼데 돈을 얼마나 더받으려고 넷...</td>\n",
       "      <td>[오류, 개별, 구매, 영화, 가뜩이나, 얼마나, 넷플, 무료, 평판, 스스로, 웨이브]</td>\n",
       "    </tr>\n",
       "    <tr>\n",
       "      <th>1</th>\n",
       "      <td>2021-03-26</td>\n",
       "      <td>한번 더팅기면 회사 소각시켜도되나요?</td>\n",
       "      <td>1</td>\n",
       "      <td>한번 더팅기면 회사 소각시켜도되나요</td>\n",
       "      <td>[한번, 회사, 각시]</td>\n",
       "    </tr>\n",
       "    <tr>\n",
       "      <th>2</th>\n",
       "      <td>2021-03-25</td>\n",
       "      <td>프리미엄13900원짜리 후기입니다. 일단 사지 마세요. 재미있는 영화는 거의다 막아...</td>\n",
       "      <td>1</td>\n",
       "      <td>프리미엄 원짜리 후기입니다 일단 사지 마세요 재미있는 영화는 거의다 막아서 프리미엄...</td>\n",
       "      <td>[프리미엄, 후기, 일단, 사지, 영화, 거의, 프리미엄, 돈내, 거기, 채널, 정...</td>\n",
       "    </tr>\n",
       "    <tr>\n",
       "      <th>3</th>\n",
       "      <td>2021-03-25</td>\n",
       "      <td>오늘 앱이 죙일 안열리네요?자주 이러면 곤란한데 먼일이데요 ?? 언넝 조치를 취해주...</td>\n",
       "      <td>3</td>\n",
       "      <td>오늘 앱이 죙일 안열리네요 자주 이러면 곤란한데 먼일이데요 언넝 조치를 취해주셔요 ...</td>\n",
       "      <td>[오늘, 죙일, 자주, 먼일, 언넝, 조치, 오늘, 영상]</td>\n",
       "    </tr>\n",
       "    <tr>\n",
       "      <th>4</th>\n",
       "      <td>2021-03-25</td>\n",
       "      <td>ㅡㄴㄴㄱㆍ 즈 ᆢㄱㄴ 그냥 ㄴㄴㆍㄴㆍ드ㅡㅡㅜ ㅣ두 ㆍ ㆍㄴ노트 ㄴㆍ ㆍ ㅡㅡ ㅡㅡ윤...</td>\n",
       "      <td>5</td>\n",
       "      <td>ㅡㄴㄴㄱ 즈 ㄱㄴ 그냥 ㄴㄴ ㄴ 드ㅡㅡㅜ ㅣ두 ㄴㄴㅗ트 ㄴ ㅡㅡ ㅡㅡ윤석원드ㅡ ㄴ ...</td>\n",
       "      <td>[그냥, 윤석]</td>\n",
       "    </tr>\n",
       "  </tbody>\n",
       "</table>\n",
       "</div>"
      ],
      "text/plain": [
       "         date                                            comment  ratings  \\\n",
       "0  2021-03-26  오류 굉장히 많고 개별구매 영화 개많아요 가뜩이나 비싼데 돈을 얼마나 더받으려고 넷...        1   \n",
       "1  2021-03-26                               한번 더팅기면 회사 소각시켜도되나요?        1   \n",
       "2  2021-03-25  프리미엄13900원짜리 후기입니다. 일단 사지 마세요. 재미있는 영화는 거의다 막아...        1   \n",
       "3  2021-03-25  오늘 앱이 죙일 안열리네요?자주 이러면 곤란한데 먼일이데요 ?? 언넝 조치를 취해주...        3   \n",
       "4  2021-03-25  ㅡㄴㄴㄱㆍ 즈 ᆢㄱㄴ 그냥 ㄴㄴㆍㄴㆍ드ㅡㅡㅜ ㅣ두 ㆍ ㆍㄴ노트 ㄴㆍ ㆍ ㅡㅡ ㅡㅡ윤...        5   \n",
       "\n",
       "                                             ko_text  \\\n",
       "0  오류 굉장히 많고 개별구매 영화 개많아요 가뜩이나 비싼데 돈을 얼마나 더받으려고 넷...   \n",
       "1                                한번 더팅기면 회사 소각시켜도되나요   \n",
       "2  프리미엄 원짜리 후기입니다 일단 사지 마세요 재미있는 영화는 거의다 막아서 프리미엄...   \n",
       "3  오늘 앱이 죙일 안열리네요 자주 이러면 곤란한데 먼일이데요 언넝 조치를 취해주셔요 ...   \n",
       "4  ㅡㄴㄴㄱ 즈 ㄱㄴ 그냥 ㄴㄴ ㄴ 드ㅡㅡㅜ ㅣ두 ㄴㄴㅗ트 ㄴ ㅡㅡ ㅡㅡ윤석원드ㅡ ㄴ ...   \n",
       "\n",
       "                                               nouns  \n",
       "0  [오류, 개별, 구매, 영화, 가뜩이나, 얼마나, 넷플, 무료, 평판, 스스로, 웨이브]  \n",
       "1                                       [한번, 회사, 각시]  \n",
       "2  [프리미엄, 후기, 일단, 사지, 영화, 거의, 프리미엄, 돈내, 거기, 채널, 정...  \n",
       "3                   [오늘, 죙일, 자주, 먼일, 언넝, 조치, 오늘, 영상]  \n",
       "4                                           [그냥, 윤석]  "
      ]
     },
     "execution_count": 22,
     "metadata": {},
     "output_type": "execute_result"
    }
   ],
   "source": [
    "df['nouns'] = df['ko_text'].apply(lambda x: get_nouns(x)) # 키워드 뽑아내고, 불필요한 행 제거하기/토크나이저\n",
    "for i in range(len(df)):\n",
    "    if not df['nouns'][i]:\n",
    "        df.drop([i],inplace=True)\n",
    "        \n",
    "df.reset_index(inplace=True)\n",
    "del df['index']\n",
    "print(df.shape)\n",
    "df.head()"
   ]
  },
  {
   "cell_type": "code",
   "execution_count": 23,
   "metadata": {
    "id": "PGTrBPdKOerC"
   },
   "outputs": [
    {
     "data": {
      "text/html": [
       "<div>\n",
       "<style scoped>\n",
       "    .dataframe tbody tr th:only-of-type {\n",
       "        vertical-align: middle;\n",
       "    }\n",
       "\n",
       "    .dataframe tbody tr th {\n",
       "        vertical-align: top;\n",
       "    }\n",
       "\n",
       "    .dataframe thead th {\n",
       "        text-align: right;\n",
       "    }\n",
       "</style>\n",
       "<table border=\"1\" class=\"dataframe\">\n",
       "  <thead>\n",
       "    <tr style=\"text-align: right;\">\n",
       "      <th></th>\n",
       "      <th>words</th>\n",
       "      <th>satisfaction</th>\n",
       "      <th>count</th>\n",
       "    </tr>\n",
       "  </thead>\n",
       "  <tbody>\n",
       "    <tr>\n",
       "      <th>0</th>\n",
       "      <td>오류</td>\n",
       "      <td>1</td>\n",
       "      <td>1</td>\n",
       "    </tr>\n",
       "    <tr>\n",
       "      <th>1</th>\n",
       "      <td>개별</td>\n",
       "      <td>1</td>\n",
       "      <td>1</td>\n",
       "    </tr>\n",
       "    <tr>\n",
       "      <th>2</th>\n",
       "      <td>구매</td>\n",
       "      <td>1</td>\n",
       "      <td>1</td>\n",
       "    </tr>\n",
       "    <tr>\n",
       "      <th>3</th>\n",
       "      <td>영화</td>\n",
       "      <td>1</td>\n",
       "      <td>1</td>\n",
       "    </tr>\n",
       "    <tr>\n",
       "      <th>4</th>\n",
       "      <td>가뜩이나</td>\n",
       "      <td>1</td>\n",
       "      <td>1</td>\n",
       "    </tr>\n",
       "  </tbody>\n",
       "</table>\n",
       "</div>"
      ],
      "text/plain": [
       "  words  satisfaction  count\n",
       "0    오류             1      1\n",
       "1    개별             1      1\n",
       "2    구매             1      1\n",
       "3    영화             1      1\n",
       "4  가뜩이나             1      1"
      ]
     },
     "execution_count": 23,
     "metadata": {},
     "output_type": "execute_result"
    }
   ],
   "source": [
    "all_words = []\n",
    "satisfaction= []\n",
    "for i in range(len(df)):\n",
    "    words = df['nouns'][i]\n",
    "    words_arr = []\n",
    "    for n in words:\n",
    "        words_arr.append(n)\n",
    "        satisfaction.append(df['ratings'].iloc[i])\n",
    "    all_words.extend(words_arr)\n",
    "    \n",
    "all_words_df = pd.DataFrame({\"words\":all_words, \"satisfaction\":satisfaction, \"count\":len(all_words)*[1]})\n",
    "all_words_df.head()  "
   ]
  },
  {
   "cell_type": "markdown",
   "metadata": {},
   "source": [
    "# EDA"
   ]
  },
  {
   "cell_type": "code",
   "execution_count": 24,
   "metadata": {},
   "outputs": [
    {
     "data": {
      "text/html": [
       "<div>\n",
       "<style scoped>\n",
       "    .dataframe tbody tr th:only-of-type {\n",
       "        vertical-align: middle;\n",
       "    }\n",
       "\n",
       "    .dataframe tbody tr th {\n",
       "        vertical-align: top;\n",
       "    }\n",
       "\n",
       "    .dataframe thead th {\n",
       "        text-align: right;\n",
       "    }\n",
       "</style>\n",
       "<table border=\"1\" class=\"dataframe\">\n",
       "  <thead>\n",
       "    <tr style=\"text-align: right;\">\n",
       "      <th></th>\n",
       "      <th>satisfaction</th>\n",
       "      <th>count</th>\n",
       "    </tr>\n",
       "    <tr>\n",
       "      <th>words</th>\n",
       "      <th></th>\n",
       "      <th></th>\n",
       "    </tr>\n",
       "  </thead>\n",
       "  <tbody>\n",
       "    <tr>\n",
       "      <th>가가</th>\n",
       "      <td>2.500000</td>\n",
       "      <td>2</td>\n",
       "    </tr>\n",
       "    <tr>\n",
       "      <th>가게</th>\n",
       "      <td>2.666667</td>\n",
       "      <td>6</td>\n",
       "    </tr>\n",
       "    <tr>\n",
       "      <th>가격</th>\n",
       "      <td>2.721973</td>\n",
       "      <td>223</td>\n",
       "    </tr>\n",
       "    <tr>\n",
       "      <th>가격표</th>\n",
       "      <td>4.000000</td>\n",
       "      <td>1</td>\n",
       "    </tr>\n",
       "    <tr>\n",
       "      <th>가결</th>\n",
       "      <td>1.000000</td>\n",
       "      <td>2</td>\n",
       "    </tr>\n",
       "    <tr>\n",
       "      <th>가공</th>\n",
       "      <td>1.000000</td>\n",
       "      <td>2</td>\n",
       "    </tr>\n",
       "    <tr>\n",
       "      <th>가관</th>\n",
       "      <td>1.000000</td>\n",
       "      <td>5</td>\n",
       "    </tr>\n",
       "    <tr>\n",
       "      <th>가구</th>\n",
       "      <td>1.000000</td>\n",
       "      <td>1</td>\n",
       "    </tr>\n",
       "    <tr>\n",
       "      <th>가글</th>\n",
       "      <td>4.000000</td>\n",
       "      <td>1</td>\n",
       "    </tr>\n",
       "    <tr>\n",
       "      <th>가급</th>\n",
       "      <td>4.000000</td>\n",
       "      <td>1</td>\n",
       "    </tr>\n",
       "    <tr>\n",
       "      <th>가기</th>\n",
       "      <td>1.881579</td>\n",
       "      <td>76</td>\n",
       "    </tr>\n",
       "    <tr>\n",
       "      <th>가까이</th>\n",
       "      <td>1.921053</td>\n",
       "      <td>38</td>\n",
       "    </tr>\n",
       "    <tr>\n",
       "      <th>가끔</th>\n",
       "      <td>2.797546</td>\n",
       "      <td>163</td>\n",
       "    </tr>\n",
       "    <tr>\n",
       "      <th>가나</th>\n",
       "      <td>1.593750</td>\n",
       "      <td>32</td>\n",
       "    </tr>\n",
       "    <tr>\n",
       "      <th>가나다</th>\n",
       "      <td>2.666667</td>\n",
       "      <td>6</td>\n",
       "    </tr>\n",
       "    <tr>\n",
       "      <th>가나다순</th>\n",
       "      <td>1.500000</td>\n",
       "      <td>4</td>\n",
       "    </tr>\n",
       "    <tr>\n",
       "      <th>가납</th>\n",
       "      <td>1.000000</td>\n",
       "      <td>1</td>\n",
       "    </tr>\n",
       "    <tr>\n",
       "      <th>가내</th>\n",
       "      <td>1.000000</td>\n",
       "      <td>1</td>\n",
       "    </tr>\n",
       "    <tr>\n",
       "      <th>가눙</th>\n",
       "      <td>1.000000</td>\n",
       "      <td>1</td>\n",
       "    </tr>\n",
       "    <tr>\n",
       "      <th>가는둥</th>\n",
       "      <td>1.000000</td>\n",
       "      <td>1</td>\n",
       "    </tr>\n",
       "  </tbody>\n",
       "</table>\n",
       "</div>"
      ],
      "text/plain": [
       "       satisfaction  count\n",
       "words                     \n",
       "가가         2.500000      2\n",
       "가게         2.666667      6\n",
       "가격         2.721973    223\n",
       "가격표        4.000000      1\n",
       "가결         1.000000      2\n",
       "가공         1.000000      2\n",
       "가관         1.000000      5\n",
       "가구         1.000000      1\n",
       "가글         4.000000      1\n",
       "가급         4.000000      1\n",
       "가기         1.881579     76\n",
       "가까이        1.921053     38\n",
       "가끔         2.797546    163\n",
       "가나         1.593750     32\n",
       "가나다        2.666667      6\n",
       "가나다순       1.500000      4\n",
       "가납         1.000000      1\n",
       "가내         1.000000      1\n",
       "가눙         1.000000      1\n",
       "가는둥        1.000000      1"
      ]
     },
     "execution_count": 24,
     "metadata": {},
     "output_type": "execute_result"
    }
   ],
   "source": [
    "words_satisfaction = all_words_df.groupby('words').mean()['satisfaction']\n",
    "words_count = all_words_df.groupby('words').sum()['count']\n",
    "words_df = pd.concat([words_satisfaction, words_count], axis=1)\n",
    "words_df.head(20)"
   ]
  },
  {
   "cell_type": "code",
   "execution_count": 25,
   "metadata": {},
   "outputs": [
    {
     "data": {
      "text/html": [
       "<div>\n",
       "<style scoped>\n",
       "    .dataframe tbody tr th:only-of-type {\n",
       "        vertical-align: middle;\n",
       "    }\n",
       "\n",
       "    .dataframe tbody tr th {\n",
       "        vertical-align: top;\n",
       "    }\n",
       "\n",
       "    .dataframe thead th {\n",
       "        text-align: right;\n",
       "    }\n",
       "</style>\n",
       "<table border=\"1\" class=\"dataframe\">\n",
       "  <thead>\n",
       "    <tr style=\"text-align: right;\">\n",
       "      <th></th>\n",
       "      <th>satisfaction</th>\n",
       "      <th>count</th>\n",
       "    </tr>\n",
       "    <tr>\n",
       "      <th>words</th>\n",
       "      <th></th>\n",
       "      <th></th>\n",
       "    </tr>\n",
       "  </thead>\n",
       "  <tbody>\n",
       "    <tr>\n",
       "      <th>승승장구</th>\n",
       "      <td>5.0</td>\n",
       "      <td>4</td>\n",
       "    </tr>\n",
       "    <tr>\n",
       "      <th>가슴</th>\n",
       "      <td>5.0</td>\n",
       "      <td>4</td>\n",
       "    </tr>\n",
       "    <tr>\n",
       "      <th>쪼아</th>\n",
       "      <td>5.0</td>\n",
       "      <td>15</td>\n",
       "    </tr>\n",
       "    <tr>\n",
       "      <th>맘에듭니</th>\n",
       "      <td>5.0</td>\n",
       "      <td>3</td>\n",
       "    </tr>\n",
       "    <tr>\n",
       "      <th>행복</th>\n",
       "      <td>5.0</td>\n",
       "      <td>5</td>\n",
       "    </tr>\n",
       "    <tr>\n",
       "      <th>...</th>\n",
       "      <td>...</td>\n",
       "      <td>...</td>\n",
       "    </tr>\n",
       "    <tr>\n",
       "      <th>영화로</th>\n",
       "      <td>1.0</td>\n",
       "      <td>6</td>\n",
       "    </tr>\n",
       "    <tr>\n",
       "      <th>예상</th>\n",
       "      <td>1.0</td>\n",
       "      <td>7</td>\n",
       "    </tr>\n",
       "    <tr>\n",
       "      <th>오기</th>\n",
       "      <td>1.0</td>\n",
       "      <td>4</td>\n",
       "    </tr>\n",
       "    <tr>\n",
       "      <th>오라</th>\n",
       "      <td>1.0</td>\n",
       "      <td>3</td>\n",
       "    </tr>\n",
       "    <tr>\n",
       "      <th>신경안</th>\n",
       "      <td>1.0</td>\n",
       "      <td>9</td>\n",
       "    </tr>\n",
       "  </tbody>\n",
       "</table>\n",
       "<p>3677 rows × 2 columns</p>\n",
       "</div>"
      ],
      "text/plain": [
       "       satisfaction  count\n",
       "words                     \n",
       "승승장구            5.0      4\n",
       "가슴              5.0      4\n",
       "쪼아              5.0     15\n",
       "맘에듭니            5.0      3\n",
       "행복              5.0      5\n",
       "...             ...    ...\n",
       "영화로             1.0      6\n",
       "예상              1.0      7\n",
       "오기              1.0      4\n",
       "오라              1.0      3\n",
       "신경안             1.0      9\n",
       "\n",
       "[3677 rows x 2 columns]"
      ]
     },
     "execution_count": 25,
     "metadata": {},
     "output_type": "execute_result"
    }
   ],
   "source": [
    "words_df = words_df.loc[words_df['count']>=3]\n",
    "words_df.sort_values('satisfaction', ascending=False)"
   ]
  },
  {
   "cell_type": "code",
   "execution_count": 26,
   "metadata": {},
   "outputs": [
    {
     "data": {
      "text/html": [
       "<div>\n",
       "<style scoped>\n",
       "    .dataframe tbody tr th:only-of-type {\n",
       "        vertical-align: middle;\n",
       "    }\n",
       "\n",
       "    .dataframe tbody tr th {\n",
       "        vertical-align: top;\n",
       "    }\n",
       "\n",
       "    .dataframe thead th {\n",
       "        text-align: right;\n",
       "    }\n",
       "</style>\n",
       "<table border=\"1\" class=\"dataframe\">\n",
       "  <thead>\n",
       "    <tr style=\"text-align: right;\">\n",
       "      <th></th>\n",
       "      <th>satisfaction</th>\n",
       "      <th>count</th>\n",
       "    </tr>\n",
       "    <tr>\n",
       "      <th>words</th>\n",
       "      <th></th>\n",
       "      <th></th>\n",
       "    </tr>\n",
       "  </thead>\n",
       "  <tbody>\n",
       "    <tr>\n",
       "      <th>옥수수</th>\n",
       "      <td>1.227565</td>\n",
       "      <td>4201</td>\n",
       "    </tr>\n",
       "    <tr>\n",
       "      <th>업데이트</th>\n",
       "      <td>1.677391</td>\n",
       "      <td>3419</td>\n",
       "    </tr>\n",
       "    <tr>\n",
       "      <th>다시</th>\n",
       "      <td>1.936652</td>\n",
       "      <td>3094</td>\n",
       "    </tr>\n",
       "    <tr>\n",
       "      <th>계속</th>\n",
       "      <td>1.495280</td>\n",
       "      <td>2966</td>\n",
       "    </tr>\n",
       "    <tr>\n",
       "      <th>결제</th>\n",
       "      <td>1.548342</td>\n",
       "      <td>2865</td>\n",
       "    </tr>\n",
       "    <tr>\n",
       "      <th>재생</th>\n",
       "      <td>1.579805</td>\n",
       "      <td>2763</td>\n",
       "    </tr>\n",
       "    <tr>\n",
       "      <th>무료</th>\n",
       "      <td>1.757855</td>\n",
       "      <td>2387</td>\n",
       "    </tr>\n",
       "    <tr>\n",
       "      <th>사용</th>\n",
       "      <td>2.187914</td>\n",
       "      <td>2267</td>\n",
       "    </tr>\n",
       "    <tr>\n",
       "      <th>진짜</th>\n",
       "      <td>1.406955</td>\n",
       "      <td>2128</td>\n",
       "    </tr>\n",
       "    <tr>\n",
       "      <th>오류</th>\n",
       "      <td>1.439315</td>\n",
       "      <td>2101</td>\n",
       "    </tr>\n",
       "    <tr>\n",
       "      <th>영상</th>\n",
       "      <td>1.723730</td>\n",
       "      <td>2027</td>\n",
       "    </tr>\n",
       "    <tr>\n",
       "      <th>화면</th>\n",
       "      <td>1.892751</td>\n",
       "      <td>2014</td>\n",
       "    </tr>\n",
       "    <tr>\n",
       "      <th>웨이브</th>\n",
       "      <td>2.351490</td>\n",
       "      <td>1946</td>\n",
       "    </tr>\n",
       "    <tr>\n",
       "      <th>이용</th>\n",
       "      <td>2.079812</td>\n",
       "      <td>1917</td>\n",
       "    </tr>\n",
       "    <tr>\n",
       "      <th>로그인</th>\n",
       "      <td>1.465825</td>\n",
       "      <td>1902</td>\n",
       "    </tr>\n",
       "    <tr>\n",
       "      <th>어플</th>\n",
       "      <td>1.798185</td>\n",
       "      <td>1873</td>\n",
       "    </tr>\n",
       "    <tr>\n",
       "      <th>영화</th>\n",
       "      <td>2.047565</td>\n",
       "      <td>1766</td>\n",
       "    </tr>\n",
       "    <tr>\n",
       "      <th>보기</th>\n",
       "      <td>2.468499</td>\n",
       "      <td>1746</td>\n",
       "    </tr>\n",
       "    <tr>\n",
       "      <th>이용권</th>\n",
       "      <td>1.606246</td>\n",
       "      <td>1633</td>\n",
       "    </tr>\n",
       "    <tr>\n",
       "      <th>드라마</th>\n",
       "      <td>2.801637</td>\n",
       "      <td>1588</td>\n",
       "    </tr>\n",
       "  </tbody>\n",
       "</table>\n",
       "</div>"
      ],
      "text/plain": [
       "       satisfaction  count\n",
       "words                     \n",
       "옥수수        1.227565   4201\n",
       "업데이트       1.677391   3419\n",
       "다시         1.936652   3094\n",
       "계속         1.495280   2966\n",
       "결제         1.548342   2865\n",
       "재생         1.579805   2763\n",
       "무료         1.757855   2387\n",
       "사용         2.187914   2267\n",
       "진짜         1.406955   2128\n",
       "오류         1.439315   2101\n",
       "영상         1.723730   2027\n",
       "화면         1.892751   2014\n",
       "웨이브        2.351490   1946\n",
       "이용         2.079812   1917\n",
       "로그인        1.465825   1902\n",
       "어플         1.798185   1873\n",
       "영화         2.047565   1766\n",
       "보기         2.468499   1746\n",
       "이용권        1.606246   1633\n",
       "드라마        2.801637   1588"
      ]
     },
     "execution_count": 26,
     "metadata": {},
     "output_type": "execute_result"
    }
   ],
   "source": [
    "words_df.sort_values('count', ascending =False).head(20)"
   ]
  },
  {
   "cell_type": "code",
   "execution_count": 27,
   "metadata": {},
   "outputs": [],
   "source": [
    "korean_stopwords_path = \"./korean_stopwords.txt\"\n",
    "with open(korean_stopwords_path, encoding='utf8') as f:\n",
    "    stopwords = f.readlines()\n",
    "stopwords = [x.strip() for x in stopwords]\n",
    "nouns_tagger =Kkma()\n",
    "def text_cleaning(text):\n",
    "    result = only_hangle(text)\n",
    "    result = repeat_normalize(result, num_repeats=2) #num_repeats \n",
    "    result = emoticon_normalize(result,num_repeats=2 )\n",
    "    nouns_tagger = tokenizer\n",
    "    nouns = nouns_tagger.tokenize(result, remove_r=True)\n",
    "    nouns = ','.join(nouns)\n",
    "    nouns_tagger2 =  Okt()\n",
    "    nouns = nouns_tagger2.nouns(nouns)\n",
    "    nouns = [x for x in nouns if len(x) >1]\n",
    "    nouns =[x for x in nouns if x not in stopwords]\n",
    "    return nouns\n",
    "\n",
    "vect = CountVectorizer(tokenizer= lambda x : text_cleaning(x))\n",
    "bow_vect = vect.fit_transform(df['comment'].tolist())\n",
    "word_list = vect.get_feature_names()\n",
    "count_list = bow_vect.toarray().sum(axis=0)"
   ]
  },
  {
   "cell_type": "code",
   "execution_count": 28,
   "metadata": {},
   "outputs": [
    {
     "data": {
      "text/plain": [
       "(27392, 8410)"
      ]
     },
     "execution_count": 28,
     "metadata": {},
     "output_type": "execute_result"
    }
   ],
   "source": [
    "bow_vect.shape"
   ]
  },
  {
   "cell_type": "code",
   "execution_count": 29,
   "metadata": {},
   "outputs": [
    {
     "name": "stdout",
     "output_type": "stream",
     "text": [
      "{'가게': 6, '가격': 219, '가공': 1, '가구': 1, '가글': 1, '가급': 1, '가까이': 36, '가나': 8, '가나다': 6, '가나다순': 4, '가\n"
     ]
    }
   ],
   "source": [
    "word_count_dict = dict(zip(word_list, count_list))\n",
    "print(str(word_count_dict)[:100])"
   ]
  },
  {
   "cell_type": "code",
   "execution_count": 30,
   "metadata": {},
   "outputs": [],
   "source": [
    "tfidf_vectorizer = TfidfTransformer()\n",
    "tf_idf_vect = tfidf_vectorizer.fit_transform(bow_vect)"
   ]
  },
  {
   "cell_type": "code",
   "execution_count": 31,
   "metadata": {},
   "outputs": [
    {
     "name": "stdout",
     "output_type": "stream",
     "text": [
      "  (0, 7733)\t0.5304267848161341\n",
      "  (0, 5460)\t0.1947514874602339\n",
      "  (0, 5135)\t0.19282080365729665\n",
      "  (0, 5091)\t0.20996476777063802\n",
      "  (0, 4101)\t0.44012686640175314\n",
      "  (0, 2633)\t0.18713041429821253\n",
      "  (0, 1269)\t0.23893735721320283\n",
      "  (0, 213)\t0.33428937829569927\n",
      "  (0, 23)\t0.44931538862609505\n"
     ]
    }
   ],
   "source": [
    "print(tf_idf_vect[0])"
   ]
  },
  {
   "cell_type": "code",
   "execution_count": 32,
   "metadata": {},
   "outputs": [
    {
     "name": "stdout",
     "output_type": "stream",
     "text": [
      "{5135: '오류', 213: '개별', 5091: '영화', 23: '가뜩이나', 1269: '넷플', 2633: '무료', 7733: '평판', 4101: '스스로', 546\n"
     ]
    }
   ],
   "source": [
    "invert_index_vectorizer = {v:k for k,v in vect.vocabulary_.items()}\n",
    "print(str(invert_index_vectorizer)[:100])"
   ]
  },
  {
   "cell_type": "code",
   "execution_count": 33,
   "metadata": {},
   "outputs": [
    {
     "data": {
      "text/html": [
       "<div>\n",
       "<style scoped>\n",
       "    .dataframe tbody tr th:only-of-type {\n",
       "        vertical-align: middle;\n",
       "    }\n",
       "\n",
       "    .dataframe tbody tr th {\n",
       "        vertical-align: top;\n",
       "    }\n",
       "\n",
       "    .dataframe thead th {\n",
       "        text-align: right;\n",
       "    }\n",
       "</style>\n",
       "<table border=\"1\" class=\"dataframe\">\n",
       "  <thead>\n",
       "    <tr style=\"text-align: right;\">\n",
       "      <th></th>\n",
       "      <th>date</th>\n",
       "      <th>comment</th>\n",
       "      <th>ratings</th>\n",
       "      <th>ko_text</th>\n",
       "      <th>nouns</th>\n",
       "    </tr>\n",
       "  </thead>\n",
       "  <tbody>\n",
       "    <tr>\n",
       "      <th>2752</th>\n",
       "      <td>2021-01-28</td>\n",
       "      <td>이거 1화 계속 안 나오고 중간에 렉이 심해서 못보겠네요. 빨리 좀 고쳐주실 바랍니다.</td>\n",
       "      <td>1</td>\n",
       "      <td>이거 화 계속 안 나오고 중간에 렉이 심해서 못보겠네요 빨리 좀 고쳐주실 바랍니다</td>\n",
       "      <td>[계속, 중간]</td>\n",
       "    </tr>\n",
       "    <tr>\n",
       "      <th>25996</th>\n",
       "      <td>2016-04-16</td>\n",
       "      <td>아니 무료도 아니구 결제해서 보는건데 툭하면 멈추고 장면 건너띠고 뭐 어쩌라는건데 ...</td>\n",
       "      <td>1</td>\n",
       "      <td>아니 무료도 아니구 결제해서 보는건데 툭하면 멈추고 장면 건너띠고 뭐 어쩌라는건데 ...</td>\n",
       "      <td>[무료, 결제, 툭하면, 장면, 건너, 어쩌, 건데, 애기, 결제, 사람, 봉인]</td>\n",
       "    </tr>\n",
       "    <tr>\n",
       "      <th>2631</th>\n",
       "      <td>2021-01-28</td>\n",
       "      <td>갑자기 어제부터 몇개는 잘보이다가 몇개는 자꾸 버퍼링이 걸리면서 안보이네요</td>\n",
       "      <td>2</td>\n",
       "      <td>갑자기 어제부터 몇개는 잘보이다가 몇개는 자꾸 버퍼링이 걸리면서 안보이네요</td>\n",
       "      <td>[갑자기, 어제, 몇개, 몇개, 자꾸, 버퍼링]</td>\n",
       "    </tr>\n",
       "    <tr>\n",
       "      <th>7091</th>\n",
       "      <td>2020-04-15</td>\n",
       "      <td>여쭤보고 싶은건데 예전에 옥수수일때 영화를 사놓은게 있었는데 지금은 그때 산 구매내...</td>\n",
       "      <td>4</td>\n",
       "      <td>여쭤보고 싶은건데 예전에 옥수수일때 영화를 사놓은게 있었는데 지금은 그때 산 구매내...</td>\n",
       "      <td>[보고, 예전, 옥수수, 영화, 지금, 그때, 가요]</td>\n",
       "    </tr>\n",
       "    <tr>\n",
       "      <th>4117</th>\n",
       "      <td>2020-10-26</td>\n",
       "      <td>오 ㅋㅋㅋ 좋음 굿굿ㄱ구구구구구구구구구(새)?ㅋㅋㅋ ㅈㅅ 이거 좋아요 굿 ㅋㅋㅋㅋ</td>\n",
       "      <td>5</td>\n",
       "      <td>오 ㅋㅋㅋ 좋음 굿ㄱㄱㅜ구구 새 ㅋㅋㅋ ㅈㅅ 이거 좋아요 굿 ㅋㅋㅋ</td>\n",
       "      <td>[구구]</td>\n",
       "    </tr>\n",
       "  </tbody>\n",
       "</table>\n",
       "</div>"
      ],
      "text/plain": [
       "             date                                            comment  ratings  \\\n",
       "2752   2021-01-28   이거 1화 계속 안 나오고 중간에 렉이 심해서 못보겠네요. 빨리 좀 고쳐주실 바랍니다.        1   \n",
       "25996  2016-04-16  아니 무료도 아니구 결제해서 보는건데 툭하면 멈추고 장면 건너띠고 뭐 어쩌라는건데 ...        1   \n",
       "2631   2021-01-28          갑자기 어제부터 몇개는 잘보이다가 몇개는 자꾸 버퍼링이 걸리면서 안보이네요        2   \n",
       "7091   2020-04-15  여쭤보고 싶은건데 예전에 옥수수일때 영화를 사놓은게 있었는데 지금은 그때 산 구매내...        4   \n",
       "4117   2020-10-26      오 ㅋㅋㅋ 좋음 굿굿ㄱ구구구구구구구구구(새)?ㅋㅋㅋ ㅈㅅ 이거 좋아요 굿 ㅋㅋㅋㅋ        5   \n",
       "\n",
       "                                                 ko_text  \\\n",
       "2752       이거 화 계속 안 나오고 중간에 렉이 심해서 못보겠네요 빨리 좀 고쳐주실 바랍니다   \n",
       "25996  아니 무료도 아니구 결제해서 보는건데 툭하면 멈추고 장면 건너띠고 뭐 어쩌라는건데 ...   \n",
       "2631           갑자기 어제부터 몇개는 잘보이다가 몇개는 자꾸 버퍼링이 걸리면서 안보이네요   \n",
       "7091   여쭤보고 싶은건데 예전에 옥수수일때 영화를 사놓은게 있었는데 지금은 그때 산 구매내...   \n",
       "4117               오 ㅋㅋㅋ 좋음 굿ㄱㄱㅜ구구 새 ㅋㅋㅋ ㅈㅅ 이거 좋아요 굿 ㅋㅋㅋ   \n",
       "\n",
       "                                               nouns  \n",
       "2752                                        [계속, 중간]  \n",
       "25996  [무료, 결제, 툭하면, 장면, 건너, 어쩌, 건데, 애기, 결제, 사람, 봉인]  \n",
       "2631                      [갑자기, 어제, 몇개, 몇개, 자꾸, 버퍼링]  \n",
       "7091                   [보고, 예전, 옥수수, 영화, 지금, 그때, 가요]  \n",
       "4117                                            [구구]  "
      ]
     },
     "execution_count": 33,
     "metadata": {},
     "output_type": "execute_result"
    }
   ],
   "source": [
    "df.sample(10).head()"
   ]
  },
  {
   "cell_type": "code",
   "execution_count": 34,
   "metadata": {},
   "outputs": [
    {
     "data": {
      "text/plain": [
       "<AxesSubplot:>"
      ]
     },
     "execution_count": 34,
     "metadata": {},
     "output_type": "execute_result"
    },
    {
     "data": {
      "image/png": "[encoded data removed]",
      "text/plain": [
       "<Figure size 432x288 with 1 Axes>"
      ]
     },
     "metadata": {
      "needs_background": "light"
     },
     "output_type": "display_data"
    }
   ],
   "source": [
    "df.ratings.hist()"
   ]
  },
  {
   "cell_type": "code",
   "execution_count": 35,
   "metadata": {},
   "outputs": [],
   "source": [
    "def rating_to_label(rating) :\n",
    "  if rating >3:\n",
    "    return 1\n",
    "  else:\n",
    "    return 0\n",
    "df['y'] = df['ratings'].apply(lambda x : rating_to_label(x))"
   ]
  },
  {
   "cell_type": "code",
   "execution_count": 36,
   "metadata": {},
   "outputs": [
    {
     "data": {
      "text/html": [
       "<div>\n",
       "<style scoped>\n",
       "    .dataframe tbody tr th:only-of-type {\n",
       "        vertical-align: middle;\n",
       "    }\n",
       "\n",
       "    .dataframe tbody tr th {\n",
       "        vertical-align: top;\n",
       "    }\n",
       "\n",
       "    .dataframe thead th {\n",
       "        text-align: right;\n",
       "    }\n",
       "</style>\n",
       "<table border=\"1\" class=\"dataframe\">\n",
       "  <thead>\n",
       "    <tr style=\"text-align: right;\">\n",
       "      <th></th>\n",
       "      <th>date</th>\n",
       "      <th>comment</th>\n",
       "      <th>ratings</th>\n",
       "      <th>ko_text</th>\n",
       "      <th>nouns</th>\n",
       "      <th>y</th>\n",
       "    </tr>\n",
       "  </thead>\n",
       "  <tbody>\n",
       "    <tr>\n",
       "      <th>0</th>\n",
       "      <td>2021-03-26</td>\n",
       "      <td>오류 굉장히 많고 개별구매 영화 개많아요 가뜩이나 비싼데 돈을 얼마나 더받으려고 넷...</td>\n",
       "      <td>1</td>\n",
       "      <td>오류 굉장히 많고 개별구매 영화 개많아요 가뜩이나 비싼데 돈을 얼마나 더받으려고 넷...</td>\n",
       "      <td>[오류, 개별, 구매, 영화, 가뜩이나, 얼마나, 넷플, 무료, 평판, 스스로, 웨이브]</td>\n",
       "      <td>0</td>\n",
       "    </tr>\n",
       "    <tr>\n",
       "      <th>1</th>\n",
       "      <td>2021-03-26</td>\n",
       "      <td>한번 더팅기면 회사 소각시켜도되나요?</td>\n",
       "      <td>1</td>\n",
       "      <td>한번 더팅기면 회사 소각시켜도되나요</td>\n",
       "      <td>[한번, 회사, 각시]</td>\n",
       "      <td>0</td>\n",
       "    </tr>\n",
       "    <tr>\n",
       "      <th>2</th>\n",
       "      <td>2021-03-25</td>\n",
       "      <td>프리미엄13900원짜리 후기입니다. 일단 사지 마세요. 재미있는 영화는 거의다 막아...</td>\n",
       "      <td>1</td>\n",
       "      <td>프리미엄 원짜리 후기입니다 일단 사지 마세요 재미있는 영화는 거의다 막아서 프리미엄...</td>\n",
       "      <td>[프리미엄, 후기, 일단, 사지, 영화, 거의, 프리미엄, 돈내, 거기, 채널, 정...</td>\n",
       "      <td>0</td>\n",
       "    </tr>\n",
       "    <tr>\n",
       "      <th>3</th>\n",
       "      <td>2021-03-25</td>\n",
       "      <td>오늘 앱이 죙일 안열리네요?자주 이러면 곤란한데 먼일이데요 ?? 언넝 조치를 취해주...</td>\n",
       "      <td>3</td>\n",
       "      <td>오늘 앱이 죙일 안열리네요 자주 이러면 곤란한데 먼일이데요 언넝 조치를 취해주셔요 ...</td>\n",
       "      <td>[오늘, 죙일, 자주, 먼일, 언넝, 조치, 오늘, 영상]</td>\n",
       "      <td>0</td>\n",
       "    </tr>\n",
       "    <tr>\n",
       "      <th>4</th>\n",
       "      <td>2021-03-25</td>\n",
       "      <td>ㅡㄴㄴㄱㆍ 즈 ᆢㄱㄴ 그냥 ㄴㄴㆍㄴㆍ드ㅡㅡㅜ ㅣ두 ㆍ ㆍㄴ노트 ㄴㆍ ㆍ ㅡㅡ ㅡㅡ윤...</td>\n",
       "      <td>5</td>\n",
       "      <td>ㅡㄴㄴㄱ 즈 ㄱㄴ 그냥 ㄴㄴ ㄴ 드ㅡㅡㅜ ㅣ두 ㄴㄴㅗ트 ㄴ ㅡㅡ ㅡㅡ윤석원드ㅡ ㄴ ...</td>\n",
       "      <td>[그냥, 윤석]</td>\n",
       "      <td>1</td>\n",
       "    </tr>\n",
       "    <tr>\n",
       "      <th>...</th>\n",
       "      <td>...</td>\n",
       "      <td>...</td>\n",
       "      <td>...</td>\n",
       "      <td>...</td>\n",
       "      <td>...</td>\n",
       "      <td>...</td>\n",
       "    </tr>\n",
       "    <tr>\n",
       "      <th>27387</th>\n",
       "      <td>2015-11-22</td>\n",
       "      <td>암튼, 실시간 볼때도 계속 끊기거나 꺼지고.. 이걸 돈내고 써야하나 심각히 고민중입니다.</td>\n",
       "      <td>2</td>\n",
       "      <td>암튼 실시간 볼때도 계속 끊기거나 꺼지고 이걸 돈내고 써야하나 심각히 고민중입니다</td>\n",
       "      <td>[실시간, 볼때, 계속, 고민]</td>\n",
       "      <td>0</td>\n",
       "    </tr>\n",
       "    <tr>\n",
       "      <th>27388</th>\n",
       "      <td>2015-11-22</td>\n",
       "      <td>이거 시간 돌리기 쓰면 화질엄청 깨지고 랙먹고;;;;;;차라리 전에것이 더 좋았어요...</td>\n",
       "      <td>1</td>\n",
       "      <td>이거 시간 돌리기 쓰면 화질엄청 깨지고 랙먹고 차라리 전에것이 더 좋았어요</td>\n",
       "      <td>[시간, 화질, 랙먹, 차라리]</td>\n",
       "      <td>0</td>\n",
       "    </tr>\n",
       "    <tr>\n",
       "      <th>27389</th>\n",
       "      <td>2015-11-22</td>\n",
       "      <td>렉때문에 못참겠어요..... 다른서비스다좋고 티비광고하고 이벤트 좋은면 뭐해요 기존...</td>\n",
       "      <td>3</td>\n",
       "      <td>렉때문에 못참겠어요 다른서비스다좋고 티비광고하고 이벤트 좋은면 뭐해요 기존 사용자가...</td>\n",
       "      <td>[때문, 서비스, 티비, 광고, 이벤트, 기존, 사용자, 오류, 때문, 네이버, 검...</td>\n",
       "      <td>0</td>\n",
       "    </tr>\n",
       "    <tr>\n",
       "      <th>27390</th>\n",
       "      <td>2015-11-22</td>\n",
       "      <td>실시간티비이건 다시보기이건 왜이렇게 렉걸리고 똑같은 와이파이 사용하는데 비디오포털 ...</td>\n",
       "      <td>1</td>\n",
       "      <td>실시간티비이건 다시보기이건 왜이렇게 렉걸리고 똑같은 와이파이 사용하는데 비디오포털 ...</td>\n",
       "      <td>[실시간, 티비, 이건, 다시, 보기, 이건, 와이파이, 사용, 비디오, 포털, 티...</td>\n",
       "      <td>0</td>\n",
       "    </tr>\n",
       "    <tr>\n",
       "      <th>27391</th>\n",
       "      <td>2015-11-22</td>\n",
       "      <td>맛보기할땐 랙도안걸리고 버퍼링같은건 없었는데 유료결제하고 나선 버퍼링이 심하게 생기...</td>\n",
       "      <td>2</td>\n",
       "      <td>맛보기할땐 랙도안걸리고 버퍼링같은건 없었는데 유료결제하고 나선 버퍼링이 심하게 생기...</td>\n",
       "      <td>[맛보기, 도안, 버퍼링, 유료, 결제, 나선, 버퍼링, 정말, 고객, 가지, 수정]</td>\n",
       "      <td>0</td>\n",
       "    </tr>\n",
       "  </tbody>\n",
       "</table>\n",
       "<p>27392 rows × 6 columns</p>\n",
       "</div>"
      ],
      "text/plain": [
       "             date                                            comment  ratings  \\\n",
       "0      2021-03-26  오류 굉장히 많고 개별구매 영화 개많아요 가뜩이나 비싼데 돈을 얼마나 더받으려고 넷...        1   \n",
       "1      2021-03-26                               한번 더팅기면 회사 소각시켜도되나요?        1   \n",
       "2      2021-03-25  프리미엄13900원짜리 후기입니다. 일단 사지 마세요. 재미있는 영화는 거의다 막아...        1   \n",
       "3      2021-03-25  오늘 앱이 죙일 안열리네요?자주 이러면 곤란한데 먼일이데요 ?? 언넝 조치를 취해주...        3   \n",
       "4      2021-03-25  ㅡㄴㄴㄱㆍ 즈 ᆢㄱㄴ 그냥 ㄴㄴㆍㄴㆍ드ㅡㅡㅜ ㅣ두 ㆍ ㆍㄴ노트 ㄴㆍ ㆍ ㅡㅡ ㅡㅡ윤...        5   \n",
       "...           ...                                                ...      ...   \n",
       "27387  2015-11-22  암튼, 실시간 볼때도 계속 끊기거나 꺼지고.. 이걸 돈내고 써야하나 심각히 고민중입니다.        2   \n",
       "27388  2015-11-22  이거 시간 돌리기 쓰면 화질엄청 깨지고 랙먹고;;;;;;차라리 전에것이 더 좋았어요...        1   \n",
       "27389  2015-11-22  렉때문에 못참겠어요..... 다른서비스다좋고 티비광고하고 이벤트 좋은면 뭐해요 기존...        3   \n",
       "27390  2015-11-22  실시간티비이건 다시보기이건 왜이렇게 렉걸리고 똑같은 와이파이 사용하는데 비디오포털 ...        1   \n",
       "27391  2015-11-22  맛보기할땐 랙도안걸리고 버퍼링같은건 없었는데 유료결제하고 나선 버퍼링이 심하게 생기...        2   \n",
       "\n",
       "                                                 ko_text  \\\n",
       "0      오류 굉장히 많고 개별구매 영화 개많아요 가뜩이나 비싼데 돈을 얼마나 더받으려고 넷...   \n",
       "1                                    한번 더팅기면 회사 소각시켜도되나요   \n",
       "2      프리미엄 원짜리 후기입니다 일단 사지 마세요 재미있는 영화는 거의다 막아서 프리미엄...   \n",
       "3      오늘 앱이 죙일 안열리네요 자주 이러면 곤란한데 먼일이데요 언넝 조치를 취해주셔요 ...   \n",
       "4      ㅡㄴㄴㄱ 즈 ㄱㄴ 그냥 ㄴㄴ ㄴ 드ㅡㅡㅜ ㅣ두 ㄴㄴㅗ트 ㄴ ㅡㅡ ㅡㅡ윤석원드ㅡ ㄴ ...   \n",
       "...                                                  ...   \n",
       "27387      암튼 실시간 볼때도 계속 끊기거나 꺼지고 이걸 돈내고 써야하나 심각히 고민중입니다   \n",
       "27388          이거 시간 돌리기 쓰면 화질엄청 깨지고 랙먹고 차라리 전에것이 더 좋았어요   \n",
       "27389  렉때문에 못참겠어요 다른서비스다좋고 티비광고하고 이벤트 좋은면 뭐해요 기존 사용자가...   \n",
       "27390  실시간티비이건 다시보기이건 왜이렇게 렉걸리고 똑같은 와이파이 사용하는데 비디오포털 ...   \n",
       "27391  맛보기할땐 랙도안걸리고 버퍼링같은건 없었는데 유료결제하고 나선 버퍼링이 심하게 생기...   \n",
       "\n",
       "                                                   nouns  y  \n",
       "0      [오류, 개별, 구매, 영화, 가뜩이나, 얼마나, 넷플, 무료, 평판, 스스로, 웨이브]  0  \n",
       "1                                           [한번, 회사, 각시]  0  \n",
       "2      [프리미엄, 후기, 일단, 사지, 영화, 거의, 프리미엄, 돈내, 거기, 채널, 정...  0  \n",
       "3                       [오늘, 죙일, 자주, 먼일, 언넝, 조치, 오늘, 영상]  0  \n",
       "4                                               [그냥, 윤석]  1  \n",
       "...                                                  ... ..  \n",
       "27387                                  [실시간, 볼때, 계속, 고민]  0  \n",
       "27388                                  [시간, 화질, 랙먹, 차라리]  0  \n",
       "27389  [때문, 서비스, 티비, 광고, 이벤트, 기존, 사용자, 오류, 때문, 네이버, 검...  0  \n",
       "27390  [실시간, 티비, 이건, 다시, 보기, 이건, 와이파이, 사용, 비디오, 포털, 티...  0  \n",
       "27391    [맛보기, 도안, 버퍼링, 유료, 결제, 나선, 버퍼링, 정말, 고객, 가지, 수정]  0  \n",
       "\n",
       "[27392 rows x 6 columns]"
      ]
     },
     "execution_count": 36,
     "metadata": {},
     "output_type": "execute_result"
    }
   ],
   "source": [
    "df"
   ]
  },
  {
   "cell_type": "code",
   "execution_count": 90,
   "metadata": {},
   "outputs": [
    {
     "data": {
      "text/plain": [
       "0    22272\n",
       "1     5120\n",
       "Name: y, dtype: int64"
      ]
     },
     "execution_count": 90,
     "metadata": {},
     "output_type": "execute_result"
    }
   ],
   "source": [
    "df.y.value_counts()"
   ]
  },
  {
   "cell_type": "code",
   "execution_count": 94,
   "metadata": {},
   "outputs": [],
   "source": [
    "y= df['y']\n",
    "X_train, X_test, y_train, y_test = train_test_split(tf_idf_vect, y, test_size = 0.2)"
   ]
  },
  {
   "cell_type": "code",
   "execution_count": 95,
   "metadata": {},
   "outputs": [
    {
     "name": "stdout",
     "output_type": "stream",
     "text": [
      "(5479, 8410)\n"
     ]
    }
   ],
   "source": [
    "print(X_test.shape)"
   ]
  },
  {
   "cell_type": "markdown",
   "metadata": {},
   "source": [
    "# 로지스틱 회귀"
   ]
  },
  {
   "cell_type": "code",
   "execution_count": 40,
   "metadata": {},
   "outputs": [
    {
     "name": "stdout",
     "output_type": "stream",
     "text": [
      "Test Accuracy: 86.79%\n"
     ]
    }
   ],
   "source": [
    "from sklearn.linear_model import LogisticRegression\n",
    "lr = LogisticRegression(solver=\"lbfgs\", max_iter=500)\n",
    "lr.fit(X_train, y_train)\n",
    "print(\"Test Accuracy: {}%\".format(round(lr.score(X_test, y_test)*100,2)))"
   ]
  },
  {
   "cell_type": "code",
   "execution_count": 41,
   "metadata": {},
   "outputs": [
    {
     "name": "stdout",
     "output_type": "stream",
     "text": [
      "cross-val-score \n",
      "[0.85839416 0.88430657 0.83278569 0.90069368 0.86966046 0.85761227\n",
      " 0.8535962  0.84045272 0.86162833 0.85140562]\n",
      "cross-val-score.mean \n",
      "0.861\n"
     ]
    }
   ],
   "source": [
    "scores = cross_val_score(lr, tf_idf_vect, y, cv=10) # model, train, target, cross validation\n",
    "\n",
    "print('cross-val-score \\n{}'.format(scores))\n",
    "\n",
    "print('cross-val-score.mean \\n{:.3f}'.format(scores.mean()))"
   ]
  },
  {
   "cell_type": "code",
   "execution_count": 42,
   "metadata": {},
   "outputs": [
    {
     "name": "stdout",
     "output_type": "stream",
     "text": [
      "Logistic Regression Classifier report: \n",
      "\n",
      "               precision    recall  f1-score   support\n",
      "\n",
      "           0       0.88      0.97      0.92      4505\n",
      "           1       0.76      0.37      0.50       974\n",
      "\n",
      "    accuracy                           0.87      5479\n",
      "   macro avg       0.82      0.67      0.71      5479\n",
      "weighted avg       0.86      0.87      0.85      5479\n",
      "\n"
     ]
    }
   ],
   "source": [
    "y_pred_lr = lr.predict(X_test)\n",
    "print(\"Logistic Regression Classifier report: \\n\\n\", classification_report(y_test, y_pred_lr))"
   ]
  },
  {
   "cell_type": "code",
   "execution_count": 43,
   "metadata": {},
   "outputs": [
    {
     "data": {
      "image/png": "[encoded data removed]",
      "text/plain": [
       "<Figure size 504x504 with 2 Axes>"
      ]
     },
     "metadata": {
      "needs_background": "light"
     },
     "output_type": "display_data"
    }
   ],
   "source": [
    "cm = confusion_matrix(y_test, y_pred_lr)\n",
    "x_axis_labels = [\"Edible\", \"Poisonous\"]\n",
    "y_axis_labels = [\"Edible\", \"Poisonous\"]\n",
    "f, ax = plt.subplots(figsize =(7,7))\n",
    "sns.heatmap(cm, annot = True, linewidths=0.2, linecolor=\"black\", fmt = \".0f\", ax=ax, cmap=\"Purples\", xticklabels=x_axis_labels, yticklabels=y_axis_labels)\n",
    "plt.xlabel(\"PREDICTED LABEL\")\n",
    "plt.ylabel(\"TRUE LABEL\")\n",
    "plt.title('Confusion Matrix for Logistic Regression Classifier')\n",
    "plt.savefig(\"lrcm.png\", format='png', dpi=500, bbox_inches='tight')\n",
    "plt.show()"
   ]
  },
  {
   "cell_type": "code",
   "execution_count": 44,
   "metadata": {},
   "outputs": [
    {
     "data": {
      "text/plain": [
       "<BarContainer object of 8410 artists>"
      ]
     },
     "execution_count": 44,
     "metadata": {},
     "output_type": "execute_result"
    },
    {
     "data": {
      "image/png": "[encoded data removed]",
      "text/plain": [
       "<Figure size 720x576 with 1 Axes>"
      ]
     },
     "metadata": {
      "needs_background": "light"
     },
     "output_type": "display_data"
    }
   ],
   "source": [
    "plt.rcParams['figure.figsize'] = [10,8]\n",
    "plt.bar(range(len(lr.coef_[0])), lr.coef_[0])"
   ]
  },
  {
   "cell_type": "code",
   "execution_count": 45,
   "metadata": {},
   "outputs": [],
   "source": [
    "coef_pos_index = sorted(((value, index ) for index, value in enumerate(lr.coef_[0])), reverse=True)\n",
    "coef_neg_index = sorted(((value,index) for index, value in enumerate(lr.coef_[0])), reverse= False)"
   ]
  },
  {
   "cell_type": "code",
   "execution_count": 46,
   "metadata": {},
   "outputs": [
    {
     "name": "stdout",
     "output_type": "stream",
     "text": [
      "최고 4.480948306702756\n",
      "유용 3.3085724604341813\n",
      "굿굿 3.135696620537536\n",
      "만족 3.0340334250960592\n",
      "편리 3.0061675388960163\n",
      "애용 2.847788787190288\n",
      "쵝오 2.3340855617586462\n",
      "감사 2.2287645066982043\n",
      "화이팅 2.188520251172382\n",
      "중드 2.1211696947741765\n",
      "매우 2.0808453622752294\n",
      "짱짱 2.05674172193517\n",
      "강추 2.038242708169378\n",
      "가장 2.0194580423282713\n",
      "덕분 1.9373864026034837\n",
      "기대 1.9062642890544474\n",
      "볼거리 1.8887564221391846\n",
      "항상 1.8342631856530378\n",
      "디자인 1.8178563971658213\n",
      "소년 1.8047666341185222\n",
      "재미 1.7894476433521616\n",
      "대박 1.784138586652934\n",
      "이벤트 1.7830542867341015\n",
      "보고 1.7769449956774357\n",
      "호핀 1.751040231608079\n",
      "사랑 1.7465686540176781\n",
      "굿굿굿 1.717805481759216\n",
      "예능 1.709364465664317\n",
      "여러 1.6620120831947833\n",
      "레벨 1.6602776925199696\n",
      "한가지 1.6507535392200183\n",
      "컨텐츠 1.6407866294510145\n",
      "멘탈 1.6268743163477266\n",
      "통해 1.6238834199552317\n",
      "사용 1.6085833059371712\n",
      "부담 1.5987858251004585\n",
      "좀더 1.5788554014608909\n",
      "캠프 1.5757346207669323\n",
      "생방 1.5288677357476446\n",
      "베리 1.5261100794282783\n",
      "정말 1.5058170985869928\n",
      "부분 1.5051947473847112\n",
      "추천 1.4909531972658747\n",
      "자취 1.4657986536031598\n",
      "출퇴근 1.4495123967197496\n",
      "기능 1.4187562477460633\n",
      "웨이 1.4126577651771928\n",
      "가능 1.3864496221265754\n",
      "리얼리티 1.3837795944504876\n",
      "듭니 1.3556095904953023\n"
     ]
    }
   ],
   "source": [
    "for coef in coef_pos_index[:50]:\n",
    "  print(invert_index_vectorizer[coef[1]],coef[0]) #띄어쓰기 ,soynlp konlpy  한국어 "
   ]
  },
  {
   "cell_type": "code",
   "execution_count": 47,
   "metadata": {},
   "outputs": [
    {
     "name": "stdout",
     "output_type": "stream",
     "text": [
      "옥수 -5.977114942620951\n",
      "최악 -4.916033527064851\n",
      "쓰레기 -3.9720033966540966\n",
      "짜증 -3.868843485428417\n",
      "보상 -3.428214220892561\n",
      "제대로 -3.01756073954078\n",
      "도대체 -2.8142091007535104\n",
      "환불 -2.7720831371232406\n",
      "개도 -2.71873722265382\n",
      "미리보기 -2.706125283148395\n",
      "보라 -2.693618153509755\n",
      "장난 -2.6314240130035818\n",
      "탈퇴 -2.6056859408205995\n",
      "해지 -2.418322293656282\n",
      "자꾸 -2.4063369454398256\n",
      "유료 -2.327219975275658\n",
      "별로 -2.2947670585802147\n",
      "이건 -2.283285349138845\n",
      "실망 -2.2284034393961494\n",
      "엉망 -2.226247195079319\n",
      "혜택 -2.156764155812222\n",
      "와이파이 -2.146584489889671\n",
      "재생 -2.080374354900979\n",
      "먹통 -2.0479215820194696\n",
      "계속 -2.0216457760868627\n",
      "이해 -2.015507590909209\n",
      "어쩌 -1.9844372502339358\n",
      "중지 -1.9719880006819521\n",
      "개판 -1.9485947409721305\n",
      "결재 -1.9335532143049734\n",
      "심해 -1.9294769299803558\n",
      "돈내 -1.921342037707539\n",
      "접속 -1.9186701002802569\n",
      "로딩 -1.8963472312614051\n",
      "삭제 -1.8934039864908205\n",
      "아예 -1.8571545515866843\n",
      "고객 -1.8418865104463609\n",
      "실행 -1.8124701251678774\n",
      "정액 -1.7953506338491372\n",
      "개별 -1.784315190018996\n",
      "해도 -1.7761475597983083\n",
      "구림 -1.7496198154964113\n",
      "답답 -1.7463806808953963\n",
      "관리 -1.7401518605587905\n",
      "불편 -1.7390960785580594\n",
      "문의 -1.7218242842947433\n",
      "오류 -1.7066459237238059\n",
      "사라 -1.6869384264325955\n",
      "광고 -1.6801405952063255\n",
      "점검 -1.6630513597591137\n"
     ]
    }
   ],
   "source": [
    "for coef in coef_neg_index[:50]:\n",
    "  print(invert_index_vectorizer[coef[1]],coef[0])"
   ]
  },
  {
   "cell_type": "markdown",
   "metadata": {},
   "source": [
    "# 의사결정 트리"
   ]
  },
  {
   "cell_type": "code",
   "execution_count": 48,
   "metadata": {},
   "outputs": [
    {
     "data": {
      "text/plain": [
       "DecisionTreeClassifier()"
      ]
     },
     "execution_count": 48,
     "metadata": {},
     "output_type": "execute_result"
    }
   ],
   "source": [
    "dt = DecisionTreeClassifier()\n",
    "dt.fit(X_train, y_train)"
   ]
  },
  {
   "cell_type": "code",
   "execution_count": 49,
   "metadata": {},
   "outputs": [
    {
     "name": "stdout",
     "output_type": "stream",
     "text": [
      "Decision Tree Classifier report: \n",
      "\n",
      "               precision    recall  f1-score   support\n",
      "\n",
      "           0       0.88      0.92      0.90      4505\n",
      "           1       0.54      0.40      0.46       974\n",
      "\n",
      "    accuracy                           0.83      5479\n",
      "   macro avg       0.71      0.66      0.68      5479\n",
      "weighted avg       0.82      0.83      0.82      5479\n",
      "\n",
      "Test Accuracy: 83.19%\n"
     ]
    }
   ],
   "source": [
    "y_pred_dt = dt.predict(X_test)\n",
    "print(\"Decision Tree Classifier report: \\n\\n\", classification_report(y_test, y_pred_dt))\n",
    "print(\"Test Accuracy: {}%\".format(round(dt.score(X_test, y_test)*100, 2)))"
   ]
  },
  {
   "cell_type": "code",
   "execution_count": 50,
   "metadata": {},
   "outputs": [
    {
     "data": {
      "image/png": "[encoded data removed]",
      "text/plain": [
       "<Figure size 504x504 with 2 Axes>"
      ]
     },
     "metadata": {
      "needs_background": "light"
     },
     "output_type": "display_data"
    }
   ],
   "source": [
    "cm = confusion_matrix(y_test, y_pred_dt)\n",
    "x_axis_labels = [\"Edible\", \"Poisonous\"]\n",
    "y_axis_labels = [\"Edible\", \"Poisonous\"]\n",
    "f, ax = plt.subplots(figsize =(7,7))\n",
    "sns.heatmap(cm, annot = True, linewidths=0.2, linecolor=\"black\", fmt = \".0f\", ax=ax, cmap=\"Purples\", xticklabels=x_axis_labels, yticklabels=y_axis_labels)\n",
    "plt.xlabel(\"PREDICTED LABEL\")\n",
    "plt.ylabel(\"TRUE LABEL\")\n",
    "plt.title('Confusion Matrix for Decision Tree Classifier')\n",
    "plt.savefig(\"dtcm.png\", format='png', dpi=500, bbox_inches='tight')\n",
    "plt.show()"
   ]
  },
  {
   "cell_type": "code",
   "execution_count": 51,
   "metadata": {},
   "outputs": [
    {
     "data": {
      "text/plain": [
       "<BarContainer object of 8410 artists>"
      ]
     },
     "execution_count": 51,
     "metadata": {},
     "output_type": "execute_result"
    },
    {
     "data": {
      "image/png": "[encoded data removed]",
      "text/plain": [
       "<Figure size 720x576 with 1 Axes>"
      ]
     },
     "metadata": {
      "needs_background": "light"
     },
     "output_type": "display_data"
    }
   ],
   "source": [
    "plt.rcParams['figure.figsize'] = [10,8]\n",
    "plt.bar(range(len(dt.feature_importances_)), dt.feature_importances_)"
   ]
  },
  {
   "cell_type": "code",
   "execution_count": 52,
   "metadata": {},
   "outputs": [],
   "source": [
    "coef_pos_index = sorted(((value, index ) for index, value in enumerate(dt.feature_importances_)), reverse=True)\n",
    "coef_neg_index = sorted(((value,index) for index, value in enumerate(dt.feature_importances_)), reverse= False)"
   ]
  },
  {
   "cell_type": "code",
   "execution_count": 53,
   "metadata": {},
   "outputs": [
    {
     "name": "stdout",
     "output_type": "stream",
     "text": [
      "최고 0.038357068659880374\n",
      "옥수 0.025395269577806613\n",
      "만족 0.024225763247615727\n",
      "사용 0.018080267435960796\n",
      "유용 0.014525986870661794\n",
      "드라마 0.013790346717362264\n",
      "재생 0.012534326736191028\n",
      "계속 0.012475615980264981\n",
      "정말 0.010412319794534079\n",
      "보기 0.009700740005989037\n",
      "방송 0.009542446699520934\n",
      "무료 0.009305035106597708\n",
      "불편 0.009112782606533538\n",
      "보고 0.0086497275494927\n",
      "웨이 0.008566805847535306\n",
      "티비 0.008319597288742915\n",
      "업데이트 0.008267809061530757\n",
      "짜증 0.00812798101629044\n",
      "이용 0.007667219333373281\n",
      "편리 0.007565478779077563\n",
      "프로 0.007531785489647635\n",
      "기능 0.007361716604191395\n",
      "다시 0.007281026371126104\n",
      "컨텐츠 0.007094708022667876\n",
      "굿굿 0.006875521823400185\n",
      "로그인 0.006791312571900524\n",
      "자꾸 0.006784023884231162\n",
      "채널 0.006483543765208982\n",
      "예능 0.006352856948564426\n",
      "시청 0.006206810369010999\n",
      "최악 0.006113013931120219\n",
      "화질 0.00597072793545185\n",
      "갑자기 0.005728413307044006\n",
      "항상 0.00547986681333207\n",
      "소년 0.005475844279787787\n",
      "영상 0.004780617444614393\n",
      "영화 0.004717153246624459\n",
      "가격 0.00461976797705567\n",
      "결제 0.004521750712095042\n",
      "애용 0.004507625150241704\n",
      "추천 0.00442991710065427\n",
      "화면 0.004357889617034363\n",
      "매우 0.004293865091749462\n",
      "오류 0.0042019858749012835\n",
      "별로 0.004175632697064277\n",
      "추가 0.004155716892560047\n",
      "가입 0.004139114042971786\n",
      "재미 0.004104176388615579\n",
      "업뎃 0.00405077134911343\n",
      "감사 0.00401461818882163\n"
     ]
    }
   ],
   "source": [
    "for coef in coef_pos_index[:50]:\n",
    "  print(invert_index_vectorizer[coef[1]],coef[0]) #띄어쓰기 ,soynlp konlpy  한국어 "
   ]
  },
  {
   "cell_type": "code",
   "execution_count": 54,
   "metadata": {},
   "outputs": [
    {
     "name": "stdout",
     "output_type": "stream",
     "text": [
      "가게 0.0\n",
      "가공 0.0\n",
      "가구 0.0\n",
      "가글 0.0\n",
      "가급 0.0\n",
      "가까이 0.0\n",
      "가나다 0.0\n",
      "가나다순 0.0\n",
      "가납 0.0\n",
      "가내 0.0\n",
      "가눙 0.0\n",
      "가는둥 0.0\n",
      "가늠 0.0\n",
      "가능성 0.0\n",
      "가다가 0.0\n",
      "가당 0.0\n",
      "가독성 0.0\n",
      "가득 0.0\n",
      "가든 0.0\n",
      "가라 0.0\n",
      "가래 0.0\n",
      "가량 0.0\n",
      "가렵니 0.0\n",
      "가루 0.0\n",
      "가림 0.0\n",
      "가망 0.0\n",
      "가맹 0.0\n",
      "가먄 0.0\n",
      "가문 0.0\n",
      "가믕 0.0\n",
      "가방 0.0\n",
      "가변 0.0\n",
      "가상 0.0\n",
      "가수 0.0\n",
      "가연서 0.0\n",
      "가요제 0.0\n",
      "가용 0.0\n",
      "가용성 0.0\n",
      "가운데 0.0\n",
      "가웃 0.0\n",
      "가유 0.0\n",
      "가을 0.0\n",
      "가을동화 0.0\n",
      "가이드 0.0\n",
      "가입자 0.0\n",
      "가장자리 0.0\n",
      "가정교육 0.0\n",
      "가정부 0.0\n",
      "가중 0.0\n",
      "가지가지 0.0\n"
     ]
    }
   ],
   "source": [
    "for coef in coef_neg_index[:50]:\n",
    "  print(invert_index_vectorizer[coef[1]],coef[0])"
   ]
  },
  {
   "cell_type": "markdown",
   "metadata": {},
   "source": [
    "# KNN"
   ]
  },
  {
   "cell_type": "code",
   "execution_count": 55,
   "metadata": {
    "scrolled": true
   },
   "outputs": [
    {
     "name": "stdout",
     "output_type": "stream",
     "text": [
      "Best KNN Value: 2\n",
      "Test Accuracy: 87.07%\n"
     ]
    }
   ],
   "source": [
    "from sklearn.neighbors import KNeighborsClassifier\n",
    "best_Kvalue = 0\n",
    "best_score = 0\n",
    "for i in range(2,10):\n",
    "    knn = KNeighborsClassifier(n_neighbors=i)\n",
    "    knn.fit(X_train, y_train)\n",
    "    if knn.score(X_test, y_test) > best_score:\n",
    "        best_score = knn.score(X_train, y_train)\n",
    "        best_Kvalue = i\n",
    "        \n",
    "print(\"Best KNN Value: {}\".format(best_Kvalue))\n",
    "print(\"Test Accuracy: {}%\".format(round(best_score*100,2)))"
   ]
  },
  {
   "cell_type": "code",
   "execution_count": 56,
   "metadata": {},
   "outputs": [
    {
     "name": "stdout",
     "output_type": "stream",
     "text": [
      "KNN Classifier report: \n",
      "\n",
      "               precision    recall  f1-score   support\n",
      "\n",
      "           0       0.86      0.84      0.85      4505\n",
      "           1       0.34      0.39      0.36       974\n",
      "\n",
      "    accuracy                           0.76      5479\n",
      "   macro avg       0.60      0.61      0.61      5479\n",
      "weighted avg       0.77      0.76      0.76      5479\n",
      "\n"
     ]
    }
   ],
   "source": [
    "y_pred_knn = knn.predict(X_test)\n",
    "print(\"KNN Classifier report: \\n\\n\", classification_report(y_test, y_pred_knn))"
   ]
  },
  {
   "cell_type": "code",
   "execution_count": 57,
   "metadata": {
    "scrolled": true
   },
   "outputs": [
    {
     "data": {
      "image/png": "[encoded data removed]",
      "text/plain": [
       "<Figure size 504x504 with 2 Axes>"
      ]
     },
     "metadata": {
      "needs_background": "light"
     },
     "output_type": "display_data"
    }
   ],
   "source": [
    "cm = confusion_matrix(y_test, y_pred_knn)\n",
    "x_axis_labels = [\"Edible\", \"Poisonous\"]\n",
    "y_axis_labels = [\"Edible\", \"Poisonous\"]\n",
    "f, ax = plt.subplots(figsize =(7,7))\n",
    "sns.heatmap(cm, annot = True, linewidths=0.2, linecolor=\"black\", fmt = \".0f\", ax=ax, cmap=\"Purples\", xticklabels=x_axis_labels, yticklabels=y_axis_labels)\n",
    "plt.xlabel(\"PREDICTED LABEL\")\n",
    "plt.ylabel(\"TRUE LABEL\")\n",
    "plt.title('Confusion Matrix for KNN Classifier')\n",
    "plt.savefig(\"knncm.png\", format='png', dpi=500, bbox_inches='tight')\n",
    "plt.show()"
   ]
  },
  {
   "cell_type": "code",
   "execution_count": 58,
   "metadata": {},
   "outputs": [
    {
     "data": {
      "text/plain": [
       "<BarContainer object of 8410 artists>"
      ]
     },
     "execution_count": 58,
     "metadata": {},
     "output_type": "execute_result"
    },
    {
     "data": {
      "image/png": "[encoded data removed]",
      "text/plain": [
       "<Figure size 720x576 with 1 Axes>"
      ]
     },
     "metadata": {
      "needs_background": "light"
     },
     "output_type": "display_data"
    }
   ],
   "source": [
    "plt.rcParams['figure.figsize'] = [10,8]\n",
    "plt.bar(range(len(dt.feature_importances_)), dt.feature_importances_)"
   ]
  },
  {
   "cell_type": "code",
   "execution_count": 59,
   "metadata": {},
   "outputs": [],
   "source": [
    "coef_pos_index = sorted(((value, index ) for index, value in enumerate(dt.feature_importances_)), reverse=True)\n",
    "coef_neg_index = sorted(((value,index) for index, value in enumerate(dt.feature_importances_)), reverse= False)"
   ]
  },
  {
   "cell_type": "code",
   "execution_count": 60,
   "metadata": {},
   "outputs": [
    {
     "name": "stdout",
     "output_type": "stream",
     "text": [
      "최고 0.038357068659880374\n",
      "옥수 0.025395269577806613\n",
      "만족 0.024225763247615727\n",
      "사용 0.018080267435960796\n",
      "유용 0.014525986870661794\n",
      "드라마 0.013790346717362264\n",
      "재생 0.012534326736191028\n",
      "계속 0.012475615980264981\n",
      "정말 0.010412319794534079\n",
      "보기 0.009700740005989037\n",
      "방송 0.009542446699520934\n",
      "무료 0.009305035106597708\n",
      "불편 0.009112782606533538\n",
      "보고 0.0086497275494927\n",
      "웨이 0.008566805847535306\n",
      "티비 0.008319597288742915\n",
      "업데이트 0.008267809061530757\n",
      "짜증 0.00812798101629044\n",
      "이용 0.007667219333373281\n",
      "편리 0.007565478779077563\n",
      "프로 0.007531785489647635\n",
      "기능 0.007361716604191395\n",
      "다시 0.007281026371126104\n",
      "컨텐츠 0.007094708022667876\n",
      "굿굿 0.006875521823400185\n",
      "로그인 0.006791312571900524\n",
      "자꾸 0.006784023884231162\n",
      "채널 0.006483543765208982\n",
      "예능 0.006352856948564426\n",
      "시청 0.006206810369010999\n",
      "최악 0.006113013931120219\n",
      "화질 0.00597072793545185\n",
      "갑자기 0.005728413307044006\n",
      "항상 0.00547986681333207\n",
      "소년 0.005475844279787787\n",
      "영상 0.004780617444614393\n",
      "영화 0.004717153246624459\n",
      "가격 0.00461976797705567\n",
      "결제 0.004521750712095042\n",
      "애용 0.004507625150241704\n",
      "추천 0.00442991710065427\n",
      "화면 0.004357889617034363\n",
      "매우 0.004293865091749462\n",
      "오류 0.0042019858749012835\n",
      "별로 0.004175632697064277\n",
      "추가 0.004155716892560047\n",
      "가입 0.004139114042971786\n",
      "재미 0.004104176388615579\n",
      "업뎃 0.00405077134911343\n",
      "감사 0.00401461818882163\n"
     ]
    }
   ],
   "source": [
    "for coef in coef_pos_index[:50]:\n",
    "  print(invert_index_vectorizer[coef[1]],coef[0]) #띄어쓰기 ,soynlp konlpy  한국어 "
   ]
  },
  {
   "cell_type": "code",
   "execution_count": 61,
   "metadata": {},
   "outputs": [
    {
     "name": "stdout",
     "output_type": "stream",
     "text": [
      "가게 0.0\n",
      "가공 0.0\n",
      "가구 0.0\n",
      "가글 0.0\n",
      "가급 0.0\n",
      "가까이 0.0\n",
      "가나다 0.0\n",
      "가나다순 0.0\n",
      "가납 0.0\n",
      "가내 0.0\n",
      "가눙 0.0\n",
      "가는둥 0.0\n",
      "가늠 0.0\n",
      "가능성 0.0\n",
      "가다가 0.0\n",
      "가당 0.0\n",
      "가독성 0.0\n",
      "가득 0.0\n",
      "가든 0.0\n",
      "가라 0.0\n",
      "가래 0.0\n",
      "가량 0.0\n",
      "가렵니 0.0\n",
      "가루 0.0\n",
      "가림 0.0\n",
      "가망 0.0\n",
      "가맹 0.0\n",
      "가먄 0.0\n",
      "가문 0.0\n",
      "가믕 0.0\n",
      "가방 0.0\n",
      "가변 0.0\n",
      "가상 0.0\n",
      "가수 0.0\n",
      "가연서 0.0\n",
      "가요제 0.0\n",
      "가용 0.0\n",
      "가용성 0.0\n",
      "가운데 0.0\n",
      "가웃 0.0\n",
      "가유 0.0\n",
      "가을 0.0\n",
      "가을동화 0.0\n",
      "가이드 0.0\n",
      "가입자 0.0\n",
      "가장자리 0.0\n",
      "가정교육 0.0\n",
      "가정부 0.0\n",
      "가중 0.0\n",
      "가지가지 0.0\n"
     ]
    }
   ],
   "source": [
    "for coef in coef_neg_index[:50]:\n",
    "  print(invert_index_vectorizer[coef[1]],coef[0])"
   ]
  },
  {
   "cell_type": "markdown",
   "metadata": {},
   "source": [
    "# SVM"
   ]
  },
  {
   "cell_type": "code",
   "execution_count": 62,
   "metadata": {},
   "outputs": [
    {
     "name": "stdout",
     "output_type": "stream",
     "text": [
      "Test Accuracy: 82.22%\n"
     ]
    }
   ],
   "source": [
    "from sklearn.svm import SVC\n",
    "svm = SVC(random_state=42, gamma=\"auto\")\n",
    "svm.fit(X_train, y_train)\n",
    "print(\"Test Accuracy: {}%\".format(round(svm.score(X_test, y_test)*100, 2)))"
   ]
  },
  {
   "cell_type": "code",
   "execution_count": 63,
   "metadata": {},
   "outputs": [
    {
     "name": "stdout",
     "output_type": "stream",
     "text": [
      "SVM Classifier report: \n",
      "\n",
      "               precision    recall  f1-score   support\n",
      "\n",
      "           0       0.82      1.00      0.90      4505\n",
      "           1       0.00      0.00      0.00       974\n",
      "\n",
      "    accuracy                           0.82      5479\n",
      "   macro avg       0.41      0.50      0.45      5479\n",
      "weighted avg       0.68      0.82      0.74      5479\n",
      "\n"
     ]
    },
    {
     "name": "stderr",
     "output_type": "stream",
     "text": [
      "C:\\ProgramData\\Anaconda3\\envs\\Jae\\lib\\site-packages\\sklearn\\metrics\\_classification.py:1245: UndefinedMetricWarning: Precision and F-score are ill-defined and being set to 0.0 in labels with no predicted samples. Use `zero_division` parameter to control this behavior.\n",
      "  _warn_prf(average, modifier, msg_start, len(result))\n",
      "C:\\ProgramData\\Anaconda3\\envs\\Jae\\lib\\site-packages\\sklearn\\metrics\\_classification.py:1245: UndefinedMetricWarning: Precision and F-score are ill-defined and being set to 0.0 in labels with no predicted samples. Use `zero_division` parameter to control this behavior.\n",
      "  _warn_prf(average, modifier, msg_start, len(result))\n",
      "C:\\ProgramData\\Anaconda3\\envs\\Jae\\lib\\site-packages\\sklearn\\metrics\\_classification.py:1245: UndefinedMetricWarning: Precision and F-score are ill-defined and being set to 0.0 in labels with no predicted samples. Use `zero_division` parameter to control this behavior.\n",
      "  _warn_prf(average, modifier, msg_start, len(result))\n"
     ]
    }
   ],
   "source": [
    "y_pred_svm = svm.predict(X_test)\n",
    "print(\"SVM Classifier report: \\n\\n\", classification_report(y_test, y_pred_svm))"
   ]
  },
  {
   "cell_type": "code",
   "execution_count": 64,
   "metadata": {
    "scrolled": true
   },
   "outputs": [
    {
     "data": {
      "image/png": "[encoded data removed]",
      "text/plain": [
       "<Figure size 504x504 with 2 Axes>"
      ]
     },
     "metadata": {
      "needs_background": "light"
     },
     "output_type": "display_data"
    }
   ],
   "source": [
    "cm = confusion_matrix(y_test, y_pred_svm)\n",
    "x_axis_labels = [\"Edible\", \"Poisonous\"]\n",
    "y_axis_labels = [\"Edible\", \"Poisonous\"]\n",
    "f, ax = plt.subplots(figsize =(7,7))\n",
    "sns.heatmap(cm, annot = True, linewidths=0.2, linecolor=\"black\", fmt = \".0f\", ax=ax, cmap=\"Purples\", xticklabels=x_axis_labels, yticklabels=y_axis_labels)\n",
    "plt.xlabel(\"PREDICTED LABEL\")\n",
    "plt.ylabel(\"TRUE LABEL\")\n",
    "plt.title('Confusion Matrix for SVM Classifier')\n",
    "#plt.savefig(\"svmcm.png\", format='png', dpi=500, bbox_inches='tight')\n",
    "plt.show()"
   ]
  },
  {
   "cell_type": "code",
   "execution_count": 65,
   "metadata": {},
   "outputs": [
    {
     "data": {
      "text/plain": [
       "<BarContainer object of 8410 artists>"
      ]
     },
     "execution_count": 65,
     "metadata": {},
     "output_type": "execute_result"
    },
    {
     "data": {
      "image/png": "[encoded data removed]",
      "text/plain": [
       "<Figure size 720x576 with 1 Axes>"
      ]
     },
     "metadata": {
      "needs_background": "light"
     },
     "output_type": "display_data"
    }
   ],
   "source": [
    "plt.rcParams['figure.figsize'] = [10,8]\n",
    "plt.bar(range(len(dt.feature_importances_)), dt.feature_importances_)"
   ]
  },
  {
   "cell_type": "code",
   "execution_count": 66,
   "metadata": {},
   "outputs": [],
   "source": [
    "coef_pos_index = sorted(((value, index ) for index, value in enumerate(dt.feature_importances_)), reverse=True)\n",
    "coef_neg_index = sorted(((value,index) for index, value in enumerate(dt.feature_importances_)), reverse= False)"
   ]
  },
  {
   "cell_type": "code",
   "execution_count": 67,
   "metadata": {},
   "outputs": [
    {
     "name": "stdout",
     "output_type": "stream",
     "text": [
      "최고 0.038357068659880374\n",
      "옥수 0.025395269577806613\n",
      "만족 0.024225763247615727\n",
      "사용 0.018080267435960796\n",
      "유용 0.014525986870661794\n",
      "드라마 0.013790346717362264\n",
      "재생 0.012534326736191028\n",
      "계속 0.012475615980264981\n",
      "정말 0.010412319794534079\n",
      "보기 0.009700740005989037\n",
      "방송 0.009542446699520934\n",
      "무료 0.009305035106597708\n",
      "불편 0.009112782606533538\n",
      "보고 0.0086497275494927\n",
      "웨이 0.008566805847535306\n",
      "티비 0.008319597288742915\n",
      "업데이트 0.008267809061530757\n",
      "짜증 0.00812798101629044\n",
      "이용 0.007667219333373281\n",
      "편리 0.007565478779077563\n",
      "프로 0.007531785489647635\n",
      "기능 0.007361716604191395\n",
      "다시 0.007281026371126104\n",
      "컨텐츠 0.007094708022667876\n",
      "굿굿 0.006875521823400185\n",
      "로그인 0.006791312571900524\n",
      "자꾸 0.006784023884231162\n",
      "채널 0.006483543765208982\n",
      "예능 0.006352856948564426\n",
      "시청 0.006206810369010999\n",
      "최악 0.006113013931120219\n",
      "화질 0.00597072793545185\n",
      "갑자기 0.005728413307044006\n",
      "항상 0.00547986681333207\n",
      "소년 0.005475844279787787\n",
      "영상 0.004780617444614393\n",
      "영화 0.004717153246624459\n",
      "가격 0.00461976797705567\n",
      "결제 0.004521750712095042\n",
      "애용 0.004507625150241704\n",
      "추천 0.00442991710065427\n",
      "화면 0.004357889617034363\n",
      "매우 0.004293865091749462\n",
      "오류 0.0042019858749012835\n",
      "별로 0.004175632697064277\n",
      "추가 0.004155716892560047\n",
      "가입 0.004139114042971786\n",
      "재미 0.004104176388615579\n",
      "업뎃 0.00405077134911343\n",
      "감사 0.00401461818882163\n"
     ]
    }
   ],
   "source": [
    "for coef in coef_pos_index[:50]:\n",
    "  print(invert_index_vectorizer[coef[1]],coef[0]) #띄어쓰기 ,soynlp konlpy  한국어 "
   ]
  },
  {
   "cell_type": "code",
   "execution_count": 68,
   "metadata": {},
   "outputs": [
    {
     "name": "stdout",
     "output_type": "stream",
     "text": [
      "가게 0.0\n",
      "가공 0.0\n",
      "가구 0.0\n",
      "가글 0.0\n",
      "가급 0.0\n",
      "가까이 0.0\n",
      "가나다 0.0\n",
      "가나다순 0.0\n",
      "가납 0.0\n",
      "가내 0.0\n",
      "가눙 0.0\n",
      "가는둥 0.0\n",
      "가늠 0.0\n",
      "가능성 0.0\n",
      "가다가 0.0\n",
      "가당 0.0\n",
      "가독성 0.0\n",
      "가득 0.0\n",
      "가든 0.0\n",
      "가라 0.0\n",
      "가래 0.0\n",
      "가량 0.0\n",
      "가렵니 0.0\n",
      "가루 0.0\n",
      "가림 0.0\n",
      "가망 0.0\n",
      "가맹 0.0\n",
      "가먄 0.0\n",
      "가문 0.0\n",
      "가믕 0.0\n",
      "가방 0.0\n",
      "가변 0.0\n",
      "가상 0.0\n",
      "가수 0.0\n",
      "가연서 0.0\n",
      "가요제 0.0\n",
      "가용 0.0\n",
      "가용성 0.0\n",
      "가운데 0.0\n",
      "가웃 0.0\n",
      "가유 0.0\n",
      "가을 0.0\n",
      "가을동화 0.0\n",
      "가이드 0.0\n",
      "가입자 0.0\n",
      "가장자리 0.0\n",
      "가정교육 0.0\n",
      "가정부 0.0\n",
      "가중 0.0\n",
      "가지가지 0.0\n"
     ]
    }
   ],
   "source": [
    "for coef in coef_neg_index[:50]:\n",
    "  print(invert_index_vectorizer[coef[1]],coef[0])"
   ]
  },
  {
   "cell_type": "markdown",
   "metadata": {},
   "source": [
    "# 랜덤 포레스트"
   ]
  },
  {
   "cell_type": "code",
   "execution_count": 69,
   "metadata": {},
   "outputs": [
    {
     "name": "stdout",
     "output_type": "stream",
     "text": [
      "Test Accuracy: 85.98%\n"
     ]
    }
   ],
   "source": [
    "from sklearn.ensemble import RandomForestClassifier\n",
    "rf = RandomForestClassifier(n_estimators=100, random_state=42)\n",
    "rf.fit(X_train, y_train)\n",
    "print(\"Test Accuracy: {}%\".format(round(rf.score(X_test, y_test)*100, 2)))"
   ]
  },
  {
   "cell_type": "code",
   "execution_count": 70,
   "metadata": {},
   "outputs": [
    {
     "name": "stdout",
     "output_type": "stream",
     "text": [
      "Random Forest Classifier report: \n",
      "\n",
      "               precision    recall  f1-score   support\n",
      "\n",
      "           0       0.87      0.97      0.92      4505\n",
      "           1       0.71      0.36      0.48       974\n",
      "\n",
      "    accuracy                           0.86      5479\n",
      "   macro avg       0.79      0.66      0.70      5479\n",
      "weighted avg       0.85      0.86      0.84      5479\n",
      "\n"
     ]
    }
   ],
   "source": [
    "y_pred_rf = rf.predict(X_test)\n",
    "print(\"Random Forest Classifier report: \\n\\n\", classification_report(y_test, y_pred_rf))"
   ]
  },
  {
   "cell_type": "code",
   "execution_count": 71,
   "metadata": {},
   "outputs": [
    {
     "data": {
      "image/png": "[encoded data removed]",
      "text/plain": [
       "<Figure size 504x504 with 2 Axes>"
      ]
     },
     "metadata": {
      "needs_background": "light"
     },
     "output_type": "display_data"
    }
   ],
   "source": [
    "cm = confusion_matrix(y_test, y_pred_rf)\n",
    "x_axis_labels = [\"Edible\", \"Poisonous\"]\n",
    "y_axis_labels = [\"Edible\", \"Poisonous\"]\n",
    "f, ax = plt.subplots(figsize =(7,7))\n",
    "sns.heatmap(cm, annot = True, linewidths=0.2, linecolor=\"black\", fmt = \".0f\", ax=ax, cmap=\"Purples\", xticklabels=x_axis_labels, yticklabels=y_axis_labels)\n",
    "plt.xlabel(\"PREDICTED LABEL\")\n",
    "plt.ylabel(\"TRUE LABEL\")\n",
    "plt.title('Confusion Matrix for Random Forest Classifier');\n",
    "plt.savefig(\"rfcm.png\", format='png', dpi=500, bbox_inches='tight')\n",
    "plt.show()"
   ]
  },
  {
   "cell_type": "code",
   "execution_count": 72,
   "metadata": {},
   "outputs": [
    {
     "data": {
      "text/plain": [
       "<BarContainer object of 8410 artists>"
      ]
     },
     "execution_count": 72,
     "metadata": {},
     "output_type": "execute_result"
    },
    {
     "data": {
      "image/png": "[encoded data removed]",
      "text/plain": [
       "<Figure size 720x576 with 1 Axes>"
      ]
     },
     "metadata": {
      "needs_background": "light"
     },
     "output_type": "display_data"
    }
   ],
   "source": [
    "plt.rcParams['figure.figsize'] = [10,8]\n",
    "plt.bar(range(len(rf.feature_importances_)), rf.feature_importances_)"
   ]
  },
  {
   "cell_type": "code",
   "execution_count": 73,
   "metadata": {},
   "outputs": [],
   "source": [
    "coef_pos_index = sorted(((value, index ) for index, value in enumerate(rf.feature_importances_)), reverse=True)\n",
    "coef_neg_index = sorted(((value,index) for index, value in enumerate(rf.feature_importances_)), reverse= False)"
   ]
  },
  {
   "cell_type": "code",
   "execution_count": 74,
   "metadata": {},
   "outputs": [
    {
     "name": "stdout",
     "output_type": "stream",
     "text": [
      "최고 0.029324895145847303\n",
      "옥수 0.024079058323726695\n",
      "사용 0.015262799616526369\n",
      "만족 0.012890657556735598\n",
      "드라마 0.011666921774475895\n",
      "보기 0.01049850778907676\n",
      "계속 0.00978170160541737\n",
      "정말 0.009648317271290181\n",
      "보고 0.00962058765063057\n",
      "업데이트 0.009512289306326084\n",
      "이용 0.00938238073819933\n",
      "방송 0.00870782289601356\n",
      "다시 0.008587383617307938\n",
      "웨이 0.008512688470888565\n",
      "유용 0.008436661661951138\n",
      "예능 0.0080591478505187\n",
      "재생 0.008037272172815073\n",
      "무료 0.0072043472185717525\n",
      "컨텐츠 0.007163492073970156\n",
      "갑자기 0.007044254068790814\n",
      "자꾸 0.0068605904072535796\n",
      "화질 0.006777960032560982\n",
      "프로 0.006640904083551739\n",
      "편리 0.006529044913033524\n",
      "채널 0.006510553046069789\n",
      "짜증 0.006491071844089213\n",
      "오류 0.006428892430356343\n",
      "불편 0.006362214338437457\n",
      "티비 0.006287221035233235\n",
      "로그인 0.006186577052850253\n",
      "굿굿 0.005849399429002395\n",
      "항상 0.005568986427417166\n",
      "최악 0.005415996325033775\n",
      "진짜 0.005326373872099637\n",
      "결제 0.005315937983500612\n",
      "영상 0.005157594405275074\n",
      "영화 0.005116261902298813\n",
      "기능 0.004959110419281419\n",
      "화면 0.004823554164325844\n",
      "시청 0.004653321862028419\n",
      "매우 0.004608406969575981\n",
      "추천 0.004356331728350346\n",
      "추가 0.004232734705673106\n",
      "감사 0.004180830480206162\n",
      "어플 0.0040688284843789346\n",
      "로딩 0.004050758318991998\n",
      "별로 0.004043796589391042\n",
      "완전 0.004027391614256537\n",
      "지금 0.003970727750707669\n",
      "애용 0.003931086547232555\n"
     ]
    }
   ],
   "source": [
    "for coef in coef_pos_index[:50]:\n",
    "  print(invert_index_vectorizer[coef[1]],coef[0]) #띄어쓰기 ,soynlp konlpy  한국어 "
   ]
  },
  {
   "cell_type": "code",
   "execution_count": 75,
   "metadata": {},
   "outputs": [
    {
     "name": "stdout",
     "output_type": "stream",
     "text": [
      "가공 0.0\n",
      "가글 0.0\n",
      "가능성 0.0\n",
      "가래 0.0\n",
      "가맹 0.0\n",
      "가용 0.0\n",
      "가장자리 0.0\n",
      "가트 0.0\n",
      "가해 0.0\n",
      "각성 0.0\n",
      "각심 0.0\n",
      "간단명료 0.0\n",
      "간도 0.0\n",
      "간정 0.0\n",
      "간첩 0.0\n",
      "감각 0.0\n",
      "감겨 0.0\n",
      "감독 0.0\n",
      "감빵 0.0\n",
      "감안 0.0\n",
      "갑작스레 0.0\n",
      "값좀 0.0\n",
      "갔드 0.0\n",
      "강재 0.0\n",
      "강조 0.0\n",
      "강추임 0.0\n",
      "강형욱 0.0\n",
      "개강 0.0\n",
      "개개인 0.0\n",
      "개과천선 0.0\n",
      "개꿀잼 0.0\n",
      "개보 0.0\n",
      "개삽 0.0\n",
      "개섬 0.0\n",
      "개쉬발것 0.0\n",
      "개쓰뤠기임 0.0\n",
      "개임 0.0\n",
      "개잡 0.0\n",
      "개장 0.0\n",
      "개좋름 0.0\n",
      "개좍 0.0\n",
      "개쪽 0.0\n",
      "개차반 0.0\n",
      "개폭망 0.0\n",
      "갤놋 0.0\n",
      "갸시러 0.0\n",
      "걀제 0.0\n",
      "거미 0.0\n",
      "거스 0.0\n",
      "거액 0.0\n"
     ]
    }
   ],
   "source": [
    "for coef in coef_neg_index[:50]:\n",
    "  print(invert_index_vectorizer[coef[1]],coef[0])"
   ]
  },
  {
   "cell_type": "markdown",
   "metadata": {},
   "source": [
    "# 라쏘"
   ]
  },
  {
   "cell_type": "code",
   "execution_count": 80,
   "metadata": {},
   "outputs": [],
   "source": [
    "import mglearn\n",
    "import numpy as np\n",
    "from sklearn.model_selection import train_test_split\n",
    "from sklearn.linear_model import Lasso\n",
    "import mglearn\n",
    "import matplotlib.pyplot as plt\n",
    "from sklearn.linear_model import Ridge"
   ]
  },
  {
   "cell_type": "code",
   "execution_count": 93,
   "metadata": {},
   "outputs": [
    {
     "name": "stdout",
     "output_type": "stream",
     "text": [
      "훈련 세트의 정확도 : 0.00\n",
      "테스트 세트의 정확도 : -0.00\n",
      "사용한 특성의 수 : 0\n",
      "사용한 max_iter : 1\n"
     ]
    }
   ],
   "source": [
    "lasso = Lasso().fit(X_train, y_train)\n",
    "\n",
    "print(\"훈련 세트의 정확도 : {:.2f}\".format(lasso.score(X_train, y_train)))\n",
    "print(\"테스트 세트의 정확도 : {:.2f}\".format(lasso.score(X_test, y_test)))\n",
    "print(\"사용한 특성의 수 : {}\".format(np.sum(lasso.coef_ != 0)))\n",
    "print(\"사용한 max_iter : {}\".format(lasso.n_iter_))"
   ]
  },
  {
   "cell_type": "code",
   "execution_count": 96,
   "metadata": {},
   "outputs": [
    {
     "name": "stdout",
     "output_type": "stream",
     "text": [
      "훈련 세트의 정확도 : 0.00\n",
      "테스트 세트의 정확도 : -0.00\n",
      "사용한 특성의 수 : 0\n",
      "사용한 max_iter : 1\n",
      "훈련 세트의 정확도 : 0.00\n",
      "테스트 세트의 정확도 : -0.00\n",
      "사용한 특성의 수 : 0\n",
      "사용한 max_iter : 1\n",
      "훈련 세트의 정확도 : 0.29\n",
      "테스트 세트의 정확도 : 0.29\n",
      "사용한 특성의 수 : 290\n",
      "사용한 max_iter : 73\n"
     ]
    }
   ],
   "source": [
    "#성능 측정\n",
    "\n",
    "lasso = Lasso().fit(X_train, y_train)\n",
    "print(\"훈련 세트의 정확도 : {:.2f}\".format(lasso.score(X_train, y_train)))\n",
    "print(\"테스트 세트의 정확도 : {:.2f}\".format(lasso.score(X_test, y_test)))\n",
    "print(\"사용한 특성의 수 : {}\".format(np.sum(lasso.coef_ != 0)))\n",
    "print(\"사용한 max_iter : {}\".format(lasso.n_iter_))\n",
    "\n",
    "\n",
    "lasso001 = Lasso(alpha=0.01, max_iter=100000).fit(X_train, y_train)\n",
    "print(\"훈련 세트의 정확도 : {:.2f}\".format(lasso001.score(X_train, y_train)))\n",
    "print(\"테스트 세트의 정확도 : {:.2f}\".format(lasso001.score(X_test, y_test)))\n",
    "print(\"사용한 특성의 수 : {}\".format(np.sum(lasso001.coef_ != 0)))\n",
    "print(\"사용한 max_iter : {}\".format(lasso001.n_iter_))\n",
    "\n",
    "lasso00001 = Lasso(alpha=0.0001, max_iter=100000).fit(X_train, y_train)\n",
    "print(\"훈련 세트의 정확도 : {:.2f}\".format(lasso00001.score(X_train, y_train)))\n",
    "print(\"테스트 세트의 정확도 : {:.2f}\".format(lasso00001.score(X_test, y_test)))\n",
    "print(\"사용한 특성의 수 : {}\".format(np.sum(lasso00001.coef_ != 0)))\n",
    "print(\"사용한 max_iter : {}\".format(lasso00001.n_iter_))"
   ]
  },
  {
   "cell_type": "code",
   "execution_count": 97,
   "metadata": {},
   "outputs": [
    {
     "data": {
      "image/png": "[encoded data removed]",
      "text/plain": [
       "<Figure size 720x576 with 1 Axes>"
      ]
     },
     "metadata": {
      "needs_background": "light"
     },
     "output_type": "display_data"
    }
   ],
   "source": [
    "#alpha값에 따른 모델들의 계수 그래프 그리기\n",
    "\n",
    "# 릿지 회귀\n",
    "ridge = Ridge().fit(X_train, y_train)\n",
    "ridge10 = Ridge(alpha=10).fit(X_train, y_train)\n",
    "ridge01 = Ridge(alpha=0.1).fit(X_train, y_train)\n",
    "\n",
    "# 라쏘 회귀\n",
    "lasso = Lasso().fit(X_train, y_train)\n",
    "lasso001 = Lasso(alpha=0.01, max_iter=100000).fit(X_train, y_train)\n",
    "lasso00001 = Lasso(alpha=0.0001, max_iter=100000).fit(X_train, y_train)\n",
    "\n",
    "\n",
    "\n",
    "plt.plot(lasso.coef_, 's', label=\"Lasso alpha=1\")\n",
    "plt.plot(lasso001.coef_, '^', label=\"Lasso alpha=0.01\")\n",
    "plt.plot(lasso00001.coef_, 'v', label=\"Lasso alpha=0.0001\")\n",
    "\n",
    "plt.plot(ridge01.coef_, 'o', label=\"Ridge alpha=0.1\")\n",
    "plt.legend(ncol=2, loc=(0, 1.05))\n",
    "plt.xlabel(\"w list\")\n",
    "plt.ylabel(\"w size\")\n",
    "\n",
    "# plt.hlines(0, 0, len(lr.coef_))\n",
    "\n",
    "plt.ylim(-25, 25)\n",
    "plt.show()"
   ]
  },
  {
   "cell_type": "code",
   "execution_count": 100,
   "metadata": {},
   "outputs": [
    {
     "data": {
      "text/plain": [
       "(21913, 982)"
      ]
     },
     "execution_count": 100,
     "metadata": {},
     "output_type": "execute_result"
    }
   ],
   "source": [
    "lasso=Lasso() # LASSO 모형 설정\n",
    "lasso.fit(X_train, y_train)\n",
    "#%%\n",
    "np.sum(lasso.coef_ !=0)\n",
    "\n",
    "from sklearn.linear_model import LassoCV\n",
    "lassocv = LassoCV() #Cross Validation을 통해서 lambda값을 설정한다\n",
    "lassocv.fit(X_train, y_train)\n",
    "#%%\n",
    " \n",
    "lassocv.alpha_ #Cross Validation을 통해 추출한 lambda값\n",
    "#%%\n",
    "lassocv.coef_[:5]\n",
    "np.sum(lassocv.coef_ !=0)\n",
    "'''\n",
    "실제 위에서 추출된 람다값은 0.64정도이며 이에 따라 독립변수의 계수가 0이 될 확률은\n",
    "더욱 높아졌다. 위의 np.sum의 값은 34개이며, 이는 독립변수의 계수가 0인 아닌것은 것은 총 34개라는\n",
    "의미\n",
    "'''\n",
    " \n",
    "#%%\n",
    " \n",
    "mask = lassocv.coef_ != 0\n",
    "new_reg_data = X_train[:, mask]\n",
    "new_reg_data.shape"
   ]
  },
  {
   "cell_type": "code",
   "execution_count": 101,
   "metadata": {},
   "outputs": [
    {
     "name": "stdout",
     "output_type": "stream",
     "text": [
      "training set score: 0.29\n",
      "test set score: 0.21\n",
      "the number of the used features: 4\n",
      "numbers of the used features:  [12 79 80 89]\n"
     ]
    }
   ],
   "source": [
    "X, y = mglearn.datasets.load_extended_boston() # 보스턴 주택가격 데이터셋 불러오기\n",
    "\n",
    "X_train, X_test, y_train, y_test = train_test_split(X, y, random_state=0) # 데이터셋을 훈련셋과 테스트셋으로 분리\n",
    "\n",
    "lasso = Lasso().fit(X_train, y_train) # 라쏘 회귀 모델 훈련\n",
    "\n",
    "print(\"training set score: {:.2f}\".format(lasso.score(X_train, y_train))) # 훈련셋 결정계수\n",
    "print(\"test set score: {:.2f}\".format(lasso.score(X_test, y_test))) # 테스트셋 결정계수\n",
    "print(\"the number of the used features: {}\".format(np.sum(lasso.coef_ != 0))) # 사용된 특성갯수\n",
    "\n",
    "usedfeatures = np.nonzero(lasso.coef_ != 0)\n",
    "print(\"numbers of the used features: \", usedfeatures[0])# 사용된 특성 번호"
   ]
  },
  {
   "cell_type": "code",
   "execution_count": 103,
   "metadata": {},
   "outputs": [
    {
     "name": "stdout",
     "output_type": "stream",
     "text": [
      "training set score: 0.90\n",
      "test set score: 0.77\n",
      "the number of the used features: 32\n",
      "numbers of the used features:  [  7   8  21  26  43  45  50  51  52  54  57  59  60  63  65  68  69  71\n",
      "  72  73  74  75  78  82  87  90  93  94  97 101 102 103]\n"
     ]
    },
    {
     "name": "stderr",
     "output_type": "stream",
     "text": [
      "C:\\ProgramData\\Anaconda3\\envs\\Jae\\lib\\site-packages\\sklearn\\linear_model\\_coordinate_descent.py:530: ConvergenceWarning: Objective did not converge. You might want to increase the number of iterations. Duality gap: 46.902458003173706, tolerance: 3.233182126649077\n",
      "  model = cd_fast.enet_coordinate_descent(\n"
     ]
    }
   ],
   "source": [
    "lasso = Lasso(alpha=0.01).fit(X_train, y_train) # 라쏘 회귀 모델 훈련\n",
    "\n",
    "print(\"training set score: {:.2f}\".format(lasso.score(X_train, y_train))) # 훈련셋 결정계수\n",
    "print(\"test set score: {:.2f}\".format(lasso.score(X_test, y_test))) # 테스트셋 결정계수\n",
    "print(\"the number of the used features: {}\".format(np.sum(lasso.coef_ != 0))) # 사용된 특성갯수\n",
    "\n",
    "usedfeatures = np.nonzero(lasso.coef_ != 0)\n",
    "print(\"numbers of the used features: \", usedfeatures[0])# 사용된 특성 번호"
   ]
  },
  {
   "cell_type": "code",
   "execution_count": null,
   "metadata": {},
   "outputs": [],
   "source": []
  },
  {
   "cell_type": "code",
   "execution_count": null,
   "metadata": {},
   "outputs": [],
   "source": []
  },
  {
   "cell_type": "code",
   "execution_count": null,
   "metadata": {},
   "outputs": [],
   "source": []
  },
  {
   "cell_type": "code",
   "execution_count": null,
   "metadata": {},
   "outputs": [],
   "source": []
  },
  {
   "cell_type": "code",
   "execution_count": null,
   "metadata": {},
   "outputs": [],
   "source": []
  },
  {
   "cell_type": "code",
   "execution_count": null,
   "metadata": {},
   "outputs": [],
   "source": []
  },
  {
   "cell_type": "code",
   "execution_count": null,
   "metadata": {},
   "outputs": [],
   "source": []
  }
 ],
 "metadata": {
  "accelerator": "GPU",
  "colab": {
   "authorship_tag": "ABX9TyPno3wnpmJsuuVJqgjzpQlg",
   "collapsed_sections": [],
   "name": "wavve.ipynb",
   "provenance": []
  },
  "kernelspec": {
   "display_name": "ej",
   "language": "python",
   "name": "ej"
  },
  "language_info": {
   "codemirror_mode": {
    "name": "ipython",
    "version": 3
   },
   "file_extension": ".py",
   "mimetype": "text/x-python",
   "name": "python",
   "nbconvert_exporter": "python",
   "pygments_lexer": "ipython3",
   "version": "3.8.8"
  },
  "widgets": {
   "application/vnd.jupyter.widget-state+json": {
    "055df6cf1623491f927f8b28ac87ee50": {
     "model_module": "@jupyter-widgets/base",
     "model_name": "LayoutModel",
     "state": {
      "_model_module": "@jupyter-widgets/base",
      "_model_module_version": "1.2.0",
      "_model_name": "LayoutModel",
      "_view_count": null,
      "_view_module": "@jupyter-widgets/base",
      "_view_module_version": "1.2.0",
      "_view_name": "LayoutView",
      "align_content": null,
      "align_items": null,
      "align_self": null,
      "border": null,
      "bottom": null,
      "display": null,
      "flex": null,
      "flex_flow": null,
      "grid_area": null,
      "grid_auto_columns": null,
      "grid_auto_flow": null,
      "grid_auto_rows": null,
      "grid_column": null,
      "grid_gap": null,
      "grid_row": null,
      "grid_template_areas": null,
      "grid_template_columns": null,
      "grid_template_rows": null,
      "height": null,
      "justify_content": null,
      "justify_items": null,
      "left": null,
      "margin": null,
      "max_height": null,
      "max_width": null,
      "min_height": null,
      "min_width": null,
      "object_fit": null,
      "object_position": null,
      "order": null,
      "overflow": null,
      "overflow_x": null,
      "overflow_y": null,
      "padding": null,
      "right": null,
      "top": null,
      "visibility": null,
      "width": null
     }
    },
    "4a5354731709467ab2b7a5bc5f26be86": {
     "model_module": "@jupyter-widgets/controls",
     "model_name": "HBoxModel",
     "state": {
      "_dom_classes": [],
      "_model_module": "@jupyter-widgets/controls",
      "_model_module_version": "1.5.0",
      "_model_name": "HBoxModel",
      "_view_count": null,
      "_view_module": "@jupyter-widgets/controls",
      "_view_module_version": "1.5.0",
      "_view_name": "HBoxView",
      "box_style": "",
      "children": [
       "IPY_MODEL_6e756bf80335497697ededd5673b9a01",
       "IPY_MODEL_9a47fcfb79e341a49524424c1be53927"
      ],
      "layout": "IPY_MODEL_6a0915e048e14fc39157d878a27dfeef"
     }
    },
    "6a0915e048e14fc39157d878a27dfeef": {
     "model_module": "@jupyter-widgets/base",
     "model_name": "LayoutModel",
     "state": {
      "_model_module": "@jupyter-widgets/base",
      "_model_module_version": "1.2.0",
      "_model_name": "LayoutModel",
      "_view_count": null,
      "_view_module": "@jupyter-widgets/base",
      "_view_module_version": "1.2.0",
      "_view_name": "LayoutView",
      "align_content": null,
      "align_items": null,
      "align_self": null,
      "border": null,
      "bottom": null,
      "display": null,
      "flex": null,
      "flex_flow": null,
      "grid_area": null,
      "grid_auto_columns": null,
      "grid_auto_flow": null,
      "grid_auto_rows": null,
      "grid_column": null,
      "grid_gap": null,
      "grid_row": null,
      "grid_template_areas": null,
      "grid_template_columns": null,
      "grid_template_rows": null,
      "height": null,
      "justify_content": null,
      "justify_items": null,
      "left": null,
      "margin": null,
      "max_height": null,
      "max_width": null,
      "min_height": null,
      "min_width": null,
      "object_fit": null,
      "object_position": null,
      "order": null,
      "overflow": null,
      "overflow_x": null,
      "overflow_y": null,
      "padding": null,
      "right": null,
      "top": null,
      "visibility": null,
      "width": null
     }
    },
    "6e756bf80335497697ededd5673b9a01": {
     "model_module": "@jupyter-widgets/controls",
     "model_name": "FloatProgressModel",
     "state": {
      "_dom_classes": [],
      "_model_module": "@jupyter-widgets/controls",
      "_model_module_version": "1.5.0",
      "_model_name": "FloatProgressModel",
      "_view_count": null,
      "_view_module": "@jupyter-widgets/controls",
      "_view_module_version": "1.5.0",
      "_view_name": "ProgressView",
      "bar_style": "",
      "description": " 11%",
      "description_tooltip": null,
      "layout": "IPY_MODEL_055df6cf1623491f927f8b28ac87ee50",
      "max": 30400,
      "min": 0,
      "orientation": "horizontal",
      "style": "IPY_MODEL_9997cd1de2e44a4db3419f8c8fe0af62",
      "value": 3484
     }
    },
    "866f9b2b87b446f58377d43042f0a1e6": {
     "model_module": "@jupyter-widgets/controls",
     "model_name": "DescriptionStyleModel",
     "state": {
      "_model_module": "@jupyter-widgets/controls",
      "_model_module_version": "1.5.0",
      "_model_name": "DescriptionStyleModel",
      "_view_count": null,
      "_view_module": "@jupyter-widgets/base",
      "_view_module_version": "1.2.0",
      "_view_name": "StyleView",
      "description_width": ""
     }
    },
    "9997cd1de2e44a4db3419f8c8fe0af62": {
     "model_module": "@jupyter-widgets/controls",
     "model_name": "ProgressStyleModel",
     "state": {
      "_model_module": "@jupyter-widgets/controls",
      "_model_module_version": "1.5.0",
      "_model_name": "ProgressStyleModel",
      "_view_count": null,
      "_view_module": "@jupyter-widgets/base",
      "_view_module_version": "1.2.0",
      "_view_name": "StyleView",
      "bar_color": null,
      "description_width": "initial"
     }
    },
    "9a47fcfb79e341a49524424c1be53927": {
     "model_module": "@jupyter-widgets/controls",
     "model_name": "HTMLModel",
     "state": {
      "_dom_classes": [],
      "_model_module": "@jupyter-widgets/controls",
      "_model_module_version": "1.5.0",
      "_model_name": "HTMLModel",
      "_view_count": null,
      "_view_module": "@jupyter-widgets/controls",
      "_view_module_version": "1.5.0",
      "_view_name": "HTMLView",
      "description": "",
      "description_tooltip": null,
      "layout": "IPY_MODEL_9c5b50994bb34ce08c56a8c3537c9125",
      "placeholder": "​",
      "style": "IPY_MODEL_866f9b2b87b446f58377d43042f0a1e6",
      "value": " 3484/30400 [08:25&lt;1:03:16,  7.09it/s]"
     }
    },
    "9c5b50994bb34ce08c56a8c3537c9125": {
     "model_module": "@jupyter-widgets/base",
     "model_name": "LayoutModel",
     "state": {
      "_model_module": "@jupyter-widgets/base",
      "_model_module_version": "1.2.0",
      "_model_name": "LayoutModel",
      "_view_count": null,
      "_view_module": "@jupyter-widgets/base",
      "_view_module_version": "1.2.0",
      "_view_name": "LayoutView",
      "align_content": null,
      "align_items": null,
      "align_self": null,
      "border": null,
      "bottom": null,
      "display": null,
      "flex": null,
      "flex_flow": null,
      "grid_area": null,
      "grid_auto_columns": null,
      "grid_auto_flow": null,
      "grid_auto_rows": null,
      "grid_column": null,
      "grid_gap": null,
      "grid_row": null,
      "grid_template_areas": null,
      "grid_template_columns": null,
      "grid_template_rows": null,
      "height": null,
      "justify_content": null,
      "justify_items": null,
      "left": null,
      "margin": null,
      "max_height": null,
      "max_width": null,
      "min_height": null,
      "min_width": null,
      "object_fit": null,
      "object_position": null,
      "order": null,
      "overflow": null,
      "overflow_x": null,
      "overflow_y": null,
      "padding": null,
      "right": null,
      "top": null,
      "visibility": null,
      "width": null
     }
    }
   }
  }
 },
 "nbformat": 4,
 "nbformat_minor": 1
}
