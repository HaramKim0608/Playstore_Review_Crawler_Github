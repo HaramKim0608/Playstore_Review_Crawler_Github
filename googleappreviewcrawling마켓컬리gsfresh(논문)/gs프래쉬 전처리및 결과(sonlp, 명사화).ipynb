{
 "cells": [
  {
   "cell_type": "code",
   "execution_count": 256,
   "metadata": {},
   "outputs": [
    {
     "name": "stderr",
     "output_type": "stream",
     "text": [
      "D:\\programfiles\\anaconda3\\envs\\pythonopencv\\lib\\site-packages\\konlpy\\tag\\_okt.py:16: UserWarning: \"Twitter\" has changed to \"Okt\" since KoNLPy v0.4.5.\n",
      "  warn('\"Twitter\" has changed to \"Okt\" since KoNLPy v0.4.5.')\n"
     ]
    }
   ],
   "source": [
    "from datetime import datetime\n",
    "import pandas as pd\n",
    "import matplotlib.pyplot as plt\n",
    "%matplotlib inline\n",
    "from konlpy.tag import Twitter\n",
    "twt = Twitter()\n",
    "from hanspell import spell_checker\n",
    "import re\n",
    "from konlpy.tag import Okt\n",
    "from collections import Counter\n",
    "from sklearn.feature_extraction.text import CountVectorizer\n",
    "from konlpy.tag import Kkma\n",
    "from sklearn.linear_model import Lasso\n",
    "from sklearn.feature_extraction.text import TfidfTransformer\n",
    "from sklearn.model_selection import train_test_split\n",
    "from sklearn.linear_model import LogisticRegression\n",
    "from sklearn.metrics import accuracy_score, precision_score, recall_score, f1_score\n",
    "from sklearn.metrics import confusion_matrix\n",
    "import numpy as np\n",
    "import seaborn as sns\n",
    "import tensorflow as tf\n",
    "import os\n",
    "from tqdm.notebook import tqdm\n",
    "#import graphviz\n",
    "from sklearn.preprocessing import LabelEncoder\n",
    "from sklearn.tree import DecisionTreeClassifier\n",
    "from sklearn.metrics import classification_report, confusion_matrix, precision_recall_curve, auc, roc_curve\n",
    "#from sklearn.tree import DecisionTreeClassifier, export_graphviz\n",
    "from sklearn.metrics import mean_absolute_error, mean_squared_error\n",
    "from sklearn.model_selection import cross_val_score"
   ]
  },
  {
   "cell_type": "code",
   "execution_count": 257,
   "metadata": {
    "scrolled": false
   },
   "outputs": [
    {
     "data": {
      "text/html": [
       "<div>\n",
       "<style scoped>\n",
       "    .dataframe tbody tr th:only-of-type {\n",
       "        vertical-align: middle;\n",
       "    }\n",
       "\n",
       "    .dataframe tbody tr th {\n",
       "        vertical-align: top;\n",
       "    }\n",
       "\n",
       "    .dataframe thead th {\n",
       "        text-align: right;\n",
       "    }\n",
       "</style>\n",
       "<table border=\"1\" class=\"dataframe\">\n",
       "  <thead>\n",
       "    <tr style=\"text-align: right;\">\n",
       "      <th></th>\n",
       "      <th>name</th>\n",
       "      <th>ratings</th>\n",
       "      <th>date</th>\n",
       "      <th>helpful</th>\n",
       "      <th>comment</th>\n",
       "      <th>developer_comment</th>\n",
       "    </tr>\n",
       "  </thead>\n",
       "  <tbody>\n",
       "    <tr>\n",
       "      <th>0</th>\n",
       "      <td>박소영</td>\n",
       "      <td>5</td>\n",
       "      <td>2021-03-10</td>\n",
       "      <td>0</td>\n",
       "      <td>설치하고 오늘 처음 물건 구매해봤는데 앱 사용 시 크게 불편한 점은 없었으나 품목이...</td>\n",
       "      <td>NaN</td>\n",
       "    </tr>\n",
       "    <tr>\n",
       "      <th>1</th>\n",
       "      <td>싫어함걷는것을</td>\n",
       "      <td>1</td>\n",
       "      <td>2021-03-10</td>\n",
       "      <td>0</td>\n",
       "      <td>장바구니에 상품을 담았는데 장바구니에서 보이지가 않음. 결국 구매 포기.</td>\n",
       "      <td>NaN</td>\n",
       "    </tr>\n",
       "    <tr>\n",
       "      <th>2</th>\n",
       "      <td>권혁윤</td>\n",
       "      <td>5</td>\n",
       "      <td>2021-03-10</td>\n",
       "      <td>0</td>\n",
       "      <td>사용힌기 편리하고 각종 할인이 잘 돼어 있어 좋아요</td>\n",
       "      <td>NaN</td>\n",
       "    </tr>\n",
       "    <tr>\n",
       "      <th>3</th>\n",
       "      <td>서승희</td>\n",
       "      <td>5</td>\n",
       "      <td>2021-03-10</td>\n",
       "      <td>0</td>\n",
       "      <td>쿠폰에 빠른배송 GS FRESH 언제까지나 함께합니다.</td>\n",
       "      <td>NaN</td>\n",
       "    </tr>\n",
       "    <tr>\n",
       "      <th>4</th>\n",
       "      <td>HH Ch</td>\n",
       "      <td>5</td>\n",
       "      <td>2021-03-10</td>\n",
       "      <td>0</td>\n",
       "      <td>잘 쓰고 있어요~신선한 상품이 많아서 좋아요 ㅎㅎ</td>\n",
       "      <td>NaN</td>\n",
       "    </tr>\n",
       "  </tbody>\n",
       "</table>\n",
       "</div>"
      ],
      "text/plain": [
       "      name  ratings        date  helpful  \\\n",
       "0      박소영        5  2021-03-10        0   \n",
       "1  싫어함걷는것을        1  2021-03-10        0   \n",
       "2      권혁윤        5  2021-03-10        0   \n",
       "3      서승희        5  2021-03-10        0   \n",
       "4    HH Ch        5  2021-03-10        0   \n",
       "\n",
       "                                             comment developer_comment  \n",
       "0  설치하고 오늘 처음 물건 구매해봤는데 앱 사용 시 크게 불편한 점은 없었으나 품목이...               NaN  \n",
       "1           장바구니에 상품을 담았는데 장바구니에서 보이지가 않음. 결국 구매 포기.               NaN  \n",
       "2                       사용힌기 편리하고 각종 할인이 잘 돼어 있어 좋아요               NaN  \n",
       "3                     쿠폰에 빠른배송 GS FRESH 언제까지나 함께합니다.               NaN  \n",
       "4                        잘 쓰고 있어요~신선한 상품이 많아서 좋아요 ㅎㅎ               NaN  "
      ]
     },
     "execution_count": 257,
     "metadata": {},
     "output_type": "execute_result"
    }
   ],
   "source": [
    "df = pd.read_csv('./result/2021-03-10_21-24-03GS플래쉬.csv')\n",
    "df.head()"
   ]
  },
  {
   "cell_type": "code",
   "execution_count": 258,
   "metadata": {},
   "outputs": [
    {
     "data": {
      "text/html": [
       "<div>\n",
       "<style scoped>\n",
       "    .dataframe tbody tr th:only-of-type {\n",
       "        vertical-align: middle;\n",
       "    }\n",
       "\n",
       "    .dataframe tbody tr th {\n",
       "        vertical-align: top;\n",
       "    }\n",
       "\n",
       "    .dataframe thead th {\n",
       "        text-align: right;\n",
       "    }\n",
       "</style>\n",
       "<table border=\"1\" class=\"dataframe\">\n",
       "  <thead>\n",
       "    <tr style=\"text-align: right;\">\n",
       "      <th></th>\n",
       "      <th>ratings</th>\n",
       "      <th>helpful</th>\n",
       "    </tr>\n",
       "  </thead>\n",
       "  <tbody>\n",
       "    <tr>\n",
       "      <th>count</th>\n",
       "      <td>9779.000000</td>\n",
       "      <td>9779.000000</td>\n",
       "    </tr>\n",
       "    <tr>\n",
       "      <th>mean</th>\n",
       "      <td>4.253298</td>\n",
       "      <td>0.615707</td>\n",
       "    </tr>\n",
       "    <tr>\n",
       "      <th>std</th>\n",
       "      <td>1.400829</td>\n",
       "      <td>3.247382</td>\n",
       "    </tr>\n",
       "    <tr>\n",
       "      <th>min</th>\n",
       "      <td>1.000000</td>\n",
       "      <td>0.000000</td>\n",
       "    </tr>\n",
       "    <tr>\n",
       "      <th>25%</th>\n",
       "      <td>4.000000</td>\n",
       "      <td>0.000000</td>\n",
       "    </tr>\n",
       "    <tr>\n",
       "      <th>50%</th>\n",
       "      <td>5.000000</td>\n",
       "      <td>0.000000</td>\n",
       "    </tr>\n",
       "    <tr>\n",
       "      <th>75%</th>\n",
       "      <td>5.000000</td>\n",
       "      <td>0.000000</td>\n",
       "    </tr>\n",
       "    <tr>\n",
       "      <th>max</th>\n",
       "      <td>5.000000</td>\n",
       "      <td>148.000000</td>\n",
       "    </tr>\n",
       "  </tbody>\n",
       "</table>\n",
       "</div>"
      ],
      "text/plain": [
       "           ratings      helpful\n",
       "count  9779.000000  9779.000000\n",
       "mean      4.253298     0.615707\n",
       "std       1.400829     3.247382\n",
       "min       1.000000     0.000000\n",
       "25%       4.000000     0.000000\n",
       "50%       5.000000     0.000000\n",
       "75%       5.000000     0.000000\n",
       "max       5.000000   148.000000"
      ]
     },
     "execution_count": 258,
     "metadata": {},
     "output_type": "execute_result"
    }
   ],
   "source": [
    "df.describe()"
   ]
  },
  {
   "cell_type": "code",
   "execution_count": 259,
   "metadata": {},
   "outputs": [],
   "source": [
    "df = df[['date', 'comment', 'ratings']]"
   ]
  },
  {
   "cell_type": "code",
   "execution_count": 260,
   "metadata": {
    "scrolled": true
   },
   "outputs": [
    {
     "name": "stdout",
     "output_type": "stream",
     "text": [
      "<class 'pandas.core.frame.DataFrame'>\n",
      "Int64Index: 9747 entries, 0 to 9778\n",
      "Data columns (total 3 columns):\n",
      " #   Column   Non-Null Count  Dtype \n",
      "---  ------   --------------  ----- \n",
      " 0   date     9747 non-null   object\n",
      " 1   comment  9747 non-null   object\n",
      " 2   ratings  9747 non-null   int64 \n",
      "dtypes: int64(1), object(2)\n",
      "memory usage: 304.6+ KB\n"
     ]
    }
   ],
   "source": [
    "df = df.dropna(axis = 0, how = 'any')\n",
    "df.info()"
   ]
  },
  {
   "cell_type": "code",
   "execution_count": 261,
   "metadata": {
    "scrolled": true
   },
   "outputs": [
    {
     "name": "stdout",
     "output_type": "stream",
     "text": [
      "all tags length = 694236 --> 57795, (num_doc = 15602)"
     ]
    },
    {
     "data": {
      "text/html": [
       "<div>\n",
       "<style scoped>\n",
       "    .dataframe tbody tr th:only-of-type {\n",
       "        vertical-align: middle;\n",
       "    }\n",
       "\n",
       "    .dataframe tbody tr th {\n",
       "        vertical-align: top;\n",
       "    }\n",
       "\n",
       "    .dataframe thead th {\n",
       "        text-align: right;\n",
       "    }\n",
       "</style>\n",
       "<table border=\"1\" class=\"dataframe\">\n",
       "  <thead>\n",
       "    <tr style=\"text-align: right;\">\n",
       "      <th></th>\n",
       "      <th>date</th>\n",
       "      <th>comment</th>\n",
       "      <th>ratings</th>\n",
       "    </tr>\n",
       "  </thead>\n",
       "  <tbody>\n",
       "    <tr>\n",
       "      <th>0</th>\n",
       "      <td>2021-03-10</td>\n",
       "      <td>설치하고 오늘 처음 물건 구매해봤는데 앱 사용 시 크게 불편한 점은 없었으나 품목이...</td>\n",
       "      <td>5</td>\n",
       "    </tr>\n",
       "    <tr>\n",
       "      <th>1</th>\n",
       "      <td>2021-03-10</td>\n",
       "      <td>장바구니에 상품을 담았는데 장바구니에서 보이지가 않음. 결국 구매 포기.</td>\n",
       "      <td>1</td>\n",
       "    </tr>\n",
       "    <tr>\n",
       "      <th>2</th>\n",
       "      <td>2021-03-10</td>\n",
       "      <td>사용힌기 편리하고 각종 할인이 잘 돼어 있어 좋아요</td>\n",
       "      <td>5</td>\n",
       "    </tr>\n",
       "    <tr>\n",
       "      <th>3</th>\n",
       "      <td>2021-03-10</td>\n",
       "      <td>쿠폰에 빠른배송 GS FRESH 언제까지나 함께합니다.</td>\n",
       "      <td>5</td>\n",
       "    </tr>\n",
       "    <tr>\n",
       "      <th>4</th>\n",
       "      <td>2021-03-10</td>\n",
       "      <td>잘 쓰고 있어요~신선한 상품이 많아서 좋아요 ㅎㅎ</td>\n",
       "      <td>5</td>\n",
       "    </tr>\n",
       "  </tbody>\n",
       "</table>\n",
       "</div>"
      ],
      "text/plain": [
       "         date                                            comment  ratings\n",
       "0  2021-03-10  설치하고 오늘 처음 물건 구매해봤는데 앱 사용 시 크게 불편한 점은 없었으나 품목이...        5\n",
       "1  2021-03-10           장바구니에 상품을 담았는데 장바구니에서 보이지가 않음. 결국 구매 포기.        1\n",
       "2  2021-03-10                       사용힌기 편리하고 각종 할인이 잘 돼어 있어 좋아요        5\n",
       "3  2021-03-10                     쿠폰에 빠른배송 GS FRESH 언제까지나 함께합니다.        5\n",
       "4  2021-03-10                        잘 쓰고 있어요~신선한 상품이 많아서 좋아요 ㅎㅎ        5"
      ]
     },
     "execution_count": 261,
     "metadata": {},
     "output_type": "execute_result"
    }
   ],
   "source": [
    "from soyspacing.countbase import CountSpace\n",
    "def 띄어쓰기(text):\n",
    "    verbose=False\n",
    "    mc = 10  # min_count\n",
    "    ft = 0.3 # force_abs_threshold\n",
    "    nt =-0.3 # nonspace_threshold\n",
    "    st = 0.3 # space_threshold\n",
    "\n",
    "\n",
    "    sent_corrected, tags = model.correct(\n",
    "    doc=text,\n",
    "    verbose=verbose,\n",
    "    force_abs_threshold=ft,\n",
    "    nonspace_threshold=nt,\n",
    "    space_threshold=st,\n",
    "    min_count=mc)\n",
    "    sent_corrected, tags = model.correct(text)\n",
    "    result = sent_corrected\n",
    "    return result\n",
    "corpus_fname = './result/134963_norm.txt'\n",
    "model = CountSpace()\n",
    "model.train(corpus_fname)    \n",
    "\n",
    "df['comment'] = df['comment'].apply(lambda x: 띄어쓰기(x))\n",
    "df.head()\n",
    "    \n",
    "    "
   ]
  },
  {
   "cell_type": "code",
   "execution_count": 262,
   "metadata": {},
   "outputs": [
    {
     "data": {
      "application/vnd.jupyter.widget-view+json": {
       "model_id": "852952b436154aa594c0561284c9a47b",
       "version_major": 2,
       "version_minor": 0
      },
      "text/plain": [
       "HBox(children=(FloatProgress(value=0.0, max=9747.0), HTML(value='')))"
      ]
     },
     "metadata": {},
     "output_type": "display_data"
    },
    {
     "name": "stderr",
     "output_type": "stream",
     "text": [
      "D:\\programfiles\\anaconda3\\envs\\pythonopencv\\lib\\site-packages\\ipykernel_launcher.py:6: SettingWithCopyWarning: \n",
      "A value is trying to be set on a copy of a slice from a DataFrame\n",
      "\n",
      "See the caveats in the documentation: https://pandas.pydata.org/pandas-docs/stable/user_guide/indexing.html#returning-a-view-versus-a-copy\n",
      "  \n"
     ]
    },
    {
     "name": "stdout",
     "output_type": "stream",
     "text": [
      "\n"
     ]
    }
   ],
   "source": [
    "#맞춤법 검사기\n",
    "for i in tqdm(range(len(df))): \n",
    "    try: \n",
    "        result = spell_checker.check(df['comment'][i])\n",
    "        a= result[1]\n",
    "        df['comment'][i] = a\n",
    "    except: \n",
    "        pass\n",
    "\n"
   ]
  },
  {
   "cell_type": "code",
   "execution_count": 263,
   "metadata": {},
   "outputs": [
    {
     "data": {
      "text/html": [
       "<div>\n",
       "<style scoped>\n",
       "    .dataframe tbody tr th:only-of-type {\n",
       "        vertical-align: middle;\n",
       "    }\n",
       "\n",
       "    .dataframe tbody tr th {\n",
       "        vertical-align: top;\n",
       "    }\n",
       "\n",
       "    .dataframe thead th {\n",
       "        text-align: right;\n",
       "    }\n",
       "</style>\n",
       "<table border=\"1\" class=\"dataframe\">\n",
       "  <thead>\n",
       "    <tr style=\"text-align: right;\">\n",
       "      <th></th>\n",
       "      <th>date</th>\n",
       "      <th>comment</th>\n",
       "      <th>ratings</th>\n",
       "      <th>ko_text</th>\n",
       "    </tr>\n",
       "  </thead>\n",
       "  <tbody>\n",
       "    <tr>\n",
       "      <th>0</th>\n",
       "      <td>2021-03-10</td>\n",
       "      <td>설치하고 오늘 처음 물건 구매해봤는데 앱 사용 시 크게 불편한 점은 없었으나 품목이...</td>\n",
       "      <td>5</td>\n",
       "      <td>설치하고 오늘 처음 물건 구매해봤는데 앱 사용 시 크게 불편한 점은 없었으나 품목이...</td>\n",
       "    </tr>\n",
       "    <tr>\n",
       "      <th>1</th>\n",
       "      <td>2021-03-10</td>\n",
       "      <td>장바구니에 상품을 담았는데 장바구니에서 보이지가 않음. 결국 구매 포기.</td>\n",
       "      <td>1</td>\n",
       "      <td>장바구니에 상품을 담았는데 장바구니에서 보이지가 않음 결국 구매 포기</td>\n",
       "    </tr>\n",
       "    <tr>\n",
       "      <th>2</th>\n",
       "      <td>2021-03-10</td>\n",
       "      <td>사용힌기 편리하고 각종 할인이 잘 돼어 있어 좋아요</td>\n",
       "      <td>5</td>\n",
       "      <td>사용힌기 편리하고 각종 할인이 잘 돼어 있어 좋아요</td>\n",
       "    </tr>\n",
       "    <tr>\n",
       "      <th>3</th>\n",
       "      <td>2021-03-10</td>\n",
       "      <td>쿠폰에 빠른배송 GS FRESH 언제까지나 함께합니다.</td>\n",
       "      <td>5</td>\n",
       "      <td>쿠폰에 빠른배송   언제까지나 함께합니다</td>\n",
       "    </tr>\n",
       "    <tr>\n",
       "      <th>4</th>\n",
       "      <td>2021-03-10</td>\n",
       "      <td>잘 쓰고 있어요~신선한 상품이 많아서 좋아요 ㅎㅎ</td>\n",
       "      <td>5</td>\n",
       "      <td>잘 쓰고 있어요신선한 상품이 많아서 좋아요 ㅎㅎ</td>\n",
       "    </tr>\n",
       "  </tbody>\n",
       "</table>\n",
       "</div>"
      ],
      "text/plain": [
       "         date                                            comment  ratings  \\\n",
       "0  2021-03-10  설치하고 오늘 처음 물건 구매해봤는데 앱 사용 시 크게 불편한 점은 없었으나 품목이...        5   \n",
       "1  2021-03-10           장바구니에 상품을 담았는데 장바구니에서 보이지가 않음. 결국 구매 포기.        1   \n",
       "2  2021-03-10                       사용힌기 편리하고 각종 할인이 잘 돼어 있어 좋아요        5   \n",
       "3  2021-03-10                     쿠폰에 빠른배송 GS FRESH 언제까지나 함께합니다.        5   \n",
       "4  2021-03-10                        잘 쓰고 있어요~신선한 상품이 많아서 좋아요 ㅎㅎ        5   \n",
       "\n",
       "                                             ko_text  \n",
       "0  설치하고 오늘 처음 물건 구매해봤는데 앱 사용 시 크게 불편한 점은 없었으나 품목이...  \n",
       "1             장바구니에 상품을 담았는데 장바구니에서 보이지가 않음 결국 구매 포기  \n",
       "2                       사용힌기 편리하고 각종 할인이 잘 돼어 있어 좋아요  \n",
       "3                             쿠폰에 빠른배송   언제까지나 함께합니다  \n",
       "4                         잘 쓰고 있어요신선한 상품이 많아서 좋아요 ㅎㅎ  "
      ]
     },
     "execution_count": 263,
     "metadata": {},
     "output_type": "execute_result"
    }
   ],
   "source": [
    "def text_cleaning(text):\n",
    "    hangul = re.compile('[|ㄱ-ㅎ|ㅏ-ㅣ]+') \n",
    "    result = hangul.sub('', text)\n",
    "    hangul = re.compile('[^ ㄱ-ㅣ가-힣]+') \n",
    "    result = hangul.sub('', text)\n",
    "    return result\n",
    "df['ko_text'] = df['comment'].apply(lambda x: text_cleaning(x))\n",
    "df.head()"
   ]
  },
  {
   "cell_type": "code",
   "execution_count": 264,
   "metadata": {},
   "outputs": [
    {
     "name": "stdout",
     "output_type": "stream",
     "text": [
      "training was done. used memory 1.821 Gbry 1.819 Gb\n",
      "all cohesion probabilities was computed. # words = 355\n",
      "all branching entropies was computed # words = 11886\n",
      "all accessor variety was computed # words = 11886\n"
     ]
    }
   ],
   "source": [
    "from soynlp.word import WordExtractor\n",
    "from soynlp.utils import DoublespaceLineCorpus\n",
    "from soynlp.tokenizer import LTokenizer\n",
    "word_extractor = WordExtractor(min_frequency=100,\n",
    "   min_cohesion_forward=0.05,\n",
    "   min_right_branching_entropy=0.0\n",
    ")\n",
    "word_extractor.train(df['ko_text'].values)\n",
    "words = word_extractor.extract()\n",
    "words\n",
    "\n",
    "cohesion_score = {word:score.cohesion_forward for word, score in words.items()}\n",
    "tokenizer = LTokenizer(scores=cohesion_score)\n"
   ]
  },
  {
   "cell_type": "code",
   "execution_count": 265,
   "metadata": {
    "scrolled": false
   },
   "outputs": [
    {
     "data": {
      "text/html": [
       "<div>\n",
       "<style scoped>\n",
       "    .dataframe tbody tr th:only-of-type {\n",
       "        vertical-align: middle;\n",
       "    }\n",
       "\n",
       "    .dataframe tbody tr th {\n",
       "        vertical-align: top;\n",
       "    }\n",
       "\n",
       "    .dataframe thead th {\n",
       "        text-align: right;\n",
       "    }\n",
       "</style>\n",
       "<table border=\"1\" class=\"dataframe\">\n",
       "  <thead>\n",
       "    <tr style=\"text-align: right;\">\n",
       "      <th></th>\n",
       "      <th>date</th>\n",
       "      <th>comment</th>\n",
       "      <th>ratings</th>\n",
       "      <th>ko_text</th>\n",
       "      <th>nouns</th>\n",
       "    </tr>\n",
       "  </thead>\n",
       "  <tbody>\n",
       "    <tr>\n",
       "      <th>0</th>\n",
       "      <td>2021-03-10</td>\n",
       "      <td>설치하고 오늘 처음 물건 구매해봤는데 앱 사용 시 크게 불편한 점은 없었으나 품목이...</td>\n",
       "      <td>5</td>\n",
       "      <td>설치하고 오늘 처음 물건 구매해봤는데 앱 사용 시 크게 불편한 점은 없었으나 품목이...</td>\n",
       "      <td>[설치, 오늘, 처음, 물건, 구매, 앱, 사용, 시, 크게, 불편, 점은, 없었으...</td>\n",
       "    </tr>\n",
       "    <tr>\n",
       "      <th>1</th>\n",
       "      <td>2021-03-10</td>\n",
       "      <td>장바구니에 상품을 담았는데 장바구니에서 보이지가 않음. 결국 구매 포기.</td>\n",
       "      <td>1</td>\n",
       "      <td>장바구니에 상품을 담았는데 장바구니에서 보이지가 않음 결국 구매 포기</td>\n",
       "      <td>[장바구니, 상품, 담았는데, 장바구니, 보이지가, 않음, 결국, 구매, 포기]</td>\n",
       "    </tr>\n",
       "    <tr>\n",
       "      <th>2</th>\n",
       "      <td>2021-03-10</td>\n",
       "      <td>사용힌기 편리하고 각종 할인이 잘 돼어 있어 좋아요</td>\n",
       "      <td>5</td>\n",
       "      <td>사용힌기 편리하고 각종 할인이 잘 돼어 있어 좋아요</td>\n",
       "      <td>[사용, 편리하고, 각종, 할인, 잘, 돼어, 있어, 좋아요]</td>\n",
       "    </tr>\n",
       "    <tr>\n",
       "      <th>3</th>\n",
       "      <td>2021-03-10</td>\n",
       "      <td>쿠폰에 빠른배송 GS FRESH 언제까지나 함께합니다.</td>\n",
       "      <td>5</td>\n",
       "      <td>쿠폰에 빠른배송   언제까지나 함께합니다</td>\n",
       "      <td>[쿠폰, 빠른, 언제까지나, 함께합니다]</td>\n",
       "    </tr>\n",
       "    <tr>\n",
       "      <th>4</th>\n",
       "      <td>2021-03-10</td>\n",
       "      <td>잘 쓰고 있어요~신선한 상품이 많아서 좋아요 ㅎㅎ</td>\n",
       "      <td>5</td>\n",
       "      <td>잘 쓰고 있어요신선한 상품이 많아서 좋아요 ㅎㅎ</td>\n",
       "      <td>[잘, 쓰고, 있어, 상품, 많아서, 좋아요, ㅎㅎ]</td>\n",
       "    </tr>\n",
       "    <tr>\n",
       "      <th>...</th>\n",
       "      <td>...</td>\n",
       "      <td>...</td>\n",
       "      <td>...</td>\n",
       "      <td>...</td>\n",
       "      <td>...</td>\n",
       "    </tr>\n",
       "    <tr>\n",
       "      <th>9772</th>\n",
       "      <td>2014-02-19</td>\n",
       "      <td>가동하려면 뭔가 알수 없는 메시지를 내며 죽어버림.. 테스트도 제대로 안하고 올린듯</td>\n",
       "      <td>1</td>\n",
       "      <td>가동하려면 뭔가 알수 없는 메시지를 내며 죽어버림 테스트도 제대로 안하고 올린듯</td>\n",
       "      <td>[가동하려면, 뭔가, 알수, 없는, 메시지를, 내며, 죽어버림, 테스트도, 제대로,...</td>\n",
       "    </tr>\n",
       "    <tr>\n",
       "      <th>9774</th>\n",
       "      <td>2014-02-19</td>\n",
       "      <td>쇼핑몰앱 중 훌륭한 편입니다.</td>\n",
       "      <td>5</td>\n",
       "      <td>쇼핑몰앱 중 훌륭한 편입니다</td>\n",
       "      <td>[쇼핑, 중, 훌륭한, 편입니다]</td>\n",
       "    </tr>\n",
       "    <tr>\n",
       "      <th>9775</th>\n",
       "      <td>2014-02-19</td>\n",
       "      <td>너무 좋네요!!!! 정말저렴하네!!</td>\n",
       "      <td>5</td>\n",
       "      <td>너무 좋네요 정말저렴하네</td>\n",
       "      <td>[너무, 좋네요, 정말]</td>\n",
       "    </tr>\n",
       "    <tr>\n",
       "      <th>9776</th>\n",
       "      <td>2014-02-19</td>\n",
       "      <td>쿠폰도 많이 주는 것 같고 수퍼마켓에서도 편하게 쇼핑할수 있을것같네요 앞으로 많은 ...</td>\n",
       "      <td>5</td>\n",
       "      <td>쿠폰도 많이 주는 것 같고 수퍼마켓에서도 편하게 쇼핑할수 있을것같네요 앞으로 많은 ...</td>\n",
       "      <td>[쿠폰, 많이, 주는, 것, 같고, 수퍼마켓에서도, 편하게, 쇼핑, 있을것같네요, ...</td>\n",
       "    </tr>\n",
       "    <tr>\n",
       "      <th>9778</th>\n",
       "      <td>2014-02-19</td>\n",
       "      <td>드디어 GS아이수퍼 앱이 출시되었군요.편리하네요~^^</td>\n",
       "      <td>5</td>\n",
       "      <td>드디어 아이수퍼 앱이 출시되었군요편리하네요</td>\n",
       "      <td>[드디어, 아이, 앱이, 출시되었군요편리하네요]</td>\n",
       "    </tr>\n",
       "  </tbody>\n",
       "</table>\n",
       "<p>9747 rows × 5 columns</p>\n",
       "</div>"
      ],
      "text/plain": [
       "            date                                            comment  ratings  \\\n",
       "0     2021-03-10  설치하고 오늘 처음 물건 구매해봤는데 앱 사용 시 크게 불편한 점은 없었으나 품목이...        5   \n",
       "1     2021-03-10           장바구니에 상품을 담았는데 장바구니에서 보이지가 않음. 결국 구매 포기.        1   \n",
       "2     2021-03-10                       사용힌기 편리하고 각종 할인이 잘 돼어 있어 좋아요        5   \n",
       "3     2021-03-10                     쿠폰에 빠른배송 GS FRESH 언제까지나 함께합니다.        5   \n",
       "4     2021-03-10                        잘 쓰고 있어요~신선한 상품이 많아서 좋아요 ㅎㅎ        5   \n",
       "...          ...                                                ...      ...   \n",
       "9772  2014-02-19     가동하려면 뭔가 알수 없는 메시지를 내며 죽어버림.. 테스트도 제대로 안하고 올린듯        1   \n",
       "9774  2014-02-19                                   쇼핑몰앱 중 훌륭한 편입니다.        5   \n",
       "9775  2014-02-19                                너무 좋네요!!!! 정말저렴하네!!        5   \n",
       "9776  2014-02-19  쿠폰도 많이 주는 것 같고 수퍼마켓에서도 편하게 쇼핑할수 있을것같네요 앞으로 많은 ...        5   \n",
       "9778  2014-02-19                      드디어 GS아이수퍼 앱이 출시되었군요.편리하네요~^^        5   \n",
       "\n",
       "                                                ko_text  \\\n",
       "0     설치하고 오늘 처음 물건 구매해봤는데 앱 사용 시 크게 불편한 점은 없었으나 품목이...   \n",
       "1                장바구니에 상품을 담았는데 장바구니에서 보이지가 않음 결국 구매 포기   \n",
       "2                          사용힌기 편리하고 각종 할인이 잘 돼어 있어 좋아요   \n",
       "3                                쿠폰에 빠른배송   언제까지나 함께합니다   \n",
       "4                            잘 쓰고 있어요신선한 상품이 많아서 좋아요 ㅎㅎ   \n",
       "...                                                 ...   \n",
       "9772       가동하려면 뭔가 알수 없는 메시지를 내며 죽어버림 테스트도 제대로 안하고 올린듯   \n",
       "9774                                    쇼핑몰앱 중 훌륭한 편입니다   \n",
       "9775                                      너무 좋네요 정말저렴하네   \n",
       "9776  쿠폰도 많이 주는 것 같고 수퍼마켓에서도 편하게 쇼핑할수 있을것같네요 앞으로 많은 ...   \n",
       "9778                            드디어 아이수퍼 앱이 출시되었군요편리하네요   \n",
       "\n",
       "                                                  nouns  \n",
       "0     [설치, 오늘, 처음, 물건, 구매, 앱, 사용, 시, 크게, 불편, 점은, 없었으...  \n",
       "1          [장바구니, 상품, 담았는데, 장바구니, 보이지가, 않음, 결국, 구매, 포기]  \n",
       "2                    [사용, 편리하고, 각종, 할인, 잘, 돼어, 있어, 좋아요]  \n",
       "3                                [쿠폰, 빠른, 언제까지나, 함께합니다]  \n",
       "4                         [잘, 쓰고, 있어, 상품, 많아서, 좋아요, ㅎㅎ]  \n",
       "...                                                 ...  \n",
       "9772  [가동하려면, 뭔가, 알수, 없는, 메시지를, 내며, 죽어버림, 테스트도, 제대로,...  \n",
       "9774                                 [쇼핑, 중, 훌륭한, 편입니다]  \n",
       "9775                                      [너무, 좋네요, 정말]  \n",
       "9776  [쿠폰, 많이, 주는, 것, 같고, 수퍼마켓에서도, 편하게, 쇼핑, 있을것같네요, ...  \n",
       "9778                         [드디어, 아이, 앱이, 출시되었군요편리하네요]  \n",
       "\n",
       "[9747 rows x 5 columns]"
      ]
     },
     "execution_count": 265,
     "metadata": {},
     "output_type": "execute_result"
    }
   ],
   "source": [
    "df['nouns'] = df['ko_text'].apply(lambda x: tokenizer.tokenize(x, remove_r=True)) # L과 R 분리하여 R은 삭제\n",
    "df"
   ]
  },
  {
   "cell_type": "code",
   "execution_count": 266,
   "metadata": {},
   "outputs": [
    {
     "data": {
      "text/html": [
       "<div>\n",
       "<style scoped>\n",
       "    .dataframe tbody tr th:only-of-type {\n",
       "        vertical-align: middle;\n",
       "    }\n",
       "\n",
       "    .dataframe tbody tr th {\n",
       "        vertical-align: top;\n",
       "    }\n",
       "\n",
       "    .dataframe thead th {\n",
       "        text-align: right;\n",
       "    }\n",
       "</style>\n",
       "<table border=\"1\" class=\"dataframe\">\n",
       "  <thead>\n",
       "    <tr style=\"text-align: right;\">\n",
       "      <th></th>\n",
       "      <th>ratings</th>\n",
       "    </tr>\n",
       "  </thead>\n",
       "  <tbody>\n",
       "    <tr>\n",
       "      <th>count</th>\n",
       "      <td>9747.000000</td>\n",
       "    </tr>\n",
       "    <tr>\n",
       "      <th>mean</th>\n",
       "      <td>4.255668</td>\n",
       "    </tr>\n",
       "    <tr>\n",
       "      <th>std</th>\n",
       "      <td>1.398413</td>\n",
       "    </tr>\n",
       "    <tr>\n",
       "      <th>min</th>\n",
       "      <td>1.000000</td>\n",
       "    </tr>\n",
       "    <tr>\n",
       "      <th>25%</th>\n",
       "      <td>4.000000</td>\n",
       "    </tr>\n",
       "    <tr>\n",
       "      <th>50%</th>\n",
       "      <td>5.000000</td>\n",
       "    </tr>\n",
       "    <tr>\n",
       "      <th>75%</th>\n",
       "      <td>5.000000</td>\n",
       "    </tr>\n",
       "    <tr>\n",
       "      <th>max</th>\n",
       "      <td>5.000000</td>\n",
       "    </tr>\n",
       "  </tbody>\n",
       "</table>\n",
       "</div>"
      ],
      "text/plain": [
       "           ratings\n",
       "count  9747.000000\n",
       "mean      4.255668\n",
       "std       1.398413\n",
       "min       1.000000\n",
       "25%       4.000000\n",
       "50%       5.000000\n",
       "75%       5.000000\n",
       "max       5.000000"
      ]
     },
     "execution_count": 266,
     "metadata": {},
     "output_type": "execute_result"
    }
   ],
   "source": [
    "df.describe()"
   ]
  },
  {
   "cell_type": "code",
   "execution_count": 267,
   "metadata": {},
   "outputs": [],
   "source": [
    "df = df.reset_index()\n",
    "del df['index']"
   ]
  },
  {
   "cell_type": "code",
   "execution_count": 1067,
   "metadata": {},
   "outputs": [],
   "source": [
    "# 한국어 약식 불용어사전 예시 파일 출처 - (https://www.ranks.nl/stopwords/korean)\n",
    "korean_stopwords_path = \"./korean_stopwords3.txt\"\n",
    "with open(korean_stopwords_path, encoding='utf8') as f:\n",
    "    stopwords = f.readlines()\n",
    "stopwords = [x.strip() for x in stopwords]\n",
    "\n",
    "def get_nouns(x):\n",
    "    nouns_tagger = tokenizer\n",
    "    nouns = nouns_tagger.tokenize(x, remove_r=True)\n",
    "    nouns_tagger2 = Kkma()\n",
    "    nouns = nouns_tagger2.nouns(x)\n",
    "    \n",
    "    # 한글자 키워드를 제거합니다.\n",
    "    nouns = [noun for noun in nouns if len(noun) > 1]\n",
    "    \n",
    "    # 불용어를 제거합니다.\n",
    "    nouns = [noun for noun in nouns if noun not in stopwords]\n",
    "    \n",
    "    return nouns"
   ]
  },
  {
   "cell_type": "code",
   "execution_count": 1068,
   "metadata": {},
   "outputs": [
    {
     "data": {
      "application/vnd.jupyter.widget-view+json": {
       "model_id": "9b4dd7548b294160a58509b4b73532a0",
       "version_major": 2,
       "version_minor": 0
      },
      "text/plain": [
       "HBox(children=(FloatProgress(value=0.0, max=6602.0), HTML(value='')))"
      ]
     },
     "metadata": {},
     "output_type": "display_data"
    },
    {
     "name": "stdout",
     "output_type": "stream",
     "text": [
      "\n",
      "(6602, 6)\n"
     ]
    },
    {
     "data": {
      "text/html": [
       "<div>\n",
       "<style scoped>\n",
       "    .dataframe tbody tr th:only-of-type {\n",
       "        vertical-align: middle;\n",
       "    }\n",
       "\n",
       "    .dataframe tbody tr th {\n",
       "        vertical-align: top;\n",
       "    }\n",
       "\n",
       "    .dataframe thead th {\n",
       "        text-align: right;\n",
       "    }\n",
       "</style>\n",
       "<table border=\"1\" class=\"dataframe\">\n",
       "  <thead>\n",
       "    <tr style=\"text-align: right;\">\n",
       "      <th></th>\n",
       "      <th>date</th>\n",
       "      <th>comment</th>\n",
       "      <th>ratings</th>\n",
       "      <th>ko_text</th>\n",
       "      <th>nouns</th>\n",
       "      <th>y</th>\n",
       "    </tr>\n",
       "  </thead>\n",
       "  <tbody>\n",
       "    <tr>\n",
       "      <th>0</th>\n",
       "      <td>2021-03-10</td>\n",
       "      <td>설치하고 오늘 처음 물건 구매해봤는데 앱 사용 시 크게 불편한 점은 없었으나 품목이...</td>\n",
       "      <td>5</td>\n",
       "      <td>설치하고 오늘 처음 물건 구매해봤는데 앱 사용 시 크게 불편한 점은 없었으나 품목이...</td>\n",
       "      <td>[불편]</td>\n",
       "      <td>1</td>\n",
       "    </tr>\n",
       "    <tr>\n",
       "      <th>1</th>\n",
       "      <td>2021-03-10</td>\n",
       "      <td>사용힌기 편리하고 각종 할인이 잘 돼어 있어 좋아요</td>\n",
       "      <td>5</td>\n",
       "      <td>사용힌기 편리하고 각종 할인이 잘 돼어 있어 좋아요</td>\n",
       "      <td>[편리, 할인]</td>\n",
       "      <td>1</td>\n",
       "    </tr>\n",
       "    <tr>\n",
       "      <th>2</th>\n",
       "      <td>2021-03-10</td>\n",
       "      <td>쿠폰에 빠른배송 GS FRESH 언제까지나 함께합니다.</td>\n",
       "      <td>5</td>\n",
       "      <td>쿠폰에 빠른배송   언제까지나 함께합니다</td>\n",
       "      <td>[쿠폰, 배송]</td>\n",
       "      <td>1</td>\n",
       "    </tr>\n",
       "    <tr>\n",
       "      <th>3</th>\n",
       "      <td>2021-03-09</td>\n",
       "      <td>상품특가있다고 해서 주문했는데 너무 좋아요</td>\n",
       "      <td>5</td>\n",
       "      <td>상품특가있다고 해서 주문했는데 너무 좋아요</td>\n",
       "      <td>[상품특가, 특가]</td>\n",
       "      <td>1</td>\n",
       "    </tr>\n",
       "    <tr>\n",
       "      <th>4</th>\n",
       "      <td>2021-03-09</td>\n",
       "      <td>행사,기획상품&amp;쿠폰과 같이 실질적으로 고객의 요구에 영향을 주는 카테고리가 잘 나눠...</td>\n",
       "      <td>5</td>\n",
       "      <td>행사기획상품쿠폰과 같이 실질적으로 고객의 요구에 영향을 주는 카테고리가 잘 나눠줘 ...</td>\n",
       "      <td>[행사기획상품쿠폰, 쿠폰, 실질적, 요구, 영향, 구매자자로, 자로, 편리]</td>\n",
       "      <td>1</td>\n",
       "    </tr>\n",
       "  </tbody>\n",
       "</table>\n",
       "</div>"
      ],
      "text/plain": [
       "         date                                            comment  ratings  \\\n",
       "0  2021-03-10  설치하고 오늘 처음 물건 구매해봤는데 앱 사용 시 크게 불편한 점은 없었으나 품목이...        5   \n",
       "1  2021-03-10                       사용힌기 편리하고 각종 할인이 잘 돼어 있어 좋아요        5   \n",
       "2  2021-03-10                     쿠폰에 빠른배송 GS FRESH 언제까지나 함께합니다.        5   \n",
       "3  2021-03-09                            상품특가있다고 해서 주문했는데 너무 좋아요        5   \n",
       "4  2021-03-09  행사,기획상품&쿠폰과 같이 실질적으로 고객의 요구에 영향을 주는 카테고리가 잘 나눠...        5   \n",
       "\n",
       "                                             ko_text  \\\n",
       "0  설치하고 오늘 처음 물건 구매해봤는데 앱 사용 시 크게 불편한 점은 없었으나 품목이...   \n",
       "1                       사용힌기 편리하고 각종 할인이 잘 돼어 있어 좋아요   \n",
       "2                             쿠폰에 빠른배송   언제까지나 함께합니다   \n",
       "3                            상품특가있다고 해서 주문했는데 너무 좋아요   \n",
       "4  행사기획상품쿠폰과 같이 실질적으로 고객의 요구에 영향을 주는 카테고리가 잘 나눠줘 ...   \n",
       "\n",
       "                                        nouns  y  \n",
       "0                                        [불편]  1  \n",
       "1                                    [편리, 할인]  1  \n",
       "2                                    [쿠폰, 배송]  1  \n",
       "3                                  [상품특가, 특가]  1  \n",
       "4  [행사기획상품쿠폰, 쿠폰, 실질적, 요구, 영향, 구매자자로, 자로, 편리]  1  "
      ]
     },
     "execution_count": 1068,
     "metadata": {},
     "output_type": "execute_result"
    }
   ],
   "source": [
    "df['nouns'] = df['ko_text'].apply(lambda x: get_nouns(x))\n",
    "for i in tqdm(range(len(df))):\n",
    "    if not df['nouns'][i]:\n",
    "        df.drop([i],inplace=True)\n",
    "        \n",
    "df.reset_index(inplace=True)\n",
    "del df['index']\n",
    "print(df.shape)\n",
    "df.head()"
   ]
  },
  {
   "cell_type": "code",
   "execution_count": 1069,
   "metadata": {
    "scrolled": false
   },
   "outputs": [
    {
     "data": {
      "text/html": [
       "<div>\n",
       "<style scoped>\n",
       "    .dataframe tbody tr th:only-of-type {\n",
       "        vertical-align: middle;\n",
       "    }\n",
       "\n",
       "    .dataframe tbody tr th {\n",
       "        vertical-align: top;\n",
       "    }\n",
       "\n",
       "    .dataframe thead th {\n",
       "        text-align: right;\n",
       "    }\n",
       "</style>\n",
       "<table border=\"1\" class=\"dataframe\">\n",
       "  <thead>\n",
       "    <tr style=\"text-align: right;\">\n",
       "      <th></th>\n",
       "      <th>words</th>\n",
       "      <th>satisfaction</th>\n",
       "      <th>count</th>\n",
       "    </tr>\n",
       "  </thead>\n",
       "  <tbody>\n",
       "    <tr>\n",
       "      <th>0</th>\n",
       "      <td>불편</td>\n",
       "      <td>5</td>\n",
       "      <td>1</td>\n",
       "    </tr>\n",
       "    <tr>\n",
       "      <th>1</th>\n",
       "      <td>편리</td>\n",
       "      <td>5</td>\n",
       "      <td>1</td>\n",
       "    </tr>\n",
       "    <tr>\n",
       "      <th>2</th>\n",
       "      <td>할인</td>\n",
       "      <td>5</td>\n",
       "      <td>1</td>\n",
       "    </tr>\n",
       "    <tr>\n",
       "      <th>3</th>\n",
       "      <td>쿠폰</td>\n",
       "      <td>5</td>\n",
       "      <td>1</td>\n",
       "    </tr>\n",
       "    <tr>\n",
       "      <th>4</th>\n",
       "      <td>배송</td>\n",
       "      <td>5</td>\n",
       "      <td>1</td>\n",
       "    </tr>\n",
       "  </tbody>\n",
       "</table>\n",
       "</div>"
      ],
      "text/plain": [
       "  words  satisfaction  count\n",
       "0    불편             5      1\n",
       "1    편리             5      1\n",
       "2    할인             5      1\n",
       "3    쿠폰             5      1\n",
       "4    배송             5      1"
      ]
     },
     "execution_count": 1069,
     "metadata": {},
     "output_type": "execute_result"
    }
   ],
   "source": [
    "all_words = []\n",
    "satisfaction= []\n",
    "for i in range(len(df)):\n",
    "    words = df['nouns'][i]\n",
    "    words_arr = []\n",
    "    for n in words:\n",
    "        words_arr.append(n)\n",
    "        satisfaction.append(df['ratings'].iloc[i])\n",
    "    all_words.extend(words_arr)\n",
    "    \n",
    "all_words_df = pd.DataFrame({\"words\":all_words, \"satisfaction\":satisfaction, \"count\":len(all_words)*[1]})\n",
    "all_words_df.head()        \n",
    "    "
   ]
  },
  {
   "cell_type": "code",
   "execution_count": 1070,
   "metadata": {
    "scrolled": false
   },
   "outputs": [
    {
     "data": {
      "text/html": [
       "<div>\n",
       "<style scoped>\n",
       "    .dataframe tbody tr th:only-of-type {\n",
       "        vertical-align: middle;\n",
       "    }\n",
       "\n",
       "    .dataframe tbody tr th {\n",
       "        vertical-align: top;\n",
       "    }\n",
       "\n",
       "    .dataframe thead th {\n",
       "        text-align: right;\n",
       "    }\n",
       "</style>\n",
       "<table border=\"1\" class=\"dataframe\">\n",
       "  <thead>\n",
       "    <tr style=\"text-align: right;\">\n",
       "      <th></th>\n",
       "      <th>satisfaction</th>\n",
       "      <th>count</th>\n",
       "    </tr>\n",
       "    <tr>\n",
       "      <th>words</th>\n",
       "      <th></th>\n",
       "      <th></th>\n",
       "    </tr>\n",
       "  </thead>\n",
       "  <tbody>\n",
       "    <tr>\n",
       "      <th>ㅎ감사</th>\n",
       "      <td>5.000000</td>\n",
       "      <td>1</td>\n",
       "    </tr>\n",
       "    <tr>\n",
       "      <th>가격</th>\n",
       "      <td>4.739759</td>\n",
       "      <td>415</td>\n",
       "    </tr>\n",
       "    <tr>\n",
       "      <th>가격대</th>\n",
       "      <td>4.666667</td>\n",
       "      <td>3</td>\n",
       "    </tr>\n",
       "    <tr>\n",
       "      <th>가격대비</th>\n",
       "      <td>4.923077</td>\n",
       "      <td>13</td>\n",
       "    </tr>\n",
       "    <tr>\n",
       "      <th>가격만족</th>\n",
       "      <td>5.000000</td>\n",
       "      <td>1</td>\n",
       "    </tr>\n",
       "    <tr>\n",
       "      <th>가격비교</th>\n",
       "      <td>4.142857</td>\n",
       "      <td>7</td>\n",
       "    </tr>\n",
       "    <tr>\n",
       "      <th>가격선</th>\n",
       "      <td>5.000000</td>\n",
       "      <td>1</td>\n",
       "    </tr>\n",
       "    <tr>\n",
       "      <th>가격설명</th>\n",
       "      <td>4.000000</td>\n",
       "      <td>1</td>\n",
       "    </tr>\n",
       "    <tr>\n",
       "      <th>가격세일</th>\n",
       "      <td>5.000000</td>\n",
       "      <td>1</td>\n",
       "    </tr>\n",
       "    <tr>\n",
       "      <th>가격할인</th>\n",
       "      <td>4.666667</td>\n",
       "      <td>6</td>\n",
       "    </tr>\n",
       "    <tr>\n",
       "      <th>가격할인행사</th>\n",
       "      <td>4.000000</td>\n",
       "      <td>1</td>\n",
       "    </tr>\n",
       "    <tr>\n",
       "      <th>가공식품</th>\n",
       "      <td>5.000000</td>\n",
       "      <td>2</td>\n",
       "    </tr>\n",
       "    <tr>\n",
       "      <th>가능성</th>\n",
       "      <td>1.000000</td>\n",
       "      <td>1</td>\n",
       "    </tr>\n",
       "    <tr>\n",
       "      <th>가능지역</th>\n",
       "      <td>5.000000</td>\n",
       "      <td>2</td>\n",
       "    </tr>\n",
       "    <tr>\n",
       "      <th>가독성</th>\n",
       "      <td>4.000000</td>\n",
       "      <td>6</td>\n",
       "    </tr>\n",
       "    <tr>\n",
       "      <th>가동</th>\n",
       "      <td>2.666667</td>\n",
       "      <td>3</td>\n",
       "    </tr>\n",
       "    <tr>\n",
       "      <th>가락</th>\n",
       "      <td>5.000000</td>\n",
       "      <td>1</td>\n",
       "    </tr>\n",
       "    <tr>\n",
       "      <th>가로</th>\n",
       "      <td>4.200000</td>\n",
       "      <td>5</td>\n",
       "    </tr>\n",
       "    <tr>\n",
       "      <th>가방</th>\n",
       "      <td>5.000000</td>\n",
       "      <td>1</td>\n",
       "    </tr>\n",
       "    <tr>\n",
       "      <th>가보</th>\n",
       "      <td>2.333333</td>\n",
       "      <td>3</td>\n",
       "    </tr>\n",
       "  </tbody>\n",
       "</table>\n",
       "</div>"
      ],
      "text/plain": [
       "        satisfaction  count\n",
       "words                      \n",
       "ㅎ감사         5.000000      1\n",
       "가격          4.739759    415\n",
       "가격대         4.666667      3\n",
       "가격대비        4.923077     13\n",
       "가격만족        5.000000      1\n",
       "가격비교        4.142857      7\n",
       "가격선         5.000000      1\n",
       "가격설명        4.000000      1\n",
       "가격세일        5.000000      1\n",
       "가격할인        4.666667      6\n",
       "가격할인행사      4.000000      1\n",
       "가공식품        5.000000      2\n",
       "가능성         1.000000      1\n",
       "가능지역        5.000000      2\n",
       "가독성         4.000000      6\n",
       "가동          2.666667      3\n",
       "가락          5.000000      1\n",
       "가로          4.200000      5\n",
       "가방          5.000000      1\n",
       "가보          2.333333      3"
      ]
     },
     "execution_count": 1070,
     "metadata": {},
     "output_type": "execute_result"
    }
   ],
   "source": [
    "words_satisfaction = all_words_df.groupby('words').mean()['satisfaction']\n",
    "words_count = all_words_df.groupby('words').sum()['count']\n",
    "words_df = pd.concat([words_satisfaction, words_count], axis=1)\n",
    "words_df.head(20)"
   ]
  },
  {
   "cell_type": "code",
   "execution_count": 1071,
   "metadata": {},
   "outputs": [
    {
     "data": {
      "text/html": [
       "<div>\n",
       "<style scoped>\n",
       "    .dataframe tbody tr th:only-of-type {\n",
       "        vertical-align: middle;\n",
       "    }\n",
       "\n",
       "    .dataframe tbody tr th {\n",
       "        vertical-align: top;\n",
       "    }\n",
       "\n",
       "    .dataframe thead th {\n",
       "        text-align: right;\n",
       "    }\n",
       "</style>\n",
       "<table border=\"1\" class=\"dataframe\">\n",
       "  <thead>\n",
       "    <tr style=\"text-align: right;\">\n",
       "      <th></th>\n",
       "      <th>satisfaction</th>\n",
       "      <th>count</th>\n",
       "    </tr>\n",
       "    <tr>\n",
       "      <th>words</th>\n",
       "      <th></th>\n",
       "      <th></th>\n",
       "    </tr>\n",
       "  </thead>\n",
       "  <tbody>\n",
       "    <tr>\n",
       "      <th>휴일</th>\n",
       "      <td>5.0</td>\n",
       "      <td>3</td>\n",
       "    </tr>\n",
       "    <tr>\n",
       "      <th>데이</th>\n",
       "      <td>5.0</td>\n",
       "      <td>3</td>\n",
       "    </tr>\n",
       "    <tr>\n",
       "      <th>시간내서</th>\n",
       "      <td>5.0</td>\n",
       "      <td>3</td>\n",
       "    </tr>\n",
       "    <tr>\n",
       "      <th>식비</th>\n",
       "      <td>5.0</td>\n",
       "      <td>3</td>\n",
       "    </tr>\n",
       "    <tr>\n",
       "      <th>식자</th>\n",
       "      <td>5.0</td>\n",
       "      <td>3</td>\n",
       "    </tr>\n",
       "    <tr>\n",
       "      <th>...</th>\n",
       "      <td>...</td>\n",
       "      <td>...</td>\n",
       "    </tr>\n",
       "    <tr>\n",
       "      <th>앱실행</th>\n",
       "      <td>1.0</td>\n",
       "      <td>3</td>\n",
       "    </tr>\n",
       "    <tr>\n",
       "      <th>워드</th>\n",
       "      <td>1.0</td>\n",
       "      <td>3</td>\n",
       "    </tr>\n",
       "    <tr>\n",
       "      <th>앱카드</th>\n",
       "      <td>1.0</td>\n",
       "      <td>3</td>\n",
       "    </tr>\n",
       "    <tr>\n",
       "      <th>서버오류</th>\n",
       "      <td>1.0</td>\n",
       "      <td>3</td>\n",
       "    </tr>\n",
       "    <tr>\n",
       "      <th>재배송</th>\n",
       "      <td>1.0</td>\n",
       "      <td>3</td>\n",
       "    </tr>\n",
       "  </tbody>\n",
       "</table>\n",
       "<p>639 rows × 2 columns</p>\n",
       "</div>"
      ],
      "text/plain": [
       "       satisfaction  count\n",
       "words                     \n",
       "휴일              5.0      3\n",
       "데이              5.0      3\n",
       "시간내서            5.0      3\n",
       "식비              5.0      3\n",
       "식자              5.0      3\n",
       "...             ...    ...\n",
       "앱실행             1.0      3\n",
       "워드              1.0      3\n",
       "앱카드             1.0      3\n",
       "서버오류            1.0      3\n",
       "재배송             1.0      3\n",
       "\n",
       "[639 rows x 2 columns]"
      ]
     },
     "execution_count": 1071,
     "metadata": {},
     "output_type": "execute_result"
    }
   ],
   "source": [
    "words_df = words_df.loc[words_df['count']>=3]\n",
    "words_df.sort_values('satisfaction', ascending=False)"
   ]
  },
  {
   "cell_type": "code",
   "execution_count": 1072,
   "metadata": {},
   "outputs": [
    {
     "data": {
      "text/html": [
       "<div>\n",
       "<style scoped>\n",
       "    .dataframe tbody tr th:only-of-type {\n",
       "        vertical-align: middle;\n",
       "    }\n",
       "\n",
       "    .dataframe tbody tr th {\n",
       "        vertical-align: top;\n",
       "    }\n",
       "\n",
       "    .dataframe thead th {\n",
       "        text-align: right;\n",
       "    }\n",
       "</style>\n",
       "<table border=\"1\" class=\"dataframe\">\n",
       "  <thead>\n",
       "    <tr style=\"text-align: right;\">\n",
       "      <th></th>\n",
       "      <th>satisfaction</th>\n",
       "      <th>count</th>\n",
       "    </tr>\n",
       "    <tr>\n",
       "      <th>words</th>\n",
       "      <th></th>\n",
       "      <th></th>\n",
       "    </tr>\n",
       "  </thead>\n",
       "  <tbody>\n",
       "    <tr>\n",
       "      <th>배송</th>\n",
       "      <td>4.618847</td>\n",
       "      <td>1422</td>\n",
       "    </tr>\n",
       "    <tr>\n",
       "      <th>편리</th>\n",
       "      <td>4.808071</td>\n",
       "      <td>1016</td>\n",
       "    </tr>\n",
       "    <tr>\n",
       "      <th>할인</th>\n",
       "      <td>4.646266</td>\n",
       "      <td>964</td>\n",
       "    </tr>\n",
       "    <tr>\n",
       "      <th>쿠폰</th>\n",
       "      <td>4.271772</td>\n",
       "      <td>666</td>\n",
       "    </tr>\n",
       "    <tr>\n",
       "      <th>다양</th>\n",
       "      <td>4.856842</td>\n",
       "      <td>475</td>\n",
       "    </tr>\n",
       "    <tr>\n",
       "      <th>가격</th>\n",
       "      <td>4.739759</td>\n",
       "      <td>415</td>\n",
       "    </tr>\n",
       "    <tr>\n",
       "      <th>결제</th>\n",
       "      <td>3.324405</td>\n",
       "      <td>336</td>\n",
       "    </tr>\n",
       "    <tr>\n",
       "      <th>이벤트</th>\n",
       "      <td>4.700000</td>\n",
       "      <td>330</td>\n",
       "    </tr>\n",
       "    <tr>\n",
       "      <th>세일</th>\n",
       "      <td>4.509202</td>\n",
       "      <td>326</td>\n",
       "    </tr>\n",
       "    <tr>\n",
       "      <th>불편</th>\n",
       "      <td>3.186916</td>\n",
       "      <td>321</td>\n",
       "    </tr>\n",
       "    <tr>\n",
       "      <th>신선</th>\n",
       "      <td>4.853968</td>\n",
       "      <td>315</td>\n",
       "    </tr>\n",
       "    <tr>\n",
       "      <th>혜택</th>\n",
       "      <td>4.620690</td>\n",
       "      <td>261</td>\n",
       "    </tr>\n",
       "    <tr>\n",
       "      <th>오류</th>\n",
       "      <td>2.707031</td>\n",
       "      <td>256</td>\n",
       "    </tr>\n",
       "    <tr>\n",
       "      <th>심플리</th>\n",
       "      <td>4.894068</td>\n",
       "      <td>236</td>\n",
       "    </tr>\n",
       "    <tr>\n",
       "      <th>배달</th>\n",
       "      <td>4.344037</td>\n",
       "      <td>218</td>\n",
       "    </tr>\n",
       "    <tr>\n",
       "      <th>간편</th>\n",
       "      <td>4.492958</td>\n",
       "      <td>213</td>\n",
       "    </tr>\n",
       "    <tr>\n",
       "      <th>당일</th>\n",
       "      <td>4.616114</td>\n",
       "      <td>211</td>\n",
       "    </tr>\n",
       "    <tr>\n",
       "      <th>유용</th>\n",
       "      <td>4.849711</td>\n",
       "      <td>173</td>\n",
       "    </tr>\n",
       "    <tr>\n",
       "      <th>할인쿠폰</th>\n",
       "      <td>4.423077</td>\n",
       "      <td>130</td>\n",
       "    </tr>\n",
       "    <tr>\n",
       "      <th>당일배송</th>\n",
       "      <td>4.612403</td>\n",
       "      <td>129</td>\n",
       "    </tr>\n",
       "  </tbody>\n",
       "</table>\n",
       "</div>"
      ],
      "text/plain": [
       "       satisfaction  count\n",
       "words                     \n",
       "배송         4.618847   1422\n",
       "편리         4.808071   1016\n",
       "할인         4.646266    964\n",
       "쿠폰         4.271772    666\n",
       "다양         4.856842    475\n",
       "가격         4.739759    415\n",
       "결제         3.324405    336\n",
       "이벤트        4.700000    330\n",
       "세일         4.509202    326\n",
       "불편         3.186916    321\n",
       "신선         4.853968    315\n",
       "혜택         4.620690    261\n",
       "오류         2.707031    256\n",
       "심플리        4.894068    236\n",
       "배달         4.344037    218\n",
       "간편         4.492958    213\n",
       "당일         4.616114    211\n",
       "유용         4.849711    173\n",
       "할인쿠폰       4.423077    130\n",
       "당일배송       4.612403    129"
      ]
     },
     "execution_count": 1072,
     "metadata": {},
     "output_type": "execute_result"
    }
   ],
   "source": [
    "words_df.sort_values('count', ascending =False).head(20)"
   ]
  },
  {
   "cell_type": "code",
   "execution_count": 1073,
   "metadata": {},
   "outputs": [],
   "source": [
    "korean_stopwords_path = \"./korean_stopwords3.txt\"\n",
    "with open(korean_stopwords_path, encoding='utf8') as f:\n",
    "    stopwords = f.readlines()\n",
    "stopwords = [x.strip() for x in stopwords]\n",
    "nouns_tagger =Kkma()\n",
    "def text_cleaning(text):\n",
    "    hangul = re.compile('[|ㄱ-ㅎ|ㅏ-ㅣ]+') # 한글의 정규표현식을 나타냅니다.\n",
    "    result = hangul.sub('', text)\n",
    "    hangul = re.compile('[^ ㄱ-ㅣ가-힣]+') # 한글의 정규표현식을 나타냅니다.\n",
    "    result = hangul.sub('', text)\n",
    "    nouns_tagger = tokenizer\n",
    "    nouns = nouns_tagger.tokenize(result, remove_r=True)\n",
    "    nouns = [x for x in nouns if len(x) >1]\n",
    "    nouns =[x for x in nouns if x not in stopwords]\n",
    "    return nouns\n",
    "\n",
    "vect = CountVectorizer(tokenizer= lambda x : text_cleaning(x))\n",
    "bow_vect = vect.fit_transform(df['comment'].tolist())\n",
    "word_list = vect.get_feature_names()\n",
    "count_list = bow_vect.toarray().sum(axis=0)"
   ]
  },
  {
   "cell_type": "code",
   "execution_count": 1074,
   "metadata": {},
   "outputs": [
    {
     "data": {
      "text/plain": [
       "(6602, 17113)"
      ]
     },
     "execution_count": 1074,
     "metadata": {},
     "output_type": "execute_result"
    }
   ],
   "source": [
    "bow_vect.shape"
   ]
  },
  {
   "cell_type": "code",
   "execution_count": 1075,
   "metadata": {},
   "outputs": [
    {
     "name": "stdout",
     "output_type": "stream",
     "text": [
      "{'ㅇ할인혜택도좋구요': 1, 'ㅠㅠㅎ': 1, 'ㅠㅠㅠ': 1, 'ㅠㅠㅠㅠㅠㅠㅜㅜㅜㅜㅜㅠ': 1, 'ㅠㅠ지에스좋은데': 1, 'ㅠㅡㅠ': 1, 'ㅠ판매안하시죵': 1, 'ㅡㅡㅋㅋ\n"
     ]
    }
   ],
   "source": [
    "word_count_dict = dict(zip(word_list, count_list))\n",
    "print(str(word_count_dict)[:100])"
   ]
  },
  {
   "cell_type": "code",
   "execution_count": 1076,
   "metadata": {},
   "outputs": [],
   "source": [
    "tfidf_vectorizer = TfidfTransformer()\n",
    "tf_idf_vect = tfidf_vectorizer.fit_transform(bow_vect)"
   ]
  },
  {
   "cell_type": "code",
   "execution_count": 1077,
   "metadata": {
    "scrolled": true
   },
   "outputs": [
    {
     "name": "stdout",
     "output_type": "stream",
     "text": [
      "  (0, 15834)\t0.5865018695325586\n",
      "  (0, 10246)\t0.7383366369933215\n",
      "  (0, 6662)\t0.33297832888674\n"
     ]
    }
   ],
   "source": [
    "print(tf_idf_vect[0])"
   ]
  },
  {
   "cell_type": "code",
   "execution_count": 1078,
   "metadata": {},
   "outputs": [
    {
     "name": "stdout",
     "output_type": "stream",
     "text": [
      "{6662: '불편', 10246: '없었으나', 15834: '품목이', 15584: '편리하고', 16297: '할인', 3438: '돼어', 15034: '쿠폰', 6844:\n"
     ]
    }
   ],
   "source": [
    "invert_index_vectorizer = {v:k for k,v in vect.vocabulary_.items()}\n",
    "print(str(invert_index_vectorizer)[:100])"
   ]
  },
  {
   "cell_type": "code",
   "execution_count": 1079,
   "metadata": {
    "scrolled": false
   },
   "outputs": [
    {
     "data": {
      "text/html": [
       "<div>\n",
       "<style scoped>\n",
       "    .dataframe tbody tr th:only-of-type {\n",
       "        vertical-align: middle;\n",
       "    }\n",
       "\n",
       "    .dataframe tbody tr th {\n",
       "        vertical-align: top;\n",
       "    }\n",
       "\n",
       "    .dataframe thead th {\n",
       "        text-align: right;\n",
       "    }\n",
       "</style>\n",
       "<table border=\"1\" class=\"dataframe\">\n",
       "  <thead>\n",
       "    <tr style=\"text-align: right;\">\n",
       "      <th></th>\n",
       "      <th>date</th>\n",
       "      <th>comment</th>\n",
       "      <th>ratings</th>\n",
       "      <th>ko_text</th>\n",
       "      <th>nouns</th>\n",
       "      <th>y</th>\n",
       "    </tr>\n",
       "  </thead>\n",
       "  <tbody>\n",
       "    <tr>\n",
       "      <th>1558</th>\n",
       "      <td>2020-05-13</td>\n",
       "      <td>앱 결제가 시원시원 빨라서 좋네요^^</td>\n",
       "      <td>5</td>\n",
       "      <td>앱 결제가 시원시원 빨라서 좋네요</td>\n",
       "      <td>[결제]</td>\n",
       "      <td>1</td>\n",
       "    </tr>\n",
       "    <tr>\n",
       "      <th>841</th>\n",
       "      <td>2020-08-25</td>\n",
       "      <td>첫구매 잘 했습니다. 감사합니다. 그러나 어플은 사용하기 너무 어렵습니다. 검색창에...</td>\n",
       "      <td>2</td>\n",
       "      <td>첫구매 잘 했습니다 감사합니다 그러나 어플은 사용하기 너무 어렵습니다 검색창에 타이...</td>\n",
       "      <td>[타이핑, 백그라운드, 그라운드, 가동, 가독성]</td>\n",
       "      <td>0</td>\n",
       "    </tr>\n",
       "    <tr>\n",
       "      <th>2885</th>\n",
       "      <td>2019-11-28</td>\n",
       "      <td>앱이 오픈도 안되고 컴(노트북)에서도 안 열리고.. 다른 컴으로 해도 안 열리네요..</td>\n",
       "      <td>1</td>\n",
       "      <td>앱이 오픈도 안되고 컴노트북에서도 안 열리고 다른 컴으로 해도 안 열리네요</td>\n",
       "      <td>[노트북]</td>\n",
       "      <td>0</td>\n",
       "    </tr>\n",
       "    <tr>\n",
       "      <th>1157</th>\n",
       "      <td>2020-07-02</td>\n",
       "      <td>간편가입이 좋아요</td>\n",
       "      <td>5</td>\n",
       "      <td>간편가입이 좋아요</td>\n",
       "      <td>[간편, 간편가입]</td>\n",
       "      <td>1</td>\n",
       "    </tr>\n",
       "    <tr>\n",
       "      <th>1874</th>\n",
       "      <td>2020-04-13</td>\n",
       "      <td>편리하고 결재시 에러 없어요</td>\n",
       "      <td>5</td>\n",
       "      <td>편리하고 결재시 에러 없어요</td>\n",
       "      <td>[편리, 결재]</td>\n",
       "      <td>1</td>\n",
       "    </tr>\n",
       "  </tbody>\n",
       "</table>\n",
       "</div>"
      ],
      "text/plain": [
       "            date                                            comment  ratings  \\\n",
       "1558  2020-05-13                               앱 결제가 시원시원 빨라서 좋네요^^        5   \n",
       "841   2020-08-25  첫구매 잘 했습니다. 감사합니다. 그러나 어플은 사용하기 너무 어렵습니다. 검색창에...        2   \n",
       "2885  2019-11-28    앱이 오픈도 안되고 컴(노트북)에서도 안 열리고.. 다른 컴으로 해도 안 열리네요..        1   \n",
       "1157  2020-07-02                                          간편가입이 좋아요        5   \n",
       "1874  2020-04-13                                    편리하고 결재시 에러 없어요        5   \n",
       "\n",
       "                                                ko_text  \\\n",
       "1558                                 앱 결제가 시원시원 빨라서 좋네요   \n",
       "841   첫구매 잘 했습니다 감사합니다 그러나 어플은 사용하기 너무 어렵습니다 검색창에 타이...   \n",
       "2885          앱이 오픈도 안되고 컴노트북에서도 안 열리고 다른 컴으로 해도 안 열리네요   \n",
       "1157                                          간편가입이 좋아요   \n",
       "1874                                    편리하고 결재시 에러 없어요   \n",
       "\n",
       "                            nouns  y  \n",
       "1558                         [결제]  1  \n",
       "841   [타이핑, 백그라운드, 그라운드, 가동, 가독성]  0  \n",
       "2885                        [노트북]  0  \n",
       "1157                   [간편, 간편가입]  1  \n",
       "1874                     [편리, 결재]  1  "
      ]
     },
     "execution_count": 1079,
     "metadata": {},
     "output_type": "execute_result"
    }
   ],
   "source": [
    "df.sample(10).head()"
   ]
  },
  {
   "cell_type": "code",
   "execution_count": 1080,
   "metadata": {
    "scrolled": false
   },
   "outputs": [
    {
     "data": {
      "text/plain": [
       "<AxesSubplot:>"
      ]
     },
     "execution_count": 1080,
     "metadata": {},
     "output_type": "execute_result"
    },
    {
     "data": {
      "image/png": "[encoded data removed]",
      "text/plain": [
       "<Figure size 432x288 with 1 Axes>"
      ]
     },
     "metadata": {
      "needs_background": "light"
     },
     "output_type": "display_data"
    }
   ],
   "source": [
    "df.ratings.hist()"
   ]
  },
  {
   "cell_type": "code",
   "execution_count": 1081,
   "metadata": {},
   "outputs": [],
   "source": [
    "def rating_to_label(rating) :\n",
    "  if rating >3:\n",
    "    return 1\n",
    "  else:\n",
    "    return 0\n",
    "df['y'] = df['ratings'].apply(lambda x : rating_to_label(x))"
   ]
  },
  {
   "cell_type": "code",
   "execution_count": 1082,
   "metadata": {
    "scrolled": false
   },
   "outputs": [
    {
     "data": {
      "text/html": [
       "<div>\n",
       "<style scoped>\n",
       "    .dataframe tbody tr th:only-of-type {\n",
       "        vertical-align: middle;\n",
       "    }\n",
       "\n",
       "    .dataframe tbody tr th {\n",
       "        vertical-align: top;\n",
       "    }\n",
       "\n",
       "    .dataframe thead th {\n",
       "        text-align: right;\n",
       "    }\n",
       "</style>\n",
       "<table border=\"1\" class=\"dataframe\">\n",
       "  <thead>\n",
       "    <tr style=\"text-align: right;\">\n",
       "      <th></th>\n",
       "      <th>date</th>\n",
       "      <th>comment</th>\n",
       "      <th>ratings</th>\n",
       "      <th>ko_text</th>\n",
       "      <th>nouns</th>\n",
       "      <th>y</th>\n",
       "    </tr>\n",
       "  </thead>\n",
       "  <tbody>\n",
       "    <tr>\n",
       "      <th>0</th>\n",
       "      <td>2021-03-10</td>\n",
       "      <td>설치하고 오늘 처음 물건 구매해봤는데 앱 사용 시 크게 불편한 점은 없었으나 품목이...</td>\n",
       "      <td>5</td>\n",
       "      <td>설치하고 오늘 처음 물건 구매해봤는데 앱 사용 시 크게 불편한 점은 없었으나 품목이...</td>\n",
       "      <td>[불편]</td>\n",
       "      <td>1</td>\n",
       "    </tr>\n",
       "    <tr>\n",
       "      <th>1</th>\n",
       "      <td>2021-03-10</td>\n",
       "      <td>사용힌기 편리하고 각종 할인이 잘 돼어 있어 좋아요</td>\n",
       "      <td>5</td>\n",
       "      <td>사용힌기 편리하고 각종 할인이 잘 돼어 있어 좋아요</td>\n",
       "      <td>[편리, 할인]</td>\n",
       "      <td>1</td>\n",
       "    </tr>\n",
       "    <tr>\n",
       "      <th>2</th>\n",
       "      <td>2021-03-10</td>\n",
       "      <td>쿠폰에 빠른배송 GS FRESH 언제까지나 함께합니다.</td>\n",
       "      <td>5</td>\n",
       "      <td>쿠폰에 빠른배송   언제까지나 함께합니다</td>\n",
       "      <td>[쿠폰, 배송]</td>\n",
       "      <td>1</td>\n",
       "    </tr>\n",
       "    <tr>\n",
       "      <th>3</th>\n",
       "      <td>2021-03-09</td>\n",
       "      <td>상품특가있다고 해서 주문했는데 너무 좋아요</td>\n",
       "      <td>5</td>\n",
       "      <td>상품특가있다고 해서 주문했는데 너무 좋아요</td>\n",
       "      <td>[상품특가, 특가]</td>\n",
       "      <td>1</td>\n",
       "    </tr>\n",
       "    <tr>\n",
       "      <th>4</th>\n",
       "      <td>2021-03-09</td>\n",
       "      <td>행사,기획상품&amp;쿠폰과 같이 실질적으로 고객의 요구에 영향을 주는 카테고리가 잘 나눠...</td>\n",
       "      <td>5</td>\n",
       "      <td>행사기획상품쿠폰과 같이 실질적으로 고객의 요구에 영향을 주는 카테고리가 잘 나눠줘 ...</td>\n",
       "      <td>[행사기획상품쿠폰, 쿠폰, 실질적, 요구, 영향, 구매자자로, 자로, 편리]</td>\n",
       "      <td>1</td>\n",
       "    </tr>\n",
       "    <tr>\n",
       "      <th>...</th>\n",
       "      <td>...</td>\n",
       "      <td>...</td>\n",
       "      <td>...</td>\n",
       "      <td>...</td>\n",
       "      <td>...</td>\n",
       "      <td>...</td>\n",
       "    </tr>\n",
       "    <tr>\n",
       "      <th>6597</th>\n",
       "      <td>2014-02-20</td>\n",
       "      <td>편리하고 좋네요 최고어플입니다...gsisuper 애용자로써 무척반가운어플이네요....</td>\n",
       "      <td>5</td>\n",
       "      <td>편리하고 좋네요 최고어플입니다 애용자로써 무척반가운어플이네요</td>\n",
       "      <td>[편리]</td>\n",
       "      <td>1</td>\n",
       "    </tr>\n",
       "    <tr>\n",
       "      <th>6598</th>\n",
       "      <td>2014-02-19</td>\n",
       "      <td>가동하려면 뭔가 알수 없는 메시지를 내며 죽어버림.. 테스트도 제대로 안하고 올린듯</td>\n",
       "      <td>1</td>\n",
       "      <td>가동하려면 뭔가 알수 없는 메시지를 내며 죽어버림 테스트도 제대로 안하고 올린듯</td>\n",
       "      <td>[가동]</td>\n",
       "      <td>0</td>\n",
       "    </tr>\n",
       "    <tr>\n",
       "      <th>6599</th>\n",
       "      <td>2014-02-19</td>\n",
       "      <td>쇼핑몰앱 중 훌륭한 편입니다.</td>\n",
       "      <td>5</td>\n",
       "      <td>쇼핑몰앱 중 훌륭한 편입니다</td>\n",
       "      <td>[쇼핑몰앱]</td>\n",
       "      <td>1</td>\n",
       "    </tr>\n",
       "    <tr>\n",
       "      <th>6600</th>\n",
       "      <td>2014-02-19</td>\n",
       "      <td>쿠폰도 많이 주는 것 같고 수퍼마켓에서도 편하게 쇼핑할수 있을것같네요 앞으로 많은 ...</td>\n",
       "      <td>5</td>\n",
       "      <td>쿠폰도 많이 주는 것 같고 수퍼마켓에서도 편하게 쇼핑할수 있을것같네요 앞으로 많은 ...</td>\n",
       "      <td>[쿠폰]</td>\n",
       "      <td>1</td>\n",
       "    </tr>\n",
       "    <tr>\n",
       "      <th>6601</th>\n",
       "      <td>2014-02-19</td>\n",
       "      <td>드디어 GS아이수퍼 앱이 출시되었군요.편리하네요~^^</td>\n",
       "      <td>5</td>\n",
       "      <td>드디어 아이수퍼 앱이 출시되었군요편리하네요</td>\n",
       "      <td>[출시, 편리]</td>\n",
       "      <td>1</td>\n",
       "    </tr>\n",
       "  </tbody>\n",
       "</table>\n",
       "<p>6602 rows × 6 columns</p>\n",
       "</div>"
      ],
      "text/plain": [
       "            date                                            comment  ratings  \\\n",
       "0     2021-03-10  설치하고 오늘 처음 물건 구매해봤는데 앱 사용 시 크게 불편한 점은 없었으나 품목이...        5   \n",
       "1     2021-03-10                       사용힌기 편리하고 각종 할인이 잘 돼어 있어 좋아요        5   \n",
       "2     2021-03-10                     쿠폰에 빠른배송 GS FRESH 언제까지나 함께합니다.        5   \n",
       "3     2021-03-09                            상품특가있다고 해서 주문했는데 너무 좋아요        5   \n",
       "4     2021-03-09  행사,기획상품&쿠폰과 같이 실질적으로 고객의 요구에 영향을 주는 카테고리가 잘 나눠...        5   \n",
       "...          ...                                                ...      ...   \n",
       "6597  2014-02-20   편리하고 좋네요 최고어플입니다...gsisuper 애용자로써 무척반가운어플이네요....        5   \n",
       "6598  2014-02-19     가동하려면 뭔가 알수 없는 메시지를 내며 죽어버림.. 테스트도 제대로 안하고 올린듯        1   \n",
       "6599  2014-02-19                                   쇼핑몰앱 중 훌륭한 편입니다.        5   \n",
       "6600  2014-02-19  쿠폰도 많이 주는 것 같고 수퍼마켓에서도 편하게 쇼핑할수 있을것같네요 앞으로 많은 ...        5   \n",
       "6601  2014-02-19                      드디어 GS아이수퍼 앱이 출시되었군요.편리하네요~^^        5   \n",
       "\n",
       "                                                ko_text  \\\n",
       "0     설치하고 오늘 처음 물건 구매해봤는데 앱 사용 시 크게 불편한 점은 없었으나 품목이...   \n",
       "1                          사용힌기 편리하고 각종 할인이 잘 돼어 있어 좋아요   \n",
       "2                                쿠폰에 빠른배송   언제까지나 함께합니다   \n",
       "3                               상품특가있다고 해서 주문했는데 너무 좋아요   \n",
       "4     행사기획상품쿠폰과 같이 실질적으로 고객의 요구에 영향을 주는 카테고리가 잘 나눠줘 ...   \n",
       "...                                                 ...   \n",
       "6597                  편리하고 좋네요 최고어플입니다 애용자로써 무척반가운어플이네요   \n",
       "6598       가동하려면 뭔가 알수 없는 메시지를 내며 죽어버림 테스트도 제대로 안하고 올린듯   \n",
       "6599                                    쇼핑몰앱 중 훌륭한 편입니다   \n",
       "6600  쿠폰도 많이 주는 것 같고 수퍼마켓에서도 편하게 쇼핑할수 있을것같네요 앞으로 많은 ...   \n",
       "6601                            드디어 아이수퍼 앱이 출시되었군요편리하네요   \n",
       "\n",
       "                                           nouns  y  \n",
       "0                                           [불편]  1  \n",
       "1                                       [편리, 할인]  1  \n",
       "2                                       [쿠폰, 배송]  1  \n",
       "3                                     [상품특가, 특가]  1  \n",
       "4     [행사기획상품쿠폰, 쿠폰, 실질적, 요구, 영향, 구매자자로, 자로, 편리]  1  \n",
       "...                                          ... ..  \n",
       "6597                                        [편리]  1  \n",
       "6598                                        [가동]  0  \n",
       "6599                                      [쇼핑몰앱]  1  \n",
       "6600                                        [쿠폰]  1  \n",
       "6601                                    [출시, 편리]  1  \n",
       "\n",
       "[6602 rows x 6 columns]"
      ]
     },
     "execution_count": 1082,
     "metadata": {},
     "output_type": "execute_result"
    }
   ],
   "source": [
    "df"
   ]
  },
  {
   "cell_type": "code",
   "execution_count": 1083,
   "metadata": {
    "scrolled": true
   },
   "outputs": [
    {
     "data": {
      "text/plain": [
       "1    5347\n",
       "0    1255\n",
       "Name: y, dtype: int64"
      ]
     },
     "execution_count": 1083,
     "metadata": {},
     "output_type": "execute_result"
    }
   ],
   "source": [
    "df.y.value_counts()"
   ]
  },
  {
   "cell_type": "code",
   "execution_count": 1084,
   "metadata": {},
   "outputs": [],
   "source": [
    "y= df['y']\n",
    "X_train,X_test, y_train, y_test = train_test_split(tf_idf_vect, y, test_size = 0.2)"
   ]
  },
  {
   "cell_type": "code",
   "execution_count": 1085,
   "metadata": {
    "scrolled": true
   },
   "outputs": [
    {
     "name": "stdout",
     "output_type": "stream",
     "text": [
      "(1321, 17113)\n"
     ]
    }
   ],
   "source": [
    "print(X_test.shape)"
   ]
  },
  {
   "cell_type": "markdown",
   "metadata": {},
   "source": [
    "# 로지스틱 회귀"
   ]
  },
  {
   "cell_type": "code",
   "execution_count": 1086,
   "metadata": {},
   "outputs": [
    {
     "name": "stdout",
     "output_type": "stream",
     "text": [
      "Test Accuracy: 85.16%\n"
     ]
    }
   ],
   "source": [
    "from sklearn.linear_model import LogisticRegression\n",
    "lr = LogisticRegression(solver=\"lbfgs\", max_iter=500)\n",
    "lr.fit(X_train, y_train)\n",
    "print(\"Test Accuracy: {}%\".format(round(lr.score(X_test, y_test)*100,2)))"
   ]
  },
  {
   "cell_type": "code",
   "execution_count": 1087,
   "metadata": {},
   "outputs": [
    {
     "name": "stdout",
     "output_type": "stream",
     "text": [
      "cross-val-score \n",
      "[0.84114977 0.86081694 0.84242424 0.84848485 0.83181818 0.84090909\n",
      " 0.84545455 0.81969697 0.81969697 0.81060606]\n",
      "cross-val-score.mean \n",
      "0.836\n"
     ]
    }
   ],
   "source": [
    "scores = cross_val_score(lr, tf_idf_vect, y, cv=10) # model, train, target, cross validation\n",
    "\n",
    "print('cross-val-score \\n{}'.format(scores))\n",
    "\n",
    "print('cross-val-score.mean \\n{:.3f}'.format(scores.mean()))"
   ]
  },
  {
   "cell_type": "code",
   "execution_count": 1088,
   "metadata": {
    "scrolled": true
   },
   "outputs": [
    {
     "name": "stdout",
     "output_type": "stream",
     "text": [
      "Logistic Regression Classifier report: \n",
      "\n",
      "               precision    recall  f1-score   support\n",
      "\n",
      "           0       0.87      0.22      0.35       241\n",
      "           1       0.85      0.99      0.92      1080\n",
      "\n",
      "    accuracy                           0.85      1321\n",
      "   macro avg       0.86      0.61      0.63      1321\n",
      "weighted avg       0.85      0.85      0.81      1321\n",
      "\n"
     ]
    }
   ],
   "source": [
    "y_pred_lr = lr.predict(X_test)\n",
    "print(\"Logistic Regression Classifier report: \\n\\n\", classification_report(y_test, y_pred_lr))"
   ]
  },
  {
   "cell_type": "code",
   "execution_count": 1089,
   "metadata": {},
   "outputs": [
    {
     "data": {
      "image/png": "[encoded data removed]",
      "text/plain": [
       "<Figure size 504x504 with 2 Axes>"
      ]
     },
     "metadata": {
      "needs_background": "light"
     },
     "output_type": "display_data"
    }
   ],
   "source": [
    "cm = confusion_matrix(y_test, y_pred_lr)\n",
    "x_axis_labels = [\"Edible\", \"Poisonous\"]\n",
    "y_axis_labels = [\"Edible\", \"Poisonous\"]\n",
    "f, ax = plt.subplots(figsize =(7,7))\n",
    "sns.heatmap(cm, annot = True, linewidths=0.2, linecolor=\"black\", fmt = \".0f\", ax=ax, cmap=\"Purples\", xticklabels=x_axis_labels, yticklabels=y_axis_labels)\n",
    "plt.xlabel(\"PREDICTED LABEL\")\n",
    "plt.ylabel(\"TRUE LABEL\")\n",
    "plt.title('Confusion Matrix for Logistic Regression Classifier')\n",
    "#plt.savefig(\"lrcm.png\", format='png', dpi=500, bbox_inches='tight')\n",
    "plt.show()"
   ]
  },
  {
   "cell_type": "code",
   "execution_count": 1090,
   "metadata": {
    "scrolled": false
   },
   "outputs": [],
   "source": [
    "# plt.rcParams['figure.figsize'] = [10,8]\n",
    "# plt.bar(range(len(lr.coef_[0])), lr.coef_[0])"
   ]
  },
  {
   "cell_type": "code",
   "execution_count": 1114,
   "metadata": {},
   "outputs": [],
   "source": [
    "coef_pos_index = sorted(((value, index ) for index, value in enumerate(lr.coef_[0])), reverse=True)\n",
    "coef_neg_index = sorted(((value,index) for index, value in enumerate(lr.coef_[0])), reverse= False)"
   ]
  },
  {
   "cell_type": "code",
   "execution_count": 1115,
   "metadata": {
    "scrolled": false
   },
   "outputs": [
    {
     "name": "stdout",
     "output_type": "stream",
     "text": [
      "신선 3.8185347497039888\n",
      "심플리쿡 3.657487117731926\n",
      "편리하고 3.515296861624033\n",
      "저렴 3.325491747931601\n",
      "배송 3.3089337477927123\n",
      "편리 3.231802830349224\n",
      "할인 3.150561135253665\n",
      "편리하 3.019642855571995\n",
      "가격 3.014793461306163\n",
      "다양한 2.7859602064741757\n",
      "편하고 2.7854879104675\n",
      "다양 2.710936465401339\n",
      "유용 2.635091598322664\n",
      "편리합니다 2.523045768339413\n",
      "이벤트 2.4197614856380905\n",
      "간편 2.250965822983586\n",
      "편해요 2.2490748133773075\n",
      "세일 2.054634098933892\n",
      "혜택 1.936710103375571\n",
      "빠른 1.9119058794799497\n",
      "빠르고 1.9085678316936312\n",
      "깔끔 1.8937687749607377\n",
      "편하 1.8465319384572414\n",
      "쉽게 1.7682879931578914\n",
      "당일 1.7619100523988387\n",
      "편하게 1.6751815196794668\n",
      "편해 1.6183542596975866\n",
      "많고 1.600356963977844\n",
      "싸게 1.4740985222905805\n",
      "쉽고 1.3428903504055025\n",
      "많네요 1.221575396680332\n",
      "편합니다 1.1262275649763331\n",
      "싸고 1.0829276775465175\n",
      "배달 1.058268751551994\n",
      "특가 1.0446585367982852\n",
      "품질이 0.922940949750417\n",
      "쿠폰 0.806245399366454\n",
      "실속있는 0.7946839403845519\n",
      "편함 0.6812296714398015\n",
      "실속있고 0.6669421391406746\n",
      "빠르 0.6217374355748313\n",
      "손쉽게 0.6076240020345423\n",
      "품질 0.6046891957435676\n",
      "특가땜에 0.5771782800785156\n",
      "빨라서 0.5672809358044946\n",
      "싼가격에 0.5651588795258812\n",
      "무료배송 0.5426441743339314\n",
      "쉬워요 0.5307627720515977\n",
      "정확하고 0.5212245109652249\n",
      "간단하고 0.5138351476971466\n"
     ]
    }
   ],
   "source": [
    "for coef in coef_pos_index[:50]:\n",
    "  print(invert_index_vectorizer[coef[1]],coef[0]) #띄어쓰기 ,soynlp konlpy  한국어 "
   ]
  },
  {
   "cell_type": "code",
   "execution_count": 1093,
   "metadata": {},
   "outputs": [
    {
     "name": "stdout",
     "output_type": "stream",
     "text": [
      "안되 -5.183093095623491\n",
      "느려 -2.8306320006698664\n",
      "자꾸 -2.373797560756038\n",
      "느리 -2.00133766260012\n",
      "오류 -1.5038049630311259\n",
      "안됩니다 -1.3359569138997525\n",
      "불편 -1.2090126061049677\n",
      "멈추고 -1.0958056684362276\n",
      "하네요 -1.068416747212576\n",
      "지우고 -1.0056474513536287\n",
      "결제 -0.9826438639132374\n",
      "없다고 -0.9555174325817445\n",
      "멈춤 -0.9165006791798999\n",
      "먹통이고 -0.8692969818359771\n",
      "같은 -0.8606261250804259\n",
      "있다고 -0.8167741161112588\n",
      "기능은 -0.8029467542753129\n",
      "전혀 -0.7917901711391181\n",
      "만든건지 -0.7892981096105641\n",
      "좋았는데 -0.7847713451409528\n",
      "나서 -0.7588981391320189\n",
      "안나오네요 -0.7550516320085234\n",
      "품절전화도 -0.7499675171122001\n",
      "라는 -0.7492430260184848\n",
      "커녕 -0.7472203899485961\n",
      "답답 -0.7447813262288651\n",
      "실행이 -0.7418468303417981\n",
      "떨어짐 -0.7378860888966864\n",
      "말라는거야 -0.7355901602518978\n",
      "예전보다 -0.7342666085537335\n",
      "복잡하고 -0.7305486701406234\n",
      "제시간에온적이 -0.728899073436402\n",
      "힘들었어요 -0.728899073436402\n",
      "어렵고 -0.7255833351142276\n",
      "힘드네요 -0.7126691740372731\n",
      "아오 -0.7070608920181738\n",
      "웹으로 -0.7033424425610182\n",
      "제거하고 -0.7023630827389833\n",
      "이유가 -0.6983238857386245\n",
      "하래서 -0.6970067210467283\n",
      "재설치중 -0.6953022070005761\n",
      "없다 -0.6821848077569542\n",
      "보이는 -0.6797388333410275\n",
      "모든 -0.6776657870777665\n",
      "눌러지지도 -0.6765630984733367\n",
      "본인인증만 -0.6721753340435751\n",
      "백지화면 -0.669517676510626\n",
      "되나요 -0.6686288228855749\n",
      "잘보여서 -0.6609214305715726\n",
      "할때마다 -0.6500112161145983\n",
      "한시간동안 -0.6492783404362278\n",
      "어제부터 -0.6476449100237706\n",
      "안된다고 -0.6465136029940846\n",
      "갈아타고 -0.6443005774253016\n",
      "반응속도가 -0.6420560642514215\n",
      "더니 -0.6419039520488841\n",
      "무한로딩 -0.6388232161038502\n",
      "년생이고 -0.6365272378207182\n",
      "인터넷 -0.6308481953570165\n",
      "입력이 -0.6245558092857721\n",
      "담아지지도 -0.6229809866944357\n",
      "아깝네요 -0.6226081690998607\n",
      "되는거 -0.621520018924375\n",
      "수도 -0.6213612167747801\n",
      "쏙들어요 -0.6184787782389654\n",
      "힘들고 -0.6180356049604441\n",
      "이상하게 -0.6175747271350054\n",
      "담고 -0.6144152641090741\n",
      "개짜증나서 -0.6102550559236264\n",
      "접속상태 -0.6076336500603414\n",
      "답답해서 -0.6053096894924622\n",
      "안주나여ㅠㅠ -0.6043337957356779\n",
      "안주나요 -0.6043337957356779\n",
      "안주죠 -0.6043337957356779\n",
      "왜안줘요 -0.6043337957356779\n",
      "말고 -0.6033234618641441\n",
      "안뜨고 -0.6003857332636047\n",
      "됐다 -0.5989865320758219\n",
      "그게 -0.5980999890780131\n",
      "먹통이 -0.5955222510722895\n",
      "나고 -0.5953745794745798\n",
      "없는 -0.5924457066144494\n",
      "서버가 -0.5916957457990204\n",
      "에러가 -0.5846274834162298\n",
      "한달에 -0.584228553151106\n",
      "몇번째 -0.5814469665779931\n",
      "하려면 -0.5799901418949945\n",
      "하라는거야 -0.5770908914974215\n",
      "같네요ㅡㅡ -0.5763681724448835\n",
      "굿입니다편리해요 -0.5763681724448835\n",
      "다소불편함 -0.5763681724448835\n",
      "대기중이이고 -0.5763681724448835\n",
      "돌려놨으면그리고 -0.5763681724448835\n",
      "무료배송이죠 -0.5763681724448835\n",
      "별주기도 -0.5763681724448835\n",
      "본인인증하면 -0.5763681724448835\n",
      "살인데만세미만가입불가뜨네요 -0.5763681724448835\n",
      "신용카드만결제가되는지ㅡ -0.5763681724448835\n",
      "앱설치시 -0.5763681724448835\n",
      "영문숫자특수문자로 -0.5763681724448835\n"
     ]
    }
   ],
   "source": [
    "for coef in coef_neg_index[:100]:\n",
    "  print(invert_index_vectorizer[coef[1]], coef[0])"
   ]
  },
  {
   "cell_type": "markdown",
   "metadata": {},
   "source": [
    "# 의사결정"
   ]
  },
  {
   "cell_type": "code",
   "execution_count": 1094,
   "metadata": {},
   "outputs": [
    {
     "data": {
      "text/plain": [
       "DecisionTreeClassifier()"
      ]
     },
     "execution_count": 1094,
     "metadata": {},
     "output_type": "execute_result"
    }
   ],
   "source": [
    "dt = DecisionTreeClassifier()\n",
    "dt.fit(X_train, y_train)"
   ]
  },
  {
   "cell_type": "code",
   "execution_count": 1095,
   "metadata": {
    "scrolled": true
   },
   "outputs": [
    {
     "name": "stdout",
     "output_type": "stream",
     "text": [
      "Decision Tree Classifier report: \n",
      "\n",
      "               precision    recall  f1-score   support\n",
      "\n",
      "           0       0.67      0.47      0.55       241\n",
      "           1       0.89      0.95      0.92      1080\n",
      "\n",
      "    accuracy                           0.86      1321\n",
      "   macro avg       0.78      0.71      0.74      1321\n",
      "weighted avg       0.85      0.86      0.85      1321\n",
      "\n",
      "Test Accuracy: 86.15%\n"
     ]
    }
   ],
   "source": [
    "y_pred_dt = dt.predict(X_test)\n",
    "print(\"Decision Tree Classifier report: \\n\\n\", classification_report(y_test, y_pred_dt))\n",
    "print(\"Test Accuracy: {}%\".format(round(dt.score(X_test, y_test)*100, 2)))"
   ]
  },
  {
   "cell_type": "code",
   "execution_count": 1096,
   "metadata": {
    "scrolled": true
   },
   "outputs": [
    {
     "data": {
      "image/png": "[encoded data removed]",
      "text/plain": [
       "<Figure size 504x504 with 2 Axes>"
      ]
     },
     "metadata": {
      "needs_background": "light"
     },
     "output_type": "display_data"
    }
   ],
   "source": [
    "cm = confusion_matrix(y_test, y_pred_dt)\n",
    "x_axis_labels = [\"Edible\", \"Poisonous\"]\n",
    "y_axis_labels = [\"Edible\", \"Poisonous\"]\n",
    "f, ax = plt.subplots(figsize =(7,7))\n",
    "sns.heatmap(cm, annot = True, linewidths=0.2, linecolor=\"black\", fmt = \".0f\", ax=ax, cmap=\"Purples\", xticklabels=x_axis_labels, yticklabels=y_axis_labels)\n",
    "plt.xlabel(\"PREDICTED LABEL\")\n",
    "plt.ylabel(\"TRUE LABEL\")\n",
    "plt.title('Confusion Matrix for Decision Tree Classifier')\n",
    "#plt.savefig(\"dtcm.png\", format='png', dpi=500, bbox_inches='tight')\n",
    "plt.show()"
   ]
  },
  {
   "cell_type": "code",
   "execution_count": 1097,
   "metadata": {
    "scrolled": false
   },
   "outputs": [],
   "source": [
    "# plt.rcParams['figure.figsize'] = [10,8]\n",
    "# plt.bar(range(len(dt.feature_importances_)), dt.feature_importances_)"
   ]
  },
  {
   "cell_type": "code",
   "execution_count": 1098,
   "metadata": {},
   "outputs": [],
   "source": [
    "coef_pos_index = sorted(((value, index ) for index, value in enumerate(dt.feature_importances_)), reverse=True)\n",
    "coef_neg_index = sorted(((value,index) for index, value in enumerate(dt.feature_importances_)), reverse= False)"
   ]
  },
  {
   "cell_type": "code",
   "execution_count": 1099,
   "metadata": {
    "scrolled": false
   },
   "outputs": [
    {
     "name": "stdout",
     "output_type": "stream",
     "text": [
      "안되 0.11538675120497675\n",
      "오류 0.044518205054404514\n",
      "불편 0.0316941674200455\n",
      "느려 0.026489311640350018\n",
      "결제 0.02176062730880651\n",
      "배송 0.02047485425280153\n",
      "할인 0.01583111001063706\n",
      "자꾸 0.011564065774884865\n",
      "저렴 0.011530995014588123\n",
      "느리 0.009633595555006933\n",
      "배달 0.009628096497834693\n",
      "심플리쿡 0.009333675849741855\n",
      "쿠폰 0.009168191179152083\n",
      "간편 0.00879835318873455\n",
      "없다고 0.008742359632177088\n",
      "편리하고 0.008426110347999389\n",
      "가격 0.007580114099475749\n",
      "편하고 0.0072997475208984525\n",
      "편리 0.0072775284828590124\n",
      "신선 0.007151591961457929\n",
      "당일 0.006811821455025118\n",
      "앱이 0.006781984197115302\n",
      "혜택 0.006103171021358788\n",
      "다양 0.0059120962345307\n",
      "편리하 0.005682396125225624\n",
      "있다고 0.005453998850336609\n",
      "세일 0.005152051418720455\n",
      "많고 0.004977965336452875\n",
      "빠른 0.0046687070337910535\n",
      "유용 0.004515289907982565\n",
      "편리합니다 0.004366518781640175\n",
      "이벤트 0.00430656038086647\n",
      "다양한 0.003991992959809761\n",
      "편해요 0.0038242705533648056\n",
      "편하게 0.0035063304353605703\n",
      "아오 0.003288990596708931\n",
      "됩니다 0.0031342315740555777\n",
      "앱도 0.002522678875562144\n",
      "예전보다 0.0024412118627402364\n",
      "빠르 0.002388139932882651\n",
      "지우고 0.002383116508828781\n",
      "담고 0.0023224695550000452\n",
      "하네요 0.002317469926381123\n",
      "안됩니다 0.002308275699812742\n",
      "빨리 0.0022866928399025033\n",
      "안나오네요 0.0022444417167490835\n",
      "좋았는데 0.0022428083920267845\n",
      "눈에 0.002180135898381929\n",
      "깔끔 0.0021191941086439255\n",
      "참고 0.0020822598004855987\n",
      "더니 0.0019627579171743216\n",
      "몇번째 0.0019514263400996358\n",
      "쉽게 0.0019012157752632387\n",
      "편해 0.001875661500314269\n",
      "되고 0.001830699600920235\n",
      "제거하고 0.0017832061301847853\n",
      "왜자꾸 0.0017791701025193485\n",
      "뭐가 0.0017744434464983527\n",
      "멈추고 0.0017657451943096896\n",
      "놓고 0.0017644279424624562\n",
      "후에 0.001757110743481775\n",
      "그것도 0.0017485394715623837\n",
      "없다 0.0017400307636714783\n",
      "안된다고 0.0017148739866552664\n",
      "깔고 0.0017006510468129525\n",
      "아깝네요 0.0016984046801800776\n",
      "본인인증만 0.0016902588543759465\n",
      "빠르고 0.001683959998804447\n",
      "편합니다 0.0015767494534068077\n",
      "기능은 0.001379726235476768\n",
      "존재하지 0.0013744144886607378\n",
      "나서 0.00136913335710006\n",
      "개같은 0.001363882605970229\n",
      "안해놓고 0.001358662002693783\n",
      "빡쳐서 0.0013534713169145868\n",
      "싸게 0.001351824583538084\n",
      "남겨봅니다 0.0013483103204726817\n",
      "온데간데 0.0013431787873785306\n",
      "말고 0.0013380764937892665\n",
      "짱남 0.0013330032179834\n",
      "임시비번 0.0013279587403372825\n",
      "많네요 0.0013271848645340432\n",
      "말라는거야 0.0013229428433011398\n",
      "웹뷰를 0.0013179553113753528\n",
      "나만의 0.0013129959310879242\n",
      "답답 0.0013080644909712249\n",
      "한꺼번에 0.0013031607815392795\n",
      "사람이 0.0012982845952659455\n",
      "년생이고 0.001293435726562878\n",
      "기다려도 0.0012886139717573498\n",
      "그게 0.0012790509986016863\n",
      "편하 0.0012745477411932927\n",
      "변하고 0.0012743093822954233\n",
      "같은 0.0012677437576776162\n",
      "롯데슈퍼로 0.0012649049091083132\n",
      "원딜 0.0012602416652038263\n",
      "눈으로 0.0012556041613759833\n",
      "품절전화도 0.0012533879186325434\n",
      "되는게 0.0012511669736423219\n",
      "하였는데 0.0012509922085334896\n"
     ]
    }
   ],
   "source": [
    "for coef in coef_pos_index[:100]:\n",
    "  print(invert_index_vectorizer[coef[1]],coef[0])"
   ]
  },
  {
   "cell_type": "code",
   "execution_count": 1100,
   "metadata": {
    "scrolled": false
   },
   "outputs": [
    {
     "name": "stdout",
     "output_type": "stream",
     "text": [
      "ㅠㅠㅎ 0.0\n",
      "ㅠㅠㅠㅠㅠㅠㅜㅜㅜㅜㅜㅠ 0.0\n",
      "ㅠㅠ지에스좋은데 0.0\n",
      "ㅠㅡㅠ 0.0\n",
      "ㅠ판매안하시죵 0.0\n",
      "ㅡㅡㅋㅋ 0.0\n",
      "ㅡㅡ개선좀해주세요 0.0\n",
      "ㅡㅡ솔찍히 0.0\n",
      "ㅡ곳은 0.0\n",
      "ㅡ나쳐걸려서 0.0\n",
      "ㅡ분걸림 0.0\n",
      "ㅡ서비스는 0.0\n",
      "ㅡ착한 0.0\n",
      "가게되네요 0.0\n",
      "가게부에 0.0\n",
      "가계부에 0.0\n",
      "가계에 0.0\n",
      "가고 0.0\n",
      "가공식품과 0.0\n",
      "가공식품을 0.0\n",
      "가구가 0.0\n",
      "가구에게 0.0\n",
      "가구요 0.0\n",
      "가기가 0.0\n",
      "가기도 0.0\n",
      "가기에 0.0\n",
      "가까운 0.0\n",
      "가까운곳에 0.0\n",
      "가까운곳이라 0.0\n",
      "가까운매장에서 0.0\n",
      "가까운매장에서바로바로받을수 0.0\n",
      "가까운매장이 0.0\n",
      "가까운지점에서 0.0\n",
      "가까움ㅋㅋ 0.0\n",
      "가까워서 0.0\n",
      "가깝고 0.0\n",
      "가네요 0.0\n",
      "가네욬ㅋㅋㅋㅋㅋ 0.0\n",
      "가느라 0.0\n",
      "가는 0.0\n",
      "가는거 0.0\n",
      "가는것 0.0\n",
      "가는게 0.0\n",
      "가는데 0.0\n",
      "가는하니 0.0\n",
      "가다가 0.0\n",
      "가독성 0.0\n",
      "가독성도 0.0\n",
      "가독성이 0.0\n",
      "가동하는데 0.0\n",
      "가동하려면 0.0\n",
      "가동해야 0.0\n",
      "가득 0.0\n",
      "가득가득 0.0\n",
      "가득하고 0.0\n",
      "가득하네요 0.0\n",
      "가득한 0.0\n",
      "가득합니다 0.0\n",
      "가득해 0.0\n",
      "가뜩이나 0.0\n",
      "가라고 0.0\n",
      "가란다 0.0\n",
      "가려가며 0.0\n",
      "가려면 0.0\n",
      "가려져서 0.0\n",
      "가렵니다 0.0\n",
      "가로에다가 0.0\n",
      "가만히 0.0\n",
      "가면갈수록 0.0\n",
      "가방 0.0\n",
      "가버리고타마트 0.0\n",
      "가벼운마음으로 0.0\n",
      "가벼워졌습니당 0.0\n",
      "가벼워졌어요 0.0\n",
      "가볍게 0.0\n",
      "가볍고 0.0\n",
      "가볍고빨라야지 0.0\n",
      "가보니까 0.0\n",
      "가보면 0.0\n",
      "가봤더니 0.0\n",
      "가서 0.0\n",
      "가서사고말지 0.0\n",
      "가서찾기눌럿더니 0.0\n",
      "가성비가 0.0\n",
      "가성비좋네요 0.0\n",
      "가성비좋은지에스프레쉬 0.0\n",
      "가시성도 0.0\n",
      "가시성이 0.0\n",
      "가식성이 0.0\n",
      "가야할 0.0\n",
      "가야했는데 0.0\n",
      "가있어서 0.0\n",
      "가장많이 0.0\n",
      "가장자리에 0.0\n",
      "가장처음이편리했어요 0.0\n",
      "가전제품이 0.0\n",
      "가점 0.0\n",
      "가정경제에도 0.0\n",
      "가정에 0.0\n",
      "가정에서 0.0\n"
     ]
    }
   ],
   "source": [
    "for coef in coef_neg_index[:100]:\n",
    "  print(invert_index_vectorizer[coef[1]],coef[0])"
   ]
  },
  {
   "cell_type": "markdown",
   "metadata": {},
   "source": [
    "# KNN"
   ]
  },
  {
   "cell_type": "code",
   "execution_count": 1101,
   "metadata": {},
   "outputs": [
    {
     "name": "stdout",
     "output_type": "stream",
     "text": [
      "Best KNN Value: 1\n",
      "Test Accuracy: 98.92%\n"
     ]
    }
   ],
   "source": [
    "from sklearn.neighbors import KNeighborsClassifier\n",
    "best_Kvalue = 0\n",
    "best_score = 0\n",
    "for i in range(1,10):\n",
    "    knn = KNeighborsClassifier(n_neighbors=i)\n",
    "    knn.fit(X_train, y_train)\n",
    "    if knn.score(X_test, y_test) > best_score:\n",
    "        best_score = knn.score(X_train, y_train)\n",
    "        best_Kvalue = i\n",
    "        \n",
    "print(\"Best KNN Value: {}\".format(best_Kvalue))\n",
    "print(\"Test Accuracy: {}%\".format(round(best_score*100,2)))"
   ]
  },
  {
   "cell_type": "code",
   "execution_count": 1102,
   "metadata": {},
   "outputs": [
    {
     "name": "stdout",
     "output_type": "stream",
     "text": [
      "KNN Classifier report: \n",
      "\n",
      "               precision    recall  f1-score   support\n",
      "\n",
      "           0       0.20      0.00      0.01       241\n",
      "           1       0.82      1.00      0.90      1080\n",
      "\n",
      "    accuracy                           0.82      1321\n",
      "   macro avg       0.51      0.50      0.45      1321\n",
      "weighted avg       0.70      0.82      0.74      1321\n",
      "\n"
     ]
    }
   ],
   "source": [
    "y_pred_knn = knn.predict(X_test)\n",
    "print(\"KNN Classifier report: \\n\\n\", classification_report(y_test, y_pred_knn))\n"
   ]
  },
  {
   "cell_type": "code",
   "execution_count": 1103,
   "metadata": {
    "scrolled": false
   },
   "outputs": [
    {
     "data": {
      "image/png": "[encoded data removed]",
      "text/plain": [
       "<Figure size 504x504 with 2 Axes>"
      ]
     },
     "metadata": {
      "needs_background": "light"
     },
     "output_type": "display_data"
    }
   ],
   "source": [
    "cm = confusion_matrix(y_test, y_pred_knn)\n",
    "x_axis_labels = [\"Edible\", \"Poisonous\"]\n",
    "y_axis_labels = [\"Edible\", \"Poisonous\"]\n",
    "f, ax = plt.subplots(figsize =(7,7))\n",
    "sns.heatmap(cm, annot = True, linewidths=0.2, linecolor=\"black\", fmt = \".0f\", ax=ax, cmap=\"Purples\", xticklabels=x_axis_labels, yticklabels=y_axis_labels)\n",
    "plt.xlabel(\"PREDICTED LABEL\")\n",
    "plt.ylabel(\"TRUE LABEL\")\n",
    "plt.title('Confusion Matrix for KNN Classifier')\n",
    "#plt.savefig(\"knncm.png\", format='png', dpi=500, bbox_inches='tight')\n",
    "plt.show()"
   ]
  },
  {
   "cell_type": "markdown",
   "metadata": {},
   "source": [
    "# svm"
   ]
  },
  {
   "cell_type": "code",
   "execution_count": 1104,
   "metadata": {},
   "outputs": [
    {
     "name": "stdout",
     "output_type": "stream",
     "text": [
      "Test Accuracy: 81.76%\n"
     ]
    }
   ],
   "source": [
    "from sklearn.svm import SVC\n",
    "svm = SVC(random_state=42, gamma=\"auto\")\n",
    "svm.fit(X_train, y_train)\n",
    "print(\"Test Accuracy: {}%\".format(round(svm.score(X_test, y_test)*100, 2)))\n"
   ]
  },
  {
   "cell_type": "code",
   "execution_count": 1105,
   "metadata": {},
   "outputs": [
    {
     "name": "stdout",
     "output_type": "stream",
     "text": [
      "SVM Classifier report: \n",
      "\n",
      "               precision    recall  f1-score   support\n",
      "\n",
      "           0       0.00      0.00      0.00       241\n",
      "           1       0.82      1.00      0.90      1080\n",
      "\n",
      "    accuracy                           0.82      1321\n",
      "   macro avg       0.41      0.50      0.45      1321\n",
      "weighted avg       0.67      0.82      0.74      1321\n",
      "\n"
     ]
    },
    {
     "name": "stderr",
     "output_type": "stream",
     "text": [
      "D:\\programfiles\\anaconda3\\envs\\pythonopencv\\lib\\site-packages\\sklearn\\metrics\\_classification.py:1221: UndefinedMetricWarning: Precision and F-score are ill-defined and being set to 0.0 in labels with no predicted samples. Use `zero_division` parameter to control this behavior.\n",
      "  _warn_prf(average, modifier, msg_start, len(result))\n"
     ]
    }
   ],
   "source": [
    "y_pred_svm = svm.predict(X_test)\n",
    "print(\"SVM Classifier report: \\n\\n\", classification_report(y_test, y_pred_svm))"
   ]
  },
  {
   "cell_type": "code",
   "execution_count": 1106,
   "metadata": {
    "scrolled": false
   },
   "outputs": [
    {
     "data": {
      "image/png": "[encoded data removed]",
      "text/plain": [
       "<Figure size 504x504 with 2 Axes>"
      ]
     },
     "metadata": {
      "needs_background": "light"
     },
     "output_type": "display_data"
    }
   ],
   "source": [
    "cm = confusion_matrix(y_test, y_pred_svm)\n",
    "x_axis_labels = [\"Edible\", \"Poisonous\"]\n",
    "y_axis_labels = [\"Edible\", \"Poisonous\"]\n",
    "f, ax = plt.subplots(figsize =(7,7))\n",
    "sns.heatmap(cm, annot = True, linewidths=0.2, linecolor=\"black\", fmt = \".0f\", ax=ax, cmap=\"Purples\", xticklabels=x_axis_labels, yticklabels=y_axis_labels)\n",
    "plt.xlabel(\"PREDICTED LABEL\")\n",
    "plt.ylabel(\"TRUE LABEL\")\n",
    "plt.title('Confusion Matrix for SVM Classifier')\n",
    "#plt.savefig(\"svmcm.png\", format='png', dpi=500, bbox_inches='tight')\n",
    "plt.show()"
   ]
  },
  {
   "cell_type": "markdown",
   "metadata": {},
   "source": [
    "# 랜덤포레스트"
   ]
  },
  {
   "cell_type": "code",
   "execution_count": 1107,
   "metadata": {},
   "outputs": [
    {
     "name": "stdout",
     "output_type": "stream",
     "text": [
      "Test Accuracy: 86.75%\n"
     ]
    }
   ],
   "source": [
    "from sklearn.ensemble import RandomForestClassifier\n",
    "rf = RandomForestClassifier(n_estimators=100, random_state=42)\n",
    "rf.fit(X_train, y_train)\n",
    "print(\"Test Accuracy: {}%\".format(round(rf.score(X_test, y_test)*100, 2)))"
   ]
  },
  {
   "cell_type": "code",
   "execution_count": 1108,
   "metadata": {},
   "outputs": [
    {
     "name": "stdout",
     "output_type": "stream",
     "text": [
      "Random Forest Classifier report: \n",
      "\n",
      "               precision    recall  f1-score   support\n",
      "\n",
      "           0       0.81      0.36      0.50       241\n",
      "           1       0.87      0.98      0.92      1080\n",
      "\n",
      "    accuracy                           0.87      1321\n",
      "   macro avg       0.84      0.67      0.71      1321\n",
      "weighted avg       0.86      0.87      0.85      1321\n",
      "\n"
     ]
    }
   ],
   "source": [
    "y_pred_rf = rf.predict(X_test)\n",
    "print(\"Random Forest Classifier report: \\n\\n\", classification_report(y_test, y_pred_rf))"
   ]
  },
  {
   "cell_type": "code",
   "execution_count": 1109,
   "metadata": {},
   "outputs": [
    {
     "data": {
      "image/png": "[encoded data removed]",
      "text/plain": [
       "<Figure size 504x504 with 2 Axes>"
      ]
     },
     "metadata": {
      "needs_background": "light"
     },
     "output_type": "display_data"
    }
   ],
   "source": [
    "cm = confusion_matrix(y_test, y_pred_rf)\n",
    "x_axis_labels = [\"Edible\", \"Poisonous\"]\n",
    "y_axis_labels = [\"Edible\", \"Poisonous\"]\n",
    "f, ax = plt.subplots(figsize =(7,7))\n",
    "sns.heatmap(cm, annot = True, linewidths=0.2, linecolor=\"black\", fmt = \".0f\", ax=ax, cmap=\"Purples\", xticklabels=x_axis_labels, yticklabels=y_axis_labels)\n",
    "plt.xlabel(\"PREDICTED LABEL\")\n",
    "plt.ylabel(\"TRUE LABEL\")\n",
    "plt.title('Confusion Matrix for Random Forest Classifier');\n",
    "#plt.savefig(\"rfcm.png\", format='png', dpi=500, bbox_inches='tight')\n",
    "plt.show()"
   ]
  },
  {
   "cell_type": "code",
   "execution_count": 1110,
   "metadata": {},
   "outputs": [],
   "source": [
    "# plt.rcParams['figure.figsize'] = [10,8]\n",
    "# plt.bar(range(len(rf.feature_importances_)), rf.feature_importances_)"
   ]
  },
  {
   "cell_type": "code",
   "execution_count": 1111,
   "metadata": {},
   "outputs": [],
   "source": [
    "coef_pos_index = sorted(((value, index ) for index, value in enumerate(rf.feature_importances_)), reverse=True)\n",
    "coef_neg_index = sorted(((value,index) for index, value in enumerate(rf.feature_importances_)), reverse= False)"
   ]
  },
  {
   "cell_type": "code",
   "execution_count": 1112,
   "metadata": {},
   "outputs": [
    {
     "name": "stdout",
     "output_type": "stream",
     "text": [
      "안되 0.05370818727517311\n",
      "오류 0.017902450561013892\n",
      "느려 0.012727673196010746\n",
      "불편 0.01246370184507404\n",
      "배송 0.012183636340536496\n",
      "할인 0.012043394999911212\n",
      "자꾸 0.010561580334228854\n",
      "결제 0.010242034907983468\n",
      "느리 0.007589010435940648\n",
      "신선 0.0072357462524174675\n",
      "저렴 0.0064286247159428475\n",
      "편리하고 0.006108443228859595\n",
      "안됩니다 0.00586915815355707\n",
      "편리 0.005853265556453905\n",
      "가격 0.0050225587074651185\n",
      "앱이 0.0050077098032892085\n",
      "심플리쿡 0.004533449261495344\n",
      "없다고 0.004527579166248609\n",
      "이벤트 0.004081112917504558\n",
      "편리하 0.003995835308569304\n",
      "간편 0.0038862110170830963\n",
      "지우고 0.0034970822505875064\n",
      "다양 0.0034102146913549255\n",
      "편하고 0.003126504815858207\n",
      "다양한 0.0030650853019420104\n",
      "빠르고 0.0029889599176339612\n",
      "빠른 0.0023653345491627116\n",
      "멈추고 0.0023371990281641874\n",
      "나서 0.002233723532502721\n",
      "쿠폰 0.0022310525977477028\n",
      "유용 0.0021429042617755814\n",
      "하네요 0.0020991547696386638\n",
      "당일 0.001976970409565176\n",
      "있다고 0.0019424403965367489\n",
      "전혀 0.0018819990132854507\n",
      "혜택 0.001860376603613597\n",
      "많고 0.0018329551783822162\n",
      "편하게 0.0018313604542494902\n",
      "세일 0.0016676022715626608\n",
      "뭐가 0.0016563312856625035\n",
      "편리합니다 0.0015889244812809433\n",
      "안된다고 0.001586315250300909\n",
      "라는 0.0015651233772950729\n",
      "같은 0.0015096905043351645\n",
      "기능은 0.0014985266298918809\n",
      "언제쯤 0.0014425606415672803\n",
      "되고 0.0014385918151173203\n",
      "빠르 0.0014306871728794182\n",
      "배달 0.0014264928528920056\n",
      "먹통이고 0.0014019579789847374\n",
      "답답해서 0.001383765054779053\n",
      "같은데 0.001346996532698599\n",
      "복잡하고 0.0013205527948261311\n",
      "아오 0.0013123285808350864\n",
      "개짜증나서 0.0013079260670059915\n",
      "모든 0.0012752951963859954\n",
      "후에 0.0012731744923938542\n",
      "빨리 0.0012611394491726963\n",
      "예전보다 0.0012228640106943323\n",
      "영문숫자특수문자로 0.0012181332383138482\n",
      "에러가 0.001210970761196091\n",
      "다소불편함 0.0012077334958989988\n",
      "신규가입시 0.0011973532441606621\n",
      "말고 0.0011708234124567733\n",
      "해결이 0.0011644255043296457\n",
      "없는 0.0011602991428381825\n",
      "편해요 0.001158293184908999\n",
      "어제부터 0.0011527498736170656\n",
      "아깝네요 0.001150044086473284\n",
      "인터넷 0.0011412938956061737\n",
      "담아지지도 0.0011112541190553416\n",
      "만든건지 0.0011082369874289152\n",
      "제시간에온적이 0.0011045322824907529\n",
      "본인인증하면 0.001098572461142414\n",
      "잘보여서 0.001096367724137216\n",
      "무료배송이죠 0.0010948824541589586\n",
      "왜휴대폰인증실패가뜨나요ㅡㅡ 0.001092250732965069\n",
      "년생이고 0.001078029117721988\n",
      "돌려놨으면그리고 0.0010750230659462884\n",
      "카드결제시맨마지막단계에서계속먹통이되어버리네요핸드폰터치기안되요ㅜㅜ 0.001074884529429889\n",
      "답답 0.0010692801314897984\n",
      "담고 0.0010649088372579837\n",
      "않아 0.0010600426476928325\n",
      "안녕하세요 0.0010570181004322156\n",
      "안주죠 0.001041319660102413\n",
      "별주기도 0.0010395974725267627\n",
      "신용카드만결제가되는지ㅡ 0.0010338162438300676\n",
      "살인데만세미만가입불가뜨네요 0.0010121066383088262\n",
      "제거하고 0.0009969696204323213\n",
      "떨어짐 0.0009782835098582493\n",
      "쿠키지급이안되요 0.0009781642293719367\n",
      "장난아니죠 0.0009675509772214625\n",
      "열받아서 0.0009670445789642981\n",
      "젓까라마이싱가입안됨 0.000963934627100111\n",
      "힘들었어요 0.0009596441665058298\n",
      "힘드네요 0.0009591193249368478\n",
      "앱설치시 0.0009535974233618414\n",
      "없다 0.0009509640658191217\n",
      "품절전화도 0.0009481222647738399\n",
      "페이코 0.0009400644179155258\n"
     ]
    }
   ],
   "source": [
    "for coef in coef_pos_index[:100]:\n",
    "  print(invert_index_vectorizer[coef[1]], coef[0])"
   ]
  },
  {
   "cell_type": "code",
   "execution_count": 1113,
   "metadata": {},
   "outputs": [
    {
     "name": "stdout",
     "output_type": "stream",
     "text": [
      "ㅠ판매안하시죵 0.0\n",
      "ㅡㅡ개선좀해주세요 0.0\n",
      "ㅡㅡ솔찍히 0.0\n",
      "가게부에 0.0\n",
      "가공식품과 0.0\n",
      "가구가 0.0\n",
      "가까운곳이라 0.0\n",
      "가까운매장에서바로바로받을수 0.0\n",
      "가까운매장이 0.0\n",
      "가까운지점에서 0.0\n",
      "가느라 0.0\n",
      "가는데 0.0\n",
      "가득가득 0.0\n",
      "가득하네요 0.0\n",
      "가득한 0.0\n",
      "가득합니다 0.0\n",
      "가득해 0.0\n",
      "가라고 0.0\n",
      "가만히 0.0\n",
      "가버리고타마트 0.0\n",
      "가볍고빨라야지 0.0\n",
      "가보면 0.0\n",
      "가서찾기눌럿더니 0.0\n",
      "가야할 0.0\n",
      "가야했는데 0.0\n",
      "가있어서 0.0\n",
      "가전제품이 0.0\n",
      "가정경제에도 0.0\n",
      "가정에 0.0\n",
      "가정에서 0.0\n",
      "가져가 0.0\n",
      "가져가는상품이 0.0\n",
      "가져가세요 0.0\n",
      "가져갈 0.0\n",
      "가져다준다니까요 0.0\n",
      "가져오면 0.0\n",
      "가졌고요 0.0\n",
      "가족간에 0.0\n",
      "가족단위면 0.0\n",
      "가족들과 0.0\n",
      "가족들도 0.0\n",
      "가족입니다 0.0\n",
      "가지게 0.0\n",
      "가지만 0.0\n",
      "가지않고 0.0\n",
      "각도를 0.0\n",
      "각종오류 0.0\n",
      "각종쿠폰으로 0.0\n",
      "각종할인이 0.0\n",
      "간다 0.0\n",
      "간단했고 0.0\n",
      "간식을 0.0\n",
      "간이 0.0\n",
      "갈때마다 0.0\n",
      "갈아치워야 0.0\n",
      "갈아탈까 0.0\n",
      "갈아탈일 0.0\n",
      "감감무소식이네요 0.0\n",
      "감감무소식참다참다 0.0\n",
      "감격스러워요 0.0\n",
      "감바스랑 0.0\n",
      "감바스먹을때 0.0\n",
      "감수하고남습니다 0.0\n",
      "감안해도 0.0\n",
      "갑갑합니다 0.0\n",
      "갑니다용 0.0\n",
      "갑인 0.0\n",
      "갑작스럽게 0.0\n",
      "갑작스레 0.0\n",
      "값도 0.0\n",
      "갔는데 0.0\n",
      "갔더니 0.0\n",
      "강제종료에가장 0.0\n",
      "강추인걸요 0.0\n",
      "강추하고 0.0\n",
      "강추합니닷 0.0\n",
      "갖고왔는데 0.0\n",
      "갖춰주시길 0.0\n",
      "같은게 0.0\n",
      "같은데ㅠㅠ 0.0\n",
      "개떡이네 0.0\n",
      "개발건을 0.0\n",
      "개발관리가 0.0\n",
      "개발시키고 0.0\n",
      "개발자님아 0.0\n",
      "개발자님을 0.0\n",
      "개발자도 0.0\n",
      "개별품옥 0.0\n",
      "개불편함 0.0\n",
      "개빡칩니다 0.0\n",
      "개웃기네 0.0\n",
      "개이상으로 0.0\n",
      "개인개발자가해도 0.0\n",
      "개인정보동의는 0.0\n",
      "개인정보를 0.0\n",
      "개짜증 0.0\n",
      "개짜증남 0.0\n",
      "개편되어 0.0\n",
      "객관적인 0.0\n",
      "갠적으론 0.0\n"
     ]
    }
   ],
   "source": [
    "for coef in coef_neg_index[:100]:\n",
    "  print(invert_index_vectorizer[coef[1]],coef[0])"
   ]
  }
 ],
 "metadata": {
  "kernelspec": {
   "display_name": "Python 3",
   "language": "python",
   "name": "python3"
  },
  "language_info": {
   "codemirror_mode": {
    "name": "ipython",
    "version": 3
   },
   "file_extension": ".py",
   "mimetype": "text/x-python",
   "name": "python",
   "nbconvert_exporter": "python",
   "pygments_lexer": "ipython3",
   "version": "3.6.10"
  }
 },
 "nbformat": 4,
 "nbformat_minor": 4
}
