{
 "cells": [
  {
   "cell_type": "code",
   "execution_count": 76,
   "metadata": {},
   "outputs": [
    {
     "name": "stderr",
     "output_type": "stream",
     "text": [
      "C:\\Users\\jby\\AppData\\Local\\Continuum\\anaconda3\\envs\\textmining\\lib\\site-packages\\konlpy\\tag\\_okt.py:16: UserWarning: \"Twitter\" has changed to \"Okt\" since KoNLPy v0.4.5.\n",
      "  warn('\"Twitter\" has changed to \"Okt\" since KoNLPy v0.4.5.')\n"
     ]
    }
   ],
   "source": [
    "from datetime import datetime\n",
    "import pandas as pd\n",
    "import matplotlib.pyplot as plt\n",
    "%matplotlib inline\n",
    "from konlpy.tag import Twitter\n",
    "twt = Twitter()\n",
    "from hanspell import spell_checker\n",
    "import re\n",
    "from konlpy.tag import Okt\n",
    "from collections import Counter\n",
    "from sklearn.feature_extraction.text import CountVectorizer\n",
    "from konlpy.tag import Kkma\n",
    "from sklearn.linear_model import Lasso\n",
    "from sklearn.feature_extraction.text import TfidfTransformer\n",
    "from sklearn.model_selection import train_test_split\n",
    "from sklearn.linear_model import LogisticRegression\n",
    "from sklearn.metrics import accuracy_score, precision_score, recall_score, f1_score\n",
    "from sklearn.metrics import confusion_matrix\n",
    "import numpy as np\n",
    "import seaborn as sns\n",
    "import tensorflow as tf\n",
    "import os\n",
    "from tqdm.notebook import tqdm\n",
    "\n",
    "# import graphviz\n",
    "from sklearn.preprocessing import LabelEncoder\n",
    "from sklearn.tree import DecisionTreeClassifier\n",
    "from sklearn.metrics import classification_report, confusion_matrix, precision_recall_curve, auc, roc_curve\n",
    "from sklearn.tree import DecisionTreeClassifier, export_graphviz\n",
    "from sklearn.metrics import mean_absolute_error, mean_squared_error\n",
    "from sklearn.model_selection import cross_val_score\n",
    "from sklearn.model_selection import KFold"
   ]
  },
  {
   "cell_type": "code",
   "execution_count": 2,
   "metadata": {
    "scrolled": true
   },
   "outputs": [
    {
     "data": {
      "text/html": [
       "<div>\n",
       "<style scoped>\n",
       "    .dataframe tbody tr th:only-of-type {\n",
       "        vertical-align: middle;\n",
       "    }\n",
       "\n",
       "    .dataframe tbody tr th {\n",
       "        vertical-align: top;\n",
       "    }\n",
       "\n",
       "    .dataframe thead th {\n",
       "        text-align: right;\n",
       "    }\n",
       "</style>\n",
       "<table border=\"1\" class=\"dataframe\">\n",
       "  <thead>\n",
       "    <tr style=\"text-align: right;\">\n",
       "      <th></th>\n",
       "      <th>name</th>\n",
       "      <th>ratings</th>\n",
       "      <th>date</th>\n",
       "      <th>helpful</th>\n",
       "      <th>comment</th>\n",
       "      <th>developer_comment</th>\n",
       "    </tr>\n",
       "  </thead>\n",
       "  <tbody>\n",
       "    <tr>\n",
       "      <th>0</th>\n",
       "      <td>H J</td>\n",
       "      <td>5</td>\n",
       "      <td>2021-03-10</td>\n",
       "      <td>0</td>\n",
       "      <td>긋긋긋 아주좋아여</td>\n",
       "      <td>NaN</td>\n",
       "    </tr>\n",
       "    <tr>\n",
       "      <th>1</th>\n",
       "      <td>Gwang-Won Woo</td>\n",
       "      <td>5</td>\n",
       "      <td>2021-03-10</td>\n",
       "      <td>0</td>\n",
       "      <td>좋네요</td>\n",
       "      <td>NaN</td>\n",
       "    </tr>\n",
       "    <tr>\n",
       "      <th>2</th>\n",
       "      <td>Olivia Kim</td>\n",
       "      <td>4</td>\n",
       "      <td>2021-03-10</td>\n",
       "      <td>0</td>\n",
       "      <td>정확한 시간에 배달되어 만족합니다.</td>\n",
       "      <td>NaN</td>\n",
       "    </tr>\n",
       "    <tr>\n",
       "      <th>3</th>\n",
       "      <td>hey jin kang</td>\n",
       "      <td>5</td>\n",
       "      <td>2021-03-10</td>\n",
       "      <td>0</td>\n",
       "      <td>좋아요</td>\n",
       "      <td>NaN</td>\n",
       "    </tr>\n",
       "    <tr>\n",
       "      <th>4</th>\n",
       "      <td>이쑤신장군</td>\n",
       "      <td>5</td>\n",
       "      <td>2021-03-10</td>\n",
       "      <td>0</td>\n",
       "      <td>좋아영</td>\n",
       "      <td>NaN</td>\n",
       "    </tr>\n",
       "  </tbody>\n",
       "</table>\n",
       "</div>"
      ],
      "text/plain": [
       "            name  ratings        date  helpful              comment  \\\n",
       "0            H J        5  2021-03-10        0            긋긋긋 아주좋아여   \n",
       "1  Gwang-Won Woo        5  2021-03-10        0                  좋네요   \n",
       "2     Olivia Kim        4  2021-03-10        0  정확한 시간에 배달되어 만족합니다.   \n",
       "3   hey jin kang        5  2021-03-10        0                  좋아요   \n",
       "4          이쑤신장군        5  2021-03-10        0                  좋아영   \n",
       "\n",
       "  developer_comment  \n",
       "0               NaN  \n",
       "1               NaN  \n",
       "2               NaN  \n",
       "3               NaN  \n",
       "4               NaN  "
      ]
     },
     "execution_count": 2,
     "metadata": {},
     "output_type": "execute_result"
    }
   ],
   "source": [
    "df = pd.read_csv('./result/2021-03-10_20-10-56 마켓컬리.csv')\n",
    "df.head()"
   ]
  },
  {
   "cell_type": "code",
   "execution_count": 3,
   "metadata": {
    "scrolled": false
   },
   "outputs": [
    {
     "data": {
      "text/html": [
       "<div>\n",
       "<style scoped>\n",
       "    .dataframe tbody tr th:only-of-type {\n",
       "        vertical-align: middle;\n",
       "    }\n",
       "\n",
       "    .dataframe tbody tr th {\n",
       "        vertical-align: top;\n",
       "    }\n",
       "\n",
       "    .dataframe thead th {\n",
       "        text-align: right;\n",
       "    }\n",
       "</style>\n",
       "<table border=\"1\" class=\"dataframe\">\n",
       "  <thead>\n",
       "    <tr style=\"text-align: right;\">\n",
       "      <th></th>\n",
       "      <th>ratings</th>\n",
       "      <th>helpful</th>\n",
       "    </tr>\n",
       "  </thead>\n",
       "  <tbody>\n",
       "    <tr>\n",
       "      <th>count</th>\n",
       "      <td>6890.000000</td>\n",
       "      <td>6890.000000</td>\n",
       "    </tr>\n",
       "    <tr>\n",
       "      <th>mean</th>\n",
       "      <td>4.353266</td>\n",
       "      <td>1.380697</td>\n",
       "    </tr>\n",
       "    <tr>\n",
       "      <th>std</th>\n",
       "      <td>1.248727</td>\n",
       "      <td>8.535908</td>\n",
       "    </tr>\n",
       "    <tr>\n",
       "      <th>min</th>\n",
       "      <td>1.000000</td>\n",
       "      <td>0.000000</td>\n",
       "    </tr>\n",
       "    <tr>\n",
       "      <th>25%</th>\n",
       "      <td>4.000000</td>\n",
       "      <td>0.000000</td>\n",
       "    </tr>\n",
       "    <tr>\n",
       "      <th>50%</th>\n",
       "      <td>5.000000</td>\n",
       "      <td>0.000000</td>\n",
       "    </tr>\n",
       "    <tr>\n",
       "      <th>75%</th>\n",
       "      <td>5.000000</td>\n",
       "      <td>0.000000</td>\n",
       "    </tr>\n",
       "    <tr>\n",
       "      <th>max</th>\n",
       "      <td>5.000000</td>\n",
       "      <td>283.000000</td>\n",
       "    </tr>\n",
       "  </tbody>\n",
       "</table>\n",
       "</div>"
      ],
      "text/plain": [
       "           ratings      helpful\n",
       "count  6890.000000  6890.000000\n",
       "mean      4.353266     1.380697\n",
       "std       1.248727     8.535908\n",
       "min       1.000000     0.000000\n",
       "25%       4.000000     0.000000\n",
       "50%       5.000000     0.000000\n",
       "75%       5.000000     0.000000\n",
       "max       5.000000   283.000000"
      ]
     },
     "execution_count": 3,
     "metadata": {},
     "output_type": "execute_result"
    }
   ],
   "source": [
    "df.describe()"
   ]
  },
  {
   "cell_type": "code",
   "execution_count": 4,
   "metadata": {},
   "outputs": [],
   "source": [
    "df = df[['date', 'comment', 'ratings']]"
   ]
  },
  {
   "cell_type": "code",
   "execution_count": 5,
   "metadata": {},
   "outputs": [
    {
     "name": "stdout",
     "output_type": "stream",
     "text": [
      "<class 'pandas.core.frame.DataFrame'>\n",
      "Int64Index: 6890 entries, 0 to 6889\n",
      "Data columns (total 3 columns):\n",
      " #   Column   Non-Null Count  Dtype \n",
      "---  ------   --------------  ----- \n",
      " 0   date     6890 non-null   object\n",
      " 1   comment  6890 non-null   object\n",
      " 2   ratings  6890 non-null   int64 \n",
      "dtypes: int64(1), object(2)\n",
      "memory usage: 215.3+ KB\n"
     ]
    }
   ],
   "source": [
    "df = df.dropna(axis = 0, how = 'any')\n",
    "df.info()"
   ]
  },
  {
   "cell_type": "code",
   "execution_count": 6,
   "metadata": {},
   "outputs": [
    {
     "data": {
      "text/plain": [
       "0                                               긋긋긋 아주좋아여\n",
       "1                                                     좋네요\n",
       "2                                     정확한 시간에 배달되어 만족합니다.\n",
       "3                                                     좋아요\n",
       "4                                                     좋아영\n",
       "                              ...                        \n",
       "6885    아이를 키우며 좋은 식자재에 대한 갈증이 있는데 이렇게  건강하고 신선한 먹거리를 ...\n",
       "6886    아는동생소개로알게된마켓컬리 늦게안게아쉬울정도ㅋㅋ제품퀄리티완젼좋고,포장배송완벽함!내눈...\n",
       "6887                   샛별배송 정말 훌륭합니다. 컬리라면 무조건 믿고 주문~ ^^*\n",
       "6888                              더이상 밤늦게 슈퍼를 헤매고 다니지않아도됨\n",
       "6889                                                 Good\n",
       "Name: comment, Length: 6890, dtype: object"
      ]
     },
     "execution_count": 6,
     "metadata": {},
     "output_type": "execute_result"
    }
   ],
   "source": [
    "df['comment']"
   ]
  },
  {
   "cell_type": "code",
   "execution_count": 7,
   "metadata": {},
   "outputs": [
    {
     "name": "stdout",
     "output_type": "stream",
     "text": [
      "all tags length = 694236 --> 57795, (num_doc = 15602)"
     ]
    },
    {
     "data": {
      "text/html": [
       "<div>\n",
       "<style scoped>\n",
       "    .dataframe tbody tr th:only-of-type {\n",
       "        vertical-align: middle;\n",
       "    }\n",
       "\n",
       "    .dataframe tbody tr th {\n",
       "        vertical-align: top;\n",
       "    }\n",
       "\n",
       "    .dataframe thead th {\n",
       "        text-align: right;\n",
       "    }\n",
       "</style>\n",
       "<table border=\"1\" class=\"dataframe\">\n",
       "  <thead>\n",
       "    <tr style=\"text-align: right;\">\n",
       "      <th></th>\n",
       "      <th>date</th>\n",
       "      <th>comment</th>\n",
       "      <th>ratings</th>\n",
       "    </tr>\n",
       "  </thead>\n",
       "  <tbody>\n",
       "    <tr>\n",
       "      <th>0</th>\n",
       "      <td>2021-03-10</td>\n",
       "      <td>긋긋긋 아주 좋아여</td>\n",
       "      <td>5</td>\n",
       "    </tr>\n",
       "    <tr>\n",
       "      <th>1</th>\n",
       "      <td>2021-03-10</td>\n",
       "      <td>좋네요</td>\n",
       "      <td>5</td>\n",
       "    </tr>\n",
       "    <tr>\n",
       "      <th>2</th>\n",
       "      <td>2021-03-10</td>\n",
       "      <td>정확한 시간에 배달되어 만족합니다.</td>\n",
       "      <td>4</td>\n",
       "    </tr>\n",
       "    <tr>\n",
       "      <th>3</th>\n",
       "      <td>2021-03-10</td>\n",
       "      <td>좋아요</td>\n",
       "      <td>5</td>\n",
       "    </tr>\n",
       "    <tr>\n",
       "      <th>4</th>\n",
       "      <td>2021-03-10</td>\n",
       "      <td>좋아영</td>\n",
       "      <td>5</td>\n",
       "    </tr>\n",
       "  </tbody>\n",
       "</table>\n",
       "</div>"
      ],
      "text/plain": [
       "         date              comment  ratings\n",
       "0  2021-03-10           긋긋긋 아주 좋아여        5\n",
       "1  2021-03-10                  좋네요        5\n",
       "2  2021-03-10  정확한 시간에 배달되어 만족합니다.        4\n",
       "3  2021-03-10                  좋아요        5\n",
       "4  2021-03-10                  좋아영        5"
      ]
     },
     "execution_count": 7,
     "metadata": {},
     "output_type": "execute_result"
    }
   ],
   "source": [
    "from soyspacing.countbase import CountSpace\n",
    "def 띄어쓰기(text):\n",
    "    verbose=False\n",
    "    mc = 10  # min_count\n",
    "    ft = 0.3 # force_abs_threshold\n",
    "    nt =-0.3 # nonspace_threshold\n",
    "    st = 0.3 # space_threshold\n",
    "\n",
    "\n",
    "    sent_corrected, tags = model.correct(\n",
    "    doc=text,\n",
    "    verbose=verbose,\n",
    "    force_abs_threshold=ft,\n",
    "    nonspace_threshold=nt,\n",
    "    space_threshold=st,\n",
    "    min_count=mc)\n",
    "    sent_corrected, tags = model.correct(text)\n",
    "    result = sent_corrected\n",
    "    return result\n",
    "corpus_fname = './result/134963_norm.txt'\n",
    "model = CountSpace()\n",
    "model.train(corpus_fname)    \n",
    "\n",
    "df['comment'] = df['comment'].apply(lambda x: 띄어쓰기(x))\n",
    "df.head()\n",
    "    \n",
    "    "
   ]
  },
  {
   "cell_type": "code",
   "execution_count": 10,
   "metadata": {},
   "outputs": [
    {
     "data": {
      "application/vnd.jupyter.widget-view+json": {
       "model_id": "4b1cad473ace4f98afa5082bc88658a0",
       "version_major": 2,
       "version_minor": 0
      },
      "text/plain": [
       "HBox(children=(FloatProgress(value=0.0, max=6890.0), HTML(value='')))"
      ]
     },
     "metadata": {},
     "output_type": "display_data"
    },
    {
     "name": "stderr",
     "output_type": "stream",
     "text": [
      "C:\\Users\\jby\\AppData\\Local\\Continuum\\anaconda3\\envs\\textmining\\lib\\site-packages\\ipykernel_launcher.py:6: SettingWithCopyWarning: \n",
      "A value is trying to be set on a copy of a slice from a DataFrame\n",
      "\n",
      "See the caveats in the documentation: https://pandas.pydata.org/pandas-docs/stable/user_guide/indexing.html#returning-a-view-versus-a-copy\n",
      "  \n"
     ]
    },
    {
     "name": "stdout",
     "output_type": "stream",
     "text": [
      "\n"
     ]
    }
   ],
   "source": [
    "#맞춤법 검사기\n",
    "for i in tqdm(range(len(df))): \n",
    "    try: \n",
    "        result = spell_checker.check(df['comment'][i])\n",
    "        a= result[1]\n",
    "        df['comment'][i] = a\n",
    "    except: \n",
    "        pass\n",
    "\n"
   ]
  },
  {
   "cell_type": "code",
   "execution_count": 11,
   "metadata": {},
   "outputs": [
    {
     "data": {
      "text/html": [
       "<div>\n",
       "<style scoped>\n",
       "    .dataframe tbody tr th:only-of-type {\n",
       "        vertical-align: middle;\n",
       "    }\n",
       "\n",
       "    .dataframe tbody tr th {\n",
       "        vertical-align: top;\n",
       "    }\n",
       "\n",
       "    .dataframe thead th {\n",
       "        text-align: right;\n",
       "    }\n",
       "</style>\n",
       "<table border=\"1\" class=\"dataframe\">\n",
       "  <thead>\n",
       "    <tr style=\"text-align: right;\">\n",
       "      <th></th>\n",
       "      <th>date</th>\n",
       "      <th>comment</th>\n",
       "      <th>ratings</th>\n",
       "      <th>ko_text</th>\n",
       "    </tr>\n",
       "  </thead>\n",
       "  <tbody>\n",
       "    <tr>\n",
       "      <th>0</th>\n",
       "      <td>2021-03-10</td>\n",
       "      <td>긋긋긋 아주 좋아여</td>\n",
       "      <td>5</td>\n",
       "      <td>긋긋긋 아주 좋아여</td>\n",
       "    </tr>\n",
       "    <tr>\n",
       "      <th>1</th>\n",
       "      <td>2021-03-10</td>\n",
       "      <td>좋네요</td>\n",
       "      <td>5</td>\n",
       "      <td>좋네요</td>\n",
       "    </tr>\n",
       "    <tr>\n",
       "      <th>2</th>\n",
       "      <td>2021-03-10</td>\n",
       "      <td>정확한 시간에 배달되어 만족합니다.</td>\n",
       "      <td>4</td>\n",
       "      <td>정확한 시간에 배달되어 만족합니다</td>\n",
       "    </tr>\n",
       "    <tr>\n",
       "      <th>3</th>\n",
       "      <td>2021-03-10</td>\n",
       "      <td>좋아요</td>\n",
       "      <td>5</td>\n",
       "      <td>좋아요</td>\n",
       "    </tr>\n",
       "    <tr>\n",
       "      <th>4</th>\n",
       "      <td>2021-03-10</td>\n",
       "      <td>좋아영</td>\n",
       "      <td>5</td>\n",
       "      <td>좋아영</td>\n",
       "    </tr>\n",
       "  </tbody>\n",
       "</table>\n",
       "</div>"
      ],
      "text/plain": [
       "         date              comment  ratings             ko_text\n",
       "0  2021-03-10           긋긋긋 아주 좋아여        5          긋긋긋 아주 좋아여\n",
       "1  2021-03-10                  좋네요        5                 좋네요\n",
       "2  2021-03-10  정확한 시간에 배달되어 만족합니다.        4  정확한 시간에 배달되어 만족합니다\n",
       "3  2021-03-10                  좋아요        5                 좋아요\n",
       "4  2021-03-10                  좋아영        5                 좋아영"
      ]
     },
     "execution_count": 11,
     "metadata": {},
     "output_type": "execute_result"
    }
   ],
   "source": [
    "def text_cleaning(text):\n",
    "    hangul = re.compile('[|ㄱ-ㅎ|ㅏ-ㅣ]+') \n",
    "    result = hangul.sub('', text)\n",
    "    hangul = re.compile('[^ ㄱ-ㅣ가-힣]+') \n",
    "    result = hangul.sub('', text)\n",
    "    return result\n",
    "df['ko_text'] = df['comment'].apply(lambda x: text_cleaning(x))\n",
    "df.head()"
   ]
  },
  {
   "cell_type": "code",
   "execution_count": 12,
   "metadata": {},
   "outputs": [],
   "source": [
    "# def text_cleaning2(text):\n",
    "#     hangul = re.compile('[^ ㄱ-ㅣ가-힣]+') \n",
    "#     result = hangul.sub('', text)\n",
    "#     return result"
   ]
  },
  {
   "cell_type": "code",
   "execution_count": 13,
   "metadata": {},
   "outputs": [],
   "source": [
    "# df['ko_text'] = df['ko_text'].apply(lambda x: text_cleaning2(x))\n",
    "# df.head()"
   ]
  },
  {
   "cell_type": "code",
   "execution_count": 14,
   "metadata": {},
   "outputs": [
    {
     "data": {
      "text/html": [
       "<div>\n",
       "<style scoped>\n",
       "    .dataframe tbody tr th:only-of-type {\n",
       "        vertical-align: middle;\n",
       "    }\n",
       "\n",
       "    .dataframe tbody tr th {\n",
       "        vertical-align: top;\n",
       "    }\n",
       "\n",
       "    .dataframe thead th {\n",
       "        text-align: right;\n",
       "    }\n",
       "</style>\n",
       "<table border=\"1\" class=\"dataframe\">\n",
       "  <thead>\n",
       "    <tr style=\"text-align: right;\">\n",
       "      <th></th>\n",
       "      <th>ratings</th>\n",
       "    </tr>\n",
       "  </thead>\n",
       "  <tbody>\n",
       "    <tr>\n",
       "      <th>count</th>\n",
       "      <td>6890.000000</td>\n",
       "    </tr>\n",
       "    <tr>\n",
       "      <th>mean</th>\n",
       "      <td>4.353266</td>\n",
       "    </tr>\n",
       "    <tr>\n",
       "      <th>std</th>\n",
       "      <td>1.248727</td>\n",
       "    </tr>\n",
       "    <tr>\n",
       "      <th>min</th>\n",
       "      <td>1.000000</td>\n",
       "    </tr>\n",
       "    <tr>\n",
       "      <th>25%</th>\n",
       "      <td>4.000000</td>\n",
       "    </tr>\n",
       "    <tr>\n",
       "      <th>50%</th>\n",
       "      <td>5.000000</td>\n",
       "    </tr>\n",
       "    <tr>\n",
       "      <th>75%</th>\n",
       "      <td>5.000000</td>\n",
       "    </tr>\n",
       "    <tr>\n",
       "      <th>max</th>\n",
       "      <td>5.000000</td>\n",
       "    </tr>\n",
       "  </tbody>\n",
       "</table>\n",
       "</div>"
      ],
      "text/plain": [
       "           ratings\n",
       "count  6890.000000\n",
       "mean      4.353266\n",
       "std       1.248727\n",
       "min       1.000000\n",
       "25%       4.000000\n",
       "50%       5.000000\n",
       "75%       5.000000\n",
       "max       5.000000"
      ]
     },
     "execution_count": 14,
     "metadata": {},
     "output_type": "execute_result"
    }
   ],
   "source": [
    "df.describe()"
   ]
  },
  {
   "cell_type": "code",
   "execution_count": 15,
   "metadata": {},
   "outputs": [
    {
     "name": "stdout",
     "output_type": "stream",
     "text": [
      "training was done. used memory 0.745 Gbry 0.742 Gb\n",
      "all cohesion probabilities was computed. # words = 170\n",
      "all branching entropies was computed # words = 8276\n",
      "all accessor variety was computed # words = 8276\n"
     ]
    }
   ],
   "source": [
    "from soynlp.word import WordExtractor\n",
    "from soynlp.word import WordExtractor\n",
    "from soynlp.utils import DoublespaceLineCorpus\n",
    "from soynlp.tokenizer import LTokenizer\n",
    "word_extractor = WordExtractor(min_frequency=100,\n",
    "   min_cohesion_forward=0.05,\n",
    "   min_right_branching_entropy=0.0\n",
    ")\n",
    "word_extractor.train(df['ko_text'].values)\n",
    "words = word_extractor.extract()\n",
    "words\n",
    "\n",
    "cohesion_score = {word:score.cohesion_forward for word, score in words.items()}\n",
    "tokenizer = LTokenizer(scores=cohesion_score)\n"
   ]
  },
  {
   "cell_type": "code",
   "execution_count": 16,
   "metadata": {},
   "outputs": [
    {
     "data": {
      "text/html": [
       "<div>\n",
       "<style scoped>\n",
       "    .dataframe tbody tr th:only-of-type {\n",
       "        vertical-align: middle;\n",
       "    }\n",
       "\n",
       "    .dataframe tbody tr th {\n",
       "        vertical-align: top;\n",
       "    }\n",
       "\n",
       "    .dataframe thead th {\n",
       "        text-align: right;\n",
       "    }\n",
       "</style>\n",
       "<table border=\"1\" class=\"dataframe\">\n",
       "  <thead>\n",
       "    <tr style=\"text-align: right;\">\n",
       "      <th></th>\n",
       "      <th>date</th>\n",
       "      <th>comment</th>\n",
       "      <th>ratings</th>\n",
       "      <th>ko_text</th>\n",
       "      <th>nouns</th>\n",
       "    </tr>\n",
       "  </thead>\n",
       "  <tbody>\n",
       "    <tr>\n",
       "      <th>0</th>\n",
       "      <td>2021-03-10</td>\n",
       "      <td>긋긋긋 아주 좋아여</td>\n",
       "      <td>5</td>\n",
       "      <td>긋긋긋 아주 좋아여</td>\n",
       "      <td>[긋긋긋, 아주, 좋아]</td>\n",
       "    </tr>\n",
       "    <tr>\n",
       "      <th>1</th>\n",
       "      <td>2021-03-10</td>\n",
       "      <td>좋네요</td>\n",
       "      <td>5</td>\n",
       "      <td>좋네요</td>\n",
       "      <td>[좋네요]</td>\n",
       "    </tr>\n",
       "    <tr>\n",
       "      <th>2</th>\n",
       "      <td>2021-03-10</td>\n",
       "      <td>정확한 시간에 배달되어 만족합니다.</td>\n",
       "      <td>4</td>\n",
       "      <td>정확한 시간에 배달되어 만족합니다</td>\n",
       "      <td>[정확한, 시간에, 배달, 만족합니다]</td>\n",
       "    </tr>\n",
       "    <tr>\n",
       "      <th>3</th>\n",
       "      <td>2021-03-10</td>\n",
       "      <td>좋아요</td>\n",
       "      <td>5</td>\n",
       "      <td>좋아요</td>\n",
       "      <td>[좋아요]</td>\n",
       "    </tr>\n",
       "    <tr>\n",
       "      <th>4</th>\n",
       "      <td>2021-03-10</td>\n",
       "      <td>좋아영</td>\n",
       "      <td>5</td>\n",
       "      <td>좋아영</td>\n",
       "      <td>[좋아]</td>\n",
       "    </tr>\n",
       "    <tr>\n",
       "      <th>...</th>\n",
       "      <td>...</td>\n",
       "      <td>...</td>\n",
       "      <td>...</td>\n",
       "      <td>...</td>\n",
       "      <td>...</td>\n",
       "    </tr>\n",
       "    <tr>\n",
       "      <th>6885</th>\n",
       "      <td>2016-03-02</td>\n",
       "      <td>아이를 키우며 좋은 식자재에 대한 갈증이 있는데 이렇게 건강하고 신선한 먹거리를 쉽...</td>\n",
       "      <td>5</td>\n",
       "      <td>아이를 키우며 좋은 식자재에 대한 갈증이 있는데 이렇게 건강하고 신선한 먹거리를 쉽...</td>\n",
       "      <td>[아이를, 키우며, 좋은, 식자재에, 대한, 갈증이, 있는, 이렇게, 건강하고, 신...</td>\n",
       "    </tr>\n",
       "    <tr>\n",
       "      <th>6886</th>\n",
       "      <td>2016-03-02</td>\n",
       "      <td>아는동생소개로알게된마켓컬리 늦게안게아쉬울정도ㅋㅋ제품퀄리티완젼좋고,포장배송완벽함!내눈...</td>\n",
       "      <td>5</td>\n",
       "      <td>아는동생소개로알게된마켓컬리 늦게안게아쉬울정도ㅋㅋ제품퀄리티완젼좋고포장배송완벽함내눈으로...</td>\n",
       "      <td>[아는동생소개로알게된마켓컬리, 늦게안게아쉬울정도ㅋㅋ제품퀄리티완젼좋고포장배송완벽함내눈...</td>\n",
       "    </tr>\n",
       "    <tr>\n",
       "      <th>6887</th>\n",
       "      <td>2016-03-02</td>\n",
       "      <td>샛별배송 정말 훌륭합니다. 컬리라면 무조건 믿고 주문~ ^^*</td>\n",
       "      <td>5</td>\n",
       "      <td>샛별배송 정말 훌륭합니다 컬리라면 무조건 믿고 주문</td>\n",
       "      <td>[샛별, 정말, 훌륭합니다, 컬리, 무조건, 믿고, 주문]</td>\n",
       "    </tr>\n",
       "    <tr>\n",
       "      <th>6888</th>\n",
       "      <td>2016-03-01</td>\n",
       "      <td>더이상 밤늦게 슈퍼를 헤매고 다니지않아도됨</td>\n",
       "      <td>5</td>\n",
       "      <td>더이상 밤늦게 슈퍼를 헤매고 다니지않아도됨</td>\n",
       "      <td>[더이상, 밤늦게, 슈퍼를, 헤매고, 다니지않아도됨]</td>\n",
       "    </tr>\n",
       "    <tr>\n",
       "      <th>6889</th>\n",
       "      <td>2016-03-01</td>\n",
       "      <td>Good</td>\n",
       "      <td>5</td>\n",
       "      <td></td>\n",
       "      <td>[]</td>\n",
       "    </tr>\n",
       "  </tbody>\n",
       "</table>\n",
       "<p>6890 rows × 5 columns</p>\n",
       "</div>"
      ],
      "text/plain": [
       "            date                                            comment  ratings  \\\n",
       "0     2021-03-10                                         긋긋긋 아주 좋아여        5   \n",
       "1     2021-03-10                                                좋네요        5   \n",
       "2     2021-03-10                                정확한 시간에 배달되어 만족합니다.        4   \n",
       "3     2021-03-10                                                좋아요        5   \n",
       "4     2021-03-10                                                좋아영        5   \n",
       "...          ...                                                ...      ...   \n",
       "6885  2016-03-02  아이를 키우며 좋은 식자재에 대한 갈증이 있는데 이렇게 건강하고 신선한 먹거리를 쉽...        5   \n",
       "6886  2016-03-02  아는동생소개로알게된마켓컬리 늦게안게아쉬울정도ㅋㅋ제품퀄리티완젼좋고,포장배송완벽함!내눈...        5   \n",
       "6887  2016-03-02                 샛별배송 정말 훌륭합니다. 컬리라면 무조건 믿고 주문~ ^^*        5   \n",
       "6888  2016-03-01                            더이상 밤늦게 슈퍼를 헤매고 다니지않아도됨        5   \n",
       "6889  2016-03-01                                               Good        5   \n",
       "\n",
       "                                                ko_text  \\\n",
       "0                                            긋긋긋 아주 좋아여   \n",
       "1                                                   좋네요   \n",
       "2                                    정확한 시간에 배달되어 만족합니다   \n",
       "3                                                   좋아요   \n",
       "4                                                   좋아영   \n",
       "...                                                 ...   \n",
       "6885  아이를 키우며 좋은 식자재에 대한 갈증이 있는데 이렇게 건강하고 신선한 먹거리를 쉽...   \n",
       "6886  아는동생소개로알게된마켓컬리 늦게안게아쉬울정도ㅋㅋ제품퀄리티완젼좋고포장배송완벽함내눈으로...   \n",
       "6887                      샛별배송 정말 훌륭합니다 컬리라면 무조건 믿고 주문    \n",
       "6888                            더이상 밤늦게 슈퍼를 헤매고 다니지않아도됨   \n",
       "6889                                                      \n",
       "\n",
       "                                                  nouns  \n",
       "0                                         [긋긋긋, 아주, 좋아]  \n",
       "1                                                 [좋네요]  \n",
       "2                                 [정확한, 시간에, 배달, 만족합니다]  \n",
       "3                                                 [좋아요]  \n",
       "4                                                  [좋아]  \n",
       "...                                                 ...  \n",
       "6885  [아이를, 키우며, 좋은, 식자재에, 대한, 갈증이, 있는, 이렇게, 건강하고, 신...  \n",
       "6886  [아는동생소개로알게된마켓컬리, 늦게안게아쉬울정도ㅋㅋ제품퀄리티완젼좋고포장배송완벽함내눈...  \n",
       "6887                   [샛별, 정말, 훌륭합니다, 컬리, 무조건, 믿고, 주문]  \n",
       "6888                      [더이상, 밤늦게, 슈퍼를, 헤매고, 다니지않아도됨]  \n",
       "6889                                                 []  \n",
       "\n",
       "[6890 rows x 5 columns]"
      ]
     },
     "execution_count": 16,
     "metadata": {},
     "output_type": "execute_result"
    }
   ],
   "source": [
    "df['nouns'] = df['ko_text'].apply(lambda x: tokenizer.tokenize(x, remove_r=True)) # L과 R 분리하여 R은 삭제\n",
    "df"
   ]
  },
  {
   "cell_type": "code",
   "execution_count": 17,
   "metadata": {
    "scrolled": true
   },
   "outputs": [
    {
     "data": {
      "text/html": [
       "<div>\n",
       "<style scoped>\n",
       "    .dataframe tbody tr th:only-of-type {\n",
       "        vertical-align: middle;\n",
       "    }\n",
       "\n",
       "    .dataframe tbody tr th {\n",
       "        vertical-align: top;\n",
       "    }\n",
       "\n",
       "    .dataframe thead th {\n",
       "        text-align: right;\n",
       "    }\n",
       "</style>\n",
       "<table border=\"1\" class=\"dataframe\">\n",
       "  <thead>\n",
       "    <tr style=\"text-align: right;\">\n",
       "      <th></th>\n",
       "      <th>ratings</th>\n",
       "    </tr>\n",
       "  </thead>\n",
       "  <tbody>\n",
       "    <tr>\n",
       "      <th>count</th>\n",
       "      <td>6890.000000</td>\n",
       "    </tr>\n",
       "    <tr>\n",
       "      <th>mean</th>\n",
       "      <td>4.353266</td>\n",
       "    </tr>\n",
       "    <tr>\n",
       "      <th>std</th>\n",
       "      <td>1.248727</td>\n",
       "    </tr>\n",
       "    <tr>\n",
       "      <th>min</th>\n",
       "      <td>1.000000</td>\n",
       "    </tr>\n",
       "    <tr>\n",
       "      <th>25%</th>\n",
       "      <td>4.000000</td>\n",
       "    </tr>\n",
       "    <tr>\n",
       "      <th>50%</th>\n",
       "      <td>5.000000</td>\n",
       "    </tr>\n",
       "    <tr>\n",
       "      <th>75%</th>\n",
       "      <td>5.000000</td>\n",
       "    </tr>\n",
       "    <tr>\n",
       "      <th>max</th>\n",
       "      <td>5.000000</td>\n",
       "    </tr>\n",
       "  </tbody>\n",
       "</table>\n",
       "</div>"
      ],
      "text/plain": [
       "           ratings\n",
       "count  6890.000000\n",
       "mean      4.353266\n",
       "std       1.248727\n",
       "min       1.000000\n",
       "25%       4.000000\n",
       "50%       5.000000\n",
       "75%       5.000000\n",
       "max       5.000000"
      ]
     },
     "execution_count": 17,
     "metadata": {},
     "output_type": "execute_result"
    }
   ],
   "source": [
    "df.describe()"
   ]
  },
  {
   "cell_type": "code",
   "execution_count": 18,
   "metadata": {},
   "outputs": [],
   "source": [
    "df = df.reset_index()\n",
    "del df['index']"
   ]
  },
  {
   "cell_type": "code",
   "execution_count": 85,
   "metadata": {},
   "outputs": [],
   "source": [
    "# 한국어 약식 불용어사전 파일 출처 - (https://www.ranks.nl/stopwords/korean)\n",
    "korean_stopwords_path = \"./korean_stopwords2.txt\"\n",
    "with open(korean_stopwords_path, encoding='utf8') as f:\n",
    "    stopwords = f.readlines()\n",
    "stopwords = [x.strip() for x in stopwords]\n",
    "\n",
    "def get_nouns(x):\n",
    "#     nouns_tagger = tokenizer\n",
    "#     nouns = nouns_tagger.tokenize(x, remove_r=True)\n",
    "    nouns_tagger2 = Kkma()\n",
    "    nouns = nouns_tagger2.nouns(x)\n",
    "    \n",
    "    # 한글자 키워드를 제거합니다.\n",
    "    nouns = [noun for noun in nouns if len(noun) > 1]\n",
    "    \n",
    "    # 불용어를 제거합니다.\n",
    "    nouns = [noun for noun in nouns if noun not in stopwords]\n",
    "    \n",
    "    return nouns"
   ]
  },
  {
   "cell_type": "code",
   "execution_count": 86,
   "metadata": {},
   "outputs": [
    {
     "name": "stdout",
     "output_type": "stream",
     "text": [
      "(3479, 6)\n"
     ]
    },
    {
     "data": {
      "text/html": [
       "<div>\n",
       "<style scoped>\n",
       "    .dataframe tbody tr th:only-of-type {\n",
       "        vertical-align: middle;\n",
       "    }\n",
       "\n",
       "    .dataframe tbody tr th {\n",
       "        vertical-align: top;\n",
       "    }\n",
       "\n",
       "    .dataframe thead th {\n",
       "        text-align: right;\n",
       "    }\n",
       "</style>\n",
       "<table border=\"1\" class=\"dataframe\">\n",
       "  <thead>\n",
       "    <tr style=\"text-align: right;\">\n",
       "      <th></th>\n",
       "      <th>date</th>\n",
       "      <th>comment</th>\n",
       "      <th>ratings</th>\n",
       "      <th>ko_text</th>\n",
       "      <th>nouns</th>\n",
       "      <th>y</th>\n",
       "    </tr>\n",
       "  </thead>\n",
       "  <tbody>\n",
       "    <tr>\n",
       "      <th>0</th>\n",
       "      <td>2021-03-10</td>\n",
       "      <td>정확한 시간에 배달되어 만족합니다.</td>\n",
       "      <td>4</td>\n",
       "      <td>정확한 시간에 배달되어 만족합니다</td>\n",
       "      <td>[정확]</td>\n",
       "      <td>1</td>\n",
       "    </tr>\n",
       "    <tr>\n",
       "      <th>1</th>\n",
       "      <td>2021-03-10</td>\n",
       "      <td>간편해서 좋아요</td>\n",
       "      <td>5</td>\n",
       "      <td>간편해서 좋아요</td>\n",
       "      <td>[간편]</td>\n",
       "      <td>1</td>\n",
       "    </tr>\n",
       "    <tr>\n",
       "      <th>2</th>\n",
       "      <td>2021-03-10</td>\n",
       "      <td>신선한 제품을 빠른 배송과 가격도 만족할수 있어 좋아요.</td>\n",
       "      <td>5</td>\n",
       "      <td>신선한 제품을 빠른 배송과 가격도 만족할수 있어 좋아요</td>\n",
       "      <td>[배송, 가격]</td>\n",
       "      <td>1</td>\n",
       "    </tr>\n",
       "    <tr>\n",
       "      <th>3</th>\n",
       "      <td>2021-03-10</td>\n",
       "      <td>상품의 질이 다른 오픈마켓 보다 좋네요~퀄리티가 달라요 특히 음식 시켜보니 믿음이 가네요</td>\n",
       "      <td>5</td>\n",
       "      <td>상품의 질이 다른 오픈마켓 보다 좋네요퀄리티가 달라요 특히 음식 시켜보니 믿음이 가네요</td>\n",
       "      <td>[오픈, 오픈마켓, 퀄리티, 믿음]</td>\n",
       "      <td>1</td>\n",
       "    </tr>\n",
       "    <tr>\n",
       "      <th>4</th>\n",
       "      <td>2021-03-10</td>\n",
       "      <td>추. ㅊ ..ㅓ.ㅇ .ㅣ : ( 222444 )친환경 재료에 신선한 완전 최고에요....</td>\n",
       "      <td>5</td>\n",
       "      <td>추 ㅊ ㅓㅇ ㅣ    친환경 재료에 신선한 완전 최고에요상품마다 별점 주는 게 있으...</td>\n",
       "      <td>[재료, 별점, 판단, 스토어]</td>\n",
       "      <td>1</td>\n",
       "    </tr>\n",
       "  </tbody>\n",
       "</table>\n",
       "</div>"
      ],
      "text/plain": [
       "         date                                            comment  ratings  \\\n",
       "0  2021-03-10                                정확한 시간에 배달되어 만족합니다.        4   \n",
       "1  2021-03-10                                           간편해서 좋아요        5   \n",
       "2  2021-03-10                    신선한 제품을 빠른 배송과 가격도 만족할수 있어 좋아요.        5   \n",
       "3  2021-03-10  상품의 질이 다른 오픈마켓 보다 좋네요~퀄리티가 달라요 특히 음식 시켜보니 믿음이 가네요        5   \n",
       "4  2021-03-10  추. ㅊ ..ㅓ.ㅇ .ㅣ : ( 222444 )친환경 재료에 신선한 완전 최고에요....        5   \n",
       "\n",
       "                                             ko_text                nouns  y  \n",
       "0                                 정확한 시간에 배달되어 만족합니다                 [정확]  1  \n",
       "1                                           간편해서 좋아요                 [간편]  1  \n",
       "2                     신선한 제품을 빠른 배송과 가격도 만족할수 있어 좋아요             [배송, 가격]  1  \n",
       "3   상품의 질이 다른 오픈마켓 보다 좋네요퀄리티가 달라요 특히 음식 시켜보니 믿음이 가네요  [오픈, 오픈마켓, 퀄리티, 믿음]  1  \n",
       "4  추 ㅊ ㅓㅇ ㅣ    친환경 재료에 신선한 완전 최고에요상품마다 별점 주는 게 있으...    [재료, 별점, 판단, 스토어]  1  "
      ]
     },
     "execution_count": 86,
     "metadata": {},
     "output_type": "execute_result"
    }
   ],
   "source": [
    "df['nouns'] = df['ko_text'].apply(lambda x: get_nouns(x))\n",
    "for i in range(len(df)):\n",
    "    if not df['nouns'][i]:\n",
    "        df.drop([i],inplace=True)\n",
    "        \n",
    "df.reset_index(inplace=True)\n",
    "del df['index']\n",
    "print(df.shape)\n",
    "df.head()"
   ]
  },
  {
   "cell_type": "code",
   "execution_count": 21,
   "metadata": {
    "scrolled": false
   },
   "outputs": [
    {
     "data": {
      "text/html": [
       "<div>\n",
       "<style scoped>\n",
       "    .dataframe tbody tr th:only-of-type {\n",
       "        vertical-align: middle;\n",
       "    }\n",
       "\n",
       "    .dataframe tbody tr th {\n",
       "        vertical-align: top;\n",
       "    }\n",
       "\n",
       "    .dataframe thead th {\n",
       "        text-align: right;\n",
       "    }\n",
       "</style>\n",
       "<table border=\"1\" class=\"dataframe\">\n",
       "  <thead>\n",
       "    <tr style=\"text-align: right;\">\n",
       "      <th></th>\n",
       "      <th>words</th>\n",
       "      <th>satisfaction</th>\n",
       "      <th>count</th>\n",
       "    </tr>\n",
       "  </thead>\n",
       "  <tbody>\n",
       "    <tr>\n",
       "      <th>0</th>\n",
       "      <td>정확한</td>\n",
       "      <td>4</td>\n",
       "      <td>1</td>\n",
       "    </tr>\n",
       "    <tr>\n",
       "      <th>1</th>\n",
       "      <td>시간에</td>\n",
       "      <td>4</td>\n",
       "      <td>1</td>\n",
       "    </tr>\n",
       "    <tr>\n",
       "      <th>2</th>\n",
       "      <td>뒤로가기</td>\n",
       "      <td>2</td>\n",
       "      <td>1</td>\n",
       "    </tr>\n",
       "    <tr>\n",
       "      <th>3</th>\n",
       "      <td>누르면</td>\n",
       "      <td>2</td>\n",
       "      <td>1</td>\n",
       "    </tr>\n",
       "    <tr>\n",
       "      <th>4</th>\n",
       "      <td>리스트가</td>\n",
       "      <td>2</td>\n",
       "      <td>1</td>\n",
       "    </tr>\n",
       "  </tbody>\n",
       "</table>\n",
       "</div>"
      ],
      "text/plain": [
       "  words  satisfaction  count\n",
       "0   정확한             4      1\n",
       "1   시간에             4      1\n",
       "2  뒤로가기             2      1\n",
       "3   누르면             2      1\n",
       "4  리스트가             2      1"
      ]
     },
     "execution_count": 21,
     "metadata": {},
     "output_type": "execute_result"
    }
   ],
   "source": [
    "all_words = []\n",
    "satisfaction= []\n",
    "for i in range(len(df)):\n",
    "    words = df['nouns'][i]\n",
    "    words_arr = []\n",
    "    for n in words:\n",
    "        words_arr.append(n)\n",
    "        satisfaction.append(df['ratings'].iloc[i])\n",
    "    all_words.extend(words_arr)\n",
    "    \n",
    "all_words_df = pd.DataFrame({\"words\":all_words, \"satisfaction\":satisfaction, \"count\":len(all_words)*[1]})\n",
    "all_words_df.head()        \n",
    "    "
   ]
  },
  {
   "cell_type": "code",
   "execution_count": 22,
   "metadata": {
    "scrolled": false
   },
   "outputs": [
    {
     "data": {
      "text/html": [
       "<div>\n",
       "<style scoped>\n",
       "    .dataframe tbody tr th:only-of-type {\n",
       "        vertical-align: middle;\n",
       "    }\n",
       "\n",
       "    .dataframe tbody tr th {\n",
       "        vertical-align: top;\n",
       "    }\n",
       "\n",
       "    .dataframe thead th {\n",
       "        text-align: right;\n",
       "    }\n",
       "</style>\n",
       "<table border=\"1\" class=\"dataframe\">\n",
       "  <thead>\n",
       "    <tr style=\"text-align: right;\">\n",
       "      <th></th>\n",
       "      <th>satisfaction</th>\n",
       "      <th>count</th>\n",
       "    </tr>\n",
       "    <tr>\n",
       "      <th>words</th>\n",
       "      <th></th>\n",
       "      <th></th>\n",
       "    </tr>\n",
       "  </thead>\n",
       "  <tbody>\n",
       "    <tr>\n",
       "      <th>ㄱㅏ입요</th>\n",
       "      <td>3.0</td>\n",
       "      <td>1</td>\n",
       "    </tr>\n",
       "    <tr>\n",
       "      <th>ㄱㅣ회를</th>\n",
       "      <td>5.0</td>\n",
       "      <td>1</td>\n",
       "    </tr>\n",
       "    <tr>\n",
       "      <th>ㄱ너무너무맛잇당</th>\n",
       "      <td>4.0</td>\n",
       "      <td>1</td>\n",
       "    </tr>\n",
       "    <tr>\n",
       "      <th>ㄷㅈ니ㄴ</th>\n",
       "      <td>1.0</td>\n",
       "      <td>1</td>\n",
       "    </tr>\n",
       "    <tr>\n",
       "      <th>ㅅ발련아</th>\n",
       "      <td>1.0</td>\n",
       "      <td>1</td>\n",
       "    </tr>\n",
       "  </tbody>\n",
       "</table>\n",
       "</div>"
      ],
      "text/plain": [
       "          satisfaction  count\n",
       "words                        \n",
       "ㄱㅏ입요               3.0      1\n",
       "ㄱㅣ회를               5.0      1\n",
       "ㄱ너무너무맛잇당           4.0      1\n",
       "ㄷㅈ니ㄴ               1.0      1\n",
       "ㅅ발련아               1.0      1"
      ]
     },
     "execution_count": 22,
     "metadata": {},
     "output_type": "execute_result"
    }
   ],
   "source": [
    "words_satisfaction = all_words_df.groupby('words').mean()['satisfaction']\n",
    "words_count = all_words_df.groupby('words').sum()['count']\n",
    "words_df = pd.concat([words_satisfaction, words_count], axis=1)\n",
    "words_df.head()"
   ]
  },
  {
   "cell_type": "code",
   "execution_count": 23,
   "metadata": {},
   "outputs": [
    {
     "data": {
      "text/html": [
       "<div>\n",
       "<style scoped>\n",
       "    .dataframe tbody tr th:only-of-type {\n",
       "        vertical-align: middle;\n",
       "    }\n",
       "\n",
       "    .dataframe tbody tr th {\n",
       "        vertical-align: top;\n",
       "    }\n",
       "\n",
       "    .dataframe thead th {\n",
       "        text-align: right;\n",
       "    }\n",
       "</style>\n",
       "<table border=\"1\" class=\"dataframe\">\n",
       "  <thead>\n",
       "    <tr style=\"text-align: right;\">\n",
       "      <th></th>\n",
       "      <th>satisfaction</th>\n",
       "      <th>count</th>\n",
       "    </tr>\n",
       "    <tr>\n",
       "      <th>words</th>\n",
       "      <th></th>\n",
       "      <th></th>\n",
       "    </tr>\n",
       "  </thead>\n",
       "  <tbody>\n",
       "    <tr>\n",
       "      <th>ㅊㅜㅊㅓㄴㅇㅣㄴ</th>\n",
       "      <td>5.0</td>\n",
       "      <td>3</td>\n",
       "    </tr>\n",
       "    <tr>\n",
       "      <th>선보여</th>\n",
       "      <td>5.0</td>\n",
       "      <td>4</td>\n",
       "    </tr>\n",
       "    <tr>\n",
       "      <th>서비스도</th>\n",
       "      <td>5.0</td>\n",
       "      <td>4</td>\n",
       "    </tr>\n",
       "    <tr>\n",
       "      <th>생활이</th>\n",
       "      <td>5.0</td>\n",
       "      <td>4</td>\n",
       "    </tr>\n",
       "    <tr>\n",
       "      <th>새롭고</th>\n",
       "      <td>5.0</td>\n",
       "      <td>3</td>\n",
       "    </tr>\n",
       "    <tr>\n",
       "      <th>...</th>\n",
       "      <td>...</td>\n",
       "      <td>...</td>\n",
       "    </tr>\n",
       "    <tr>\n",
       "      <th>사라지고</th>\n",
       "      <td>1.0</td>\n",
       "      <td>4</td>\n",
       "    </tr>\n",
       "    <tr>\n",
       "      <th>남겨도</th>\n",
       "      <td>1.0</td>\n",
       "      <td>3</td>\n",
       "    </tr>\n",
       "    <tr>\n",
       "      <th>삭제했습니다</th>\n",
       "      <td>1.0</td>\n",
       "      <td>4</td>\n",
       "    </tr>\n",
       "    <tr>\n",
       "      <th>된다고</th>\n",
       "      <td>1.0</td>\n",
       "      <td>3</td>\n",
       "    </tr>\n",
       "    <tr>\n",
       "      <th>새로</th>\n",
       "      <td>1.0</td>\n",
       "      <td>3</td>\n",
       "    </tr>\n",
       "  </tbody>\n",
       "</table>\n",
       "<p>1681 rows × 2 columns</p>\n",
       "</div>"
      ],
      "text/plain": [
       "          satisfaction  count\n",
       "words                        \n",
       "ㅊㅜㅊㅓㄴㅇㅣㄴ           5.0      3\n",
       "선보여                5.0      4\n",
       "서비스도               5.0      4\n",
       "생활이                5.0      4\n",
       "새롭고                5.0      3\n",
       "...                ...    ...\n",
       "사라지고               1.0      4\n",
       "남겨도                1.0      3\n",
       "삭제했습니다             1.0      4\n",
       "된다고                1.0      3\n",
       "새로                 1.0      3\n",
       "\n",
       "[1681 rows x 2 columns]"
      ]
     },
     "execution_count": 23,
     "metadata": {},
     "output_type": "execute_result"
    }
   ],
   "source": [
    "words_df = words_df.loc[words_df['count']>=3]\n",
    "words_df.sort_values('satisfaction', ascending=False)"
   ]
  },
  {
   "cell_type": "code",
   "execution_count": 24,
   "metadata": {},
   "outputs": [
    {
     "data": {
      "text/html": [
       "<div>\n",
       "<style scoped>\n",
       "    .dataframe tbody tr th:only-of-type {\n",
       "        vertical-align: middle;\n",
       "    }\n",
       "\n",
       "    .dataframe tbody tr th {\n",
       "        vertical-align: top;\n",
       "    }\n",
       "\n",
       "    .dataframe thead th {\n",
       "        text-align: right;\n",
       "    }\n",
       "</style>\n",
       "<table border=\"1\" class=\"dataframe\">\n",
       "  <thead>\n",
       "    <tr style=\"text-align: right;\">\n",
       "      <th></th>\n",
       "      <th>satisfaction</th>\n",
       "      <th>count</th>\n",
       "    </tr>\n",
       "    <tr>\n",
       "      <th>words</th>\n",
       "      <th></th>\n",
       "      <th></th>\n",
       "    </tr>\n",
       "  </thead>\n",
       "  <tbody>\n",
       "    <tr>\n",
       "      <th>ㅊㅜㅊㅓㄴㅇㅣㄴ</th>\n",
       "      <td>5.000000</td>\n",
       "      <td>3</td>\n",
       "    </tr>\n",
       "    <tr>\n",
       "      <th>실망입니다</th>\n",
       "      <td>1.333333</td>\n",
       "      <td>3</td>\n",
       "    </tr>\n",
       "    <tr>\n",
       "      <th>실패가</th>\n",
       "      <td>5.000000</td>\n",
       "      <td>3</td>\n",
       "    </tr>\n",
       "    <tr>\n",
       "      <th>실패한</th>\n",
       "      <td>5.000000</td>\n",
       "      <td>3</td>\n",
       "    </tr>\n",
       "    <tr>\n",
       "      <th>싫어서</th>\n",
       "      <td>2.333333</td>\n",
       "      <td>3</td>\n",
       "    </tr>\n",
       "    <tr>\n",
       "      <th>...</th>\n",
       "      <td>...</td>\n",
       "      <td>...</td>\n",
       "    </tr>\n",
       "    <tr>\n",
       "      <th>편하고</th>\n",
       "      <td>4.882883</td>\n",
       "      <td>222</td>\n",
       "    </tr>\n",
       "    <tr>\n",
       "      <th>있는</th>\n",
       "      <td>4.103004</td>\n",
       "      <td>233</td>\n",
       "    </tr>\n",
       "    <tr>\n",
       "      <th>포장</th>\n",
       "      <td>4.634241</td>\n",
       "      <td>257</td>\n",
       "    </tr>\n",
       "    <tr>\n",
       "      <th>신선</th>\n",
       "      <td>4.785441</td>\n",
       "      <td>522</td>\n",
       "    </tr>\n",
       "    <tr>\n",
       "      <th>배송</th>\n",
       "      <td>4.061458</td>\n",
       "      <td>960</td>\n",
       "    </tr>\n",
       "  </tbody>\n",
       "</table>\n",
       "<p>1681 rows × 2 columns</p>\n",
       "</div>"
      ],
      "text/plain": [
       "          satisfaction  count\n",
       "words                        \n",
       "ㅊㅜㅊㅓㄴㅇㅣㄴ      5.000000      3\n",
       "실망입니다         1.333333      3\n",
       "실패가           5.000000      3\n",
       "실패한           5.000000      3\n",
       "싫어서           2.333333      3\n",
       "...                ...    ...\n",
       "편하고           4.882883    222\n",
       "있는            4.103004    233\n",
       "포장            4.634241    257\n",
       "신선            4.785441    522\n",
       "배송            4.061458    960\n",
       "\n",
       "[1681 rows x 2 columns]"
      ]
     },
     "execution_count": 24,
     "metadata": {},
     "output_type": "execute_result"
    }
   ],
   "source": [
    "words_df.sort_values('count')"
   ]
  },
  {
   "cell_type": "code",
   "execution_count": 25,
   "metadata": {},
   "outputs": [],
   "source": [
    "korean_stopwords_path = \"./korean_stopwords2.txt\"\n",
    "with open(korean_stopwords_path, encoding='utf8') as f:\n",
    "    stopwords = f.readlines()\n",
    "stopwords = [x.strip() for x in stopwords]\n",
    "nouns_tagger =Kkma()\n",
    "def text_cleaning(text):\n",
    "    hangul = re.compile('[|ㄱ-ㅎ|ㅏ-ㅣ]+') # 한글의 정규표현식을 나타냅니다.\n",
    "    result = hangul.sub('', text)\n",
    "    hangul = re.compile('[^ ㄱ-ㅣ가-힣]+') # 한글의 정규표현식을 나타냅니다.\n",
    "    result = hangul.sub('', text)\n",
    "    nouns_tagger = tokenizer\n",
    "    nouns = nouns_tagger.tokenize(result, remove_r=True)\n",
    "    nouns = [x for x in nouns if len(x) >1]\n",
    "    nouns =[x for x in nouns if x not in stopwords]\n",
    "    return nouns\n",
    "\n",
    "vect = CountVectorizer(tokenizer= lambda x : text_cleaning(x))\n",
    "bow_vect = vect.fit_transform(df['comment'].tolist())\n",
    "word_list = vect.get_feature_names()\n",
    "count_list = bow_vect.toarray().sum(axis=0)"
   ]
  },
  {
   "cell_type": "code",
   "execution_count": 26,
   "metadata": {},
   "outputs": [
    {
     "data": {
      "text/plain": [
       "(5032, 14773)"
      ]
     },
     "execution_count": 26,
     "metadata": {},
     "output_type": "execute_result"
    }
   ],
   "source": [
    "bow_vect.shape"
   ]
  },
  {
   "cell_type": "code",
   "execution_count": 27,
   "metadata": {},
   "outputs": [
    {
     "name": "stdout",
     "output_type": "stream",
     "text": [
      "{'ㄱㅏ입요': 1, 'ㄱㅣ회를': 1, 'ㄱ너무너무맛잇당': 1, 'ㄷㅈ니ㄴ': 1, 'ㅅ발련아': 1, 'ㅇㅈㅇㅈ홧팅': 1, 'ㅈㅜㅊㅓㄴㅣ': 1, 'ㅈ되네': 1, 'ㅊㅜㅊ\n"
     ]
    }
   ],
   "source": [
    "word_count_dict = dict(zip(word_list, count_list))\n",
    "print(str(word_count_dict)[:100])"
   ]
  },
  {
   "cell_type": "code",
   "execution_count": 28,
   "metadata": {},
   "outputs": [],
   "source": [
    "tfidf_vectorizer = TfidfTransformer()\n",
    "tf_idf_vect = tfidf_vectorizer.fit_transform(bow_vect)"
   ]
  },
  {
   "cell_type": "code",
   "execution_count": 29,
   "metadata": {
    "scrolled": true
   },
   "outputs": [
    {
     "name": "stdout",
     "output_type": "stream",
     "text": [
      "  (0, 11464)\t0.6752804592425002\n",
      "  (0, 7060)\t0.7375610492462559\n"
     ]
    }
   ],
   "source": [
    "print(tf_idf_vect[0])"
   ]
  },
  {
   "cell_type": "code",
   "execution_count": 30,
   "metadata": {},
   "outputs": [
    {
     "name": "stdout",
     "output_type": "stream",
     "text": [
      "{11464: '정확한', 7060: '시간에', 3251: '뒤로가기', 2314: '누르면', 3633: '리스트가', 9409: '올라가', 13558: '편하', 14226\n"
     ]
    }
   ],
   "source": [
    "invert_index_vectorizer = {v:k for k,v in vect.vocabulary_.items()}\n",
    "print(str(invert_index_vectorizer)[:100])"
   ]
  },
  {
   "cell_type": "code",
   "execution_count": 31,
   "metadata": {
    "scrolled": false
   },
   "outputs": [
    {
     "data": {
      "text/html": [
       "<div>\n",
       "<style scoped>\n",
       "    .dataframe tbody tr th:only-of-type {\n",
       "        vertical-align: middle;\n",
       "    }\n",
       "\n",
       "    .dataframe tbody tr th {\n",
       "        vertical-align: top;\n",
       "    }\n",
       "\n",
       "    .dataframe thead th {\n",
       "        text-align: right;\n",
       "    }\n",
       "</style>\n",
       "<table border=\"1\" class=\"dataframe\">\n",
       "  <thead>\n",
       "    <tr style=\"text-align: right;\">\n",
       "      <th></th>\n",
       "      <th>date</th>\n",
       "      <th>comment</th>\n",
       "      <th>ratings</th>\n",
       "      <th>ko_text</th>\n",
       "      <th>nouns</th>\n",
       "    </tr>\n",
       "  </thead>\n",
       "  <tbody>\n",
       "    <tr>\n",
       "      <th>2559</th>\n",
       "      <td>2020-06-07</td>\n",
       "      <td>힘내세요.. 마켓컬리 일해주시는 분들께 이 상황을 잘 극복하시는 모습에 작게나마 응...</td>\n",
       "      <td>5</td>\n",
       "      <td>힘내세요 마켓컬리 일해주시는 분들께 이 상황을 잘 극복하시는 모습에 작게나마 응원의...</td>\n",
       "      <td>[힘내세요, 일해주시는, 분들께, 상황을, 극복하시는, 모습에, 작게나마, 응원의,...</td>\n",
       "    </tr>\n",
       "    <tr>\n",
       "      <th>3223</th>\n",
       "      <td>2020-03-31</td>\n",
       "      <td>건강하고 맛있음</td>\n",
       "      <td>5</td>\n",
       "      <td>건강하고 맛있음</td>\n",
       "      <td>[건강하고]</td>\n",
       "    </tr>\n",
       "    <tr>\n",
       "      <th>279</th>\n",
       "      <td>2021-02-05</td>\n",
       "      <td>사용을 하여보니 정말 마음에 들어서 글을 남겨요 포장과 배송 정말 좋아요 내 물건 ...</td>\n",
       "      <td>5</td>\n",
       "      <td>사용을 하여보니 정말 마음에 들어서 글을 남겨요 포장과 배송 정말 좋아요 내 물건 ...</td>\n",
       "      <td>[하여보니, 글을, 남겨요, 포장, 배송, 처럼, 깨끗이, 정성스럽게, 포장, 배송...</td>\n",
       "    </tr>\n",
       "    <tr>\n",
       "      <th>651</th>\n",
       "      <td>2021-01-06</td>\n",
       "      <td>찜하기 기능 추가됐으면 좋겠어요</td>\n",
       "      <td>4</td>\n",
       "      <td>찜하기 기능 추가됐으면 좋겠어요</td>\n",
       "      <td>[찜하기, 추가됐으면]</td>\n",
       "    </tr>\n",
       "    <tr>\n",
       "      <th>648</th>\n",
       "      <td>2021-01-06</td>\n",
       "      <td>신속한 배달과 신선한 물품 만족합니다~~흥하세요~~</td>\n",
       "      <td>5</td>\n",
       "      <td>신속한 배달과 신선한 물품 만족합니다흥하세요</td>\n",
       "      <td>[신속한, 신선, 물품]</td>\n",
       "    </tr>\n",
       "  </tbody>\n",
       "</table>\n",
       "</div>"
      ],
      "text/plain": [
       "            date                                            comment  ratings  \\\n",
       "2559  2020-06-07  힘내세요.. 마켓컬리 일해주시는 분들께 이 상황을 잘 극복하시는 모습에 작게나마 응...        5   \n",
       "3223  2020-03-31                                           건강하고 맛있음        5   \n",
       "279   2021-02-05  사용을 하여보니 정말 마음에 들어서 글을 남겨요 포장과 배송 정말 좋아요 내 물건 ...        5   \n",
       "651   2021-01-06                                  찜하기 기능 추가됐으면 좋겠어요        4   \n",
       "648   2021-01-06                       신속한 배달과 신선한 물품 만족합니다~~흥하세요~~        5   \n",
       "\n",
       "                                                ko_text  \\\n",
       "2559  힘내세요 마켓컬리 일해주시는 분들께 이 상황을 잘 극복하시는 모습에 작게나마 응원의...   \n",
       "3223                                           건강하고 맛있음   \n",
       "279   사용을 하여보니 정말 마음에 들어서 글을 남겨요 포장과 배송 정말 좋아요 내 물건 ...   \n",
       "651                                   찜하기 기능 추가됐으면 좋겠어요   \n",
       "648                            신속한 배달과 신선한 물품 만족합니다흥하세요   \n",
       "\n",
       "                                                  nouns  \n",
       "2559  [힘내세요, 일해주시는, 분들께, 상황을, 극복하시는, 모습에, 작게나마, 응원의,...  \n",
       "3223                                             [건강하고]  \n",
       "279   [하여보니, 글을, 남겨요, 포장, 배송, 처럼, 깨끗이, 정성스럽게, 포장, 배송...  \n",
       "651                                        [찜하기, 추가됐으면]  \n",
       "648                                       [신속한, 신선, 물품]  "
      ]
     },
     "execution_count": 31,
     "metadata": {},
     "output_type": "execute_result"
    }
   ],
   "source": [
    "df.sample(10).head()"
   ]
  },
  {
   "cell_type": "code",
   "execution_count": 32,
   "metadata": {
    "scrolled": true
   },
   "outputs": [
    {
     "data": {
      "text/plain": [
       "<matplotlib.axes._subplots.AxesSubplot at 0x2cdd311f780>"
      ]
     },
     "execution_count": 32,
     "metadata": {},
     "output_type": "execute_result"
    },
    {
     "data": {
      "image/png": "[encoded data removed]",
      "text/plain": [
       "<Figure size 432x288 with 1 Axes>"
      ]
     },
     "metadata": {
      "needs_background": "light"
     },
     "output_type": "display_data"
    }
   ],
   "source": [
    "df.ratings.hist()"
   ]
  },
  {
   "cell_type": "code",
   "execution_count": 33,
   "metadata": {},
   "outputs": [],
   "source": [
    "def rating_to_label(rating) :\n",
    "  if rating >3:\n",
    "    return 1\n",
    "  else:\n",
    "    return 0\n",
    "df['y'] = df['ratings'].apply(lambda x : rating_to_label(x))"
   ]
  },
  {
   "cell_type": "code",
   "execution_count": 34,
   "metadata": {
    "scrolled": false
   },
   "outputs": [
    {
     "data": {
      "text/html": [
       "<div>\n",
       "<style scoped>\n",
       "    .dataframe tbody tr th:only-of-type {\n",
       "        vertical-align: middle;\n",
       "    }\n",
       "\n",
       "    .dataframe tbody tr th {\n",
       "        vertical-align: top;\n",
       "    }\n",
       "\n",
       "    .dataframe thead th {\n",
       "        text-align: right;\n",
       "    }\n",
       "</style>\n",
       "<table border=\"1\" class=\"dataframe\">\n",
       "  <thead>\n",
       "    <tr style=\"text-align: right;\">\n",
       "      <th></th>\n",
       "      <th>date</th>\n",
       "      <th>comment</th>\n",
       "      <th>ratings</th>\n",
       "      <th>ko_text</th>\n",
       "      <th>nouns</th>\n",
       "      <th>y</th>\n",
       "    </tr>\n",
       "  </thead>\n",
       "  <tbody>\n",
       "    <tr>\n",
       "      <th>0</th>\n",
       "      <td>2021-03-10</td>\n",
       "      <td>정확한 시간에 배달되어 만족합니다.</td>\n",
       "      <td>4</td>\n",
       "      <td>정확한 시간에 배달되어 만족합니다</td>\n",
       "      <td>[정확한, 시간에]</td>\n",
       "      <td>1</td>\n",
       "    </tr>\n",
       "    <tr>\n",
       "      <th>1</th>\n",
       "      <td>2021-03-10</td>\n",
       "      <td>후기보기 너무 불편해요. 3월 1일 후기보고 뒤로가기 누르면 3월 10일로 리스트가...</td>\n",
       "      <td>2</td>\n",
       "      <td>후기보기 너무 불편해요 월 일 후기보고 뒤로가기 누르면 월 일로 리스트가 확 올라가...</td>\n",
       "      <td>[뒤로가기, 누르면, 리스트가, 올라가, 편하, 해주]</td>\n",
       "      <td>0</td>\n",
       "    </tr>\n",
       "    <tr>\n",
       "      <th>2</th>\n",
       "      <td>2021-03-10</td>\n",
       "      <td>간편해서 좋아요</td>\n",
       "      <td>5</td>\n",
       "      <td>간편해서 좋아요</td>\n",
       "      <td>[간편]</td>\n",
       "      <td>1</td>\n",
       "    </tr>\n",
       "    <tr>\n",
       "      <th>3</th>\n",
       "      <td>2021-03-10</td>\n",
       "      <td>신선한 제품을 빠른 배송과 가격도 만족할수 있어 좋아요.</td>\n",
       "      <td>5</td>\n",
       "      <td>신선한 제품을 빠른 배송과 가격도 만족할수 있어 좋아요</td>\n",
       "      <td>[신선, 빠른, 배송, 가격]</td>\n",
       "      <td>1</td>\n",
       "    </tr>\n",
       "    <tr>\n",
       "      <th>4</th>\n",
       "      <td>2021-03-10</td>\n",
       "      <td>간혹 잘 쓰고 있습니다! 회사는 빨리 망했으면 해요 ㅋㅋ</td>\n",
       "      <td>1</td>\n",
       "      <td>간혹 잘 쓰고 있습니다 회사는 빨리 망했으면 해요 ㅋㅋ</td>\n",
       "      <td>[간혹, 회사는, 빨리, 망했으면, ㅋㅋ]</td>\n",
       "      <td>0</td>\n",
       "    </tr>\n",
       "    <tr>\n",
       "      <th>...</th>\n",
       "      <td>...</td>\n",
       "      <td>...</td>\n",
       "      <td>...</td>\n",
       "      <td>...</td>\n",
       "      <td>...</td>\n",
       "      <td>...</td>\n",
       "    </tr>\n",
       "    <tr>\n",
       "      <th>5027</th>\n",
       "      <td>2016-03-02</td>\n",
       "      <td>모바일로 쉽게 살수있어서 좋아요^^</td>\n",
       "      <td>5</td>\n",
       "      <td>모바일로 쉽게 살수있어서 좋아요</td>\n",
       "      <td>[모바일로, 쉽게, 살수있어서]</td>\n",
       "      <td>1</td>\n",
       "    </tr>\n",
       "    <tr>\n",
       "      <th>5028</th>\n",
       "      <td>2016-03-02</td>\n",
       "      <td>아이를 키우며 좋은 식자재에 대한 갈증이 있는데 이렇게 건강하고 신선한 먹거리를 쉽...</td>\n",
       "      <td>5</td>\n",
       "      <td>아이를 키우며 좋은 식자재에 대한 갈증이 있는데 이렇게 건강하고 신선한 먹거리를 쉽...</td>\n",
       "      <td>[아이를, 키우며, 식자재에, 갈증이, 있는, 이렇게, 건강하고, 신선, 먹거리를,...</td>\n",
       "      <td>1</td>\n",
       "    </tr>\n",
       "    <tr>\n",
       "      <th>5029</th>\n",
       "      <td>2016-03-02</td>\n",
       "      <td>아는동생소개로알게된마켓컬리 늦게안게아쉬울정도ㅋㅋ제품퀄리티완젼좋고,포장배송완벽함!내눈...</td>\n",
       "      <td>5</td>\n",
       "      <td>아는동생소개로알게된마켓컬리 늦게안게아쉬울정도ㅋㅋ제품퀄리티완젼좋고포장배송완벽함내눈으로...</td>\n",
       "      <td>[아는동생소개로알게된마켓컬리, 늦게안게아쉬울정도ㅋㅋ제품퀄리티완젼좋고포장배송완벽함내눈...</td>\n",
       "      <td>1</td>\n",
       "    </tr>\n",
       "    <tr>\n",
       "      <th>5030</th>\n",
       "      <td>2016-03-02</td>\n",
       "      <td>샛별배송 정말 훌륭합니다. 컬리라면 무조건 믿고 주문~ ^^*</td>\n",
       "      <td>5</td>\n",
       "      <td>샛별배송 정말 훌륭합니다 컬리라면 무조건 믿고 주문</td>\n",
       "      <td>[훌륭합니다, 무조건, 믿고]</td>\n",
       "      <td>1</td>\n",
       "    </tr>\n",
       "    <tr>\n",
       "      <th>5031</th>\n",
       "      <td>2016-03-01</td>\n",
       "      <td>더이상 밤늦게 슈퍼를 헤매고 다니지않아도됨</td>\n",
       "      <td>5</td>\n",
       "      <td>더이상 밤늦게 슈퍼를 헤매고 다니지않아도됨</td>\n",
       "      <td>[더이상, 밤늦게, 슈퍼를, 헤매고, 다니지않아도됨]</td>\n",
       "      <td>1</td>\n",
       "    </tr>\n",
       "  </tbody>\n",
       "</table>\n",
       "<p>5032 rows × 6 columns</p>\n",
       "</div>"
      ],
      "text/plain": [
       "            date                                            comment  ratings  \\\n",
       "0     2021-03-10                                정확한 시간에 배달되어 만족합니다.        4   \n",
       "1     2021-03-10  후기보기 너무 불편해요. 3월 1일 후기보고 뒤로가기 누르면 3월 10일로 리스트가...        2   \n",
       "2     2021-03-10                                           간편해서 좋아요        5   \n",
       "3     2021-03-10                    신선한 제품을 빠른 배송과 가격도 만족할수 있어 좋아요.        5   \n",
       "4     2021-03-10                    간혹 잘 쓰고 있습니다! 회사는 빨리 망했으면 해요 ㅋㅋ        1   \n",
       "...          ...                                                ...      ...   \n",
       "5027  2016-03-02                                모바일로 쉽게 살수있어서 좋아요^^        5   \n",
       "5028  2016-03-02  아이를 키우며 좋은 식자재에 대한 갈증이 있는데 이렇게 건강하고 신선한 먹거리를 쉽...        5   \n",
       "5029  2016-03-02  아는동생소개로알게된마켓컬리 늦게안게아쉬울정도ㅋㅋ제품퀄리티완젼좋고,포장배송완벽함!내눈...        5   \n",
       "5030  2016-03-02                 샛별배송 정말 훌륭합니다. 컬리라면 무조건 믿고 주문~ ^^*        5   \n",
       "5031  2016-03-01                            더이상 밤늦게 슈퍼를 헤매고 다니지않아도됨        5   \n",
       "\n",
       "                                                ko_text  \\\n",
       "0                                    정확한 시간에 배달되어 만족합니다   \n",
       "1     후기보기 너무 불편해요 월 일 후기보고 뒤로가기 누르면 월 일로 리스트가 확 올라가...   \n",
       "2                                              간편해서 좋아요   \n",
       "3                        신선한 제품을 빠른 배송과 가격도 만족할수 있어 좋아요   \n",
       "4                        간혹 잘 쓰고 있습니다 회사는 빨리 망했으면 해요 ㅋㅋ   \n",
       "...                                                 ...   \n",
       "5027                                  모바일로 쉽게 살수있어서 좋아요   \n",
       "5028  아이를 키우며 좋은 식자재에 대한 갈증이 있는데 이렇게 건강하고 신선한 먹거리를 쉽...   \n",
       "5029  아는동생소개로알게된마켓컬리 늦게안게아쉬울정도ㅋㅋ제품퀄리티완젼좋고포장배송완벽함내눈으로...   \n",
       "5030                      샛별배송 정말 훌륭합니다 컬리라면 무조건 믿고 주문    \n",
       "5031                            더이상 밤늦게 슈퍼를 헤매고 다니지않아도됨   \n",
       "\n",
       "                                                  nouns  y  \n",
       "0                                            [정확한, 시간에]  1  \n",
       "1                        [뒤로가기, 누르면, 리스트가, 올라가, 편하, 해주]  0  \n",
       "2                                                  [간편]  1  \n",
       "3                                      [신선, 빠른, 배송, 가격]  1  \n",
       "4                               [간혹, 회사는, 빨리, 망했으면, ㅋㅋ]  0  \n",
       "...                                                 ... ..  \n",
       "5027                                  [모바일로, 쉽게, 살수있어서]  1  \n",
       "5028  [아이를, 키우며, 식자재에, 갈증이, 있는, 이렇게, 건강하고, 신선, 먹거리를,...  1  \n",
       "5029  [아는동생소개로알게된마켓컬리, 늦게안게아쉬울정도ㅋㅋ제품퀄리티완젼좋고포장배송완벽함내눈...  1  \n",
       "5030                                   [훌륭합니다, 무조건, 믿고]  1  \n",
       "5031                      [더이상, 밤늦게, 슈퍼를, 헤매고, 다니지않아도됨]  1  \n",
       "\n",
       "[5032 rows x 6 columns]"
      ]
     },
     "execution_count": 34,
     "metadata": {},
     "output_type": "execute_result"
    }
   ],
   "source": [
    "df"
   ]
  },
  {
   "cell_type": "code",
   "execution_count": 70,
   "metadata": {
    "scrolled": false
   },
   "outputs": [
    {
     "data": {
      "text/plain": [
       "1    4048\n",
       "0     984\n",
       "Name: y, dtype: int64"
      ]
     },
     "execution_count": 70,
     "metadata": {},
     "output_type": "execute_result"
    }
   ],
   "source": [
    "df.y.value_counts()"
   ]
  },
  {
   "cell_type": "code",
   "execution_count": 71,
   "metadata": {},
   "outputs": [],
   "source": [
    "y= df['y']\n",
    "X_train,X_test, y_train, y_test = train_test_split(tf_idf_vect, y, test_size = 0.2)"
   ]
  },
  {
   "cell_type": "code",
   "execution_count": 72,
   "metadata": {
    "scrolled": true
   },
   "outputs": [
    {
     "name": "stdout",
     "output_type": "stream",
     "text": [
      "(1007, 14773)\n"
     ]
    }
   ],
   "source": [
    "print(X_test.shape)"
   ]
  },
  {
   "cell_type": "markdown",
   "metadata": {},
   "source": [
    "# 여기까지 "
   ]
  },
  {
   "cell_type": "markdown",
   "metadata": {},
   "source": [
    "# 로지스틱 회귀"
   ]
  },
  {
   "cell_type": "code",
   "execution_count": 77,
   "metadata": {},
   "outputs": [
    {
     "name": "stdout",
     "output_type": "stream",
     "text": [
      "Test Accuracy: 81.03%\n"
     ]
    }
   ],
   "source": [
    "# 5 /1 지우고 진행\n",
    "from sklearn.linear_model import LogisticRegression\n",
    "lr = LogisticRegression(solver=\"lbfgs\", max_iter=500)\n",
    "lr.fit(X_train, y_train)\n",
    "print(\"Test Accuracy: {}%\".format(round(lr.score(X_test, y_test)*100,2)))"
   ]
  },
  {
   "cell_type": "code",
   "execution_count": 78,
   "metadata": {
    "scrolled": true
   },
   "outputs": [
    {
     "name": "stdout",
     "output_type": "stream",
     "text": [
      "cross-val-score \n",
      "[0.8123138  0.81330685 0.8111332  0.8111332  0.81312127]\n",
      "cross-val-score.mean \n",
      "0.812\n"
     ]
    }
   ],
   "source": [
    "scores = cross_val_score(lr, tf_idf_vect, y, cv=5) # model, train, target, cross validation\n",
    "\n",
    "print('cross-val-score \\n{}'.format(scores))\n",
    "\n",
    "print('cross-val-score.mean \\n{:.3f}'.format(scores.mean()))"
   ]
  },
  {
   "cell_type": "code",
   "execution_count": 83,
   "metadata": {},
   "outputs": [
    {
     "data": {
      "text/plain": [
       "<5032x14773 sparse matrix of type '<class 'numpy.float64'>'\n",
       "\twith 29177 stored elements in Compressed Sparse Row format>"
      ]
     },
     "execution_count": 83,
     "metadata": {},
     "output_type": "execute_result"
    }
   ],
   "source": [
    "tf_idf_vect"
   ]
  },
  {
   "cell_type": "code",
   "execution_count": 82,
   "metadata": {},
   "outputs": [
    {
     "name": "stdout",
     "output_type": "stream",
     "text": [
      "n_splits=3, cross validation score: [0.8123138  0.81330685 0.8111332  0.8111332  0.81312127]\n",
      "n_splits=4, cross validation score: [0.8123138  0.81330685 0.8111332  0.8111332  0.81312127]\n",
      "n_splits=5, cross validation score: [0.8123138  0.81330685 0.8111332  0.8111332  0.81312127]\n",
      "n_splits=6, cross validation score: [0.8123138  0.81330685 0.8111332  0.8111332  0.81312127]\n",
      "n_splits=7, cross validation score: [0.8123138  0.81330685 0.8111332  0.8111332  0.81312127]\n",
      "n_splits=8, cross validation score: [0.8123138  0.81330685 0.8111332  0.8111332  0.81312127]\n",
      "n_splits=9, cross validation score: [0.8123138  0.81330685 0.8111332  0.8111332  0.81312127]\n"
     ]
    }
   ],
   "source": [
    "kfold = KFold(n_splits=5)\n",
    "for n in range(3,10):\n",
    "\n",
    "    kfold = KFold(n_splits=n)\n",
    "\n",
    "    scores = cross_val_score(lr, tf_idf_vect, y, cv=5)\n",
    "\n",
    "    print('n_splits={}, cross validation score: {}'.format(n, scores))"
   ]
  },
  {
   "cell_type": "code",
   "execution_count": 39,
   "metadata": {
    "scrolled": true
   },
   "outputs": [
    {
     "name": "stdout",
     "output_type": "stream",
     "text": [
      "Logistic Regression Classifier report: \n",
      "\n",
      "               precision    recall  f1-score   support\n",
      "\n",
      "           0       0.92      0.06      0.11       203\n",
      "           1       0.81      1.00      0.89       804\n",
      "\n",
      "    accuracy                           0.81      1007\n",
      "   macro avg       0.87      0.53      0.50      1007\n",
      "weighted avg       0.83      0.81      0.74      1007\n",
      "\n"
     ]
    }
   ],
   "source": [
    "y_pred_lr = lr.predict(X_test)\n",
    "print(\"Logistic Regression Classifier report: \\n\\n\", classification_report(y_test, y_pred_lr))"
   ]
  },
  {
   "cell_type": "code",
   "execution_count": 40,
   "metadata": {},
   "outputs": [
    {
     "data": {
      "image/png": "[encoded data removed]",
      "text/plain": [
       "<Figure size 504x504 with 2 Axes>"
      ]
     },
     "metadata": {
      "needs_background": "light"
     },
     "output_type": "display_data"
    }
   ],
   "source": [
    "cm = confusion_matrix(y_test, y_pred_lr)\n",
    "x_axis_labels = [\"Edible\", \"Poisonous\"]\n",
    "y_axis_labels = [\"Edible\", \"Poisonous\"]\n",
    "f, ax = plt.subplots(figsize =(7,7))\n",
    "sns.heatmap(cm, annot = True, linewidths=0.2, linecolor=\"black\", fmt = \".0f\", ax=ax, cmap=\"Purples\", xticklabels=x_axis_labels, yticklabels=y_axis_labels)\n",
    "plt.xlabel(\"PREDICTED LABEL\")\n",
    "plt.ylabel(\"TRUE LABEL\")\n",
    "plt.title('Confusion Matrix for Logistic Regression Classifier')\n",
    "#plt.savefig(\"lrcm.png\", format='png', dpi=500, bbox_inches='tight')\n",
    "plt.show()"
   ]
  },
  {
   "cell_type": "code",
   "execution_count": 41,
   "metadata": {
    "scrolled": true
   },
   "outputs": [
    {
     "data": {
      "text/plain": [
       "<BarContainer object of 14773 artists>"
      ]
     },
     "execution_count": 41,
     "metadata": {},
     "output_type": "execute_result"
    },
    {
     "data": {
      "image/png": "[encoded data removed]",
      "text/plain": [
       "<Figure size 720x576 with 1 Axes>"
      ]
     },
     "metadata": {
      "needs_background": "light"
     },
     "output_type": "display_data"
    }
   ],
   "source": [
    "plt.rcParams['figure.figsize'] = [10,8]\n",
    "plt.bar(range(len(lr.coef_[0])), lr.coef_[0])"
   ]
  },
  {
   "cell_type": "code",
   "execution_count": 42,
   "metadata": {},
   "outputs": [],
   "source": [
    "coef_pos_index = sorted(((value, index ) for index, value in enumerate(lr.coef_[0])), reverse=True)\n",
    "coef_neg_index = sorted(((value,index) for index, value in enumerate(lr.coef_[0])), reverse= False)"
   ]
  },
  {
   "cell_type": "code",
   "execution_count": 43,
   "metadata": {
    "scrolled": false
   },
   "outputs": [
    {
     "name": "stdout",
     "output_type": "stream",
     "text": [
      "신선 3.748841749953773\n",
      "편하고 3.091276690212915\n",
      "편리하고 2.722806965103661\n",
      "포장 2.69537130130503\n",
      "빠르고 2.364807873049734\n",
      "편해요 2.2492481199736782\n",
      "간편 1.9981669594559206\n",
      "편하 1.8785050005923862\n",
      "빠른배송 1.8613157373214995\n",
      "다양한 1.696592160060611\n",
      "품질 1.5892988125831806\n",
      "빠른 1.5320589399970386\n",
      "믿고 1.4118940190791824\n",
      "편합니다 1.3696435387037893\n",
      "할인 1.302481315989311\n",
      "편해 1.2839812774377215\n",
      "많고 1.2726468580960193\n",
      "많아 1.1567482628080312\n",
      "빨라서 1.1459411863496196\n",
      "배송 1.1405067610560387\n",
      "질이 1.1210441761228656\n",
      "편함 1.109680118146337\n",
      "쉽고 0.9958285693296911\n",
      "잘이용하고 0.9610365811376878\n",
      "퀄리티가 0.9069742610331142\n",
      "급할때 0.8930256880710284\n",
      "많은 0.8887410370394506\n",
      "받을수 0.8878766126690638\n",
      "되네요 0.8202244152838359\n",
      "저렴하게 0.8197129491361766\n",
      "싱싱하고 0.754541538547831\n",
      "되어 0.7530792896188295\n",
      "믿을수 0.7505468679816326\n",
      "쉽게 0.7355668102559905\n",
      "추천합니다 0.7168970612111126\n",
      "비싸지만 0.7158089250785723\n",
      "빠르 0.7060277322851878\n",
      "정확하고 0.698070196218946\n",
      "좋겠 0.695926847781907\n",
      "저렴하고 0.6956756278717602\n",
      "즐겨찾기 0.686603626681978\n",
      "덕분에 0.6843337634915378\n",
      "쓰기 0.6823639372871331\n",
      "편한 0.6735032685041937\n",
      "쓰고있어요 0.667747138370142\n",
      "믿을 0.651300953065144\n",
      "좋으네요 0.6473266170488835\n",
      "와서 0.6459376895528903\n",
      "친절하고 0.6411308615469415\n",
      "필요한 0.6384066466830103\n",
      "받아서 0.6364220049399383\n",
      "많네요 0.6229929433987906\n",
      "확실히 0.6100690492141008\n",
      "좋았습니다 0.6009211315329162\n",
      "카테고리 0.5997000815457371\n",
      "기사님들 0.5923099376060552\n",
      "식재료 0.5787368032247919\n",
      "지방이라 0.5759483789918683\n",
      "원하는 0.5755470700819609\n",
      "가격 0.5708899678779088\n",
      "먹을 0.5654759853665767\n",
      "재미가 0.561689417401999\n",
      "종류도 0.5563596765804852\n",
      "줘서 0.5554480733276249\n",
      "식품 0.5297673057465083\n",
      "싸게 0.528032711512431\n",
      "설명이 0.5275030053775862\n",
      "빨라요 0.525397351901985\n",
      "맛도 0.5206377244210344\n",
      "구입 0.5170475328943633\n",
      "살수있어서 0.517029064792687\n",
      "사랑해요 0.5146716529725577\n",
      "환경을 0.5125330325018878\n",
      "질도 0.5121847551539658\n",
      "깨끗하고 0.5101382824953488\n",
      "되면 0.5089264853054273\n",
      "비싸긴 0.5021347036481308\n",
      "앞으로 0.5009002635218227\n",
      "행복해요 0.5000147000499885\n",
      "보기편하고 0.4990093338668403\n",
      "괜찮네요 0.4985823964449996\n",
      "찜하기 0.4972159545263153\n",
      "마트에 0.47493500145308953\n",
      "받아볼 0.4745646679483256\n",
      "유용합니다 0.4708244496675835\n",
      "먹을수 0.4694389010153875\n",
      "있었음 0.46631272298918097\n",
      "적립금도 0.4644050374084148\n",
      "화이팅 0.46385599393441307\n",
      "담날 0.4604894520701129\n",
      "빨라 0.4593778499836215\n",
      "되게 0.4587140681335228\n",
      "건강하고 0.45337084677019235\n",
      "신세계를 0.4499511919203617\n",
      "쉬워요 0.4498216755545684\n",
      "저녁에 0.44702669632782316\n",
      "더욱 0.43987109041587574\n",
      "다음날 0.4363589115758674\n",
      "상당히 0.4329494917805382\n",
      "자세한 0.4308699054779639\n"
     ]
    }
   ],
   "source": [
    "for coef in coef_pos_index[:100]:\n",
    "  print(invert_index_vectorizer[coef[1]],coef[0])  "
   ]
  },
  {
   "cell_type": "code",
   "execution_count": 44,
   "metadata": {
    "scrolled": false
   },
   "outputs": [
    {
     "name": "stdout",
     "output_type": "stream",
     "text": [
      "안되 -3.687251052668196\n",
      "안됩니다 -1.9929466739621675\n",
      "않고 -1.3384468651313786\n",
      "느리고 -1.2184956084950742\n",
      "장바구니 -1.183761670358675\n",
      "않아요 -1.1411067704846498\n",
      "비싸요 -1.0621895952455442\n",
      "에러가 -1.0435904989692646\n",
      "비쌈 -1.041201096171231\n",
      "느려서 -1.009398867038969\n",
      "오류로 -0.9321617726690465\n",
      "만원이상 -0.930898174939836\n",
      "원이라고 -0.9198241532536734\n",
      "연결이 -0.9078764484752232\n",
      "하라고 -0.8905706310106304\n",
      "열리지를 -0.883863525478576\n",
      "물품이 -0.8800538786011824\n",
      "안와서 -0.8752991666642962\n",
      "문제인지 -0.8498573147456993\n",
      "같네요 -0.8272630136270757\n",
      "하는 -0.8268604594648739\n",
      "저만 -0.8187016719375441\n",
      "못하겠네요 -0.7946356464841652\n",
      "싼게 -0.792290480360494\n",
      "않네요 -0.7846607195210007\n",
      "뜹니다 -0.7795264669912484\n",
      "택배 -0.774985329659701\n",
      "탈퇴하고 -0.7641366089079346\n",
      "터져서 -0.7616886876773867\n",
      "지웁니다 -0.7513655924288484\n",
      "아닌가 -0.7504254325093346\n",
      "답답 -0.7246095997131186\n",
      "갑자기 -0.7155039792938178\n",
      "대체 -0.7070059386001311\n",
      "되지 -0.6915832216285772\n",
      "아무리 -0.6897731197717982\n",
      "재설치 -0.6773127983835964\n",
      "접속이 -0.6684966765190812\n",
      "만든 -0.6629798061618383\n",
      "지우고 -0.6597589068450143\n",
      "답변도 -0.659067175181624\n",
      "듭니당 -0.6587106571289196\n",
      "느려요 -0.6570683443691047\n",
      "못하고 -0.6562933945128594\n",
      "박스에 -0.649073544233334\n",
      "이미 -0.648551459876983\n",
      "이렇게 -0.6466650614221735\n",
      "적립금이 -0.6456462972469746\n",
      "페이지가 -0.643283803298789\n",
      "인해 -0.6410578855493135\n",
      "굳이 -0.6394073586890436\n",
      "몇번을 -0.6384799626693078\n",
      "속터져서 -0.6376024160112073\n",
      "않아서 -0.6368204275584082\n",
      "이게 -0.6326637302808674\n",
      "넣어주세요 -0.6255024989702787\n",
      "했는데도 -0.6254729400282631\n",
      "비싸내요 -0.62500256403573\n",
      "똑같은 -0.6197740869080228\n",
      "아이디가 -0.6190877218176625\n",
      "ㄷㅈ니ㄴ -0.6157699205377914\n",
      "ㅡㄴㅅㄴ즈ㄴ -0.6157699205377914\n",
      "ㅣ거 -0.6157699205377914\n",
      "공유하신다면서요 -0.6157699205377914\n",
      "그냥저냥 -0.6157699205377914\n",
      "그래여 -0.6157699205377914\n",
      "노동환경개선하세요 -0.6157699205377914\n",
      "랙이걸려요 -0.6157699205377914\n",
      "렉이심하메여 -0.6157699205377914\n",
      "로그인안됨 -0.6157699205377914\n",
      "몇날 -0.6157699205377914\n",
      "버려 -0.6157699205377914\n",
      "별로네용 -0.6157699205377914\n",
      "블랙리스트건으로 -0.6157699205377914\n",
      "살게없다 -0.6157699205377914\n",
      "설명하고 -0.6157699205377914\n",
      "설치가안되요 -0.6157699205377914\n",
      "설치안되요 -0.6157699205377914\n",
      "승질나는 -0.6157699205377914\n",
      "신규가입이벤트주문하니까할인상품빠짐허위광고때문에시간만날림어지간하면쿠팡쓰길추천 -0.6157699205377914\n",
      "심각세벽이아니라다음날다음날아침시에옴광고사기믿지마셈 -0.6157699205377914\n",
      "안깔리는걸까요 -0.6157699205377914\n",
      "안깔립니다 -0.6157699205377914\n",
      "안나와요 -0.6157699205377914\n",
      "안나와요왜그런거죠ㅠ -0.6157699205377914\n",
      "안나타나고 -0.6157699205377914\n",
      "안오죠 -0.6157699205377914\n",
      "앱로딩안켜져여 -0.6157699205377914\n",
      "앱사용이안되요 -0.6157699205377914\n",
      "언제해결되나요 -0.6157699205377914\n",
      "엄청느려서못하겠음 -0.6157699205377914\n",
      "업뎃안됨수정바래요 -0.6157699205377914\n",
      "없는오류가 -0.6157699205377914\n",
      "없으나 -0.6157699205377914\n",
      "왤까요 -0.6157699205377914\n",
      "이상해요ㅜㅜ -0.6157699205377914\n",
      "이회산 -0.6157699205377914\n",
      "잃었음 -0.6157699205377914\n",
      "작동이안됨 -0.6157699205377914\n",
      "접속안됨 -0.6157699205377914\n"
     ]
    }
   ],
   "source": [
    "for coef in coef_neg_index[:100]:\n",
    "  print(invert_index_vectorizer[coef[1]],coef[0])"
   ]
  },
  {
   "cell_type": "markdown",
   "metadata": {},
   "source": [
    "# 의사결정"
   ]
  },
  {
   "cell_type": "code",
   "execution_count": 45,
   "metadata": {
    "scrolled": true
   },
   "outputs": [
    {
     "data": {
      "text/plain": [
       "DecisionTreeClassifier(ccp_alpha=0.0, class_weight=None, criterion='gini',\n",
       "                       max_depth=None, max_features=None, max_leaf_nodes=None,\n",
       "                       min_impurity_decrease=0.0, min_impurity_split=None,\n",
       "                       min_samples_leaf=1, min_samples_split=2,\n",
       "                       min_weight_fraction_leaf=0.0, presort='deprecated',\n",
       "                       random_state=None, splitter='best')"
      ]
     },
     "execution_count": 45,
     "metadata": {},
     "output_type": "execute_result"
    }
   ],
   "source": [
    "dt = DecisionTreeClassifier()\n",
    "dt.fit(X_train, y_train)"
   ]
  },
  {
   "cell_type": "code",
   "execution_count": 46,
   "metadata": {
    "scrolled": true
   },
   "outputs": [
    {
     "name": "stdout",
     "output_type": "stream",
     "text": [
      "Decision Tree Classifier report: \n",
      "\n",
      "               precision    recall  f1-score   support\n",
      "\n",
      "           0       0.57      0.31      0.40       203\n",
      "           1       0.84      0.94      0.89       804\n",
      "\n",
      "    accuracy                           0.81      1007\n",
      "   macro avg       0.71      0.63      0.65      1007\n",
      "weighted avg       0.79      0.81      0.79      1007\n",
      "\n",
      "Test Accuracy: 81.33%\n"
     ]
    }
   ],
   "source": [
    "y_pred_dt = dt.predict(X_test)\n",
    "print(\"Decision Tree Classifier report: \\n\\n\", classification_report(y_test, y_pred_dt))\n",
    "print(\"Test Accuracy: {}%\".format(round(dt.score(X_test, y_test)*100, 2)))"
   ]
  },
  {
   "cell_type": "code",
   "execution_count": 47,
   "metadata": {
    "scrolled": true
   },
   "outputs": [
    {
     "data": {
      "image/png": "[encoded data removed]",
      "text/plain": [
       "<Figure size 504x504 with 2 Axes>"
      ]
     },
     "metadata": {
      "needs_background": "light"
     },
     "output_type": "display_data"
    }
   ],
   "source": [
    "cm = confusion_matrix(y_test, y_pred_dt)\n",
    "x_axis_labels = [\"Edible\", \"Poisonous\"]\n",
    "y_axis_labels = [\"Edible\", \"Poisonous\"]\n",
    "f, ax = plt.subplots(figsize =(7,7))\n",
    "sns.heatmap(cm, annot = True, linewidths=0.2, linecolor=\"black\", fmt = \".0f\", ax=ax, cmap=\"Purples\", xticklabels=x_axis_labels, yticklabels=y_axis_labels)\n",
    "plt.xlabel(\"PREDICTED LABEL\")\n",
    "plt.ylabel(\"TRUE LABEL\")\n",
    "plt.title('Confusion Matrix for Decision Tree Classifier')\n",
    "#plt.savefig(\"dtcm.png\", format='png', dpi=500, bbox_inches='tight')\n",
    "plt.show()"
   ]
  },
  {
   "cell_type": "code",
   "execution_count": 48,
   "metadata": {
    "scrolled": false
   },
   "outputs": [
    {
     "data": {
      "text/plain": [
       "<BarContainer object of 14773 artists>"
      ]
     },
     "execution_count": 48,
     "metadata": {},
     "output_type": "execute_result"
    },
    {
     "data": {
      "image/png": "[encoded data removed]",
      "text/plain": [
       "<Figure size 720x576 with 1 Axes>"
      ]
     },
     "metadata": {
      "needs_background": "light"
     },
     "output_type": "display_data"
    }
   ],
   "source": [
    "plt.rcParams['figure.figsize'] = [10,8]\n",
    "plt.bar(range(len(dt.feature_importances_)), dt.feature_importances_)"
   ]
  },
  {
   "cell_type": "code",
   "execution_count": 49,
   "metadata": {},
   "outputs": [],
   "source": [
    "coef_pos_index = sorted(((value, index ) for index, value in enumerate(dt.feature_importances_)), reverse=True)\n",
    "coef_neg_index = sorted(((value,index) for index, value in enumerate(dt.feature_importances_)), reverse= False)"
   ]
  },
  {
   "cell_type": "code",
   "execution_count": 50,
   "metadata": {
    "scrolled": true
   },
   "outputs": [
    {
     "name": "stdout",
     "output_type": "stream",
     "text": [
      "안되 0.07480539427844497\n",
      "신선 0.020435878689254505\n",
      "안됩니다 0.011344572300950529\n",
      "않고 0.010861310381681758\n",
      "배송 0.01061948671106142\n",
      "편하고 0.009270127655474757\n",
      "장바구니 0.008719433847353646\n",
      "편해요 0.007739205029867837\n",
      "편리하고 0.0075531526995364015\n",
      "만원이상 0.00701991166521778\n",
      "비쌈 0.006135756287158953\n",
      "느려요 0.006111215037852694\n",
      "포장 0.006091310038004142\n",
      "할인 0.006048944871523084\n",
      "누가 0.0058359480880529535\n",
      "않아요 0.005598325581315642\n",
      "누르면 0.005529543422639279\n",
      "박스에 0.005144977874022953\n",
      "원이라고 0.004954347531633317\n",
      "대체 0.004936292329258738\n",
      "못하고 0.00491833564563088\n",
      "답변도 0.00490047676529103\n",
      "느리고 0.004882714979262199\n",
      "되는 0.004627769979354676\n",
      "택배 0.004446429103286918\n",
      "오류로 0.004174993049621956\n",
      "이미 0.004162171573845488\n",
      "에러가 0.004149409069977905\n",
      "연결이 0.004124059536333469\n",
      "뜹니다 0.004111471792613408\n",
      "앱은 0.00406411992274363\n",
      "편하 0.0037126227804124075\n",
      "간편 0.0036568777115834426\n",
      "비싸요 0.0036517901773193903\n",
      "못함 0.0035288524772471713\n",
      "빠르고 0.003512257090365475\n",
      "품질 0.003336973581608833\n",
      "말라는 0.0031155791314278697\n",
      "한다고 0.003107500706713546\n",
      "저만 0.0030994536612926403\n",
      "물품이 0.003091437832858236\n",
      "만든 0.003083453060151883\n",
      "가능한 0.0030754991829543884\n",
      "어이가없어서 0.003067576042079644\n",
      "없나요 0.0030596834793641284\n",
      "여기는 0.0030518213376611964\n",
      "지나도 0.0030439894608324217\n",
      "느려서 0.003036187693739123\n",
      "고객센터에 0.0030284158822365633\n",
      "이게 0.0030206738731637242\n",
      "이럴거면 0.003012961514338796\n",
      "페이지가 0.003005278654548768\n",
      "미끼로 0.0029976251435439964\n",
      "좋겠 0.002931969826611689\n",
      "많아 0.0026195429686716597\n",
      "결재가 0.0024225770230175084\n",
      "적립금이 0.0023497206527349577\n",
      "선택지가 0.002345283031105631\n",
      "폰도 0.002340857968782805\n",
      "떨어짐 0.002336445418417681\n",
      "ㅎㅎㅎ 0.0023320453328837944\n",
      "사고싶은 0.0023276576652772824\n",
      "지우고 0.0023232823689139427\n",
      "똑같이 0.002318919397329047\n",
      "아이디가 0.0023145687042760515\n",
      "이리 0.002310230243724388\n",
      "사이트도 0.002305903969859829\n",
      "버그가 0.002297287800003207\n",
      "뒤에 0.0022929978134483813\n",
      "경쟁력이 0.002288719832453108\n",
      "시킬려고 0.0022844538122622202\n",
      "있으나 0.002280199708328787\n",
      "싼게 0.0022759574763131962\n",
      "지웁니다 0.002271727072082322\n",
      "보내놓고 0.0022675084517067667\n",
      "시도했는데 0.002263301571462604\n",
      "되는데 0.0022591063878270572\n",
      "하루종일 0.0022549228574790465\n",
      "어이없는 0.0022507509372985484\n",
      "빠른배송 0.0022478770652674196\n",
      "길이 0.002246590584364749\n",
      "이유를 0.0022424417559540237\n",
      "다신 0.002238304409540852\n",
      "못쓰겠어요 0.0022341785027951513\n",
      "어그로 0.0022300639935819073\n",
      "떨어져요 0.0022259608399599743\n",
      "로딩에 0.0022218690001805136\n",
      "업데이트하고 0.0022177884326869887\n",
      "번이 0.002213719096113421\n",
      "편히 0.0022096609492826347\n",
      "뭔지 0.002205613951207089\n",
      "그다지 0.0022015780610858374\n",
      "못하는 0.0021975532383051717\n",
      "안와서 0.0021935394424361385\n",
      "수도권만 0.0021895366332345353\n",
      "두번이나 0.0021855447706398993\n",
      "비밀번호를 0.002181563814773389\n",
      "찾을수 0.002177593725938614\n",
      "답답 0.0021736344646185934\n",
      "며칠째 0.002169685991476863\n"
     ]
    }
   ],
   "source": [
    "for coef in coef_pos_index[:100]:\n",
    "  print(invert_index_vectorizer[coef[1]], coef[0])"
   ]
  },
  {
   "cell_type": "code",
   "execution_count": 51,
   "metadata": {
    "scrolled": true
   },
   "outputs": [
    {
     "name": "stdout",
     "output_type": "stream",
     "text": [
      "ㄱㅏ입요 0.0\n",
      "ㄱㅣ회를 0.0\n",
      "ㄱ너무너무맛잇당 0.0\n",
      "ㅅ발련아 0.0\n",
      "ㅇㅈㅇㅈ홧팅 0.0\n",
      "ㅈㅜㅊㅓㄴㅣ 0.0\n",
      "ㅈ되네 0.0\n",
      "ㅊㅜㅊㅓㄴㅇㅣㄴ 0.0\n",
      "ㅊㅜ우쳐햐시면 0.0\n",
      "ㅊㅜ쳐햐시면 0.0\n",
      "ㅋㄷㅌㅇㅈㅁㅂㅁ레알 0.0\n",
      "ㅋㄹ 0.0\n",
      "ㅋㅋ 0.0\n",
      "ㅋㅋㅋ 0.0\n",
      "ㅋㅋㅋㅋ 0.0\n",
      "ㅋㅋㅋㅋㅋㄱ 0.0\n",
      "ㅋㅋㅋㅋㅋㅋ 0.0\n",
      "ㅋㅋㅋㅋㅋㅋㅋㅋㅋㅋ 0.0\n",
      "ㅋㅋㅋㅋㅋㅋㅋㅋㅋㅋㅋ새로가입해서 0.0\n",
      "ㅋㅋㅋㅋㅋㅋㅋㅋ자취생에게 0.0\n",
      "ㅋㅋㅋㅋㅋ웃긴 0.0\n",
      "ㅋㅋㅋㅋ아니 0.0\n",
      "ㅋㅋㅋ그딴개소리는 0.0\n",
      "ㅋㅋ전화 0.0\n",
      "ㅋㅜ팡 0.0\n",
      "ㅋ그지같은 0.0\n",
      "ㅋ망하길기도합니다 0.0\n",
      "ㅋ신기하네 0.0\n",
      "ㅎㅎㅎㅎ 0.0\n",
      "ㅎㅎㅎㅎㅎ 0.0\n",
      "ㅎㅎㅎㅎ이럴거면 0.0\n",
      "ㅎㅎ아침에 0.0\n",
      "ㅎㅎ장보기즐거움 0.0\n",
      "ㅏ고싶어ㅈ 0.0\n",
      "ㅏ서 0.0\n",
      "ㅏ지는 0.0\n",
      "ㅏ켓컬 0.0\n",
      "ㅏ켓컬리 0.0\n",
      "ㅐ요 0.0\n",
      "ㅐ월째 0.0\n",
      "ㅓ들었고 0.0\n",
      "ㅓ요 0.0\n",
      "ㅓ지ㄴ 0.0\n",
      "ㅓ지네요 0.0\n",
      "ㅔ요 0.0\n",
      "ㅜㅜㅜ 0.0\n",
      "ㅜㅜㅜㅜ 0.0\n",
      "ㅜㅜㅜㅜㅜ 0.0\n",
      "ㅜㅜ대실망이예요 0.0\n",
      "ㅜㅠ 0.0\n",
      "ㅜㅠㅋㅋㅋㅋㅋ개수좀 0.0\n",
      "ㅠㅅㅜ눌러야해서 0.0\n",
      "ㅠㅜ 0.0\n",
      "ㅠㅜㅠㅜㅠ 0.0\n",
      "ㅠㅠㅠ 0.0\n",
      "ㅠㅠㅠㅠ 0.0\n",
      "ㅠㅠㅠㅠㅜㅠㅜ 0.0\n",
      "ㅠㅠㅠㅠㅠ 0.0\n",
      "ㅠㅠㅠㅠㅠㅠㅠ 0.0\n",
      "ㅠㅠㅠ얼어요 0.0\n",
      "ㅠㅠ해결좀다른분들 0.0\n",
      "ㅠㅡㅠ 0.0\n",
      "ㅠ구매주문서 0.0\n",
      "ㅠ그리고 0.0\n",
      "ㅠ누굴 0.0\n",
      "ㅠ마켓컬리어플생겨서 0.0\n",
      "ㅡㅡㅋ 0.0\n",
      "ㅡㅡㅡㅡㅡ 0.0\n",
      "ㅡㅡㅡㅡㅡㅡㅡㅡㅡㅜㅡㅡㅡㅡㅡㅡㅡㅡㅡㅡㅡㅡ드ㅡㅡㅡㅡㅡㅗㅡㅡㅡㅡㅡㅡㅡㅡㅡㅡㅡㅡㅡㅡㅡㅡㅡ 0.0\n",
      "ㅣ네요 0.0\n",
      "ㅣ다 0.0\n",
      "ㅣ당로또번호을 0.0\n",
      "ㅣ더라고요 0.0\n",
      "ㅣ용하고 0.0\n",
      "ㅣ용하고있습ㄴ 0.0\n",
      "ㅣ용하고있습니다 0.0\n",
      "ㅣ적립오류도 0.0\n",
      "가겨만 0.0\n",
      "가격 0.0\n",
      "가고 0.0\n",
      "가고편리성타 0.0\n",
      "가공식품 0.0\n",
      "가공식품등 0.0\n",
      "가관이네요 0.0\n",
      "가구이다보니 0.0\n",
      "가기가 0.0\n",
      "가기도 0.0\n",
      "가길 0.0\n",
      "가길기대하겠습니다 0.0\n",
      "가까운 0.0\n",
      "가까운데 0.0\n",
      "가까이 0.0\n",
      "가까이오면 0.0\n",
      "가끔먹어보지 0.0\n",
      "가끔사용하는데 0.0\n",
      "가끔씩 0.0\n",
      "가끔오고 0.0\n",
      "가난해져만 0.0\n",
      "가네요 0.0\n",
      "가네요다만 0.0\n"
     ]
    }
   ],
   "source": [
    "for coef in coef_neg_index[:100]:\n",
    "  print(invert_index_vectorizer[coef[1]],coef[0])"
   ]
  },
  {
   "cell_type": "markdown",
   "metadata": {},
   "source": [
    "# KNN"
   ]
  },
  {
   "cell_type": "code",
   "execution_count": 52,
   "metadata": {},
   "outputs": [
    {
     "name": "stdout",
     "output_type": "stream",
     "text": [
      "Best KNN Value: 1\n",
      "Test Accuracy: 99.63%\n"
     ]
    }
   ],
   "source": [
    "from sklearn.neighbors import KNeighborsClassifier\n",
    "best_Kvalue = 0\n",
    "best_score = 0\n",
    "for i in range(1,10):\n",
    "    knn = KNeighborsClassifier(n_neighbors=i)\n",
    "    knn.fit(X_train, y_train)\n",
    "    if knn.score(X_test, y_test) > best_score:\n",
    "        best_score = knn.score(X_train, y_train)\n",
    "        best_Kvalue = i\n",
    "        \n",
    "print(\"Best KNN Value: {}\".format(best_Kvalue))\n",
    "print(\"Test Accuracy: {}%\".format(round(best_score*100,2)))"
   ]
  },
  {
   "cell_type": "code",
   "execution_count": 53,
   "metadata": {},
   "outputs": [
    {
     "name": "stdout",
     "output_type": "stream",
     "text": [
      "KNN Classifier report: \n",
      "\n",
      "               precision    recall  f1-score   support\n",
      "\n",
      "           0       0.31      0.35      0.33       203\n",
      "           1       0.83      0.81      0.82       804\n",
      "\n",
      "    accuracy                           0.71      1007\n",
      "   macro avg       0.57      0.58      0.57      1007\n",
      "weighted avg       0.73      0.71      0.72      1007\n",
      "\n"
     ]
    }
   ],
   "source": [
    "y_pred_knn = knn.predict(X_test)\n",
    "print(\"KNN Classifier report: \\n\\n\", classification_report(y_test, y_pred_knn))\n"
   ]
  },
  {
   "cell_type": "code",
   "execution_count": 54,
   "metadata": {
    "scrolled": false
   },
   "outputs": [
    {
     "data": {
      "image/png": "[encoded data removed]",
      "text/plain": [
       "<Figure size 504x504 with 2 Axes>"
      ]
     },
     "metadata": {
      "needs_background": "light"
     },
     "output_type": "display_data"
    }
   ],
   "source": [
    "cm = confusion_matrix(y_test, y_pred_knn)\n",
    "x_axis_labels = [\"Edible\", \"Poisonous\"]\n",
    "y_axis_labels = [\"Edible\", \"Poisonous\"]\n",
    "f, ax = plt.subplots(figsize =(7,7))\n",
    "sns.heatmap(cm, annot = True, linewidths=0.2, linecolor=\"black\", fmt = \".0f\", ax=ax, cmap=\"Purples\", xticklabels=x_axis_labels, yticklabels=y_axis_labels)\n",
    "plt.xlabel(\"PREDICTED LABEL\")\n",
    "plt.ylabel(\"TRUE LABEL\")\n",
    "plt.title('Confusion Matrix for KNN Classifier')\n",
    "#plt.savefig(\"knncm.png\", format='png', dpi=500, bbox_inches='tight')\n",
    "plt.show()"
   ]
  },
  {
   "cell_type": "markdown",
   "metadata": {},
   "source": [
    "# svm"
   ]
  },
  {
   "cell_type": "code",
   "execution_count": 55,
   "metadata": {},
   "outputs": [
    {
     "name": "stdout",
     "output_type": "stream",
     "text": [
      "Test Accuracy: 79.84%\n"
     ]
    }
   ],
   "source": [
    "from sklearn.svm import SVC\n",
    "svm = SVC(random_state=42, gamma=\"auto\")\n",
    "svm.fit(X_train, y_train)\n",
    "print(\"Test Accuracy: {}%\".format(round(svm.score(X_test, y_test)*100, 2)))\n"
   ]
  },
  {
   "cell_type": "code",
   "execution_count": 56,
   "metadata": {},
   "outputs": [
    {
     "name": "stdout",
     "output_type": "stream",
     "text": [
      "SVM Classifier report: \n",
      "\n",
      "               precision    recall  f1-score   support\n",
      "\n",
      "           0       0.00      0.00      0.00       203\n",
      "           1       0.80      1.00      0.89       804\n",
      "\n",
      "    accuracy                           0.80      1007\n",
      "   macro avg       0.40      0.50      0.44      1007\n",
      "weighted avg       0.64      0.80      0.71      1007\n",
      "\n"
     ]
    },
    {
     "name": "stderr",
     "output_type": "stream",
     "text": [
      "C:\\Users\\jby\\AppData\\Local\\Continuum\\anaconda3\\envs\\textmining\\lib\\site-packages\\sklearn\\metrics\\_classification.py:1272: UndefinedMetricWarning: Precision and F-score are ill-defined and being set to 0.0 in labels with no predicted samples. Use `zero_division` parameter to control this behavior.\n",
      "  _warn_prf(average, modifier, msg_start, len(result))\n"
     ]
    }
   ],
   "source": [
    "y_pred_svm = svm.predict(X_test)\n",
    "print(\"SVM Classifier report: \\n\\n\", classification_report(y_test, y_pred_svm))"
   ]
  },
  {
   "cell_type": "code",
   "execution_count": 57,
   "metadata": {
    "scrolled": false
   },
   "outputs": [
    {
     "data": {
      "image/png": "[encoded data removed]",
      "text/plain": [
       "<Figure size 504x504 with 2 Axes>"
      ]
     },
     "metadata": {
      "needs_background": "light"
     },
     "output_type": "display_data"
    }
   ],
   "source": [
    "cm = confusion_matrix(y_test, y_pred_svm)\n",
    "x_axis_labels = [\"Edible\", \"Poisonous\"]\n",
    "y_axis_labels = [\"Edible\", \"Poisonous\"]\n",
    "f, ax = plt.subplots(figsize =(7,7))\n",
    "sns.heatmap(cm, annot = True, linewidths=0.2, linecolor=\"black\", fmt = \".0f\", ax=ax, cmap=\"Purples\", xticklabels=x_axis_labels, yticklabels=y_axis_labels)\n",
    "plt.xlabel(\"PREDICTED LABEL\")\n",
    "plt.ylabel(\"TRUE LABEL\")\n",
    "plt.title('Confusion Matrix for SVM Classifier')\n",
    "#plt.savefig(\"svmcm.png\", format='png', dpi=500, bbox_inches='tight')\n",
    "plt.show()"
   ]
  },
  {
   "cell_type": "markdown",
   "metadata": {},
   "source": [
    "# 랜덤포레스트"
   ]
  },
  {
   "cell_type": "code",
   "execution_count": 58,
   "metadata": {},
   "outputs": [
    {
     "name": "stdout",
     "output_type": "stream",
     "text": [
      "Test Accuracy: 82.42%\n"
     ]
    }
   ],
   "source": [
    "from sklearn.ensemble import RandomForestClassifier\n",
    "rf = RandomForestClassifier(n_estimators=100, random_state=42)\n",
    "rf.fit(X_train, y_train)\n",
    "print(\"Test Accuracy: {}%\".format(round(rf.score(X_test, y_test)*100, 2)))"
   ]
  },
  {
   "cell_type": "code",
   "execution_count": 59,
   "metadata": {},
   "outputs": [
    {
     "name": "stdout",
     "output_type": "stream",
     "text": [
      "Random Forest Classifier report: \n",
      "\n",
      "               precision    recall  f1-score   support\n",
      "\n",
      "           0       0.82      0.16      0.27       203\n",
      "           1       0.82      0.99      0.90       804\n",
      "\n",
      "    accuracy                           0.82      1007\n",
      "   macro avg       0.82      0.58      0.59      1007\n",
      "weighted avg       0.82      0.82      0.77      1007\n",
      "\n"
     ]
    }
   ],
   "source": [
    "y_pred_rf = rf.predict(X_test)\n",
    "print(\"Random Forest Classifier report: \\n\\n\", classification_report(y_test, y_pred_rf))"
   ]
  },
  {
   "cell_type": "code",
   "execution_count": 60,
   "metadata": {},
   "outputs": [
    {
     "data": {
      "image/png": "[encoded data removed]",
      "text/plain": [
       "<Figure size 504x504 with 2 Axes>"
      ]
     },
     "metadata": {
      "needs_background": "light"
     },
     "output_type": "display_data"
    }
   ],
   "source": [
    "cm = confusion_matrix(y_test, y_pred_rf)\n",
    "x_axis_labels = [\"Edible\", \"Poisonous\"]\n",
    "y_axis_labels = [\"Edible\", \"Poisonous\"]\n",
    "f, ax = plt.subplots(figsize =(7,7))\n",
    "sns.heatmap(cm, annot = True, linewidths=0.2, linecolor=\"black\", fmt = \".0f\", ax=ax, cmap=\"Purples\", xticklabels=x_axis_labels, yticklabels=y_axis_labels)\n",
    "plt.xlabel(\"PREDICTED LABEL\")\n",
    "plt.ylabel(\"TRUE LABEL\")\n",
    "plt.title('Confusion Matrix for Random Forest Classifier');\n",
    "#plt.savefig(\"rfcm.png\", format='png', dpi=500, bbox_inches='tight')\n",
    "plt.show()"
   ]
  },
  {
   "cell_type": "code",
   "execution_count": 61,
   "metadata": {},
   "outputs": [
    {
     "data": {
      "text/plain": [
       "<BarContainer object of 14773 artists>"
      ]
     },
     "execution_count": 61,
     "metadata": {},
     "output_type": "execute_result"
    },
    {
     "data": {
      "image/png": "[encoded data removed]",
      "text/plain": [
       "<Figure size 720x576 with 1 Axes>"
      ]
     },
     "metadata": {
      "needs_background": "light"
     },
     "output_type": "display_data"
    }
   ],
   "source": [
    "plt.rcParams['figure.figsize'] = [10,8]\n",
    "plt.bar(range(len(rf.feature_importances_)), rf.feature_importances_)"
   ]
  },
  {
   "cell_type": "code",
   "execution_count": 62,
   "metadata": {},
   "outputs": [],
   "source": [
    "coef_pos_index = sorted(((value, index ) for index, value in enumerate(rf.feature_importances_)), reverse=True)\n",
    "coef_neg_index = sorted(((value,index) for index, value in enumerate(rf.feature_importances_)), reverse= False)"
   ]
  },
  {
   "cell_type": "code",
   "execution_count": 63,
   "metadata": {},
   "outputs": [
    {
     "name": "stdout",
     "output_type": "stream",
     "text": [
      "안되 0.03843002217326322\n",
      "신선 0.010139621594062526\n",
      "안됩니다 0.007320190048802404\n",
      "배송 0.0054107890413365115\n",
      "장바구니 0.00484810504218749\n",
      "않아요 0.004181112265661977\n",
      "편하고 0.004108168412991638\n",
      "느리고 0.0038413441116083302\n",
      "비싸요 0.0034837109152094565\n",
      "포장 0.0034513335441939998\n",
      "비쌈 0.0033717193987218095\n",
      "에러가 0.0032049059492879036\n",
      "편리하고 0.003073349410476218\n",
      "연결이 0.002981388830027096\n",
      "않고 0.002911295776783217\n",
      "저만 0.002864005608294144\n",
      "느려서 0.0028367677024026317\n",
      "원이라고 0.0027063898617859378\n",
      "하라고 0.0026955556061776607\n",
      "느려요 0.0026855474248503835\n",
      "편해요 0.002495168863531747\n",
      "않네요 0.0024885663428736737\n",
      "갑자기 0.0023021296606129176\n",
      "같네요 0.002276323899004345\n",
      "열리지를 0.0021672581522343736\n",
      "만원이상 0.002140896733816448\n",
      "대체 0.0021148991572603037\n",
      "빠르고 0.0020783713975527644\n",
      "물품이 0.00200570287123949\n",
      "없습니다 0.0019663838880209115\n",
      "박스에 0.0019519651853730016\n",
      "만들어주세요 0.0019391091987350825\n",
      "아무리 0.0019219383248532008\n",
      "답답 0.0018853677447023057\n",
      "되지 0.001819147512147076\n",
      "지웁니다 0.001801915225308024\n",
      "재설치 0.0017732069727137572\n",
      "누르면 0.0017268850844149187\n",
      "안깔리는걸까요 0.001707097314759748\n",
      "뜹니다 0.001703602972464654\n",
      "앱로딩안켜져여 0.0017034471843226037\n",
      "못하고 0.001679252210047604\n",
      "이게 0.0016774230434791052\n",
      "페이지가 0.001675043590980742\n",
      "아닌가 0.0016741175013611006\n",
      "않는 0.0016651295913396162\n",
      "안와서 0.0016568075987881236\n",
      "잃었음 0.0016550283413213024\n",
      "찾기힘듬 0.0016455626823147931\n",
      "터져서 0.0016343087850019047\n",
      "ㅡㄴㅅㄴ즈ㄴ 0.0016001513644423614\n",
      "별로네용 0.001595971205195319\n",
      "오류로 0.0015958878312170048\n",
      "안나와요왜그런거죠ㅠ 0.0015746637275604817\n",
      "로그인안됨 0.001570229393245179\n",
      "탈퇴하고 0.0015694525882912302\n",
      "다운로드가 0.0015655425790091176\n",
      "공유하신다면서요 0.001565526350167013\n",
      "답변도 0.0015639350036759903\n",
      "블랙리스트건으로 0.0015614131704469534\n",
      "이렇게 0.0015560101114407549\n",
      "정보을 0.0015393373235047126\n",
      "없으나 0.001539288554592762\n",
      "그래요 0.0015286958199599847\n",
      "언제해결되나요 0.0015271434351157187\n",
      "이회산 0.001525934783606261\n",
      "안깔립니다 0.0015250398293561818\n",
      "승질나는 0.001517964601987038\n",
      "설치가안되요 0.0015147127745841291\n",
      "누가 0.0015110094505028104\n",
      "심각세벽이아니라다음날다음날아침시에옴광고사기믿지마셈 0.0015063360435824352\n",
      "굳이 0.0015025177065571685\n",
      "왤까요 0.001501343750770405\n",
      "렉이심하메여 0.0015003734708080884\n",
      "이상해요ㅜㅜ 0.0014950533824282409\n",
      "설치안되요 0.0014709146161351518\n",
      "싼게 0.0014697616177105197\n",
      "문제인지 0.0014638048229771742\n",
      "로그인이 0.0014631981031052689\n",
      "없네요 0.0014611469511681449\n",
      "품절된이베리코로 0.0014576551204062212\n",
      "앱이안켜져요 0.0014481734961540348\n",
      "그래여 0.0014463639361455781\n",
      "적립금이 0.001429497834273652\n",
      "쿠팡쓸게요 0.0014166429124121021\n",
      "엄청느려서못하겠음 0.0014163471109059746\n",
      "최악이네요 0.00140498277853787\n",
      "믿음이 0.0014012186374705471\n",
      "똑같이 0.001400628044879642\n",
      "없는오류가 0.0014004830338914867\n",
      "넣어주세요 0.0013965146734506823\n",
      "못하겠네요 0.0013845562479289396\n",
      "이미 0.0013802370148843458\n",
      "버려 0.0013738150363491106\n",
      "팔아주세요ㅠ 0.0013730531781302154\n",
      "듭니당 0.0013549024682340944\n",
      "ㄷㅈ니ㄴ 0.001348767550671047\n",
      "첫구매를했는데떡볶이에있는오뎅꼬치에가시가바늘처럼벗겨져서먹다가입술에박혀서다쳤어요 0.0013465845343008515\n",
      "하는 0.0013443985635156642\n",
      "그냥저냥 0.0013440762078274038\n"
     ]
    }
   ],
   "source": [
    "for coef in coef_pos_index[:100]:\n",
    "  print(invert_index_vectorizer[coef[1]], coef[0])"
   ]
  },
  {
   "cell_type": "code",
   "execution_count": 64,
   "metadata": {},
   "outputs": [
    {
     "name": "stdout",
     "output_type": "stream",
     "text": [
      "ㄱㅣ회를\n",
      "ㅈㅜㅊㅓㄴㅣ\n",
      "ㅊㅜ우쳐햐시면\n",
      "ㅊㅜ쳐햐시면\n",
      "ㅋㄷㅌㅇㅈㅁㅂㅁ레알\n",
      "ㅋㄹ\n",
      "ㅋㅋㅋㅋㅋㄱ\n",
      "ㅋㅋㅋㅋㅋㅋ\n",
      "ㅋㅋㅋㅋㅋㅋㅋㅋ자취생에게\n",
      "ㅋㅋㅋㅋㅋ웃긴\n",
      "ㅋㅋ전화\n",
      "ㅋㅜ팡\n",
      "ㅋ신기하네\n",
      "ㅎㅎ아침에\n",
      "ㅏ고싶어ㅈ\n",
      "ㅏ서\n",
      "ㅏ켓컬\n",
      "ㅓ들었고\n",
      "ㅓ요\n",
      "ㅓ지ㄴ\n",
      "ㅓ지네요\n",
      "ㅜㅜㅜㅜ\n",
      "ㅜㅠㅋㅋㅋㅋㅋ개수좀\n",
      "ㅠㅅㅜ눌러야해서\n",
      "ㅠㅜㅠㅜㅠ\n",
      "ㅠㅠㅠㅠㅠㅠㅠ\n",
      "ㅠㅠ해결좀다른분들\n",
      "ㅠㅡㅠ\n",
      "ㅠ그리고\n",
      "ㅠ누굴\n",
      "ㅡㅡㅡㅡㅡ\n",
      "ㅡㅡㅡㅡㅡㅡㅡㅡㅡㅜㅡㅡㅡㅡㅡㅡㅡㅡㅡㅡㅡㅡ드ㅡㅡㅡㅡㅡㅗㅡㅡㅡㅡㅡㅡㅡㅡㅡㅡㅡㅡㅡㅡㅡㅡㅡ\n",
      "ㅣ네요\n",
      "ㅣ당로또번호을\n",
      "ㅣ용하고\n",
      "ㅣ용하고있습ㄴ\n",
      "ㅣ용하고있습니다\n",
      "ㅣ적립오류도\n",
      "가공식품\n",
      "가길\n",
      "가까운데\n",
      "가까이\n",
      "가까이오면\n",
      "가끔먹어보지\n",
      "가끔사용하는데\n",
      "가난해져만\n",
      "가네요\n",
      "가능도\n",
      "가능하며\n",
      "가능한거죠\n",
      "가능한게\n",
      "가능할듯합니다\n",
      "가능합니까\n",
      "가득하구요\n",
      "가려놓습니까\n",
      "가르키지말고\n",
      "가방으로\n",
      "가보니\n",
      "가보셔서\n",
      "가상계좌이체도\n",
      "가성비가좋아요\n",
      "가성비도\n",
      "가성비입니다\n",
      "가시는지\n",
      "가야되는데\n",
      "가이드를\n",
      "가자미와\n",
      "가장큰\n",
      "가져가려고\n",
      "가져가지도\n",
      "가져간더니\n",
      "가져간줄\n",
      "가져다주셔서\n",
      "가져야\n",
      "가졌었는데\n",
      "가족들\n",
      "가지런히\n",
      "가치관이\n",
      "가하는\n",
      "각제품마다\n",
      "간결하고\n",
      "간결함\n",
      "간소화에서\n",
      "간식들과\n",
      "간식류도\n",
      "간식이나\n",
      "간적이\n",
      "갈시간이\n",
      "갈아탈\n",
      "갈아탈걸\n",
      "갈아탈데\n",
      "갈아탔다가\n",
      "갈아탔어요\n",
      "갈증이\n",
      "갈치\n",
      "감당할\n",
      "감동ㅠㅠ\n",
      "감동받아\n",
      "감동생산자와\n",
      "감동이에요\n"
     ]
    }
   ],
   "source": [
    "for coef in coef_neg_index[:100]:\n",
    "  print(invert_index_vectorizer[coef[1]])"
   ]
  },
  {
   "cell_type": "markdown",
   "metadata": {},
   "source": [
    "# 라쏘"
   ]
  },
  {
   "cell_type": "code",
   "execution_count": 65,
   "metadata": {},
   "outputs": [
    {
     "name": "stdout",
     "output_type": "stream",
     "text": [
      "X_train,y_train Accuracy: 95.96%\n",
      "X_test,y_test Accuracy: -4.67%\n",
      "lasso alpha1e-05 y_test,pred Mse 0.21338563758213344\n",
      "lasso alpha1e-05 y_test,pred SQRT Mse 0.4104534293929776\n"
     ]
    }
   ],
   "source": [
    "alpha = 0.00001\n",
    "lasso = Lasso(alpha=alpha,random_state=42)\n",
    "lasso.fit(X_train, y_train)\n",
    "print(\"X_train,y_train Accuracy: {}%\".format(round(lasso.score(X_train, y_train)*100, 2)))\n",
    "print(\"X_test,y_test Accuracy: {}%\".format(round(lasso.score(X_test, y_test)*100, 2)))\n",
    "pred = lasso.predict(X_test)\n",
    "print(f\"lasso alpha{alpha} y_test,pred Mse\",mean_absolute_error(y_test, pred))\n",
    "print(f\"lasso alpha{alpha} y_test,pred SQRT Mse\",np.sqrt(mean_squared_error(y_test, pred)))"
   ]
  },
  {
   "cell_type": "code",
   "execution_count": null,
   "metadata": {},
   "outputs": [],
   "source": []
  }
 ],
 "metadata": {
  "kernelspec": {
   "display_name": "Python 3",
   "language": "python",
   "name": "python3"
  },
  "language_info": {
   "codemirror_mode": {
    "name": "ipython",
    "version": 3
   },
   "file_extension": ".py",
   "mimetype": "text/x-python",
   "name": "python",
   "nbconvert_exporter": "python",
   "pygments_lexer": "ipython3",
   "version": "3.6.10"
  }
 },
 "nbformat": 4,
 "nbformat_minor": 4
}
