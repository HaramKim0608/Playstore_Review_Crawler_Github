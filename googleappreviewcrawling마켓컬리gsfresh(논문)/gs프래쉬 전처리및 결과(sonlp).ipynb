{
 "cells": [
  {
   "cell_type": "code",
   "execution_count": 97,
   "metadata": {},
   "outputs": [
    {
     "name": "stderr",
     "output_type": "stream",
     "text": [
      "C:\\Users\\jby\\AppData\\Local\\Continuum\\anaconda3\\envs\\textmining\\lib\\site-packages\\konlpy\\tag\\_okt.py:16: UserWarning: \"Twitter\" has changed to \"Okt\" since KoNLPy v0.4.5.\n",
      "  warn('\"Twitter\" has changed to \"Okt\" since KoNLPy v0.4.5.')\n"
     ]
    }
   ],
   "source": [
    "from datetime import datetime\n",
    "import pandas as pd\n",
    "import matplotlib.pyplot as plt\n",
    "%matplotlib inline\n",
    "from konlpy.tag import Twitter\n",
    "twt = Twitter()\n",
    "from hanspell import spell_checker\n",
    "import re\n",
    "from konlpy.tag import Okt\n",
    "from collections import Counter\n",
    "from sklearn.feature_extraction.text import CountVectorizer\n",
    "from konlpy.tag import Kkma\n",
    "from sklearn.linear_model import Lasso\n",
    "from sklearn.feature_extraction.text import TfidfTransformer\n",
    "from sklearn.model_selection import train_test_split\n",
    "from sklearn.linear_model import LogisticRegression\n",
    "from sklearn.metrics import accuracy_score, precision_score, recall_score, f1_score\n",
    "from sklearn.metrics import confusion_matrix\n",
    "import numpy as np\n",
    "import seaborn as sns\n",
    "import tensorflow as tf\n",
    "import os\n",
    "from tqdm.notebook import tqdm\n",
    "#import graphviz\n",
    "from sklearn.preprocessing import LabelEncoder\n",
    "from sklearn.tree import DecisionTreeClassifier\n",
    "from sklearn.metrics import classification_report, confusion_matrix, precision_recall_curve, auc, roc_curve\n",
    "#from sklearn.tree import DecisionTreeClassifier, export_graphviz\n",
    "from sklearn.metrics import mean_absolute_error, mean_squared_error\n",
    "from sklearn.model_selection import cross_val_score"
   ]
  },
  {
   "cell_type": "code",
   "execution_count": 98,
   "metadata": {
    "scrolled": false
   },
   "outputs": [
    {
     "data": {
      "text/html": [
       "<div>\n",
       "<style scoped>\n",
       "    .dataframe tbody tr th:only-of-type {\n",
       "        vertical-align: middle;\n",
       "    }\n",
       "\n",
       "    .dataframe tbody tr th {\n",
       "        vertical-align: top;\n",
       "    }\n",
       "\n",
       "    .dataframe thead th {\n",
       "        text-align: right;\n",
       "    }\n",
       "</style>\n",
       "<table border=\"1\" class=\"dataframe\">\n",
       "  <thead>\n",
       "    <tr style=\"text-align: right;\">\n",
       "      <th></th>\n",
       "      <th>name</th>\n",
       "      <th>ratings</th>\n",
       "      <th>date</th>\n",
       "      <th>helpful</th>\n",
       "      <th>comment</th>\n",
       "      <th>developer_comment</th>\n",
       "    </tr>\n",
       "  </thead>\n",
       "  <tbody>\n",
       "    <tr>\n",
       "      <th>0</th>\n",
       "      <td>박소영</td>\n",
       "      <td>5</td>\n",
       "      <td>2021-03-10</td>\n",
       "      <td>0</td>\n",
       "      <td>설치하고 오늘 처음 물건 구매해봤는데 앱 사용 시 크게 불편한 점은 없었으나 품목이...</td>\n",
       "      <td>NaN</td>\n",
       "    </tr>\n",
       "    <tr>\n",
       "      <th>1</th>\n",
       "      <td>싫어함걷는것을</td>\n",
       "      <td>1</td>\n",
       "      <td>2021-03-10</td>\n",
       "      <td>0</td>\n",
       "      <td>장바구니에 상품을 담았는데 장바구니에서 보이지가 않음. 결국 구매 포기.</td>\n",
       "      <td>NaN</td>\n",
       "    </tr>\n",
       "    <tr>\n",
       "      <th>2</th>\n",
       "      <td>권혁윤</td>\n",
       "      <td>5</td>\n",
       "      <td>2021-03-10</td>\n",
       "      <td>0</td>\n",
       "      <td>사용힌기 편리하고 각종 할인이 잘 돼어 있어 좋아요</td>\n",
       "      <td>NaN</td>\n",
       "    </tr>\n",
       "    <tr>\n",
       "      <th>3</th>\n",
       "      <td>서승희</td>\n",
       "      <td>5</td>\n",
       "      <td>2021-03-10</td>\n",
       "      <td>0</td>\n",
       "      <td>쿠폰에 빠른배송 GS FRESH 언제까지나 함께합니다.</td>\n",
       "      <td>NaN</td>\n",
       "    </tr>\n",
       "    <tr>\n",
       "      <th>4</th>\n",
       "      <td>HH Ch</td>\n",
       "      <td>5</td>\n",
       "      <td>2021-03-10</td>\n",
       "      <td>0</td>\n",
       "      <td>잘 쓰고 있어요~신선한 상품이 많아서 좋아요 ㅎㅎ</td>\n",
       "      <td>NaN</td>\n",
       "    </tr>\n",
       "  </tbody>\n",
       "</table>\n",
       "</div>"
      ],
      "text/plain": [
       "      name  ratings        date  helpful  \\\n",
       "0      박소영        5  2021-03-10        0   \n",
       "1  싫어함걷는것을        1  2021-03-10        0   \n",
       "2      권혁윤        5  2021-03-10        0   \n",
       "3      서승희        5  2021-03-10        0   \n",
       "4    HH Ch        5  2021-03-10        0   \n",
       "\n",
       "                                             comment developer_comment  \n",
       "0  설치하고 오늘 처음 물건 구매해봤는데 앱 사용 시 크게 불편한 점은 없었으나 품목이...               NaN  \n",
       "1           장바구니에 상품을 담았는데 장바구니에서 보이지가 않음. 결국 구매 포기.               NaN  \n",
       "2                       사용힌기 편리하고 각종 할인이 잘 돼어 있어 좋아요               NaN  \n",
       "3                     쿠폰에 빠른배송 GS FRESH 언제까지나 함께합니다.               NaN  \n",
       "4                        잘 쓰고 있어요~신선한 상품이 많아서 좋아요 ㅎㅎ               NaN  "
      ]
     },
     "execution_count": 98,
     "metadata": {},
     "output_type": "execute_result"
    }
   ],
   "source": [
    "df = pd.read_csv('./result/2021-03-10_21-24-03GS플래쉬.csv')\n",
    "df.head()"
   ]
  },
  {
   "cell_type": "code",
   "execution_count": 99,
   "metadata": {},
   "outputs": [
    {
     "data": {
      "text/html": [
       "<div>\n",
       "<style scoped>\n",
       "    .dataframe tbody tr th:only-of-type {\n",
       "        vertical-align: middle;\n",
       "    }\n",
       "\n",
       "    .dataframe tbody tr th {\n",
       "        vertical-align: top;\n",
       "    }\n",
       "\n",
       "    .dataframe thead th {\n",
       "        text-align: right;\n",
       "    }\n",
       "</style>\n",
       "<table border=\"1\" class=\"dataframe\">\n",
       "  <thead>\n",
       "    <tr style=\"text-align: right;\">\n",
       "      <th></th>\n",
       "      <th>ratings</th>\n",
       "      <th>helpful</th>\n",
       "    </tr>\n",
       "  </thead>\n",
       "  <tbody>\n",
       "    <tr>\n",
       "      <th>count</th>\n",
       "      <td>9779.000000</td>\n",
       "      <td>9779.000000</td>\n",
       "    </tr>\n",
       "    <tr>\n",
       "      <th>mean</th>\n",
       "      <td>4.253298</td>\n",
       "      <td>0.615707</td>\n",
       "    </tr>\n",
       "    <tr>\n",
       "      <th>std</th>\n",
       "      <td>1.400829</td>\n",
       "      <td>3.247382</td>\n",
       "    </tr>\n",
       "    <tr>\n",
       "      <th>min</th>\n",
       "      <td>1.000000</td>\n",
       "      <td>0.000000</td>\n",
       "    </tr>\n",
       "    <tr>\n",
       "      <th>25%</th>\n",
       "      <td>4.000000</td>\n",
       "      <td>0.000000</td>\n",
       "    </tr>\n",
       "    <tr>\n",
       "      <th>50%</th>\n",
       "      <td>5.000000</td>\n",
       "      <td>0.000000</td>\n",
       "    </tr>\n",
       "    <tr>\n",
       "      <th>75%</th>\n",
       "      <td>5.000000</td>\n",
       "      <td>0.000000</td>\n",
       "    </tr>\n",
       "    <tr>\n",
       "      <th>max</th>\n",
       "      <td>5.000000</td>\n",
       "      <td>148.000000</td>\n",
       "    </tr>\n",
       "  </tbody>\n",
       "</table>\n",
       "</div>"
      ],
      "text/plain": [
       "           ratings      helpful\n",
       "count  9779.000000  9779.000000\n",
       "mean      4.253298     0.615707\n",
       "std       1.400829     3.247382\n",
       "min       1.000000     0.000000\n",
       "25%       4.000000     0.000000\n",
       "50%       5.000000     0.000000\n",
       "75%       5.000000     0.000000\n",
       "max       5.000000   148.000000"
      ]
     },
     "execution_count": 99,
     "metadata": {},
     "output_type": "execute_result"
    }
   ],
   "source": [
    "df.describe()"
   ]
  },
  {
   "cell_type": "code",
   "execution_count": 100,
   "metadata": {},
   "outputs": [],
   "source": [
    "df = df[['date', 'comment', 'ratings']]"
   ]
  },
  {
   "cell_type": "code",
   "execution_count": 101,
   "metadata": {
    "scrolled": true
   },
   "outputs": [
    {
     "name": "stdout",
     "output_type": "stream",
     "text": [
      "<class 'pandas.core.frame.DataFrame'>\n",
      "Int64Index: 9747 entries, 0 to 9778\n",
      "Data columns (total 3 columns):\n",
      " #   Column   Non-Null Count  Dtype \n",
      "---  ------   --------------  ----- \n",
      " 0   date     9747 non-null   object\n",
      " 1   comment  9747 non-null   object\n",
      " 2   ratings  9747 non-null   int64 \n",
      "dtypes: int64(1), object(2)\n",
      "memory usage: 304.6+ KB\n"
     ]
    }
   ],
   "source": [
    "df = df.dropna(axis = 0, how = 'any')\n",
    "df.info()"
   ]
  },
  {
   "cell_type": "code",
   "execution_count": 102,
   "metadata": {
    "scrolled": false
   },
   "outputs": [
    {
     "name": "stdout",
     "output_type": "stream",
     "text": [
      "all tags length = 694236 --> 57795, (num_doc = 15602)"
     ]
    },
    {
     "data": {
      "text/html": [
       "<div>\n",
       "<style scoped>\n",
       "    .dataframe tbody tr th:only-of-type {\n",
       "        vertical-align: middle;\n",
       "    }\n",
       "\n",
       "    .dataframe tbody tr th {\n",
       "        vertical-align: top;\n",
       "    }\n",
       "\n",
       "    .dataframe thead th {\n",
       "        text-align: right;\n",
       "    }\n",
       "</style>\n",
       "<table border=\"1\" class=\"dataframe\">\n",
       "  <thead>\n",
       "    <tr style=\"text-align: right;\">\n",
       "      <th></th>\n",
       "      <th>date</th>\n",
       "      <th>comment</th>\n",
       "      <th>ratings</th>\n",
       "    </tr>\n",
       "  </thead>\n",
       "  <tbody>\n",
       "    <tr>\n",
       "      <th>0</th>\n",
       "      <td>2021-03-10</td>\n",
       "      <td>설치하고 오늘 처음 물건 구매해봤는데 앱 사용 시 크게 불편한 점은 없었으나 품목이...</td>\n",
       "      <td>5</td>\n",
       "    </tr>\n",
       "    <tr>\n",
       "      <th>1</th>\n",
       "      <td>2021-03-10</td>\n",
       "      <td>장바구니에 상품을 담았는데 장바구니에서 보이지가 않음. 결국 구매 포기.</td>\n",
       "      <td>1</td>\n",
       "    </tr>\n",
       "    <tr>\n",
       "      <th>2</th>\n",
       "      <td>2021-03-10</td>\n",
       "      <td>사용힌기 편리하고 각종 할인이 잘 돼어 있어 좋아요</td>\n",
       "      <td>5</td>\n",
       "    </tr>\n",
       "    <tr>\n",
       "      <th>3</th>\n",
       "      <td>2021-03-10</td>\n",
       "      <td>쿠폰에 빠른배송 GS FRESH 언제까지나 함께합니다.</td>\n",
       "      <td>5</td>\n",
       "    </tr>\n",
       "    <tr>\n",
       "      <th>4</th>\n",
       "      <td>2021-03-10</td>\n",
       "      <td>잘 쓰고 있어요~신선한 상품이 많아서 좋아요 ㅎㅎ</td>\n",
       "      <td>5</td>\n",
       "    </tr>\n",
       "  </tbody>\n",
       "</table>\n",
       "</div>"
      ],
      "text/plain": [
       "         date                                            comment  ratings\n",
       "0  2021-03-10  설치하고 오늘 처음 물건 구매해봤는데 앱 사용 시 크게 불편한 점은 없었으나 품목이...        5\n",
       "1  2021-03-10           장바구니에 상품을 담았는데 장바구니에서 보이지가 않음. 결국 구매 포기.        1\n",
       "2  2021-03-10                       사용힌기 편리하고 각종 할인이 잘 돼어 있어 좋아요        5\n",
       "3  2021-03-10                     쿠폰에 빠른배송 GS FRESH 언제까지나 함께합니다.        5\n",
       "4  2021-03-10                        잘 쓰고 있어요~신선한 상품이 많아서 좋아요 ㅎㅎ        5"
      ]
     },
     "execution_count": 102,
     "metadata": {},
     "output_type": "execute_result"
    }
   ],
   "source": [
    "from soyspacing.countbase import CountSpace\n",
    "def 띄어쓰기(text):\n",
    "    verbose=False\n",
    "    mc = 10  # min_count\n",
    "    ft = 0.3 # force_abs_threshold\n",
    "    nt =-0.3 # nonspace_threshold\n",
    "    st = 0.3 # space_threshold\n",
    "\n",
    "\n",
    "    sent_corrected, tags = model.correct(\n",
    "    doc=text,\n",
    "    verbose=verbose,\n",
    "    force_abs_threshold=ft,\n",
    "    nonspace_threshold=nt,\n",
    "    space_threshold=st,\n",
    "    min_count=mc)\n",
    "    sent_corrected, tags = model.correct(text)\n",
    "    result = sent_corrected\n",
    "    return result\n",
    "corpus_fname = './result/134963_norm.txt'\n",
    "model = CountSpace()\n",
    "model.train(corpus_fname)    \n",
    "\n",
    "df['comment'] = df['comment'].apply(lambda x: 띄어쓰기(x))\n",
    "df.head()\n",
    "    \n",
    "    "
   ]
  },
  {
   "cell_type": "code",
   "execution_count": 103,
   "metadata": {},
   "outputs": [
    {
     "data": {
      "application/vnd.jupyter.widget-view+json": {
       "model_id": "d7cfd9cec63a42c4a3affaceddcf477f",
       "version_major": 2,
       "version_minor": 0
      },
      "text/plain": [
       "HBox(children=(FloatProgress(value=0.0, max=9747.0), HTML(value='')))"
      ]
     },
     "metadata": {},
     "output_type": "display_data"
    },
    {
     "name": "stderr",
     "output_type": "stream",
     "text": [
      "C:\\Users\\jby\\AppData\\Local\\Continuum\\anaconda3\\envs\\textmining\\lib\\site-packages\\ipykernel_launcher.py:6: SettingWithCopyWarning: \n",
      "A value is trying to be set on a copy of a slice from a DataFrame\n",
      "\n",
      "See the caveats in the documentation: https://pandas.pydata.org/pandas-docs/stable/user_guide/indexing.html#returning-a-view-versus-a-copy\n",
      "  \n"
     ]
    },
    {
     "name": "stdout",
     "output_type": "stream",
     "text": [
      "\n"
     ]
    }
   ],
   "source": [
    "#맞춤법 검사기\n",
    "for i in tqdm(range(len(df))): \n",
    "    try: \n",
    "        result = spell_checker.check(df['comment'][i])\n",
    "        a= result[1]\n",
    "        df['comment'][i] = a\n",
    "    except: \n",
    "        pass\n",
    "\n"
   ]
  },
  {
   "cell_type": "code",
   "execution_count": 104,
   "metadata": {},
   "outputs": [
    {
     "data": {
      "text/html": [
       "<div>\n",
       "<style scoped>\n",
       "    .dataframe tbody tr th:only-of-type {\n",
       "        vertical-align: middle;\n",
       "    }\n",
       "\n",
       "    .dataframe tbody tr th {\n",
       "        vertical-align: top;\n",
       "    }\n",
       "\n",
       "    .dataframe thead th {\n",
       "        text-align: right;\n",
       "    }\n",
       "</style>\n",
       "<table border=\"1\" class=\"dataframe\">\n",
       "  <thead>\n",
       "    <tr style=\"text-align: right;\">\n",
       "      <th></th>\n",
       "      <th>date</th>\n",
       "      <th>comment</th>\n",
       "      <th>ratings</th>\n",
       "      <th>ko_text</th>\n",
       "    </tr>\n",
       "  </thead>\n",
       "  <tbody>\n",
       "    <tr>\n",
       "      <th>0</th>\n",
       "      <td>2021-03-10</td>\n",
       "      <td>설치하고 오늘 처음 물건 구매해봤는데 앱 사용 시 크게 불편한 점은 없었으나 품목이...</td>\n",
       "      <td>5</td>\n",
       "      <td>설치하고 오늘 처음 물건 구매해봤는데 앱 사용 시 크게 불편한 점은 없었으나 품목이...</td>\n",
       "    </tr>\n",
       "    <tr>\n",
       "      <th>1</th>\n",
       "      <td>2021-03-10</td>\n",
       "      <td>장바구니에 상품을 담았는데 장바구니에서 보이지가 않음. 결국 구매 포기.</td>\n",
       "      <td>1</td>\n",
       "      <td>장바구니에 상품을 담았는데 장바구니에서 보이지가 않음 결국 구매 포기</td>\n",
       "    </tr>\n",
       "    <tr>\n",
       "      <th>2</th>\n",
       "      <td>2021-03-10</td>\n",
       "      <td>사용힌기 편리하고 각종 할인이 잘 돼어 있어 좋아요</td>\n",
       "      <td>5</td>\n",
       "      <td>사용힌기 편리하고 각종 할인이 잘 돼어 있어 좋아요</td>\n",
       "    </tr>\n",
       "    <tr>\n",
       "      <th>3</th>\n",
       "      <td>2021-03-10</td>\n",
       "      <td>쿠폰에 빠른배송 GS FRESH 언제까지나 함께합니다.</td>\n",
       "      <td>5</td>\n",
       "      <td>쿠폰에 빠른배송   언제까지나 함께합니다</td>\n",
       "    </tr>\n",
       "    <tr>\n",
       "      <th>4</th>\n",
       "      <td>2021-03-10</td>\n",
       "      <td>잘 쓰고 있어요~신선한 상품이 많아서 좋아요 ㅎㅎ</td>\n",
       "      <td>5</td>\n",
       "      <td>잘 쓰고 있어요신선한 상품이 많아서 좋아요 ㅎㅎ</td>\n",
       "    </tr>\n",
       "  </tbody>\n",
       "</table>\n",
       "</div>"
      ],
      "text/plain": [
       "         date                                            comment  ratings  \\\n",
       "0  2021-03-10  설치하고 오늘 처음 물건 구매해봤는데 앱 사용 시 크게 불편한 점은 없었으나 품목이...        5   \n",
       "1  2021-03-10           장바구니에 상품을 담았는데 장바구니에서 보이지가 않음. 결국 구매 포기.        1   \n",
       "2  2021-03-10                       사용힌기 편리하고 각종 할인이 잘 돼어 있어 좋아요        5   \n",
       "3  2021-03-10                     쿠폰에 빠른배송 GS FRESH 언제까지나 함께합니다.        5   \n",
       "4  2021-03-10                        잘 쓰고 있어요~신선한 상품이 많아서 좋아요 ㅎㅎ        5   \n",
       "\n",
       "                                             ko_text  \n",
       "0  설치하고 오늘 처음 물건 구매해봤는데 앱 사용 시 크게 불편한 점은 없었으나 품목이...  \n",
       "1             장바구니에 상품을 담았는데 장바구니에서 보이지가 않음 결국 구매 포기  \n",
       "2                       사용힌기 편리하고 각종 할인이 잘 돼어 있어 좋아요  \n",
       "3                             쿠폰에 빠른배송   언제까지나 함께합니다  \n",
       "4                         잘 쓰고 있어요신선한 상품이 많아서 좋아요 ㅎㅎ  "
      ]
     },
     "execution_count": 104,
     "metadata": {},
     "output_type": "execute_result"
    }
   ],
   "source": [
    "def text_cleaning(text):\n",
    "    hangul = re.compile('[|ㄱ-ㅎ|ㅏ-ㅣ]+') \n",
    "    result = hangul.sub('', text)\n",
    "    hangul = re.compile('[^ ㄱ-ㅣ가-힣]+') \n",
    "    result = hangul.sub('', text)\n",
    "    return result\n",
    "df['ko_text'] = df['comment'].apply(lambda x: text_cleaning(x))\n",
    "df.head()"
   ]
  },
  {
   "cell_type": "code",
   "execution_count": 105,
   "metadata": {},
   "outputs": [
    {
     "name": "stdout",
     "output_type": "stream",
     "text": [
      "training was done. used memory 1.340 Gbry 1.336 Gb\n",
      "all cohesion probabilities was computed. # words = 355\n",
      "all branching entropies was computed # words = 11886\n",
      "all accessor variety was computed # words = 11886\n"
     ]
    }
   ],
   "source": [
    "from soynlp.word import WordExtractor\n",
    "from soynlp.utils import DoublespaceLineCorpus\n",
    "from soynlp.tokenizer import LTokenizer\n",
    "word_extractor = WordExtractor(min_frequency=100,\n",
    "   min_cohesion_forward=0.05,\n",
    "   min_right_branching_entropy=0.0\n",
    ")\n",
    "word_extractor.train(df['ko_text'].values)\n",
    "words = word_extractor.extract()\n",
    "words\n",
    "\n",
    "cohesion_score = {word:score.cohesion_forward for word, score in words.items()}\n",
    "tokenizer = LTokenizer(scores=cohesion_score)\n"
   ]
  },
  {
   "cell_type": "code",
   "execution_count": 106,
   "metadata": {
    "scrolled": false
   },
   "outputs": [
    {
     "data": {
      "text/html": [
       "<div>\n",
       "<style scoped>\n",
       "    .dataframe tbody tr th:only-of-type {\n",
       "        vertical-align: middle;\n",
       "    }\n",
       "\n",
       "    .dataframe tbody tr th {\n",
       "        vertical-align: top;\n",
       "    }\n",
       "\n",
       "    .dataframe thead th {\n",
       "        text-align: right;\n",
       "    }\n",
       "</style>\n",
       "<table border=\"1\" class=\"dataframe\">\n",
       "  <thead>\n",
       "    <tr style=\"text-align: right;\">\n",
       "      <th></th>\n",
       "      <th>date</th>\n",
       "      <th>comment</th>\n",
       "      <th>ratings</th>\n",
       "      <th>ko_text</th>\n",
       "      <th>nouns</th>\n",
       "    </tr>\n",
       "  </thead>\n",
       "  <tbody>\n",
       "    <tr>\n",
       "      <th>0</th>\n",
       "      <td>2021-03-10</td>\n",
       "      <td>설치하고 오늘 처음 물건 구매해봤는데 앱 사용 시 크게 불편한 점은 없었으나 품목이...</td>\n",
       "      <td>5</td>\n",
       "      <td>설치하고 오늘 처음 물건 구매해봤는데 앱 사용 시 크게 불편한 점은 없었으나 품목이...</td>\n",
       "      <td>[설치, 오늘, 처음, 물건, 구매, 앱, 사용, 시, 크게, 불편, 점은, 없었으...</td>\n",
       "    </tr>\n",
       "    <tr>\n",
       "      <th>1</th>\n",
       "      <td>2021-03-10</td>\n",
       "      <td>장바구니에 상품을 담았는데 장바구니에서 보이지가 않음. 결국 구매 포기.</td>\n",
       "      <td>1</td>\n",
       "      <td>장바구니에 상품을 담았는데 장바구니에서 보이지가 않음 결국 구매 포기</td>\n",
       "      <td>[장바구니, 상품, 담았는데, 장바구니, 보이지가, 않음, 결국, 구매, 포기]</td>\n",
       "    </tr>\n",
       "    <tr>\n",
       "      <th>2</th>\n",
       "      <td>2021-03-10</td>\n",
       "      <td>사용힌기 편리하고 각종 할인이 잘 돼어 있어 좋아요</td>\n",
       "      <td>5</td>\n",
       "      <td>사용힌기 편리하고 각종 할인이 잘 돼어 있어 좋아요</td>\n",
       "      <td>[사용, 편리하고, 각종, 할인, 잘, 돼어, 있어, 좋아요]</td>\n",
       "    </tr>\n",
       "    <tr>\n",
       "      <th>3</th>\n",
       "      <td>2021-03-10</td>\n",
       "      <td>쿠폰에 빠른배송 GS FRESH 언제까지나 함께합니다.</td>\n",
       "      <td>5</td>\n",
       "      <td>쿠폰에 빠른배송   언제까지나 함께합니다</td>\n",
       "      <td>[쿠폰, 빠른, 언제까지나, 함께합니다]</td>\n",
       "    </tr>\n",
       "    <tr>\n",
       "      <th>4</th>\n",
       "      <td>2021-03-10</td>\n",
       "      <td>잘 쓰고 있어요~신선한 상품이 많아서 좋아요 ㅎㅎ</td>\n",
       "      <td>5</td>\n",
       "      <td>잘 쓰고 있어요신선한 상품이 많아서 좋아요 ㅎㅎ</td>\n",
       "      <td>[잘, 쓰고, 있어, 상품, 많아서, 좋아요, ㅎㅎ]</td>\n",
       "    </tr>\n",
       "    <tr>\n",
       "      <th>...</th>\n",
       "      <td>...</td>\n",
       "      <td>...</td>\n",
       "      <td>...</td>\n",
       "      <td>...</td>\n",
       "      <td>...</td>\n",
       "    </tr>\n",
       "    <tr>\n",
       "      <th>9772</th>\n",
       "      <td>2014-02-19</td>\n",
       "      <td>가동하려면 뭔가 알수 없는 메시지를 내며 죽어버림.. 테스트도 제대로 안하고 올린듯</td>\n",
       "      <td>1</td>\n",
       "      <td>가동하려면 뭔가 알수 없는 메시지를 내며 죽어버림 테스트도 제대로 안하고 올린듯</td>\n",
       "      <td>[가동하려면, 뭔가, 알수, 없는, 메시지를, 내며, 죽어버림, 테스트도, 제대로,...</td>\n",
       "    </tr>\n",
       "    <tr>\n",
       "      <th>9774</th>\n",
       "      <td>2014-02-19</td>\n",
       "      <td>쇼핑몰앱 중 훌륭한 편입니다.</td>\n",
       "      <td>5</td>\n",
       "      <td>쇼핑몰앱 중 훌륭한 편입니다</td>\n",
       "      <td>[쇼핑, 중, 훌륭한, 편입니다]</td>\n",
       "    </tr>\n",
       "    <tr>\n",
       "      <th>9775</th>\n",
       "      <td>2014-02-19</td>\n",
       "      <td>너무 좋네요!!!! 정말저렴하네!!</td>\n",
       "      <td>5</td>\n",
       "      <td>너무 좋네요 정말저렴하네</td>\n",
       "      <td>[너무, 좋네요, 정말]</td>\n",
       "    </tr>\n",
       "    <tr>\n",
       "      <th>9776</th>\n",
       "      <td>2014-02-19</td>\n",
       "      <td>쿠폰도 많이 주는 것 같고 수퍼마켓에서도 편하게 쇼핑할수 있을것같네요 앞으로 많은 ...</td>\n",
       "      <td>5</td>\n",
       "      <td>쿠폰도 많이 주는 것 같고 수퍼마켓에서도 편하게 쇼핑할수 있을것같네요 앞으로 많은 ...</td>\n",
       "      <td>[쿠폰, 많이, 주는, 것, 같고, 수퍼마켓에서도, 편하게, 쇼핑, 있을것같네요, ...</td>\n",
       "    </tr>\n",
       "    <tr>\n",
       "      <th>9778</th>\n",
       "      <td>2014-02-19</td>\n",
       "      <td>드디어 GS아이수퍼 앱이 출시되었군요.편리하네요~^^</td>\n",
       "      <td>5</td>\n",
       "      <td>드디어 아이수퍼 앱이 출시되었군요편리하네요</td>\n",
       "      <td>[드디어, 아이, 앱이, 출시되었군요편리하네요]</td>\n",
       "    </tr>\n",
       "  </tbody>\n",
       "</table>\n",
       "<p>9747 rows × 5 columns</p>\n",
       "</div>"
      ],
      "text/plain": [
       "            date                                            comment  ratings  \\\n",
       "0     2021-03-10  설치하고 오늘 처음 물건 구매해봤는데 앱 사용 시 크게 불편한 점은 없었으나 품목이...        5   \n",
       "1     2021-03-10           장바구니에 상품을 담았는데 장바구니에서 보이지가 않음. 결국 구매 포기.        1   \n",
       "2     2021-03-10                       사용힌기 편리하고 각종 할인이 잘 돼어 있어 좋아요        5   \n",
       "3     2021-03-10                     쿠폰에 빠른배송 GS FRESH 언제까지나 함께합니다.        5   \n",
       "4     2021-03-10                        잘 쓰고 있어요~신선한 상품이 많아서 좋아요 ㅎㅎ        5   \n",
       "...          ...                                                ...      ...   \n",
       "9772  2014-02-19     가동하려면 뭔가 알수 없는 메시지를 내며 죽어버림.. 테스트도 제대로 안하고 올린듯        1   \n",
       "9774  2014-02-19                                   쇼핑몰앱 중 훌륭한 편입니다.        5   \n",
       "9775  2014-02-19                                너무 좋네요!!!! 정말저렴하네!!        5   \n",
       "9776  2014-02-19  쿠폰도 많이 주는 것 같고 수퍼마켓에서도 편하게 쇼핑할수 있을것같네요 앞으로 많은 ...        5   \n",
       "9778  2014-02-19                      드디어 GS아이수퍼 앱이 출시되었군요.편리하네요~^^        5   \n",
       "\n",
       "                                                ko_text  \\\n",
       "0     설치하고 오늘 처음 물건 구매해봤는데 앱 사용 시 크게 불편한 점은 없었으나 품목이...   \n",
       "1                장바구니에 상품을 담았는데 장바구니에서 보이지가 않음 결국 구매 포기   \n",
       "2                          사용힌기 편리하고 각종 할인이 잘 돼어 있어 좋아요   \n",
       "3                                쿠폰에 빠른배송   언제까지나 함께합니다   \n",
       "4                            잘 쓰고 있어요신선한 상품이 많아서 좋아요 ㅎㅎ   \n",
       "...                                                 ...   \n",
       "9772       가동하려면 뭔가 알수 없는 메시지를 내며 죽어버림 테스트도 제대로 안하고 올린듯   \n",
       "9774                                    쇼핑몰앱 중 훌륭한 편입니다   \n",
       "9775                                      너무 좋네요 정말저렴하네   \n",
       "9776  쿠폰도 많이 주는 것 같고 수퍼마켓에서도 편하게 쇼핑할수 있을것같네요 앞으로 많은 ...   \n",
       "9778                            드디어 아이수퍼 앱이 출시되었군요편리하네요   \n",
       "\n",
       "                                                  nouns  \n",
       "0     [설치, 오늘, 처음, 물건, 구매, 앱, 사용, 시, 크게, 불편, 점은, 없었으...  \n",
       "1          [장바구니, 상품, 담았는데, 장바구니, 보이지가, 않음, 결국, 구매, 포기]  \n",
       "2                    [사용, 편리하고, 각종, 할인, 잘, 돼어, 있어, 좋아요]  \n",
       "3                                [쿠폰, 빠른, 언제까지나, 함께합니다]  \n",
       "4                         [잘, 쓰고, 있어, 상품, 많아서, 좋아요, ㅎㅎ]  \n",
       "...                                                 ...  \n",
       "9772  [가동하려면, 뭔가, 알수, 없는, 메시지를, 내며, 죽어버림, 테스트도, 제대로,...  \n",
       "9774                                 [쇼핑, 중, 훌륭한, 편입니다]  \n",
       "9775                                      [너무, 좋네요, 정말]  \n",
       "9776  [쿠폰, 많이, 주는, 것, 같고, 수퍼마켓에서도, 편하게, 쇼핑, 있을것같네요, ...  \n",
       "9778                         [드디어, 아이, 앱이, 출시되었군요편리하네요]  \n",
       "\n",
       "[9747 rows x 5 columns]"
      ]
     },
     "execution_count": 106,
     "metadata": {},
     "output_type": "execute_result"
    }
   ],
   "source": [
    "df['nouns'] = df['ko_text'].apply(lambda x: tokenizer.tokenize(x, remove_r=True)) # L과 R 분리하여 R은 삭제\n",
    "df"
   ]
  },
  {
   "cell_type": "code",
   "execution_count": 107,
   "metadata": {},
   "outputs": [
    {
     "data": {
      "text/html": [
       "<div>\n",
       "<style scoped>\n",
       "    .dataframe tbody tr th:only-of-type {\n",
       "        vertical-align: middle;\n",
       "    }\n",
       "\n",
       "    .dataframe tbody tr th {\n",
       "        vertical-align: top;\n",
       "    }\n",
       "\n",
       "    .dataframe thead th {\n",
       "        text-align: right;\n",
       "    }\n",
       "</style>\n",
       "<table border=\"1\" class=\"dataframe\">\n",
       "  <thead>\n",
       "    <tr style=\"text-align: right;\">\n",
       "      <th></th>\n",
       "      <th>ratings</th>\n",
       "    </tr>\n",
       "  </thead>\n",
       "  <tbody>\n",
       "    <tr>\n",
       "      <th>count</th>\n",
       "      <td>9747.000000</td>\n",
       "    </tr>\n",
       "    <tr>\n",
       "      <th>mean</th>\n",
       "      <td>4.255668</td>\n",
       "    </tr>\n",
       "    <tr>\n",
       "      <th>std</th>\n",
       "      <td>1.398413</td>\n",
       "    </tr>\n",
       "    <tr>\n",
       "      <th>min</th>\n",
       "      <td>1.000000</td>\n",
       "    </tr>\n",
       "    <tr>\n",
       "      <th>25%</th>\n",
       "      <td>4.000000</td>\n",
       "    </tr>\n",
       "    <tr>\n",
       "      <th>50%</th>\n",
       "      <td>5.000000</td>\n",
       "    </tr>\n",
       "    <tr>\n",
       "      <th>75%</th>\n",
       "      <td>5.000000</td>\n",
       "    </tr>\n",
       "    <tr>\n",
       "      <th>max</th>\n",
       "      <td>5.000000</td>\n",
       "    </tr>\n",
       "  </tbody>\n",
       "</table>\n",
       "</div>"
      ],
      "text/plain": [
       "           ratings\n",
       "count  9747.000000\n",
       "mean      4.255668\n",
       "std       1.398413\n",
       "min       1.000000\n",
       "25%       4.000000\n",
       "50%       5.000000\n",
       "75%       5.000000\n",
       "max       5.000000"
      ]
     },
     "execution_count": 107,
     "metadata": {},
     "output_type": "execute_result"
    }
   ],
   "source": [
    "df.describe()"
   ]
  },
  {
   "cell_type": "code",
   "execution_count": 108,
   "metadata": {},
   "outputs": [],
   "source": [
    "df = df.reset_index()\n",
    "del df['index']"
   ]
  },
  {
   "cell_type": "code",
   "execution_count": 109,
   "metadata": {},
   "outputs": [],
   "source": [
    "# 한국어 약식 불용어사전 예시 파일 출처 - (https://www.ranks.nl/stopwords/korean)\n",
    "korean_stopwords_path = \"./korean_stopwords3.txt\"\n",
    "with open(korean_stopwords_path, encoding='utf8') as f:\n",
    "    stopwords = f.readlines()\n",
    "stopwords = [x.strip() for x in stopwords]\n",
    "\n",
    "def get_nouns(x):\n",
    "    nouns_tagger = tokenizer\n",
    "    nouns = nouns_tagger.tokenize(x, remove_r=True)\n",
    "    nouns_tagger2 = Kkma()\n",
    "    nouns = nouns_tagger2.nouns(x)\n",
    "    \n",
    "    # 한글자 키워드를 제거합니다.\n",
    "    nouns = [noun for noun in nouns if len(noun) > 1]\n",
    "    \n",
    "    # 불용어를 제거합니다.\n",
    "    nouns = [noun for noun in nouns if noun not in stopwords]\n",
    "    \n",
    "    return nouns"
   ]
  },
  {
   "cell_type": "code",
   "execution_count": 110,
   "metadata": {},
   "outputs": [
    {
     "data": {
      "application/vnd.jupyter.widget-view+json": {
       "model_id": "ec38efa9dd054905a58e808e3a3f1e97",
       "version_major": 2,
       "version_minor": 0
      },
      "text/plain": [
       "HBox(children=(FloatProgress(value=0.0, max=9747.0), HTML(value='')))"
      ]
     },
     "metadata": {},
     "output_type": "display_data"
    },
    {
     "name": "stdout",
     "output_type": "stream",
     "text": [
      "\n",
      "(6647, 5)\n"
     ]
    },
    {
     "data": {
      "text/html": [
       "<div>\n",
       "<style scoped>\n",
       "    .dataframe tbody tr th:only-of-type {\n",
       "        vertical-align: middle;\n",
       "    }\n",
       "\n",
       "    .dataframe tbody tr th {\n",
       "        vertical-align: top;\n",
       "    }\n",
       "\n",
       "    .dataframe thead th {\n",
       "        text-align: right;\n",
       "    }\n",
       "</style>\n",
       "<table border=\"1\" class=\"dataframe\">\n",
       "  <thead>\n",
       "    <tr style=\"text-align: right;\">\n",
       "      <th></th>\n",
       "      <th>date</th>\n",
       "      <th>comment</th>\n",
       "      <th>ratings</th>\n",
       "      <th>ko_text</th>\n",
       "      <th>nouns</th>\n",
       "    </tr>\n",
       "  </thead>\n",
       "  <tbody>\n",
       "    <tr>\n",
       "      <th>0</th>\n",
       "      <td>2021-03-10</td>\n",
       "      <td>설치하고 오늘 처음 물건 구매해봤는데 앱 사용 시 크게 불편한 점은 없었으나 품목이...</td>\n",
       "      <td>5</td>\n",
       "      <td>설치하고 오늘 처음 물건 구매해봤는데 앱 사용 시 크게 불편한 점은 없었으나 품목이...</td>\n",
       "      <td>[불편]</td>\n",
       "    </tr>\n",
       "    <tr>\n",
       "      <th>1</th>\n",
       "      <td>2021-03-10</td>\n",
       "      <td>사용힌기 편리하고 각종 할인이 잘 돼어 있어 좋아요</td>\n",
       "      <td>5</td>\n",
       "      <td>사용힌기 편리하고 각종 할인이 잘 돼어 있어 좋아요</td>\n",
       "      <td>[편리, 할인]</td>\n",
       "    </tr>\n",
       "    <tr>\n",
       "      <th>2</th>\n",
       "      <td>2021-03-10</td>\n",
       "      <td>쿠폰에 빠른배송 GS FRESH 언제까지나 함께합니다.</td>\n",
       "      <td>5</td>\n",
       "      <td>쿠폰에 빠른배송   언제까지나 함께합니다</td>\n",
       "      <td>[쿠폰, 배송]</td>\n",
       "    </tr>\n",
       "    <tr>\n",
       "      <th>3</th>\n",
       "      <td>2021-03-09</td>\n",
       "      <td>상품특가있다고 해서 주문했는데 너무 좋아요</td>\n",
       "      <td>5</td>\n",
       "      <td>상품특가있다고 해서 주문했는데 너무 좋아요</td>\n",
       "      <td>[상품특가, 특가]</td>\n",
       "    </tr>\n",
       "    <tr>\n",
       "      <th>4</th>\n",
       "      <td>2021-03-09</td>\n",
       "      <td>행사,기획상품&amp;쿠폰과 같이 실질적으로 고객의 요구에 영향을 주는 카테고리가 잘 나눠...</td>\n",
       "      <td>5</td>\n",
       "      <td>행사기획상품쿠폰과 같이 실질적으로 고객의 요구에 영향을 주는 카테고리가 잘 나눠줘 ...</td>\n",
       "      <td>[행사기획상품쿠폰, 쿠폰, 실질적, 요구, 영향, 구매자자로, 자로, 편리]</td>\n",
       "    </tr>\n",
       "  </tbody>\n",
       "</table>\n",
       "</div>"
      ],
      "text/plain": [
       "         date                                            comment  ratings  \\\n",
       "0  2021-03-10  설치하고 오늘 처음 물건 구매해봤는데 앱 사용 시 크게 불편한 점은 없었으나 품목이...        5   \n",
       "1  2021-03-10                       사용힌기 편리하고 각종 할인이 잘 돼어 있어 좋아요        5   \n",
       "2  2021-03-10                     쿠폰에 빠른배송 GS FRESH 언제까지나 함께합니다.        5   \n",
       "3  2021-03-09                            상품특가있다고 해서 주문했는데 너무 좋아요        5   \n",
       "4  2021-03-09  행사,기획상품&쿠폰과 같이 실질적으로 고객의 요구에 영향을 주는 카테고리가 잘 나눠...        5   \n",
       "\n",
       "                                             ko_text  \\\n",
       "0  설치하고 오늘 처음 물건 구매해봤는데 앱 사용 시 크게 불편한 점은 없었으나 품목이...   \n",
       "1                       사용힌기 편리하고 각종 할인이 잘 돼어 있어 좋아요   \n",
       "2                             쿠폰에 빠른배송   언제까지나 함께합니다   \n",
       "3                            상품특가있다고 해서 주문했는데 너무 좋아요   \n",
       "4  행사기획상품쿠폰과 같이 실질적으로 고객의 요구에 영향을 주는 카테고리가 잘 나눠줘 ...   \n",
       "\n",
       "                                        nouns  \n",
       "0                                        [불편]  \n",
       "1                                    [편리, 할인]  \n",
       "2                                    [쿠폰, 배송]  \n",
       "3                                  [상품특가, 특가]  \n",
       "4  [행사기획상품쿠폰, 쿠폰, 실질적, 요구, 영향, 구매자자로, 자로, 편리]  "
      ]
     },
     "execution_count": 110,
     "metadata": {},
     "output_type": "execute_result"
    }
   ],
   "source": [
    "df['nouns'] = df['ko_text'].apply(lambda x: get_nouns(x))\n",
    "for i in tqdm(range(len(df))):\n",
    "    if not df['nouns'][i]:\n",
    "        df.drop([i],inplace=True)\n",
    "        \n",
    "df.reset_index(inplace=True)\n",
    "del df['index']\n",
    "print(df.shape)\n",
    "df.head()"
   ]
  },
  {
   "cell_type": "code",
   "execution_count": 111,
   "metadata": {
    "scrolled": false
   },
   "outputs": [
    {
     "data": {
      "text/html": [
       "<div>\n",
       "<style scoped>\n",
       "    .dataframe tbody tr th:only-of-type {\n",
       "        vertical-align: middle;\n",
       "    }\n",
       "\n",
       "    .dataframe tbody tr th {\n",
       "        vertical-align: top;\n",
       "    }\n",
       "\n",
       "    .dataframe thead th {\n",
       "        text-align: right;\n",
       "    }\n",
       "</style>\n",
       "<table border=\"1\" class=\"dataframe\">\n",
       "  <thead>\n",
       "    <tr style=\"text-align: right;\">\n",
       "      <th></th>\n",
       "      <th>words</th>\n",
       "      <th>satisfaction</th>\n",
       "      <th>count</th>\n",
       "    </tr>\n",
       "  </thead>\n",
       "  <tbody>\n",
       "    <tr>\n",
       "      <th>0</th>\n",
       "      <td>불편</td>\n",
       "      <td>5</td>\n",
       "      <td>1</td>\n",
       "    </tr>\n",
       "    <tr>\n",
       "      <th>1</th>\n",
       "      <td>편리</td>\n",
       "      <td>5</td>\n",
       "      <td>1</td>\n",
       "    </tr>\n",
       "    <tr>\n",
       "      <th>2</th>\n",
       "      <td>할인</td>\n",
       "      <td>5</td>\n",
       "      <td>1</td>\n",
       "    </tr>\n",
       "    <tr>\n",
       "      <th>3</th>\n",
       "      <td>쿠폰</td>\n",
       "      <td>5</td>\n",
       "      <td>1</td>\n",
       "    </tr>\n",
       "    <tr>\n",
       "      <th>4</th>\n",
       "      <td>배송</td>\n",
       "      <td>5</td>\n",
       "      <td>1</td>\n",
       "    </tr>\n",
       "  </tbody>\n",
       "</table>\n",
       "</div>"
      ],
      "text/plain": [
       "  words  satisfaction  count\n",
       "0    불편             5      1\n",
       "1    편리             5      1\n",
       "2    할인             5      1\n",
       "3    쿠폰             5      1\n",
       "4    배송             5      1"
      ]
     },
     "execution_count": 111,
     "metadata": {},
     "output_type": "execute_result"
    }
   ],
   "source": [
    "all_words = []\n",
    "satisfaction= []\n",
    "for i in range(len(df)):\n",
    "    words = df['nouns'][i]\n",
    "    words_arr = []\n",
    "    for n in words:\n",
    "        words_arr.append(n)\n",
    "        satisfaction.append(df['ratings'].iloc[i])\n",
    "    all_words.extend(words_arr)\n",
    "    \n",
    "all_words_df = pd.DataFrame({\"words\":all_words, \"satisfaction\":satisfaction, \"count\":len(all_words)*[1]})\n",
    "all_words_df.head()        \n",
    "    "
   ]
  },
  {
   "cell_type": "code",
   "execution_count": 112,
   "metadata": {
    "scrolled": false
   },
   "outputs": [
    {
     "data": {
      "text/html": [
       "<div>\n",
       "<style scoped>\n",
       "    .dataframe tbody tr th:only-of-type {\n",
       "        vertical-align: middle;\n",
       "    }\n",
       "\n",
       "    .dataframe tbody tr th {\n",
       "        vertical-align: top;\n",
       "    }\n",
       "\n",
       "    .dataframe thead th {\n",
       "        text-align: right;\n",
       "    }\n",
       "</style>\n",
       "<table border=\"1\" class=\"dataframe\">\n",
       "  <thead>\n",
       "    <tr style=\"text-align: right;\">\n",
       "      <th></th>\n",
       "      <th>satisfaction</th>\n",
       "      <th>count</th>\n",
       "    </tr>\n",
       "    <tr>\n",
       "      <th>words</th>\n",
       "      <th></th>\n",
       "      <th></th>\n",
       "    </tr>\n",
       "  </thead>\n",
       "  <tbody>\n",
       "    <tr>\n",
       "      <th>ㅎ감사</th>\n",
       "      <td>5.000000</td>\n",
       "      <td>1</td>\n",
       "    </tr>\n",
       "    <tr>\n",
       "      <th>가격</th>\n",
       "      <td>4.739759</td>\n",
       "      <td>415</td>\n",
       "    </tr>\n",
       "    <tr>\n",
       "      <th>가격대</th>\n",
       "      <td>4.666667</td>\n",
       "      <td>3</td>\n",
       "    </tr>\n",
       "    <tr>\n",
       "      <th>가격대비</th>\n",
       "      <td>4.923077</td>\n",
       "      <td>13</td>\n",
       "    </tr>\n",
       "    <tr>\n",
       "      <th>가격만족</th>\n",
       "      <td>5.000000</td>\n",
       "      <td>1</td>\n",
       "    </tr>\n",
       "    <tr>\n",
       "      <th>가격비교</th>\n",
       "      <td>4.142857</td>\n",
       "      <td>7</td>\n",
       "    </tr>\n",
       "    <tr>\n",
       "      <th>가격선</th>\n",
       "      <td>5.000000</td>\n",
       "      <td>1</td>\n",
       "    </tr>\n",
       "    <tr>\n",
       "      <th>가격설명</th>\n",
       "      <td>4.000000</td>\n",
       "      <td>1</td>\n",
       "    </tr>\n",
       "    <tr>\n",
       "      <th>가격세일</th>\n",
       "      <td>5.000000</td>\n",
       "      <td>1</td>\n",
       "    </tr>\n",
       "    <tr>\n",
       "      <th>가격할인</th>\n",
       "      <td>4.666667</td>\n",
       "      <td>6</td>\n",
       "    </tr>\n",
       "    <tr>\n",
       "      <th>가격할인행사</th>\n",
       "      <td>4.000000</td>\n",
       "      <td>1</td>\n",
       "    </tr>\n",
       "    <tr>\n",
       "      <th>가공식품</th>\n",
       "      <td>5.000000</td>\n",
       "      <td>2</td>\n",
       "    </tr>\n",
       "    <tr>\n",
       "      <th>가능성</th>\n",
       "      <td>1.000000</td>\n",
       "      <td>1</td>\n",
       "    </tr>\n",
       "    <tr>\n",
       "      <th>가능지역</th>\n",
       "      <td>5.000000</td>\n",
       "      <td>2</td>\n",
       "    </tr>\n",
       "    <tr>\n",
       "      <th>가독성</th>\n",
       "      <td>4.000000</td>\n",
       "      <td>6</td>\n",
       "    </tr>\n",
       "    <tr>\n",
       "      <th>가동</th>\n",
       "      <td>2.666667</td>\n",
       "      <td>3</td>\n",
       "    </tr>\n",
       "    <tr>\n",
       "      <th>가락</th>\n",
       "      <td>5.000000</td>\n",
       "      <td>1</td>\n",
       "    </tr>\n",
       "    <tr>\n",
       "      <th>가로</th>\n",
       "      <td>4.200000</td>\n",
       "      <td>5</td>\n",
       "    </tr>\n",
       "    <tr>\n",
       "      <th>가방</th>\n",
       "      <td>5.000000</td>\n",
       "      <td>1</td>\n",
       "    </tr>\n",
       "    <tr>\n",
       "      <th>가보</th>\n",
       "      <td>2.333333</td>\n",
       "      <td>3</td>\n",
       "    </tr>\n",
       "  </tbody>\n",
       "</table>\n",
       "</div>"
      ],
      "text/plain": [
       "        satisfaction  count\n",
       "words                      \n",
       "ㅎ감사         5.000000      1\n",
       "가격          4.739759    415\n",
       "가격대         4.666667      3\n",
       "가격대비        4.923077     13\n",
       "가격만족        5.000000      1\n",
       "가격비교        4.142857      7\n",
       "가격선         5.000000      1\n",
       "가격설명        4.000000      1\n",
       "가격세일        5.000000      1\n",
       "가격할인        4.666667      6\n",
       "가격할인행사      4.000000      1\n",
       "가공식품        5.000000      2\n",
       "가능성         1.000000      1\n",
       "가능지역        5.000000      2\n",
       "가독성         4.000000      6\n",
       "가동          2.666667      3\n",
       "가락          5.000000      1\n",
       "가로          4.200000      5\n",
       "가방          5.000000      1\n",
       "가보          2.333333      3"
      ]
     },
     "execution_count": 112,
     "metadata": {},
     "output_type": "execute_result"
    }
   ],
   "source": [
    "words_satisfaction = all_words_df.groupby('words').mean()['satisfaction']\n",
    "words_count = all_words_df.groupby('words').sum()['count']\n",
    "words_df = pd.concat([words_satisfaction, words_count], axis=1)\n",
    "words_df.head(20)"
   ]
  },
  {
   "cell_type": "code",
   "execution_count": 113,
   "metadata": {},
   "outputs": [
    {
     "data": {
      "text/html": [
       "<div>\n",
       "<style scoped>\n",
       "    .dataframe tbody tr th:only-of-type {\n",
       "        vertical-align: middle;\n",
       "    }\n",
       "\n",
       "    .dataframe tbody tr th {\n",
       "        vertical-align: top;\n",
       "    }\n",
       "\n",
       "    .dataframe thead th {\n",
       "        text-align: right;\n",
       "    }\n",
       "</style>\n",
       "<table border=\"1\" class=\"dataframe\">\n",
       "  <thead>\n",
       "    <tr style=\"text-align: right;\">\n",
       "      <th></th>\n",
       "      <th>satisfaction</th>\n",
       "      <th>count</th>\n",
       "    </tr>\n",
       "    <tr>\n",
       "      <th>words</th>\n",
       "      <th></th>\n",
       "      <th></th>\n",
       "    </tr>\n",
       "  </thead>\n",
       "  <tbody>\n",
       "    <tr>\n",
       "      <th>휴일</th>\n",
       "      <td>5.0</td>\n",
       "      <td>3</td>\n",
       "    </tr>\n",
       "    <tr>\n",
       "      <th>여름</th>\n",
       "      <td>5.0</td>\n",
       "      <td>3</td>\n",
       "    </tr>\n",
       "    <tr>\n",
       "      <th>시간내서</th>\n",
       "      <td>5.0</td>\n",
       "      <td>3</td>\n",
       "    </tr>\n",
       "    <tr>\n",
       "      <th>식비</th>\n",
       "      <td>5.0</td>\n",
       "      <td>3</td>\n",
       "    </tr>\n",
       "    <tr>\n",
       "      <th>식자</th>\n",
       "      <td>5.0</td>\n",
       "      <td>3</td>\n",
       "    </tr>\n",
       "    <tr>\n",
       "      <th>...</th>\n",
       "      <td>...</td>\n",
       "      <td>...</td>\n",
       "    </tr>\n",
       "    <tr>\n",
       "      <th>답글</th>\n",
       "      <td>1.0</td>\n",
       "      <td>4</td>\n",
       "    </tr>\n",
       "    <tr>\n",
       "      <th>임시비번</th>\n",
       "      <td>1.0</td>\n",
       "      <td>3</td>\n",
       "    </tr>\n",
       "    <tr>\n",
       "      <th>담당</th>\n",
       "      <td>1.0</td>\n",
       "      <td>3</td>\n",
       "    </tr>\n",
       "    <tr>\n",
       "      <th>일치</th>\n",
       "      <td>1.0</td>\n",
       "      <td>3</td>\n",
       "    </tr>\n",
       "    <tr>\n",
       "      <th>쓰레기임</th>\n",
       "      <td>1.0</td>\n",
       "      <td>3</td>\n",
       "    </tr>\n",
       "  </tbody>\n",
       "</table>\n",
       "<p>643 rows × 2 columns</p>\n",
       "</div>"
      ],
      "text/plain": [
       "       satisfaction  count\n",
       "words                     \n",
       "휴일              5.0      3\n",
       "여름              5.0      3\n",
       "시간내서            5.0      3\n",
       "식비              5.0      3\n",
       "식자              5.0      3\n",
       "...             ...    ...\n",
       "답글              1.0      4\n",
       "임시비번            1.0      3\n",
       "담당              1.0      3\n",
       "일치              1.0      3\n",
       "쓰레기임            1.0      3\n",
       "\n",
       "[643 rows x 2 columns]"
      ]
     },
     "execution_count": 113,
     "metadata": {},
     "output_type": "execute_result"
    }
   ],
   "source": [
    "words_df = words_df.loc[words_df['count']>=3]\n",
    "words_df.sort_values('satisfaction', ascending=False)"
   ]
  },
  {
   "cell_type": "code",
   "execution_count": 114,
   "metadata": {},
   "outputs": [
    {
     "data": {
      "text/html": [
       "<div>\n",
       "<style scoped>\n",
       "    .dataframe tbody tr th:only-of-type {\n",
       "        vertical-align: middle;\n",
       "    }\n",
       "\n",
       "    .dataframe tbody tr th {\n",
       "        vertical-align: top;\n",
       "    }\n",
       "\n",
       "    .dataframe thead th {\n",
       "        text-align: right;\n",
       "    }\n",
       "</style>\n",
       "<table border=\"1\" class=\"dataframe\">\n",
       "  <thead>\n",
       "    <tr style=\"text-align: right;\">\n",
       "      <th></th>\n",
       "      <th>satisfaction</th>\n",
       "      <th>count</th>\n",
       "    </tr>\n",
       "    <tr>\n",
       "      <th>words</th>\n",
       "      <th></th>\n",
       "      <th></th>\n",
       "    </tr>\n",
       "  </thead>\n",
       "  <tbody>\n",
       "    <tr>\n",
       "      <th>배송</th>\n",
       "      <td>4.618847</td>\n",
       "      <td>1422</td>\n",
       "    </tr>\n",
       "    <tr>\n",
       "      <th>편리</th>\n",
       "      <td>4.808071</td>\n",
       "      <td>1016</td>\n",
       "    </tr>\n",
       "    <tr>\n",
       "      <th>할인</th>\n",
       "      <td>4.646266</td>\n",
       "      <td>964</td>\n",
       "    </tr>\n",
       "    <tr>\n",
       "      <th>쿠폰</th>\n",
       "      <td>4.271772</td>\n",
       "      <td>666</td>\n",
       "    </tr>\n",
       "    <tr>\n",
       "      <th>다양</th>\n",
       "      <td>4.856842</td>\n",
       "      <td>475</td>\n",
       "    </tr>\n",
       "    <tr>\n",
       "      <th>가격</th>\n",
       "      <td>4.739759</td>\n",
       "      <td>415</td>\n",
       "    </tr>\n",
       "    <tr>\n",
       "      <th>결제</th>\n",
       "      <td>3.324405</td>\n",
       "      <td>336</td>\n",
       "    </tr>\n",
       "    <tr>\n",
       "      <th>이벤트</th>\n",
       "      <td>4.700000</td>\n",
       "      <td>330</td>\n",
       "    </tr>\n",
       "    <tr>\n",
       "      <th>세일</th>\n",
       "      <td>4.509202</td>\n",
       "      <td>326</td>\n",
       "    </tr>\n",
       "    <tr>\n",
       "      <th>불편</th>\n",
       "      <td>3.186916</td>\n",
       "      <td>321</td>\n",
       "    </tr>\n",
       "    <tr>\n",
       "      <th>신선</th>\n",
       "      <td>4.853968</td>\n",
       "      <td>315</td>\n",
       "    </tr>\n",
       "    <tr>\n",
       "      <th>혜택</th>\n",
       "      <td>4.620690</td>\n",
       "      <td>261</td>\n",
       "    </tr>\n",
       "    <tr>\n",
       "      <th>오류</th>\n",
       "      <td>2.707031</td>\n",
       "      <td>256</td>\n",
       "    </tr>\n",
       "    <tr>\n",
       "      <th>심플리</th>\n",
       "      <td>4.894068</td>\n",
       "      <td>236</td>\n",
       "    </tr>\n",
       "    <tr>\n",
       "      <th>배달</th>\n",
       "      <td>4.344037</td>\n",
       "      <td>218</td>\n",
       "    </tr>\n",
       "    <tr>\n",
       "      <th>간편</th>\n",
       "      <td>4.492958</td>\n",
       "      <td>213</td>\n",
       "    </tr>\n",
       "    <tr>\n",
       "      <th>당일</th>\n",
       "      <td>4.616114</td>\n",
       "      <td>211</td>\n",
       "    </tr>\n",
       "    <tr>\n",
       "      <th>유용</th>\n",
       "      <td>4.849711</td>\n",
       "      <td>173</td>\n",
       "    </tr>\n",
       "    <tr>\n",
       "      <th>새벽</th>\n",
       "      <td>4.704819</td>\n",
       "      <td>166</td>\n",
       "    </tr>\n",
       "    <tr>\n",
       "      <th>할인쿠폰</th>\n",
       "      <td>4.423077</td>\n",
       "      <td>130</td>\n",
       "    </tr>\n",
       "  </tbody>\n",
       "</table>\n",
       "</div>"
      ],
      "text/plain": [
       "       satisfaction  count\n",
       "words                     \n",
       "배송         4.618847   1422\n",
       "편리         4.808071   1016\n",
       "할인         4.646266    964\n",
       "쿠폰         4.271772    666\n",
       "다양         4.856842    475\n",
       "가격         4.739759    415\n",
       "결제         3.324405    336\n",
       "이벤트        4.700000    330\n",
       "세일         4.509202    326\n",
       "불편         3.186916    321\n",
       "신선         4.853968    315\n",
       "혜택         4.620690    261\n",
       "오류         2.707031    256\n",
       "심플리        4.894068    236\n",
       "배달         4.344037    218\n",
       "간편         4.492958    213\n",
       "당일         4.616114    211\n",
       "유용         4.849711    173\n",
       "새벽         4.704819    166\n",
       "할인쿠폰       4.423077    130"
      ]
     },
     "execution_count": 114,
     "metadata": {},
     "output_type": "execute_result"
    }
   ],
   "source": [
    "words_df.sort_values('count', ascending =False).head(20)"
   ]
  },
  {
   "cell_type": "code",
   "execution_count": 115,
   "metadata": {},
   "outputs": [],
   "source": [
    "korean_stopwords_path = \"./korean_stopwords3.txt\"\n",
    "with open(korean_stopwords_path, encoding='utf8') as f:\n",
    "    stopwords = f.readlines()\n",
    "stopwords = [x.strip() for x in stopwords]\n",
    "nouns_tagger =Kkma()\n",
    "def text_cleaning(text):\n",
    "    hangul = re.compile('[|ㄱ-ㅎ|ㅏ-ㅣ]+') # 한글의 정규표현식을 나타냅니다.\n",
    "    result = hangul.sub('', text)\n",
    "    hangul = re.compile('[^ ㄱ-ㅣ가-힣]+') # 한글의 정규표현식을 나타냅니다.\n",
    "    result = hangul.sub('', text)\n",
    "    nouns_tagger = tokenizer\n",
    "    nouns = nouns_tagger.tokenize(result, remove_r=True)\n",
    "    nouns = [x for x in nouns if len(x) >1]\n",
    "    nouns =[x for x in nouns if x not in stopwords]\n",
    "    return nouns\n",
    "\n",
    "vect = CountVectorizer(tokenizer= lambda x : text_cleaning(x))\n",
    "bow_vect = vect.fit_transform(df['comment'].tolist())\n",
    "word_list = vect.get_feature_names()\n",
    "count_list = bow_vect.toarray().sum(axis=0)"
   ]
  },
  {
   "cell_type": "code",
   "execution_count": 116,
   "metadata": {},
   "outputs": [
    {
     "data": {
      "text/plain": [
       "(6647, 17275)"
      ]
     },
     "execution_count": 116,
     "metadata": {},
     "output_type": "execute_result"
    }
   ],
   "source": [
    "bow_vect.shape"
   ]
  },
  {
   "cell_type": "code",
   "execution_count": 117,
   "metadata": {},
   "outputs": [
    {
     "name": "stdout",
     "output_type": "stream",
     "text": [
      "{'ㅇ할인혜택도좋구요': 1, 'ㅠㅠ': 41, 'ㅠㅠㅎ': 1, 'ㅠㅠㅠ': 1, 'ㅠㅠㅠㅠㅠㅠㅜㅜㅜㅜㅜㅠ': 1, 'ㅠㅠ지에스좋은데': 1, 'ㅠㅡㅠ': 1, 'ㅠ판매안하시죵'\n"
     ]
    }
   ],
   "source": [
    "word_count_dict = dict(zip(word_list, count_list))\n",
    "print(str(word_count_dict)[:100])"
   ]
  },
  {
   "cell_type": "code",
   "execution_count": 118,
   "metadata": {},
   "outputs": [],
   "source": [
    "tfidf_vectorizer = TfidfTransformer()\n",
    "tf_idf_vect = tfidf_vectorizer.fit_transform(bow_vect)"
   ]
  },
  {
   "cell_type": "code",
   "execution_count": 119,
   "metadata": {
    "scrolled": true
   },
   "outputs": [
    {
     "name": "stdout",
     "output_type": "stream",
     "text": [
      "  (0, 16475)\t0.3134671604477513\n",
      "  (0, 15989)\t0.41363217301200617\n",
      "  (0, 15195)\t0.3862225403043682\n",
      "  (0, 13155)\t0.41363217301200617\n",
      "  (0, 10327)\t0.5206135952015353\n",
      "  (0, 6711)\t0.23500174870010765\n",
      "  (0, 4460)\t0.290039656218972\n"
     ]
    }
   ],
   "source": [
    "print(tf_idf_vect[0])"
   ]
  },
  {
   "cell_type": "code",
   "execution_count": 120,
   "metadata": {},
   "outputs": [
    {
     "name": "stdout",
     "output_type": "stream",
     "text": [
      "{15195: '크게', 6711: '불편', 13155: '점은', 10327: '없었으나', 15989: '품목이', 4460: '많아', 16475: '합니다', 15737:\n"
     ]
    }
   ],
   "source": [
    "invert_index_vectorizer = {v:k for k,v in vect.vocabulary_.items()}\n",
    "print(str(invert_index_vectorizer)[:100])"
   ]
  },
  {
   "cell_type": "code",
   "execution_count": 121,
   "metadata": {
    "scrolled": false
   },
   "outputs": [
    {
     "data": {
      "text/html": [
       "<div>\n",
       "<style scoped>\n",
       "    .dataframe tbody tr th:only-of-type {\n",
       "        vertical-align: middle;\n",
       "    }\n",
       "\n",
       "    .dataframe tbody tr th {\n",
       "        vertical-align: top;\n",
       "    }\n",
       "\n",
       "    .dataframe thead th {\n",
       "        text-align: right;\n",
       "    }\n",
       "</style>\n",
       "<table border=\"1\" class=\"dataframe\">\n",
       "  <thead>\n",
       "    <tr style=\"text-align: right;\">\n",
       "      <th></th>\n",
       "      <th>date</th>\n",
       "      <th>comment</th>\n",
       "      <th>ratings</th>\n",
       "      <th>ko_text</th>\n",
       "      <th>nouns</th>\n",
       "    </tr>\n",
       "  </thead>\n",
       "  <tbody>\n",
       "    <tr>\n",
       "      <th>3704</th>\n",
       "      <td>2019-06-06</td>\n",
       "      <td>아주 잘 이용하고 있습니다. 당일배송이 최고의 장점인거 같아요.</td>\n",
       "      <td>5</td>\n",
       "      <td>아주 잘 이용하고 있습니다 당일배송이 최고의 장점인거 같아요</td>\n",
       "      <td>[당일, 당일배송, 배송]</td>\n",
       "    </tr>\n",
       "    <tr>\n",
       "      <th>2578</th>\n",
       "      <td>2019-12-26</td>\n",
       "      <td>왜 1만원 쿠폰을 안주죠?</td>\n",
       "      <td>2</td>\n",
       "      <td>왜 만원 쿠폰을 안주죠</td>\n",
       "      <td>[쿠폰]</td>\n",
       "    </tr>\n",
       "    <tr>\n",
       "      <th>119</th>\n",
       "      <td>2021-02-09</td>\n",
       "      <td>GS에서만 싸게파는 제품들이 많이 있어서 좋았습니다 첫가입 이벤트도 푸짐하고 LG유...</td>\n",
       "      <td>5</td>\n",
       "      <td>에서만 싸게파는 제품들이 많이 있어서 좋았습니다 첫가입 이벤트도 푸짐하고 유플 할인...</td>\n",
       "      <td>[에서만, 이벤트, 유플, 할인, 심플리, 다양, 요즘시대, 시대]</td>\n",
       "    </tr>\n",
       "    <tr>\n",
       "      <th>2052</th>\n",
       "      <td>2020-03-26</td>\n",
       "      <td>사용한지 오래됐는데 늘 만족해요. 여타 슈퍼, 마트보다 행사도 많고 사은품도 푸짐~...</td>\n",
       "      <td>5</td>\n",
       "      <td>사용한지 오래됐는데 늘 만족해요 여타 슈퍼 마트보다 행사도 많고 사은품도 푸짐 요즘...</td>\n",
       "      <td>[여타, 사은품, 배송]</td>\n",
       "    </tr>\n",
       "    <tr>\n",
       "      <th>260</th>\n",
       "      <td>2021-01-17</td>\n",
       "      <td>온라인 마켓 여기저기 사용하다가 GS FRESH에 정착했습니다. 처음 앱 사용할땐 ...</td>\n",
       "      <td>5</td>\n",
       "      <td>온라인 마켓 여기저기 사용하다가  에 정착했습니다 처음 앱 사용할땐 생소했는데 쓰다...</td>\n",
       "      <td>[여기저기, 정착했습니다, 생소, 새상품]</td>\n",
       "    </tr>\n",
       "  </tbody>\n",
       "</table>\n",
       "</div>"
      ],
      "text/plain": [
       "            date                                            comment  ratings  \\\n",
       "3704  2019-06-06                아주 잘 이용하고 있습니다. 당일배송이 최고의 장점인거 같아요.        5   \n",
       "2578  2019-12-26                                     왜 1만원 쿠폰을 안주죠?        2   \n",
       "119   2021-02-09  GS에서만 싸게파는 제품들이 많이 있어서 좋았습니다 첫가입 이벤트도 푸짐하고 LG유...        5   \n",
       "2052  2020-03-26  사용한지 오래됐는데 늘 만족해요. 여타 슈퍼, 마트보다 행사도 많고 사은품도 푸짐~...        5   \n",
       "260   2021-01-17  온라인 마켓 여기저기 사용하다가 GS FRESH에 정착했습니다. 처음 앱 사용할땐 ...        5   \n",
       "\n",
       "                                                ko_text  \\\n",
       "3704                  아주 잘 이용하고 있습니다 당일배송이 최고의 장점인거 같아요   \n",
       "2578                                       왜 만원 쿠폰을 안주죠   \n",
       "119   에서만 싸게파는 제품들이 많이 있어서 좋았습니다 첫가입 이벤트도 푸짐하고 유플 할인...   \n",
       "2052  사용한지 오래됐는데 늘 만족해요 여타 슈퍼 마트보다 행사도 많고 사은품도 푸짐 요즘...   \n",
       "260   온라인 마켓 여기저기 사용하다가  에 정착했습니다 처음 앱 사용할땐 생소했는데 쓰다...   \n",
       "\n",
       "                                      nouns  \n",
       "3704                         [당일, 당일배송, 배송]  \n",
       "2578                                   [쿠폰]  \n",
       "119   [에서만, 이벤트, 유플, 할인, 심플리, 다양, 요즘시대, 시대]  \n",
       "2052                          [여타, 사은품, 배송]  \n",
       "260                 [여기저기, 정착했습니다, 생소, 새상품]  "
      ]
     },
     "execution_count": 121,
     "metadata": {},
     "output_type": "execute_result"
    }
   ],
   "source": [
    "df.sample(10).head()"
   ]
  },
  {
   "cell_type": "code",
   "execution_count": 122,
   "metadata": {
    "scrolled": true
   },
   "outputs": [
    {
     "data": {
      "text/plain": [
       "<matplotlib.axes._subplots.AxesSubplot at 0x2b245028898>"
      ]
     },
     "execution_count": 122,
     "metadata": {},
     "output_type": "execute_result"
    },
    {
     "data": {
      "image/png": "[encoded data removed]",
      "text/plain": [
       "<Figure size 432x288 with 1 Axes>"
      ]
     },
     "metadata": {
      "needs_background": "light"
     },
     "output_type": "display_data"
    }
   ],
   "source": [
    "df.ratings.hist()"
   ]
  },
  {
   "cell_type": "code",
   "execution_count": 123,
   "metadata": {},
   "outputs": [],
   "source": [
    "def rating_to_label(rating) :\n",
    "  if rating >3:\n",
    "    return 1\n",
    "  else:\n",
    "    return 0\n",
    "df['y'] = df['ratings'].apply(lambda x : rating_to_label(x))"
   ]
  },
  {
   "cell_type": "code",
   "execution_count": 124,
   "metadata": {
    "scrolled": false
   },
   "outputs": [
    {
     "data": {
      "text/html": [
       "<div>\n",
       "<style scoped>\n",
       "    .dataframe tbody tr th:only-of-type {\n",
       "        vertical-align: middle;\n",
       "    }\n",
       "\n",
       "    .dataframe tbody tr th {\n",
       "        vertical-align: top;\n",
       "    }\n",
       "\n",
       "    .dataframe thead th {\n",
       "        text-align: right;\n",
       "    }\n",
       "</style>\n",
       "<table border=\"1\" class=\"dataframe\">\n",
       "  <thead>\n",
       "    <tr style=\"text-align: right;\">\n",
       "      <th></th>\n",
       "      <th>date</th>\n",
       "      <th>comment</th>\n",
       "      <th>ratings</th>\n",
       "      <th>ko_text</th>\n",
       "      <th>nouns</th>\n",
       "      <th>y</th>\n",
       "    </tr>\n",
       "  </thead>\n",
       "  <tbody>\n",
       "    <tr>\n",
       "      <th>0</th>\n",
       "      <td>2021-03-10</td>\n",
       "      <td>설치하고 오늘 처음 물건 구매해봤는데 앱 사용 시 크게 불편한 점은 없었으나 품목이...</td>\n",
       "      <td>5</td>\n",
       "      <td>설치하고 오늘 처음 물건 구매해봤는데 앱 사용 시 크게 불편한 점은 없었으나 품목이...</td>\n",
       "      <td>[불편]</td>\n",
       "      <td>1</td>\n",
       "    </tr>\n",
       "    <tr>\n",
       "      <th>1</th>\n",
       "      <td>2021-03-10</td>\n",
       "      <td>사용힌기 편리하고 각종 할인이 잘 돼어 있어 좋아요</td>\n",
       "      <td>5</td>\n",
       "      <td>사용힌기 편리하고 각종 할인이 잘 돼어 있어 좋아요</td>\n",
       "      <td>[편리, 할인]</td>\n",
       "      <td>1</td>\n",
       "    </tr>\n",
       "    <tr>\n",
       "      <th>2</th>\n",
       "      <td>2021-03-10</td>\n",
       "      <td>쿠폰에 빠른배송 GS FRESH 언제까지나 함께합니다.</td>\n",
       "      <td>5</td>\n",
       "      <td>쿠폰에 빠른배송   언제까지나 함께합니다</td>\n",
       "      <td>[쿠폰, 배송]</td>\n",
       "      <td>1</td>\n",
       "    </tr>\n",
       "    <tr>\n",
       "      <th>3</th>\n",
       "      <td>2021-03-09</td>\n",
       "      <td>상품특가있다고 해서 주문했는데 너무 좋아요</td>\n",
       "      <td>5</td>\n",
       "      <td>상품특가있다고 해서 주문했는데 너무 좋아요</td>\n",
       "      <td>[상품특가, 특가]</td>\n",
       "      <td>1</td>\n",
       "    </tr>\n",
       "    <tr>\n",
       "      <th>4</th>\n",
       "      <td>2021-03-09</td>\n",
       "      <td>행사,기획상품&amp;쿠폰과 같이 실질적으로 고객의 요구에 영향을 주는 카테고리가 잘 나눠...</td>\n",
       "      <td>5</td>\n",
       "      <td>행사기획상품쿠폰과 같이 실질적으로 고객의 요구에 영향을 주는 카테고리가 잘 나눠줘 ...</td>\n",
       "      <td>[행사기획상품쿠폰, 쿠폰, 실질적, 요구, 영향, 구매자자로, 자로, 편리]</td>\n",
       "      <td>1</td>\n",
       "    </tr>\n",
       "    <tr>\n",
       "      <th>...</th>\n",
       "      <td>...</td>\n",
       "      <td>...</td>\n",
       "      <td>...</td>\n",
       "      <td>...</td>\n",
       "      <td>...</td>\n",
       "      <td>...</td>\n",
       "    </tr>\n",
       "    <tr>\n",
       "      <th>6642</th>\n",
       "      <td>2014-02-20</td>\n",
       "      <td>편리하고 좋네요 최고어플입니다...gsisuper 애용자로써 무척반가운어플이네요....</td>\n",
       "      <td>5</td>\n",
       "      <td>편리하고 좋네요 최고어플입니다 애용자로써 무척반가운어플이네요</td>\n",
       "      <td>[편리]</td>\n",
       "      <td>1</td>\n",
       "    </tr>\n",
       "    <tr>\n",
       "      <th>6643</th>\n",
       "      <td>2014-02-19</td>\n",
       "      <td>가동하려면 뭔가 알수 없는 메시지를 내며 죽어버림.. 테스트도 제대로 안하고 올린듯</td>\n",
       "      <td>1</td>\n",
       "      <td>가동하려면 뭔가 알수 없는 메시지를 내며 죽어버림 테스트도 제대로 안하고 올린듯</td>\n",
       "      <td>[가동]</td>\n",
       "      <td>0</td>\n",
       "    </tr>\n",
       "    <tr>\n",
       "      <th>6644</th>\n",
       "      <td>2014-02-19</td>\n",
       "      <td>쇼핑몰앱 중 훌륭한 편입니다.</td>\n",
       "      <td>5</td>\n",
       "      <td>쇼핑몰앱 중 훌륭한 편입니다</td>\n",
       "      <td>[쇼핑몰앱]</td>\n",
       "      <td>1</td>\n",
       "    </tr>\n",
       "    <tr>\n",
       "      <th>6645</th>\n",
       "      <td>2014-02-19</td>\n",
       "      <td>쿠폰도 많이 주는 것 같고 수퍼마켓에서도 편하게 쇼핑할수 있을것같네요 앞으로 많은 ...</td>\n",
       "      <td>5</td>\n",
       "      <td>쿠폰도 많이 주는 것 같고 수퍼마켓에서도 편하게 쇼핑할수 있을것같네요 앞으로 많은 ...</td>\n",
       "      <td>[쿠폰]</td>\n",
       "      <td>1</td>\n",
       "    </tr>\n",
       "    <tr>\n",
       "      <th>6646</th>\n",
       "      <td>2014-02-19</td>\n",
       "      <td>드디어 GS아이수퍼 앱이 출시되었군요.편리하네요~^^</td>\n",
       "      <td>5</td>\n",
       "      <td>드디어 아이수퍼 앱이 출시되었군요편리하네요</td>\n",
       "      <td>[출시, 편리]</td>\n",
       "      <td>1</td>\n",
       "    </tr>\n",
       "  </tbody>\n",
       "</table>\n",
       "<p>6647 rows × 6 columns</p>\n",
       "</div>"
      ],
      "text/plain": [
       "            date                                            comment  ratings  \\\n",
       "0     2021-03-10  설치하고 오늘 처음 물건 구매해봤는데 앱 사용 시 크게 불편한 점은 없었으나 품목이...        5   \n",
       "1     2021-03-10                       사용힌기 편리하고 각종 할인이 잘 돼어 있어 좋아요        5   \n",
       "2     2021-03-10                     쿠폰에 빠른배송 GS FRESH 언제까지나 함께합니다.        5   \n",
       "3     2021-03-09                            상품특가있다고 해서 주문했는데 너무 좋아요        5   \n",
       "4     2021-03-09  행사,기획상품&쿠폰과 같이 실질적으로 고객의 요구에 영향을 주는 카테고리가 잘 나눠...        5   \n",
       "...          ...                                                ...      ...   \n",
       "6642  2014-02-20   편리하고 좋네요 최고어플입니다...gsisuper 애용자로써 무척반가운어플이네요....        5   \n",
       "6643  2014-02-19     가동하려면 뭔가 알수 없는 메시지를 내며 죽어버림.. 테스트도 제대로 안하고 올린듯        1   \n",
       "6644  2014-02-19                                   쇼핑몰앱 중 훌륭한 편입니다.        5   \n",
       "6645  2014-02-19  쿠폰도 많이 주는 것 같고 수퍼마켓에서도 편하게 쇼핑할수 있을것같네요 앞으로 많은 ...        5   \n",
       "6646  2014-02-19                      드디어 GS아이수퍼 앱이 출시되었군요.편리하네요~^^        5   \n",
       "\n",
       "                                                ko_text  \\\n",
       "0     설치하고 오늘 처음 물건 구매해봤는데 앱 사용 시 크게 불편한 점은 없었으나 품목이...   \n",
       "1                          사용힌기 편리하고 각종 할인이 잘 돼어 있어 좋아요   \n",
       "2                                쿠폰에 빠른배송   언제까지나 함께합니다   \n",
       "3                               상품특가있다고 해서 주문했는데 너무 좋아요   \n",
       "4     행사기획상품쿠폰과 같이 실질적으로 고객의 요구에 영향을 주는 카테고리가 잘 나눠줘 ...   \n",
       "...                                                 ...   \n",
       "6642                  편리하고 좋네요 최고어플입니다 애용자로써 무척반가운어플이네요   \n",
       "6643       가동하려면 뭔가 알수 없는 메시지를 내며 죽어버림 테스트도 제대로 안하고 올린듯   \n",
       "6644                                    쇼핑몰앱 중 훌륭한 편입니다   \n",
       "6645  쿠폰도 많이 주는 것 같고 수퍼마켓에서도 편하게 쇼핑할수 있을것같네요 앞으로 많은 ...   \n",
       "6646                            드디어 아이수퍼 앱이 출시되었군요편리하네요   \n",
       "\n",
       "                                           nouns  y  \n",
       "0                                           [불편]  1  \n",
       "1                                       [편리, 할인]  1  \n",
       "2                                       [쿠폰, 배송]  1  \n",
       "3                                     [상품특가, 특가]  1  \n",
       "4     [행사기획상품쿠폰, 쿠폰, 실질적, 요구, 영향, 구매자자로, 자로, 편리]  1  \n",
       "...                                          ... ..  \n",
       "6642                                        [편리]  1  \n",
       "6643                                        [가동]  0  \n",
       "6644                                      [쇼핑몰앱]  1  \n",
       "6645                                        [쿠폰]  1  \n",
       "6646                                    [출시, 편리]  1  \n",
       "\n",
       "[6647 rows x 6 columns]"
      ]
     },
     "execution_count": 124,
     "metadata": {},
     "output_type": "execute_result"
    }
   ],
   "source": [
    "df"
   ]
  },
  {
   "cell_type": "code",
   "execution_count": 125,
   "metadata": {
    "scrolled": true
   },
   "outputs": [
    {
     "data": {
      "text/plain": [
       "1    5380\n",
       "0    1267\n",
       "Name: y, dtype: int64"
      ]
     },
     "execution_count": 125,
     "metadata": {},
     "output_type": "execute_result"
    }
   ],
   "source": [
    "df.y.value_counts()"
   ]
  },
  {
   "cell_type": "code",
   "execution_count": 126,
   "metadata": {},
   "outputs": [],
   "source": [
    "y= df['y']\n",
    "X_train,X_test, y_train, y_test = train_test_split(tf_idf_vect, y, test_size = 0.2)"
   ]
  },
  {
   "cell_type": "code",
   "execution_count": 127,
   "metadata": {
    "scrolled": true
   },
   "outputs": [
    {
     "name": "stdout",
     "output_type": "stream",
     "text": [
      "(1330, 17275)\n"
     ]
    }
   ],
   "source": [
    "print(X_test.shape)"
   ]
  },
  {
   "cell_type": "markdown",
   "metadata": {},
   "source": [
    "# 로지스틱 회귀"
   ]
  },
  {
   "cell_type": "code",
   "execution_count": 128,
   "metadata": {},
   "outputs": [
    {
     "name": "stdout",
     "output_type": "stream",
     "text": [
      "Test Accuracy: 83.76%\n"
     ]
    }
   ],
   "source": [
    "from sklearn.linear_model import LogisticRegression\n",
    "lr = LogisticRegression(solver=\"lbfgs\", max_iter=500)\n",
    "lr.fit(X_train, y_train)\n",
    "print(\"Test Accuracy: {}%\".format(round(lr.score(X_test, y_test)*100,2)))"
   ]
  },
  {
   "cell_type": "code",
   "execution_count": 129,
   "metadata": {},
   "outputs": [
    {
     "name": "stdout",
     "output_type": "stream",
     "text": [
      "cross-val-score \n",
      "[0.85112782 0.84661654 0.83671934 0.83521445 0.81188864]\n",
      "cross-val-score.mean \n",
      "0.836\n"
     ]
    }
   ],
   "source": [
    "scores = cross_val_score(lr, tf_idf_vect, y, cv=5) # model, train, target, cross validation\n",
    "\n",
    "print('cross-val-score \\n{}'.format(scores))\n",
    "\n",
    "print('cross-val-score.mean \\n{:.3f}'.format(scores.mean()))"
   ]
  },
  {
   "cell_type": "code",
   "execution_count": 130,
   "metadata": {
    "scrolled": true
   },
   "outputs": [
    {
     "name": "stdout",
     "output_type": "stream",
     "text": [
      "Logistic Regression Classifier report: \n",
      "\n",
      "               precision    recall  f1-score   support\n",
      "\n",
      "           0       0.81      0.24      0.37       265\n",
      "           1       0.84      0.99      0.91      1065\n",
      "\n",
      "    accuracy                           0.84      1330\n",
      "   macro avg       0.82      0.61      0.64      1330\n",
      "weighted avg       0.83      0.84      0.80      1330\n",
      "\n"
     ]
    }
   ],
   "source": [
    "y_pred_lr = lr.predict(X_test)\n",
    "print(\"Logistic Regression Classifier report: \\n\\n\", classification_report(y_test, y_pred_lr))"
   ]
  },
  {
   "cell_type": "code",
   "execution_count": 131,
   "metadata": {},
   "outputs": [
    {
     "data": {
      "image/png": "[encoded data removed]",
      "text/plain": [
       "<Figure size 504x504 with 2 Axes>"
      ]
     },
     "metadata": {
      "needs_background": "light"
     },
     "output_type": "display_data"
    }
   ],
   "source": [
    "cm = confusion_matrix(y_test, y_pred_lr)\n",
    "x_axis_labels = [\"Edible\", \"Poisonous\"]\n",
    "y_axis_labels = [\"Edible\", \"Poisonous\"]\n",
    "f, ax = plt.subplots(figsize =(7,7))\n",
    "sns.heatmap(cm, annot = True, linewidths=0.2, linecolor=\"black\", fmt = \".0f\", ax=ax, cmap=\"Purples\", xticklabels=x_axis_labels, yticklabels=y_axis_labels)\n",
    "plt.xlabel(\"PREDICTED LABEL\")\n",
    "plt.ylabel(\"TRUE LABEL\")\n",
    "plt.title('Confusion Matrix for Logistic Regression Classifier')\n",
    "#plt.savefig(\"lrcm.png\", format='png', dpi=500, bbox_inches='tight')\n",
    "plt.show()"
   ]
  },
  {
   "cell_type": "code",
   "execution_count": 132,
   "metadata": {
    "scrolled": false
   },
   "outputs": [
    {
     "data": {
      "text/plain": [
       "<BarContainer object of 17275 artists>"
      ]
     },
     "execution_count": 132,
     "metadata": {},
     "output_type": "execute_result"
    },
    {
     "data": {
      "image/png": "[encoded data removed]",
      "text/plain": [
       "<Figure size 720x576 with 1 Axes>"
      ]
     },
     "metadata": {
      "needs_background": "light"
     },
     "output_type": "display_data"
    }
   ],
   "source": [
    "plt.rcParams['figure.figsize'] = [10,8]\n",
    "plt.bar(range(len(lr.coef_[0])), lr.coef_[0])"
   ]
  },
  {
   "cell_type": "code",
   "execution_count": 133,
   "metadata": {},
   "outputs": [],
   "source": [
    "coef_pos_index = sorted(((value, index ) for index, value in enumerate(lr.coef_[0])), reverse=True)\n",
    "coef_neg_index = sorted(((value,index) for index, value in enumerate(lr.coef_[0])), reverse= False)"
   ]
  },
  {
   "cell_type": "code",
   "execution_count": 134,
   "metadata": {
    "scrolled": false
   },
   "outputs": [
    {
     "name": "stdout",
     "output_type": "stream",
     "text": [
      "신선 3.8076812026064535\n",
      "할인 3.4492643203523454\n",
      "편리하고 3.408045975476111\n",
      "편리 3.3382855692808393\n",
      "저렴 3.3341011421928015\n",
      "심플리쿡 3.1836151309825094\n",
      "편리하 2.9808004719226577\n",
      "배송 2.935518241193191\n",
      "가격 2.87891306084528\n",
      "편하고 2.7003532267998636\n",
      "다양 2.6960510885859654\n",
      "유용 2.6746145512053414\n",
      "다양한 2.628413973674975\n",
      "편리합니다 2.563717051820803\n",
      "간편 2.2824400987156412\n",
      "편해요 2.2196007926026238\n",
      "이벤트 2.1991928387276665\n",
      "세일 2.156577044082382\n",
      "빠른 2.116033039748164\n",
      "빠르고 1.9854271035070243\n",
      "쉽게 1.9782490637228998\n",
      "혜택 1.883015146642635\n",
      "당일 1.8781499649188202\n",
      "편하게 1.8303761948362198\n",
      "많고 1.6998200442717857\n",
      "깔끔 1.505902235979288\n",
      "편해 1.5056875228920952\n",
      "편하 1.486747100303726\n",
      "싸게 1.4735098319930857\n",
      "쉽고 1.2620814826564608\n",
      "빠르 1.2369019769906358\n",
      "싸고 1.1543892641359876\n",
      "특가 1.054629686645004\n",
      "배달 1.0418364442851518\n",
      "많네요 1.0412707529691114\n",
      "편합니다 0.9764281248632821\n",
      "품질이 0.9221502299195695\n",
      "많아 0.8748477732585508\n",
      "좋게 0.8315350903580703\n",
      "무엇보다 0.7723387216632838\n",
      "많은 0.706594225136198\n",
      "실속있는 0.6839812852723797\n",
      "주셔서 0.6827127746559657\n",
      "잘사용중입니다 0.6708059241208119\n",
      "있겠죠ㅜㅜㅜㅜ 0.6622704627375725\n",
      "진행되네요 0.6553551868903947\n",
      "강추합니다 0.6534167113454619\n",
      "오후에 0.6217661298887638\n",
      "기분이 0.6212665755180774\n",
      "편함 0.6178854353464068\n"
     ]
    }
   ],
   "source": [
    "for coef in coef_pos_index[:50]:\n",
    "  print(invert_index_vectorizer[coef[1]],coef[0]) #띄어쓰기 ,soynlp konlpy  한국어 "
   ]
  },
  {
   "cell_type": "code",
   "execution_count": 135,
   "metadata": {},
   "outputs": [
    {
     "name": "stdout",
     "output_type": "stream",
     "text": [
      "안되 -5.973364985954906\n",
      "자꾸 -2.884031342956215\n",
      "느려 -2.7544790904118175\n",
      "오류 -1.9390039468828812\n",
      "불편 -1.4655918198597913\n",
      "안됩니다 -1.3905370608049\n",
      "느리 -1.355588315377437\n",
      "결제 -1.311884733711805\n",
      "멈추고 -1.1015583511261744\n",
      "없다고 -1.0926477102551289\n",
      "하네요 -1.0697149394556715\n",
      "할때마다 -1.0523424693797476\n",
      "반응속도가 -1.0107378998056826\n",
      "어렵고 -0.9991696891253684\n",
      "지우고 -0.9774548598267704\n",
      "안나오네요 -0.964981437382355\n",
      "있다고 -0.9484530140586449\n",
      "멈춤 -0.9075565331505696\n",
      "않아 -0.8846899373304165\n",
      "먹통이고 -0.8756853134247293\n",
      "안뜨고 -0.8492847704471972\n",
      "복잡하고 -0.7725212005054067\n",
      "본인인증을 -0.7622459547036119\n",
      "품절전화도 -0.7561281182858269\n",
      "느립니다 -0.7553079390579216\n",
      "말라는거야 -0.7452154420615312\n",
      "튕기고 -0.7402633894377045\n",
      "년생이고 -0.7391519776845715\n",
      "라는 -0.7309608559721718\n",
      "롯데슈퍼로 -0.7293956155032661\n",
      "제시간에온적이 -0.719399816716604\n",
      "힘들었어요 -0.719399816716604\n",
      "나서 -0.7167651152419652\n",
      "열받아서 -0.7166776395717889\n",
      "하래서 -0.705345222880407\n",
      "실행안됨 -0.6945666594594327\n",
      "본인인증만 -0.6890042542128224\n",
      "앱설치하고 -0.6865724784188737\n",
      "실행이 -0.6853690559552871\n",
      "보이는 -0.6852291329272382\n",
      "백지화면 -0.6803051033824161\n",
      "좋았는데 -0.6758667342433051\n",
      "아오 -0.6721462246748082\n",
      "그러고 -0.652794084872758\n",
      "어쩌라고 -0.6527271145911816\n",
      "더니 -0.6507974821342472\n",
      "잘보여서 -0.6479075253369311\n",
      "인터넷 -0.6471064807520844\n",
      "안된다고 -0.6448989011086415\n",
      "시도하다 -0.6448455228243939\n",
      "멈춰서 -0.6438554056594185\n",
      "담아지지도 -0.6390322402889224\n",
      "모든 -0.635911485399269\n",
      "말라는 -0.6324430907651993\n",
      "개짜증나서 -0.6311166812957346\n",
      "찾기 -0.6303776918991472\n",
      "아깝네요 -0.627290065983855\n",
      "건데 -0.6256915990676991\n",
      "밤시넘어서옴 -0.6248727928154671\n",
      "없다 -0.6232008881284977\n",
      "접속상태 -0.6174063876060897\n",
      "웹으로 -0.6166543675969655\n",
      "서버가 -0.6164969277526313\n",
      "발생합니다 -0.6154422022264863\n",
      "포기하고 -0.6147211415476235\n",
      "같은데 -0.6102182934108056\n",
      "입력이 -0.6082527326415498\n",
      "커녕 -0.6065306945909819\n",
      "이유가 -0.6017143164197305\n",
      "느린어플첨입니다 -0.5984829932215864\n",
      "안주나여ㅠㅠ -0.5984829932215864\n",
      "안주죠 -0.5984829932215864\n",
      "왜안줘요 -0.5984829932215864\n",
      "확인하나요 -0.5984829932215864\n",
      "힘들긴하네요 -0.5984829932215864\n",
      "나고 -0.5974356286107105\n",
      "빡쳐서 -0.5958886817575374\n",
      "말고 -0.5956684665052321\n",
      "알고 -0.5944327798395536\n",
      "못하게 -0.5916323102548958\n",
      "언제쯤 -0.5914794291515859\n",
      "지움 -0.5898018452381504\n",
      "심하고 -0.5871611588738491\n",
      "복잡하게 -0.5871423624620487\n",
      "해결이 -0.5869722665133494\n",
      "하라는거야 -0.5868246828817834\n",
      "같네요ㅡㅡ -0.5854953009661368\n",
      "다소불편함 -0.5854953009661368\n",
      "대기중이이고 -0.5854953009661368\n",
      "무료배송이죠 -0.5854953009661368\n",
      "별주기도 -0.5854953009661368\n",
      "본인인증하면 -0.5854953009661368\n",
      "살인데만세미만가입불가뜨네요 -0.5854953009661368\n",
      "안그래도느려져서짜잉나는디 -0.5854953009661368\n",
      "안받고만다 -0.5854953009661368\n",
      "앱사용하다 -0.5854953009661368\n",
      "앱설치시 -0.5854953009661368\n",
      "업그레이드한다음부터넘불편해요사용안할것같네요 -0.5854953009661368\n",
      "왜일까요 -0.5854953009661368\n",
      "왜휴대폰인증실패가뜨나요ㅡㅡ -0.5854953009661368\n"
     ]
    }
   ],
   "source": [
    "for coef in coef_neg_index[:100]:\n",
    "  print(invert_index_vectorizer[coef[1]], coef[0])"
   ]
  },
  {
   "cell_type": "markdown",
   "metadata": {},
   "source": [
    "# 의사결정"
   ]
  },
  {
   "cell_type": "code",
   "execution_count": 136,
   "metadata": {},
   "outputs": [
    {
     "data": {
      "text/plain": [
       "DecisionTreeClassifier(ccp_alpha=0.0, class_weight=None, criterion='gini',\n",
       "                       max_depth=None, max_features=None, max_leaf_nodes=None,\n",
       "                       min_impurity_decrease=0.0, min_impurity_split=None,\n",
       "                       min_samples_leaf=1, min_samples_split=2,\n",
       "                       min_weight_fraction_leaf=0.0, presort='deprecated',\n",
       "                       random_state=None, splitter='best')"
      ]
     },
     "execution_count": 136,
     "metadata": {},
     "output_type": "execute_result"
    }
   ],
   "source": [
    "dt = DecisionTreeClassifier()\n",
    "dt.fit(X_train, y_train)"
   ]
  },
  {
   "cell_type": "code",
   "execution_count": 137,
   "metadata": {
    "scrolled": true
   },
   "outputs": [
    {
     "name": "stdout",
     "output_type": "stream",
     "text": [
      "Decision Tree Classifier report: \n",
      "\n",
      "               precision    recall  f1-score   support\n",
      "\n",
      "           0       0.64      0.40      0.50       265\n",
      "           1       0.86      0.94      0.90      1065\n",
      "\n",
      "    accuracy                           0.84      1330\n",
      "   macro avg       0.75      0.67      0.70      1330\n",
      "weighted avg       0.82      0.84      0.82      1330\n",
      "\n",
      "Test Accuracy: 83.61%\n"
     ]
    }
   ],
   "source": [
    "y_pred_dt = dt.predict(X_test)\n",
    "print(\"Decision Tree Classifier report: \\n\\n\", classification_report(y_test, y_pred_dt))\n",
    "print(\"Test Accuracy: {}%\".format(round(dt.score(X_test, y_test)*100, 2)))"
   ]
  },
  {
   "cell_type": "code",
   "execution_count": 138,
   "metadata": {
    "scrolled": true
   },
   "outputs": [
    {
     "data": {
      "image/png": "[encoded data removed]",
      "text/plain": [
       "<Figure size 504x504 with 2 Axes>"
      ]
     },
     "metadata": {
      "needs_background": "light"
     },
     "output_type": "display_data"
    }
   ],
   "source": [
    "cm = confusion_matrix(y_test, y_pred_dt)\n",
    "x_axis_labels = [\"Edible\", \"Poisonous\"]\n",
    "y_axis_labels = [\"Edible\", \"Poisonous\"]\n",
    "f, ax = plt.subplots(figsize =(7,7))\n",
    "sns.heatmap(cm, annot = True, linewidths=0.2, linecolor=\"black\", fmt = \".0f\", ax=ax, cmap=\"Purples\", xticklabels=x_axis_labels, yticklabels=y_axis_labels)\n",
    "plt.xlabel(\"PREDICTED LABEL\")\n",
    "plt.ylabel(\"TRUE LABEL\")\n",
    "plt.title('Confusion Matrix for Decision Tree Classifier')\n",
    "#plt.savefig(\"dtcm.png\", format='png', dpi=500, bbox_inches='tight')\n",
    "plt.show()"
   ]
  },
  {
   "cell_type": "code",
   "execution_count": 139,
   "metadata": {
    "scrolled": false
   },
   "outputs": [
    {
     "data": {
      "text/plain": [
       "<BarContainer object of 17275 artists>"
      ]
     },
     "execution_count": 139,
     "metadata": {},
     "output_type": "execute_result"
    },
    {
     "data": {
      "image/png": "[encoded data removed]",
      "text/plain": [
       "<Figure size 720x576 with 1 Axes>"
      ]
     },
     "metadata": {
      "needs_background": "light"
     },
     "output_type": "display_data"
    }
   ],
   "source": [
    "plt.rcParams['figure.figsize'] = [10,8]\n",
    "plt.bar(range(len(dt.feature_importances_)), dt.feature_importances_)"
   ]
  },
  {
   "cell_type": "code",
   "execution_count": 140,
   "metadata": {},
   "outputs": [],
   "source": [
    "coef_pos_index = sorted(((value, index ) for index, value in enumerate(dt.feature_importances_)), reverse=True)\n",
    "coef_neg_index = sorted(((value,index) for index, value in enumerate(dt.feature_importances_)), reverse= False)"
   ]
  },
  {
   "cell_type": "code",
   "execution_count": 141,
   "metadata": {
    "scrolled": false
   },
   "outputs": [
    {
     "name": "stdout",
     "output_type": "stream",
     "text": [
      "안되\n",
      "오류\n",
      "불편\n",
      "느려\n",
      "결제\n",
      "자꾸\n",
      "할인\n",
      "배송\n",
      "가격\n",
      "쿠폰\n",
      "앱이\n",
      "이벤트\n",
      "당일\n",
      "안됩니다\n",
      "혜택\n",
      "편하게\n",
      "편리하고\n",
      "신선\n",
      "없다고\n",
      "있다고\n",
      "않아\n",
      "빠른\n",
      "저렴\n",
      "느리\n",
      "심플리쿡\n",
      "편리하\n",
      "편리\n",
      "세일\n",
      "다양\n",
      "유용\n",
      "간편\n",
      "편하고\n",
      "편리합니다\n",
      "많아\n",
      "ㅠㅠ\n",
      "다양한\n",
      "깔끔\n",
      "편해요\n",
      "많은\n",
      "안된다고\n",
      "배달\n",
      "쉽게\n",
      "앱도\n",
      "안나오네요\n",
      "주세요\n",
      "빨리\n",
      "나서\n",
      "없는\n",
      "일에\n",
      "안옴\n",
      "하게\n",
      "먹통이고\n",
      "좋겠네요\n",
      "준다고\n",
      "이럴거면\n",
      "잘썼는데\n",
      "지우고\n",
      "어쩌라고\n",
      "아오\n",
      "알고\n",
      "아깝네요\n",
      "없다\n",
      "모든\n",
      "점점\n",
      "같은\n",
      "것도\n",
      "버튼이\n",
      "멈추고\n",
      "눈에\n",
      "나네요\n",
      "편해\n",
      "싶어서\n",
      "아까울정도\n",
      "이마트로\n",
      "접속상태\n",
      "앱카드\n",
      "말고\n",
      "백지화면\n",
      "임시비번\n",
      "바뀌고\n",
      "띄우고\n",
      "시도하다\n",
      "인트로\n",
      "울리는\n",
      "같네요\n",
      "빡쳐서\n",
      "본인인증만\n",
      "어렵고\n",
      "말라는거야\n",
      "바꾸고\n",
      "알람\n",
      "답답하게\n",
      "변하고\n",
      "본인인증을\n",
      "년생이고\n",
      "홈플이나\n",
      "심하고\n",
      "지움\n",
      "되는게\n",
      "느린\n"
     ]
    }
   ],
   "source": [
    "for coef in coef_pos_index[:100]:\n",
    "  print(invert_index_vectorizer[coef[1]])"
   ]
  },
  {
   "cell_type": "code",
   "execution_count": 142,
   "metadata": {
    "scrolled": false
   },
   "outputs": [
    {
     "name": "stdout",
     "output_type": "stream",
     "text": [
      "ㅇ할인혜택도좋구요\n",
      "ㅠㅠㅎ\n",
      "ㅠㅠㅠㅠㅠㅠㅜㅜㅜㅜㅜㅠ\n",
      "ㅠㅠ지에스좋은데\n",
      "ㅠㅡㅠ\n",
      "ㅠ판매안하시죵\n",
      "ㅡㅡㅋㅋ\n",
      "ㅡㅡ개선좀해주세요\n",
      "ㅡㅡ솔찍히\n",
      "ㅡ곳은\n",
      "ㅡ나쳐걸려서\n",
      "ㅡ분걸림\n",
      "ㅡ서비스는\n",
      "ㅡ착한\n",
      "가게되네요\n",
      "가게부에\n",
      "가계부에\n",
      "가계에\n",
      "가고\n",
      "가공식품과\n",
      "가공식품을\n",
      "가구가\n",
      "가구에게\n",
      "가구요\n",
      "가기가\n",
      "가기도\n",
      "가기에\n",
      "가까우니까\n",
      "가까운\n",
      "가까운곳에\n",
      "가까운곳이라\n",
      "가까운매장에서\n",
      "가까운매장에서바로바로받을수\n",
      "가까운지점에서\n",
      "가까움ㅋㅋ\n",
      "가까워서\n",
      "가깝고\n",
      "가네요\n",
      "가네욬ㅋㅋㅋㅋㅋ\n",
      "가느라\n",
      "가는\n",
      "가는거\n",
      "가는것\n",
      "가는게\n",
      "가는데\n",
      "가는하니\n",
      "가다가\n",
      "가독성\n",
      "가독성도\n",
      "가독성이\n",
      "가동하는데\n",
      "가동하려면\n",
      "가동해야\n",
      "가득\n",
      "가득가득\n",
      "가득하고\n",
      "가득하네요\n",
      "가득한\n",
      "가득합니다\n",
      "가득해\n",
      "가뜩이나\n",
      "가라고\n",
      "가라는\n",
      "가란다\n",
      "가려가며\n",
      "가려면\n",
      "가려져서\n",
      "가렵니다\n",
      "가로에다가\n",
      "가만히\n",
      "가면갈수록\n",
      "가방\n",
      "가버리고타마트\n",
      "가벼운마음으로\n",
      "가벼워졌습니당\n",
      "가벼워졌어요\n",
      "가볍게\n",
      "가볍고\n",
      "가보니까\n",
      "가보면\n",
      "가봤더니\n",
      "가서\n",
      "가서사고말지\n",
      "가서찾기눌럿더니\n",
      "가성비\n",
      "가성비가\n",
      "가성비좋네요\n",
      "가성비좋은지에스프레쉬\n",
      "가시성도\n",
      "가시성이\n",
      "가식성이\n",
      "가야할\n",
      "가야했는데\n",
      "가있어서\n",
      "가장많이\n",
      "가장자리에\n",
      "가전제품이\n",
      "가점\n",
      "가정경제에도\n",
      "가정에\n"
     ]
    }
   ],
   "source": [
    "for coef in coef_neg_index[:100]:\n",
    "  print(invert_index_vectorizer[coef[1]])"
   ]
  },
  {
   "cell_type": "markdown",
   "metadata": {},
   "source": [
    "# KNN"
   ]
  },
  {
   "cell_type": "code",
   "execution_count": 143,
   "metadata": {},
   "outputs": [
    {
     "name": "stdout",
     "output_type": "stream",
     "text": [
      "Best KNN Value: 1\n",
      "Test Accuracy: 99.49%\n"
     ]
    }
   ],
   "source": [
    "from sklearn.neighbors import KNeighborsClassifier\n",
    "best_Kvalue = 0\n",
    "best_score = 0\n",
    "for i in range(1,10):\n",
    "    knn = KNeighborsClassifier(n_neighbors=i)\n",
    "    knn.fit(X_train, y_train)\n",
    "    if knn.score(X_test, y_test) > best_score:\n",
    "        best_score = knn.score(X_train, y_train)\n",
    "        best_Kvalue = i\n",
    "        \n",
    "print(\"Best KNN Value: {}\".format(best_Kvalue))\n",
    "print(\"Test Accuracy: {}%\".format(round(best_score*100,2)))"
   ]
  },
  {
   "cell_type": "code",
   "execution_count": 144,
   "metadata": {},
   "outputs": [
    {
     "name": "stdout",
     "output_type": "stream",
     "text": [
      "KNN Classifier report: \n",
      "\n",
      "               precision    recall  f1-score   support\n",
      "\n",
      "           0       0.33      0.02      0.03       265\n",
      "           1       0.80      0.99      0.89      1065\n",
      "\n",
      "    accuracy                           0.80      1330\n",
      "   macro avg       0.57      0.50      0.46      1330\n",
      "weighted avg       0.71      0.80      0.72      1330\n",
      "\n"
     ]
    }
   ],
   "source": [
    "y_pred_knn = knn.predict(X_test)\n",
    "print(\"KNN Classifier report: \\n\\n\", classification_report(y_test, y_pred_knn))\n"
   ]
  },
  {
   "cell_type": "code",
   "execution_count": 145,
   "metadata": {
    "scrolled": false
   },
   "outputs": [
    {
     "data": {
      "image/png": "[encoded data removed]",
      "text/plain": [
       "<Figure size 504x504 with 2 Axes>"
      ]
     },
     "metadata": {
      "needs_background": "light"
     },
     "output_type": "display_data"
    }
   ],
   "source": [
    "cm = confusion_matrix(y_test, y_pred_knn)\n",
    "x_axis_labels = [\"Edible\", \"Poisonous\"]\n",
    "y_axis_labels = [\"Edible\", \"Poisonous\"]\n",
    "f, ax = plt.subplots(figsize =(7,7))\n",
    "sns.heatmap(cm, annot = True, linewidths=0.2, linecolor=\"black\", fmt = \".0f\", ax=ax, cmap=\"Purples\", xticklabels=x_axis_labels, yticklabels=y_axis_labels)\n",
    "plt.xlabel(\"PREDICTED LABEL\")\n",
    "plt.ylabel(\"TRUE LABEL\")\n",
    "plt.title('Confusion Matrix for KNN Classifier')\n",
    "#plt.savefig(\"knncm.png\", format='png', dpi=500, bbox_inches='tight')\n",
    "plt.show()"
   ]
  },
  {
   "cell_type": "markdown",
   "metadata": {},
   "source": [
    "# svm"
   ]
  },
  {
   "cell_type": "code",
   "execution_count": 146,
   "metadata": {},
   "outputs": [
    {
     "name": "stdout",
     "output_type": "stream",
     "text": [
      "Test Accuracy: 80.08%\n"
     ]
    }
   ],
   "source": [
    "from sklearn.svm import SVC\n",
    "svm = SVC(random_state=42, gamma=\"auto\")\n",
    "svm.fit(X_train, y_train)\n",
    "print(\"Test Accuracy: {}%\".format(round(svm.score(X_test, y_test)*100, 2)))\n"
   ]
  },
  {
   "cell_type": "code",
   "execution_count": 147,
   "metadata": {},
   "outputs": [
    {
     "name": "stdout",
     "output_type": "stream",
     "text": [
      "SVM Classifier report: \n",
      "\n",
      "               precision    recall  f1-score   support\n",
      "\n",
      "           0       0.00      0.00      0.00       265\n",
      "           1       0.80      1.00      0.89      1065\n",
      "\n",
      "    accuracy                           0.80      1330\n",
      "   macro avg       0.40      0.50      0.44      1330\n",
      "weighted avg       0.64      0.80      0.71      1330\n",
      "\n"
     ]
    },
    {
     "name": "stderr",
     "output_type": "stream",
     "text": [
      "C:\\Users\\jby\\AppData\\Local\\Continuum\\anaconda3\\envs\\textmining\\lib\\site-packages\\sklearn\\metrics\\_classification.py:1272: UndefinedMetricWarning: Precision and F-score are ill-defined and being set to 0.0 in labels with no predicted samples. Use `zero_division` parameter to control this behavior.\n",
      "  _warn_prf(average, modifier, msg_start, len(result))\n"
     ]
    }
   ],
   "source": [
    "y_pred_svm = svm.predict(X_test)\n",
    "print(\"SVM Classifier report: \\n\\n\", classification_report(y_test, y_pred_svm))"
   ]
  },
  {
   "cell_type": "code",
   "execution_count": 148,
   "metadata": {
    "scrolled": false
   },
   "outputs": [
    {
     "data": {
      "image/png": "[encoded data removed]",
      "text/plain": [
       "<Figure size 504x504 with 2 Axes>"
      ]
     },
     "metadata": {
      "needs_background": "light"
     },
     "output_type": "display_data"
    }
   ],
   "source": [
    "cm = confusion_matrix(y_test, y_pred_svm)\n",
    "x_axis_labels = [\"Edible\", \"Poisonous\"]\n",
    "y_axis_labels = [\"Edible\", \"Poisonous\"]\n",
    "f, ax = plt.subplots(figsize =(7,7))\n",
    "sns.heatmap(cm, annot = True, linewidths=0.2, linecolor=\"black\", fmt = \".0f\", ax=ax, cmap=\"Purples\", xticklabels=x_axis_labels, yticklabels=y_axis_labels)\n",
    "plt.xlabel(\"PREDICTED LABEL\")\n",
    "plt.ylabel(\"TRUE LABEL\")\n",
    "plt.title('Confusion Matrix for SVM Classifier')\n",
    "#plt.savefig(\"svmcm.png\", format='png', dpi=500, bbox_inches='tight')\n",
    "plt.show()"
   ]
  },
  {
   "cell_type": "markdown",
   "metadata": {},
   "source": [
    "# 랜덤포레스트"
   ]
  },
  {
   "cell_type": "code",
   "execution_count": 149,
   "metadata": {},
   "outputs": [
    {
     "name": "stdout",
     "output_type": "stream",
     "text": [
      "Test Accuracy: 84.81%\n"
     ]
    }
   ],
   "source": [
    "from sklearn.ensemble import RandomForestClassifier\n",
    "rf = RandomForestClassifier(n_estimators=100, random_state=42)\n",
    "rf.fit(X_train, y_train)\n",
    "print(\"Test Accuracy: {}%\".format(round(rf.score(X_test, y_test)*100, 2)))"
   ]
  },
  {
   "cell_type": "code",
   "execution_count": 150,
   "metadata": {},
   "outputs": [
    {
     "name": "stdout",
     "output_type": "stream",
     "text": [
      "Random Forest Classifier report: \n",
      "\n",
      "               precision    recall  f1-score   support\n",
      "\n",
      "           0       0.82      0.30      0.44       265\n",
      "           1       0.85      0.98      0.91      1065\n",
      "\n",
      "    accuracy                           0.85      1330\n",
      "   macro avg       0.84      0.64      0.68      1330\n",
      "weighted avg       0.84      0.85      0.82      1330\n",
      "\n"
     ]
    }
   ],
   "source": [
    "y_pred_rf = rf.predict(X_test)\n",
    "print(\"Random Forest Classifier report: \\n\\n\", classification_report(y_test, y_pred_rf))"
   ]
  },
  {
   "cell_type": "code",
   "execution_count": 151,
   "metadata": {},
   "outputs": [
    {
     "data": {
      "image/png": "[encoded data removed]",
      "text/plain": [
       "<Figure size 504x504 with 2 Axes>"
      ]
     },
     "metadata": {
      "needs_background": "light"
     },
     "output_type": "display_data"
    }
   ],
   "source": [
    "cm = confusion_matrix(y_test, y_pred_rf)\n",
    "x_axis_labels = [\"Edible\", \"Poisonous\"]\n",
    "y_axis_labels = [\"Edible\", \"Poisonous\"]\n",
    "f, ax = plt.subplots(figsize =(7,7))\n",
    "sns.heatmap(cm, annot = True, linewidths=0.2, linecolor=\"black\", fmt = \".0f\", ax=ax, cmap=\"Purples\", xticklabels=x_axis_labels, yticklabels=y_axis_labels)\n",
    "plt.xlabel(\"PREDICTED LABEL\")\n",
    "plt.ylabel(\"TRUE LABEL\")\n",
    "plt.title('Confusion Matrix for Random Forest Classifier');\n",
    "#plt.savefig(\"rfcm.png\", format='png', dpi=500, bbox_inches='tight')\n",
    "plt.show()"
   ]
  },
  {
   "cell_type": "code",
   "execution_count": 152,
   "metadata": {},
   "outputs": [
    {
     "data": {
      "text/plain": [
       "<BarContainer object of 17275 artists>"
      ]
     },
     "execution_count": 152,
     "metadata": {},
     "output_type": "execute_result"
    },
    {
     "data": {
      "image/png": "[encoded data removed]",
      "text/plain": [
       "<Figure size 720x576 with 1 Axes>"
      ]
     },
     "metadata": {
      "needs_background": "light"
     },
     "output_type": "display_data"
    }
   ],
   "source": [
    "plt.rcParams['figure.figsize'] = [10,8]\n",
    "plt.bar(range(len(rf.feature_importances_)), rf.feature_importances_)"
   ]
  },
  {
   "cell_type": "code",
   "execution_count": 153,
   "metadata": {},
   "outputs": [],
   "source": [
    "coef_pos_index = sorted(((value, index ) for index, value in enumerate(rf.feature_importances_)), reverse=True)\n",
    "coef_neg_index = sorted(((value,index) for index, value in enumerate(rf.feature_importances_)), reverse= False)"
   ]
  },
  {
   "cell_type": "code",
   "execution_count": 154,
   "metadata": {},
   "outputs": [
    {
     "name": "stdout",
     "output_type": "stream",
     "text": [
      "안되 0.05351273668182688\n",
      "오류 0.022836186947075936\n",
      "불편 0.012329979814894153\n",
      "자꾸 0.01080763089207704\n",
      "할인 0.010502195299013148\n",
      "배송 0.009611949231874408\n",
      "느려 0.009503720873588204\n",
      "결제 0.009270007146110985\n",
      "신선 0.0076851032491914275\n",
      "편리 0.006161011357432696\n",
      "안됩니다 0.00608730388415671\n",
      "느리 0.005880009567856176\n",
      "편리하고 0.005736294332245767\n",
      "저렴 0.005710973919790254\n",
      "가격 0.004091567253246898\n",
      "이벤트 0.003723274465068838\n",
      "편리하 0.0036082417811516103\n",
      "다양 0.00332415229062624\n",
      "심플리쿡 0.003316465036459533\n",
      "없다고 0.003264828188715957\n",
      "지우고 0.0029364729963391586\n",
      "빠르고 0.0029357475214330767\n",
      "멈추고 0.0027773440301130763\n",
      "편하고 0.0027298110263025014\n",
      "앱이 0.0026320511839652842\n",
      "간편 0.002621124784160636\n",
      "빨리 0.0023776994092725317\n",
      "다양한 0.002318793809929335\n",
      "있다고 0.0023023984676458966\n",
      "쿠폰 0.0022908906572259432\n",
      "않아 0.0022297235627546\n",
      "많고 0.002150344899640024\n",
      "안된다고 0.002127105161384868\n",
      "하네요 0.0021041359533354\n",
      "당일 0.0020661379828487677\n",
      "세일 0.0020319329895861693\n",
      "빠른 0.0019969036623343614\n",
      "안뜨고 0.0019100150852646436\n",
      "할때마다 0.0018790181915493425\n",
      "편하게 0.001719757368074181\n",
      "유용 0.0017074407064300047\n",
      "편리합니다 0.0017071467368339885\n",
      "혜택 0.0016015337236255\n",
      "안나오네요 0.001538707077640349\n",
      "같은데 0.0015358218101862932\n",
      "열받아서 0.001483700111045843\n",
      "아깝네요 0.0014429263162773509\n",
      "복잡하고 0.0014360048740387976\n",
      "페이코 0.0014110419283967562\n",
      "ㅠㅠ 0.0013664623758531283\n",
      "대기중이이고 0.001296108480015865\n",
      "말라는 0.0012911917227260057\n",
      "언제쯤 0.0012877762473342976\n",
      "반응속도가 0.001280218499447751\n",
      "먹통이고 0.0012706995951482871\n",
      "카드결제시맨마지막단계에서계속먹통이되어버리네요핸드폰터치기안되요ㅜㅜ 0.0012497254798572424\n",
      "아오 0.0012372050123889405\n",
      "백지화면 0.0012090023012624803\n",
      "본인인증만 0.0012001312336313323\n",
      "본인인증을 0.0011991650333622581\n",
      "안그래도느려져서짜잉나는디 0.0011949006936838728\n",
      "실행안됨 0.001189658631614883\n",
      "같네요ㅡㅡ 0.0011849925607112302\n",
      "어쩌라고 0.0011847200463177938\n",
      "년생이고 0.0011755475090067123\n",
      "멈춰서 0.0011443540838752414\n",
      "안녕하세요 0.0011401147560599033\n",
      "앱설치하고 0.0011342551468435727\n",
      "젓까라마이싱가입안됨 0.0011301841117000778\n",
      "왜안줘요 0.0011212823343018066\n",
      "왜일까요 0.0011206582912625335\n",
      "안받고만다 0.0011201253523435814\n",
      "어렵고 0.00111437850363249\n",
      "튕기고 0.0011123673146093986\n",
      "나서 0.0010950792865365804\n",
      "쿠키지급이안되요 0.001083469539875558\n",
      "못하게 0.001082551539166978\n",
      "왜휴대폰인증실패가뜨나요ㅡㅡ 0.0010719356667735545\n",
      "인증안됨 0.0010712953095333825\n",
      "무료배송이죠 0.0010690230735967657\n",
      "본인인증하면 0.0010617121848400966\n",
      "건데 0.0010608137080016645\n",
      "제시간에온적이 0.0010595912894868697\n",
      "안드로이드 0.0010582048163315942\n",
      "안주나여ㅠㅠ 0.0010497478064540693\n",
      "말라는거야 0.001048543146305506\n",
      "앱사용하다 0.0010402659852198183\n",
      "전혀 0.0010349083062684168\n",
      "별주기도 0.0010294888805896874\n",
      "다소불편함 0.0010281978651024357\n",
      "롯데슈퍼로 0.0010263729646695816\n",
      "시도하다 0.0010262649764627308\n",
      "힘들었어요 0.001024077183624124\n",
      "힘들긴하네요 0.0010213037261393382\n",
      "커녕 0.0010167411323755789\n",
      "정보가없다네 0.0010134733657481594\n",
      "품절전화도 0.0009990271941907188\n",
      "담아지지도 0.0009925919002503835\n",
      "느린어플첨입니다 0.0009921473605060231\n",
      "신규가입시 0.0009919892402364486\n"
     ]
    }
   ],
   "source": [
    "for coef in coef_pos_index[:100]:\n",
    "  print(invert_index_vectorizer[coef[1]], coef[0])"
   ]
  },
  {
   "cell_type": "code",
   "execution_count": 155,
   "metadata": {},
   "outputs": [
    {
     "name": "stdout",
     "output_type": "stream",
     "text": [
      "ㅠㅠㅎ\n",
      "ㅠㅠ지에스좋은데\n",
      "ㅠㅡㅠ\n",
      "ㅡ곳은\n",
      "ㅡ분걸림\n",
      "ㅡ서비스는\n",
      "가구가\n",
      "가까운곳이라\n",
      "가까움ㅋㅋ\n",
      "가는데\n",
      "가는하니\n",
      "가득하네요\n",
      "가라고\n",
      "가려가며\n",
      "가려져서\n",
      "가버리고타마트\n",
      "가벼워졌습니당\n",
      "가보니까\n",
      "가봤더니\n",
      "가서찾기눌럿더니\n",
      "가식성이\n",
      "가야할\n",
      "가져다주는\n",
      "가져다준다니까요\n",
      "가지게\n",
      "가지런하게\n",
      "각도를\n",
      "각성하셔야\n",
      "각종할인이\n",
      "간가요\n",
      "간간이\n",
      "간거같으면서\n",
      "간단결제\n",
      "간단했고\n",
      "간식거리도\n",
      "간식으로\n",
      "간식이랑\n",
      "간헐적으로\n",
      "간혈적으로\n",
      "갈때마다\n",
      "갈래야\n",
      "갈수가\n",
      "갈수밖에\n",
      "갈아타려고\n",
      "갈아타야겠어요\n",
      "갈아탄\n",
      "갈아탄지\n",
      "갈아탈일\n",
      "갈아탑니다\n",
      "감감무소식참다참다\n",
      "감기\n",
      "감동감동\n",
      "감바스알하이오\n",
      "감바스의\n",
      "감이\n",
      "감점\n",
      "감탄하며\n",
      "갑니당\n",
      "갑이네요\n",
      "갑자기이러네\n",
      "갑작스럽게\n",
      "갑작스레\n",
      "값싸게\n",
      "값에\n",
      "갔네요\n",
      "갔다하면\n",
      "갔더니\n",
      "갔어요\n",
      "강력추천\n",
      "강제종료가\n",
      "강제종료되버려\n",
      "강제종료되버려서\n",
      "강추드립니다\n",
      "강추요\n",
      "강추인걸요\n",
      "강추합니닷\n",
      "강추해주고\n",
      "강화해주시면\n",
      "갖다버리시오\n",
      "갖다주시니\n",
      "갖추다니\n",
      "갖춰주시길\n",
      "같았는데\n",
      "같을\n",
      "같이되나요\n",
      "같진\n",
      "개같이\n",
      "개떡같고\n",
      "개떡이네\n",
      "개똥\n",
      "개만오고\n",
      "개미지옥이예요\n",
      "개발과\n",
      "개발관리가\n",
      "개발자님아\n",
      "개발자분들\n",
      "개변될때마다\n",
      "개불편함\n",
      "개빡칩니다\n",
      "개시켰는데\n"
     ]
    }
   ],
   "source": [
    "for coef in coef_neg_index[:100]:\n",
    "  print(invert_index_vectorizer[coef[1]])"
   ]
  },
  {
   "cell_type": "markdown",
   "metadata": {},
   "source": [
    "# 라쏘"
   ]
  },
  {
   "cell_type": "code",
   "execution_count": 156,
   "metadata": {},
   "outputs": [
    {
     "name": "stdout",
     "output_type": "stream",
     "text": [
      "X_train,y_train Accuracy: 94.05%\n",
      "X_test,y_test Accuracy: 18.15%\n",
      "lasso alpha1e-05 y_test,pred Mse 0.19315433695720913\n",
      "lasso alpha1e-05 y_test,pred SQRT Mse 0.3613768893506452\n"
     ]
    }
   ],
   "source": [
    "alpha = 0.00001\n",
    "lasso = Lasso(alpha=alpha,random_state=42)\n",
    "lasso.fit(X_train, y_train)\n",
    "print(\"X_train,y_train Accuracy: {}%\".format(round(lasso.score(X_train, y_train)*100, 2)))\n",
    "print(\"X_test,y_test Accuracy: {}%\".format(round(lasso.score(X_test, y_test)*100, 2)))\n",
    "pred = lasso.predict(X_test)\n",
    "print(f\"lasso alpha{alpha} y_test,pred Mse\",mean_absolute_error(y_test, pred))\n",
    "print(f\"lasso alpha{alpha} y_test,pred SQRT Mse\",np.sqrt(mean_squared_error(y_test, pred)))"
   ]
  }
 ],
 "metadata": {
  "kernelspec": {
   "display_name": "Python 3",
   "language": "python",
   "name": "python3"
  },
  "language_info": {
   "codemirror_mode": {
    "name": "ipython",
    "version": 3
   },
   "file_extension": ".py",
   "mimetype": "text/x-python",
   "name": "python",
   "nbconvert_exporter": "python",
   "pygments_lexer": "ipython3",
   "version": "3.6.10"
  }
 },
 "nbformat": 4,
 "nbformat_minor": 4
}
