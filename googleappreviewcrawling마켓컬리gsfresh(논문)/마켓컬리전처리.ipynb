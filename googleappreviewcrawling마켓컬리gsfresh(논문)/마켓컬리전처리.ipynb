{
 "cells": [
  {
   "cell_type": "code",
   "execution_count": 152,
   "metadata": {},
   "outputs": [
    {
     "name": "stderr",
     "output_type": "stream",
     "text": [
      "D:\\programfiles\\anaconda3\\envs\\pythonopencv\\lib\\site-packages\\konlpy\\tag\\_okt.py:16: UserWarning: \"Twitter\" has changed to \"Okt\" since KoNLPy v0.4.5.\n",
      "  warn('\"Twitter\" has changed to \"Okt\" since KoNLPy v0.4.5.')\n"
     ]
    }
   ],
   "source": [
    "from datetime import datetime\n",
    "import pandas as pd\n",
    "import matplotlib.pyplot as plt\n",
    "%matplotlib inline\n",
    "from konlpy.tag import Twitter\n",
    "twt = Twitter()\n",
    "from hanspell import spell_checker\n",
    "import re\n",
    "from konlpy.tag import Okt\n",
    "from collections import Counter\n",
    "from sklearn.feature_extraction.text import CountVectorizer\n",
    "from konlpy.tag import Kkma\n",
    "from sklearn.linear_model import Lasso\n",
    "from sklearn.feature_extraction.text import TfidfTransformer\n",
    "from sklearn.model_selection import train_test_split\n",
    "from sklearn.linear_model import LogisticRegression\n",
    "from sklearn.metrics import accuracy_score, precision_score, recall_score, f1_score\n",
    "from sklearn.metrics import confusion_matrix\n",
    "import numpy as np\n",
    "import seaborn as sns\n",
    "import tensorflow as tf\n",
    "import os\n",
    "import graphviz\n",
    "from sklearn.preprocessing import LabelEncoder\n",
    "from sklearn.tree import DecisionTreeClassifier\n",
    "from sklearn.metrics import classification_report, confusion_matrix, precision_recall_curve, auc, roc_curve\n",
    "from sklearn.tree import DecisionTreeClassifier, export_graphviz\n",
    "from sklearn.metrics import mean_absolute_error, mean_squared_error"
   ]
  },
  {
   "cell_type": "code",
   "execution_count": null,
   "metadata": {
    "scrolled": true
   },
   "outputs": [],
   "source": [
    "df = pd.read_csv('./result/2021-03-10_20-10-56 마켓컬리.csv')\n",
    "df.head()"
   ]
  },
  {
   "cell_type": "code",
   "execution_count": null,
   "metadata": {
    "scrolled": false
   },
   "outputs": [],
   "source": [
    "df.describe()"
   ]
  },
  {
   "cell_type": "code",
   "execution_count": null,
   "metadata": {},
   "outputs": [],
   "source": [
    "df = df[['date', 'comment', 'ratings']]"
   ]
  },
  {
   "cell_type": "code",
   "execution_count": null,
   "metadata": {},
   "outputs": [],
   "source": [
    "# for i in range(len(df)) :\n",
    "#     result = spell_checker.check(df['comment'][i])\n",
    "#     a= result[1]\n",
    "#     df['comment'][i] = a"
   ]
  },
  {
   "cell_type": "code",
   "execution_count": null,
   "metadata": {},
   "outputs": [],
   "source": [
    "df['comment']"
   ]
  },
  {
   "cell_type": "code",
   "execution_count": null,
   "metadata": {},
   "outputs": [],
   "source": [
    "def text_cleaning(text):\n",
    "    hangul = re.compile('[|ㄱ-ㅎ|ㅏ-ㅣ]+') # 한글의 정규표현식을 나타냅니다.\n",
    "    result = hangul.sub('', text)\n",
    "    hangul = re.compile('[^ ㄱ-ㅣ가-힣]+') # 한글의 정규표현식을 나타냅니다.\n",
    "    result = hangul.sub('', text)\n",
    "    return result"
   ]
  },
  {
   "cell_type": "code",
   "execution_count": null,
   "metadata": {},
   "outputs": [],
   "source": [
    "# def text_cleaning2(text):\n",
    "#     hangul = re.compile('[^ ㄱ-ㅣ가-힣]+') # 한글의 정규표현식을 나타냅니다.\n",
    "#     result = hangul.sub('', text)\n",
    "#     return result"
   ]
  },
  {
   "cell_type": "code",
   "execution_count": null,
   "metadata": {},
   "outputs": [],
   "source": [
    "df['ko_text'] = df['comment'].apply(lambda x: text_cleaning(x))\n",
    "df.head()"
   ]
  },
  {
   "cell_type": "code",
   "execution_count": null,
   "metadata": {},
   "outputs": [],
   "source": [
    "# df['ko_text'] = df['ko_text'].apply(lambda x: text_cleaning2(x))\n",
    "# df.head()"
   ]
  },
  {
   "cell_type": "code",
   "execution_count": null,
   "metadata": {},
   "outputs": [],
   "source": [
    "df['ko_text']"
   ]
  },
  {
   "cell_type": "code",
   "execution_count": null,
   "metadata": {},
   "outputs": [],
   "source": [
    "df.describe()"
   ]
  },
  {
   "cell_type": "code",
   "execution_count": null,
   "metadata": {},
   "outputs": [],
   "source": [
    "# 한국어 약식 불용어사전 예시 파일입니다. 출처 - (https://www.ranks.nl/stopwords/korean)\n",
    "korean_stopwords_path = \"./korean_stopwords2.txt\"\n",
    "with open(korean_stopwords_path, encoding='utf8') as f:\n",
    "    stopwords = f.readlines()\n",
    "stopwords = [x.strip() for x in stopwords]\n",
    "\n",
    "def get_nouns(x):\n",
    "    nouns_tagger = Kkma()\n",
    "    nouns = nouns_tagger.nouns(x)\n",
    "    \n",
    "    # 한글자 키워드를 제거합니다.\n",
    "    nouns = [noun for noun in nouns if len(noun) > 1]\n",
    "    \n",
    "    # 불용어를 제거합니다.\n",
    "    nouns = [noun for noun in nouns if noun not in stopwords]\n",
    "    \n",
    "    return nouns"
   ]
  },
  {
   "cell_type": "code",
   "execution_count": null,
   "metadata": {},
   "outputs": [],
   "source": [
    "df['nouns'] = df['ko_text'].apply(lambda x: get_nouns(x))\n",
    "for i in range(len(df)):\n",
    "    if not df['nouns'][i]:\n",
    "        df.drop([i],inplace=True)\n",
    "        \n",
    "df.reset_index(inplace=True)\n",
    "del df['index']\n",
    "print(df.shape)\n",
    "df.head()"
   ]
  },
  {
   "cell_type": "code",
   "execution_count": null,
   "metadata": {
    "scrolled": false
   },
   "outputs": [],
   "source": [
    "all_words = []\n",
    "satisfaction= []\n",
    "for i in range(len(df)):\n",
    "    words = df['nouns'][i]\n",
    "    words_arr = []\n",
    "    for n in words:\n",
    "        words_arr.append(n)\n",
    "        satisfaction.append(df['ratings'].iloc[i])\n",
    "    all_words.extend(words_arr)\n",
    "    \n",
    "all_words_df = pd.DataFrame({\"words\":all_words, \"satisfaction\":satisfaction, \"count\":len(all_words)*[1]})\n",
    "all_words_df.head()        \n",
    "    "
   ]
  },
  {
   "cell_type": "code",
   "execution_count": null,
   "metadata": {
    "scrolled": false
   },
   "outputs": [],
   "source": [
    "words_satisfaction = all_words_df.groupby('words').mean()['satisfaction']\n",
    "words_count = all_words_df.groupby('words').sum()['count']\n",
    "words_df = pd.concat([words_satisfaction, words_count], axis=1)\n",
    "words_df.head()"
   ]
  },
  {
   "cell_type": "code",
   "execution_count": null,
   "metadata": {},
   "outputs": [],
   "source": [
    "words_df = words_df.loc[words_df['count']>=3]\n",
    "words_df.sort_values('satisfaction', ascending=False)"
   ]
  },
  {
   "cell_type": "code",
   "execution_count": null,
   "metadata": {},
   "outputs": [],
   "source": [
    "words_df.sort_values('count')"
   ]
  },
  {
   "cell_type": "code",
   "execution_count": null,
   "metadata": {},
   "outputs": [],
   "source": [
    "all_words_df = pd.DataFrame()\n",
    "\n",
    "for n in range(len(df)):\n",
    "    words = df['nouns'][n]\n",
    "    words_df = pd.DataFrame()\n",
    "    for i in words:\n",
    "        words_df[i] = [1]\n",
    "        #satisfaction.append(df['ratings'].iloc[i])\n",
    "    all_words_df = pd.concat([all_words_df, words_df], ignore_index=True)\n",
    "    \n",
    "all_words_df.head()   \n",
    "    "
   ]
  },
  {
   "cell_type": "code",
   "execution_count": null,
   "metadata": {},
   "outputs": [],
   "source": [
    "all_words_df = all_words_df.fillna(0)\n",
    "all_words_df.head()"
   ]
  },
  {
   "cell_type": "code",
   "execution_count": null,
   "metadata": {},
   "outputs": [],
   "source": [
    "korean_stopwords_path = \"./korean_stopwords2.txt\"\n",
    "with open(korean_stopwords_path, encoding='utf8') as f:\n",
    "    stopwords = f.readlines()\n",
    "stopwords = [x.strip() for x in stopwords]\n",
    "nouns_tagger =Kkma()\n",
    "def text_cleaning(text):\n",
    "    hangul = re.compile('[|ㄱ-ㅎ|ㅏ-ㅣ]+') # 한글의 정규표현식을 나타냅니다.\n",
    "    result = hangul.sub('', text)\n",
    "    hangul = re.compile('[^ ㄱ-ㅣ가-힣]+') # 한글의 정규표현식을 나타냅니다.\n",
    "    result = hangul.sub('', text)\n",
    "    tagger = Kkma()\n",
    "    nouns = nouns_tagger.nouns(result)\n",
    "    nouns = [x for x in nouns if len(x) >1]\n",
    "    nouns =[x for x in nouns if x not in stopwords]\n",
    "    return nouns\n",
    "\n",
    "vect = CountVectorizer(tokenizer= lambda x : text_cleaning(x))\n",
    "bow_vect = vect.fit_transform(df['comment'].tolist())\n",
    "word_list = vect.get_feature_names()\n",
    "count_list = bow_vect.toarray().sum(axis=0)"
   ]
  },
  {
   "cell_type": "code",
   "execution_count": null,
   "metadata": {},
   "outputs": [],
   "source": [
    "word_list"
   ]
  },
  {
   "cell_type": "code",
   "execution_count": null,
   "metadata": {
    "scrolled": true
   },
   "outputs": [],
   "source": [
    "count_list"
   ]
  },
  {
   "cell_type": "code",
   "execution_count": null,
   "metadata": {},
   "outputs": [],
   "source": [
    "bow_vect.shape"
   ]
  },
  {
   "cell_type": "code",
   "execution_count": null,
   "metadata": {},
   "outputs": [],
   "source": [
    "word_count_dict = dict(zip(word_list, count_list))\n",
    "print(str(word_count_dict)[:100])"
   ]
  },
  {
   "cell_type": "code",
   "execution_count": null,
   "metadata": {},
   "outputs": [],
   "source": [
    "tfidf_vectorizer = TfidfTransformer()\n",
    "tf_idf_vect = tfidf_vectorizer.fit_transform(bow_vect)"
   ]
  },
  {
   "cell_type": "code",
   "execution_count": null,
   "metadata": {
    "scrolled": true
   },
   "outputs": [],
   "source": [
    "print(tf_idf_vect[0])"
   ]
  },
  {
   "cell_type": "code",
   "execution_count": null,
   "metadata": {},
   "outputs": [],
   "source": [
    "invert_index_vectorizer = {v:k for k,v in vect.vocabulary_.items()}\n",
    "print(str(invert_index_vectorizer)[:100])"
   ]
  },
  {
   "cell_type": "code",
   "execution_count": null,
   "metadata": {
    "scrolled": false
   },
   "outputs": [],
   "source": [
    "df.sample(10).head()"
   ]
  },
  {
   "cell_type": "code",
   "execution_count": null,
   "metadata": {
    "scrolled": true
   },
   "outputs": [],
   "source": [
    "df.ratings.hist()"
   ]
  },
  {
   "cell_type": "code",
   "execution_count": null,
   "metadata": {},
   "outputs": [],
   "source": [
    "def rating_to_label(rating) :\n",
    "  if rating >3:\n",
    "    return 1\n",
    "  else:\n",
    "    return 0\n",
    "df['y'] = df['ratings'].apply(lambda x : rating_to_label(x))"
   ]
  },
  {
   "cell_type": "code",
   "execution_count": null,
   "metadata": {
    "scrolled": false
   },
   "outputs": [],
   "source": [
    "df"
   ]
  },
  {
   "cell_type": "code",
   "execution_count": null,
   "metadata": {
    "scrolled": true
   },
   "outputs": [],
   "source": [
    "df.y.value_counts()"
   ]
  },
  {
   "cell_type": "code",
   "execution_count": 197,
   "metadata": {},
   "outputs": [],
   "source": [
    "y= df['y']\n",
    "X_train,X_test, y_train, y_test = train_test_split(tf_idf_vect, y, test_size = 0.2)"
   ]
  },
  {
   "cell_type": "code",
   "execution_count": 198,
   "metadata": {
    "scrolled": true
   },
   "outputs": [
    {
     "name": "stdout",
     "output_type": "stream",
     "text": [
      "(785, 4815)\n"
     ]
    }
   ],
   "source": [
    "print(X_test.shape)"
   ]
  },
  {
   "cell_type": "markdown",
   "metadata": {},
   "source": [
    "# 여기까지 "
   ]
  },
  {
   "cell_type": "markdown",
   "metadata": {},
   "source": [
    "# 로지스틱 회귀"
   ]
  },
  {
   "cell_type": "code",
   "execution_count": 199,
   "metadata": {},
   "outputs": [
    {
     "name": "stdout",
     "output_type": "stream",
     "text": [
      "Test Accuracy: 80.51%\n"
     ]
    }
   ],
   "source": [
    "from sklearn.linear_model import LogisticRegression\n",
    "lr = LogisticRegression(solver=\"lbfgs\", max_iter=500)\n",
    "lr.fit(X_train, y_train)\n",
    "print(\"Test Accuracy: {}%\".format(round(lr.score(X_test, y_test)*100,2)))"
   ]
  },
  {
   "cell_type": "code",
   "execution_count": 200,
   "metadata": {
    "scrolled": true
   },
   "outputs": [
    {
     "name": "stdout",
     "output_type": "stream",
     "text": [
      "Logistic Regression Classifier report: \n",
      "\n",
      "               precision    recall  f1-score   support\n",
      "\n",
      "           0       0.33      0.01      0.03       151\n",
      "           1       0.81      0.99      0.89       634\n",
      "\n",
      "    accuracy                           0.81       785\n",
      "   macro avg       0.57      0.50      0.46       785\n",
      "weighted avg       0.72      0.81      0.73       785\n",
      "\n"
     ]
    }
   ],
   "source": [
    "y_pred_lr = lr.predict(X_test)\n",
    "print(\"Logistic Regression Classifier report: \\n\\n\", classification_report(y_test, y_pred_lr))"
   ]
  },
  {
   "cell_type": "code",
   "execution_count": 201,
   "metadata": {},
   "outputs": [
    {
     "data": {
      "image/png": "[encoded data removed]",
      "text/plain": [
       "<Figure size 504x504 with 2 Axes>"
      ]
     },
     "metadata": {
      "needs_background": "light"
     },
     "output_type": "display_data"
    }
   ],
   "source": [
    "cm = confusion_matrix(y_test, y_pred_lr)\n",
    "x_axis_labels = [\"Edible\", \"Poisonous\"]\n",
    "y_axis_labels = [\"Edible\", \"Poisonous\"]\n",
    "f, ax = plt.subplots(figsize =(7,7))\n",
    "sns.heatmap(cm, annot = True, linewidths=0.2, linecolor=\"black\", fmt = \".0f\", ax=ax, cmap=\"Purples\", xticklabels=x_axis_labels, yticklabels=y_axis_labels)\n",
    "plt.xlabel(\"PREDICTED LABEL\")\n",
    "plt.ylabel(\"TRUE LABEL\")\n",
    "plt.title('Confusion Matrix for Logistic Regression Classifier')\n",
    "#plt.savefig(\"lrcm.png\", format='png', dpi=500, bbox_inches='tight')\n",
    "plt.show()"
   ]
  },
  {
   "cell_type": "code",
   "execution_count": 202,
   "metadata": {
    "scrolled": true
   },
   "outputs": [
    {
     "data": {
      "text/plain": [
       "<BarContainer object of 4815 artists>"
      ]
     },
     "execution_count": 202,
     "metadata": {},
     "output_type": "execute_result"
    },
    {
     "data": {
      "image/png": "[encoded data removed]",
      "text/plain": [
       "<Figure size 720x576 with 1 Axes>"
      ]
     },
     "metadata": {
      "needs_background": "light"
     },
     "output_type": "display_data"
    }
   ],
   "source": [
    "plt.rcParams['figure.figsize'] = [10,8]\n",
    "plt.bar(range(len(lr.coef_[0])), lr.coef_[0])"
   ]
  },
  {
   "cell_type": "code",
   "execution_count": 203,
   "metadata": {},
   "outputs": [],
   "source": [
    "coef_pos_index = sorted(((value, index ) for index, value in enumerate(lr.coef_[0])), reverse=True)\n",
    "coef_neg_index = sorted(((value,index) for index, value in enumerate(lr.coef_[0])), reverse= False)"
   ]
  },
  {
   "cell_type": "code",
   "execution_count": 204,
   "metadata": {
    "scrolled": false
   },
   "outputs": [
    {
     "name": "stdout",
     "output_type": "stream",
     "text": [
      "신선 3.0359854966286073\n",
      "포장 2.382832368400757\n",
      "유용 2.3082052121468113\n",
      "품질 1.9662623574918459\n",
      "간편 1.7496853693187342\n",
      "제품 1.7333038209783713\n",
      "식재료 1.694489185286283\n",
      "배송 1.6353280189892292\n",
      "재료 1.6352110347156599\n",
      "퀄리티 1.563220705710427\n",
      "새벽 1.5542821960916355\n",
      "소량 1.5460813004848797\n",
      "신선도 1.4231973526139574\n",
      "식품 1.303537345982469\n",
      "친절 1.2112723392156266\n",
      "고급 1.1929156562565555\n",
      "상품 1.1762618276543504\n",
      "편리함 1.1202211188701205\n",
      "가격 1.0566204516640154\n",
      "카테고리 1.0159718868701413\n",
      "신속 0.9577767614551013\n",
      "적립 0.8678183363845074\n",
      "정확 0.8601088472981796\n",
      "포장재 0.8241816755271699\n",
      "할인 0.8206872106011806\n",
      "샛별 0.8136385559814792\n",
      "세일 0.7882350415992356\n",
      "접근 0.7767724620731349\n",
      "샛별배송 0.7587063107036278\n",
      "포인트 0.756071185322721\n",
      "다음날 0.6985247780749498\n",
      "할인쿠폰 0.6243908419447961\n",
      "믿음 0.6143421910361092\n",
      "재활용 0.5630184924848644\n",
      "종류 0.5386271726072053\n",
      "편리하다 0.5371652867847702\n",
      "담날 0.5364947301229308\n",
      "신뢰 0.5311902160339893\n",
      "대체적 0.5243597848222898\n",
      "금액 0.5133561730943341\n",
      "포장상태 0.49071338197673514\n",
      "식자재 0.4886218704410576\n",
      "메뉴 0.48489583144287973\n",
      "위로 0.4639397010268476\n",
      "종이 0.45888191263718325\n",
      "정직 0.45303220591564924\n",
      "플랫폼 0.44782203272690757\n",
      "성비 0.44204559032340773\n",
      "최상 0.4333738664913387\n",
      "냉장 0.41718194646481116\n",
      "알뜰 0.4133363642849715\n",
      "하트 0.4065557918197208\n",
      "조하 0.4019292425039659\n",
      "중독성 0.39667223132910245\n",
      "세분화 0.39510882404770653\n",
      "배송상태 0.3927621467590232\n",
      "워킹맘 0.3831933422607856\n",
      "워킹 0.3831933422607856\n",
      "개인적 0.373866329132707\n",
      "저장 0.3696739234310709\n",
      "생존 0.36315862317457476\n",
      "쿠폰적용 0.36310239392616805\n",
      "구매후 0.3548055463044064\n",
      "상품설명 0.3521990952256914\n",
      "택배박스 0.35219787994936247\n",
      "계좌 0.35187421039909517\n",
      "성분 0.34913547621036023\n",
      "근처 0.34866759828927874\n",
      "일상생활 0.34818033782150876\n",
      "한동안 0.3464443252553136\n",
      "배송굿 0.34512066605027725\n",
      "대형 0.34121096567679776\n",
      "드라이아이스 0.3397230050979865\n",
      "드라이 0.3397230050979865\n",
      "싸이트 0.33595643660773694\n",
      "정렬기능 0.33460672951618914\n",
      "건강식품 0.3314759371499578\n",
      "실속 0.331043389591397\n",
      "장보고 0.33084936895318473\n",
      "편리성 0.3306614569282326\n",
      "외식 0.3258630885261706\n",
      "재전송 0.3201018728525106\n",
      "보여 0.3172115043566083\n",
      "고품질 0.31717636811229716\n",
      "과일 0.3163724890983745\n",
      "검증 0.311536483874509\n",
      "용품 0.3113123637025941\n",
      "안가요 0.31052958557409494\n",
      "사진만 0.3074581226927967\n",
      "주문도 0.3061980526384139\n",
      "만점 0.3047257752221109\n",
      "최대 0.30217032638711405\n",
      "할인율 0.3015042070820127\n",
      "추천순 0.3010132620270351\n",
      "오고 0.29970771718456685\n",
      "대형마트 0.29724278454021597\n",
      "세심 0.2957419327848042\n",
      "배송비가 0.29295759648110564\n",
      "배달시간 0.2923040551486806\n",
      "이체 0.2919994195852659\n"
     ]
    }
   ],
   "source": [
    "for coef in coef_pos_index[:100]:\n",
    "  print(invert_index_vectorizer[coef[1]],coef[0])"
   ]
  },
  {
   "cell_type": "code",
   "execution_count": 205,
   "metadata": {
    "scrolled": false
   },
   "outputs": [
    {
     "name": "stdout",
     "output_type": "stream",
     "text": [
      "비밀번호 -1.815305646663703\n",
      "배송불가 -1.6569060433488736\n",
      "오배송 -1.3796569597007187\n",
      "배송불가지역 -1.2942285640852584\n",
      "배송완료 -1.2407445762612588\n",
      "비쌈 -1.1966381822710637\n",
      "배송지역 -1.1763432268391134\n",
      "지연 -1.044237501540917\n",
      "장바구니 -1.0255213487100447\n",
      "결제창 -1.019528756646746\n",
      "과대포장 -0.9973277654575087\n",
      "아이디어 -0.9859044001066197\n",
      "대부분 -0.953587872265788\n",
      "만원이상 -0.9423937928576435\n",
      "누락 -0.9019881025150331\n",
      "하세 -0.8987878187236885\n",
      "반품 -0.8163816041772982\n",
      "대구 -0.8162302894311172\n",
      "네이버페이 -0.8124038034747444\n",
      "원인 -0.7994070177595213\n",
      "비싸요 -0.786147679302322\n",
      "인내심 -0.7454428276370577\n",
      "검색창 -0.7453580020413559\n",
      "조치 -0.7441806555144956\n",
      "응답 -0.7396708057281829\n",
      "신선식품 -0.7365394418503977\n",
      "정보 -0.7342545566725444\n",
      "키워드 -0.7090674690325537\n",
      "현상 -0.7055453221595644\n",
      "돌기 -0.7040231778432343\n",
      "하루종일 -0.701578743769058\n",
      "최악임 -0.7002808788794552\n",
      "제대 -0.692675229688593\n",
      "조기마감 -0.6901310132301007\n",
      "주문가능 -0.6848904681016575\n",
      "승인 -0.6757647465401042\n",
      "상품배송 -0.6680435021934085\n",
      "브랜드 -0.6672498624997286\n",
      "오류때문 -0.6671565416793828\n",
      "적인 -0.6644872017557001\n",
      "통장 -0.6449710825594129\n",
      "스팸 -0.6431397453170373\n",
      "시스템점검 -0.6401992587810892\n",
      "월일 -0.6378533761014781\n",
      "통해 -0.6378380830639409\n",
      "이벤트 -0.6371634931419591\n",
      "만원어치 -0.6350026350674842\n",
      "정상적 -0.6348961992426264\n",
      "택센터 -0.6288658656530843\n",
      "강제 -0.628700157645644\n",
      "시안 -0.6249020787307066\n",
      "선택지 -0.6199223436736033\n",
      "품절 -0.6155626612233333\n",
      "추천상품원 -0.6154766816374279\n",
      "불가지역 -0.603229292308791\n",
      "속지마세 -0.596405733947704\n",
      "뚱카롱 -0.594991462455166\n",
      "시정 -0.5855484453059066\n",
      "결제도 -0.5755653915596264\n",
      "행위 -0.5719062381513889\n",
      "아쉬움 -0.5697037753894633\n",
      "네트워크에러 -0.56548366727136\n",
      "로딩오류 -0.56548366727136\n",
      "로딩중 -0.56548366727136\n",
      "번시도하다 -0.56548366727136\n",
      "복구 -0.56548366727136\n",
      "비쌈비쌈 -0.56548366727136\n",
      "설치중 -0.56548366727136\n",
      "세월 -0.56548366727136\n",
      "아깝네요이앱 -0.56548366727136\n",
      "않아요 -0.56548366727136\n",
      "앱설정 -0.56548366727136\n",
      "업뎃하라네 -0.56548366727136\n",
      "오류창 -0.56548366727136\n",
      "오류창만 -0.56548366727136\n",
      "일이상 -0.56548366727136\n",
      "장볼 -0.56548366727136\n",
      "저두 -0.56548366727136\n",
      "찾은며 -0.56548366727136\n",
      "쿠팡쓸게 -0.56548366727136\n",
      "하래 -0.56548366727136\n",
      "했서 -0.56548366727136\n",
      "깡촌 -0.5608865777081126\n",
      "배송추적 -0.5594269493390353\n",
      "새벽시 -0.5537501756404515\n",
      "불안정 -0.5512504773744048\n",
      "클릭 -0.550415306318307\n",
      "앱오류 -0.5480484662428086\n",
      "구입불가 -0.5477924130926515\n",
      "냄새 -0.5464170880898646\n",
      "정확신뢰 -0.5457550715947687\n",
      "스티로폼 -0.5414463862091168\n",
      "쿠폰등 -0.5343956947867342\n",
      "취급 -0.5322753627131166\n",
      "나쵸때문 -0.5319399651081647\n",
      "파손 -0.5275942214294438\n",
      "결제오류 -0.5266666052156102\n",
      "무료배송만원 -0.5264390313907371\n",
      "배송지연 -0.5264240435947488\n",
      "자정 -0.5204424842719882\n"
     ]
    }
   ],
   "source": [
    "for coef in coef_neg_index[:100]:\n",
    "  print(invert_index_vectorizer[coef[1]],coef[0])"
   ]
  },
  {
   "cell_type": "markdown",
   "metadata": {},
   "source": [
    "# 의사결정"
   ]
  },
  {
   "cell_type": "code",
   "execution_count": null,
   "metadata": {},
   "outputs": [],
   "source": [
    "dt = DecisionTreeClassifier()\n",
    "dt.fit(X_train, y_train)"
   ]
  },
  {
   "cell_type": "code",
   "execution_count": null,
   "metadata": {
    "scrolled": true
   },
   "outputs": [],
   "source": [
    "y_pred_dt = dt.predict(X_test)\n",
    "print(\"Decision Tree Classifier report: \\n\\n\", classification_report(y_test, y_pred_dt))\n",
    "print(\"Test Accuracy: {}%\".format(round(dt.score(X_test, y_test)*100, 2)))"
   ]
  },
  {
   "cell_type": "code",
   "execution_count": null,
   "metadata": {
    "scrolled": true
   },
   "outputs": [],
   "source": [
    "cm = confusion_matrix(y_test, y_pred_dt)\n",
    "x_axis_labels = [\"Edible\", \"Poisonous\"]\n",
    "y_axis_labels = [\"Edible\", \"Poisonous\"]\n",
    "f, ax = plt.subplots(figsize =(7,7))\n",
    "sns.heatmap(cm, annot = True, linewidths=0.2, linecolor=\"black\", fmt = \".0f\", ax=ax, cmap=\"Purples\", xticklabels=x_axis_labels, yticklabels=y_axis_labels)\n",
    "plt.xlabel(\"PREDICTED LABEL\")\n",
    "plt.ylabel(\"TRUE LABEL\")\n",
    "plt.title('Confusion Matrix for Decision Tree Classifier')\n",
    "#plt.savefig(\"dtcm.png\", format='png', dpi=500, bbox_inches='tight')\n",
    "plt.show()"
   ]
  },
  {
   "cell_type": "code",
   "execution_count": null,
   "metadata": {
    "scrolled": false
   },
   "outputs": [],
   "source": [
    "plt.rcParams['figure.figsize'] = [10,8]\n",
    "plt.bar(range(len(dt.feature_importances_)), dt.feature_importances_)"
   ]
  },
  {
   "cell_type": "code",
   "execution_count": null,
   "metadata": {},
   "outputs": [],
   "source": [
    "coef_pos_index = sorted(((value, index ) for index, value in enumerate(dt.feature_importances_)), reverse=True)\n",
    "coef_neg_index = sorted(((value,index) for index, value in enumerate(dt.feature_importances_)), reverse= False)"
   ]
  },
  {
   "cell_type": "code",
   "execution_count": null,
   "metadata": {
    "scrolled": true
   },
   "outputs": [],
   "source": [
    "for coef in coef_pos_index[:100]:\n",
    "  print(invert_index_vectorizer[coef[1]], coef[0])"
   ]
  },
  {
   "cell_type": "code",
   "execution_count": null,
   "metadata": {
    "scrolled": true
   },
   "outputs": [],
   "source": [
    "for coef in coef_neg_index[:100]:\n",
    "  print(invert_index_vectorizer[coef[1]],coef[0])"
   ]
  },
  {
   "cell_type": "markdown",
   "metadata": {},
   "source": [
    "# KNN"
   ]
  },
  {
   "cell_type": "code",
   "execution_count": null,
   "metadata": {},
   "outputs": [],
   "source": [
    "from sklearn.neighbors import KNeighborsClassifier\n",
    "best_Kvalue = 0\n",
    "best_score = 0\n",
    "for i in range(1,10):\n",
    "    knn = KNeighborsClassifier(n_neighbors=i)\n",
    "    knn.fit(X_train, y_train)\n",
    "    if knn.score(X_test, y_test) > best_score:\n",
    "        best_score = knn.score(X_train, y_train)\n",
    "        best_Kvalue = i\n",
    "        \n",
    "print(\"Best KNN Value: {}\".format(best_Kvalue))\n",
    "print(\"Test Accuracy: {}%\".format(round(best_score*100,2)))"
   ]
  },
  {
   "cell_type": "code",
   "execution_count": null,
   "metadata": {},
   "outputs": [],
   "source": [
    "y_pred_knn = knn.predict(X_test)\n",
    "print(\"KNN Classifier report: \\n\\n\", classification_report(y_test, y_pred_knn))\n"
   ]
  },
  {
   "cell_type": "code",
   "execution_count": null,
   "metadata": {
    "scrolled": true
   },
   "outputs": [],
   "source": [
    "cm = confusion_matrix(y_test, y_pred_knn)\n",
    "x_axis_labels = [\"Edible\", \"Poisonous\"]\n",
    "y_axis_labels = [\"Edible\", \"Poisonous\"]\n",
    "f, ax = plt.subplots(figsize =(7,7))\n",
    "sns.heatmap(cm, annot = True, linewidths=0.2, linecolor=\"black\", fmt = \".0f\", ax=ax, cmap=\"Purples\", xticklabels=x_axis_labels, yticklabels=y_axis_labels)\n",
    "plt.xlabel(\"PREDICTED LABEL\")\n",
    "plt.ylabel(\"TRUE LABEL\")\n",
    "plt.title('Confusion Matrix for KNN Classifier')\n",
    "#plt.savefig(\"knncm.png\", format='png', dpi=500, bbox_inches='tight')\n",
    "plt.show()"
   ]
  },
  {
   "cell_type": "markdown",
   "metadata": {},
   "source": [
    "# svm"
   ]
  },
  {
   "cell_type": "code",
   "execution_count": null,
   "metadata": {},
   "outputs": [],
   "source": [
    "from sklearn.svm import SVC\n",
    "svm = SVC(random_state=42, gamma=\"auto\")\n",
    "svm.fit(X_train, y_train)\n",
    "print(\"Test Accuracy: {}%\".format(round(svm.score(X_test, y_test)*100, 2)))\n"
   ]
  },
  {
   "cell_type": "code",
   "execution_count": null,
   "metadata": {},
   "outputs": [],
   "source": [
    "y_pred_svm = svm.predict(X_test)\n",
    "print(\"SVM Classifier report: \\n\\n\", classification_report(y_test, y_pred_svm))"
   ]
  },
  {
   "cell_type": "code",
   "execution_count": null,
   "metadata": {
    "scrolled": false
   },
   "outputs": [],
   "source": [
    "cm = confusion_matrix(y_test, y_pred_svm)\n",
    "x_axis_labels = [\"Edible\", \"Poisonous\"]\n",
    "y_axis_labels = [\"Edible\", \"Poisonous\"]\n",
    "f, ax = plt.subplots(figsize =(7,7))\n",
    "sns.heatmap(cm, annot = True, linewidths=0.2, linecolor=\"black\", fmt = \".0f\", ax=ax, cmap=\"Purples\", xticklabels=x_axis_labels, yticklabels=y_axis_labels)\n",
    "plt.xlabel(\"PREDICTED LABEL\")\n",
    "plt.ylabel(\"TRUE LABEL\")\n",
    "plt.title('Confusion Matrix for SVM Classifier')\n",
    "#plt.savefig(\"svmcm.png\", format='png', dpi=500, bbox_inches='tight')\n",
    "plt.show()"
   ]
  },
  {
   "cell_type": "markdown",
   "metadata": {},
   "source": [
    "# 랜덤포레스트"
   ]
  },
  {
   "cell_type": "code",
   "execution_count": null,
   "metadata": {},
   "outputs": [],
   "source": [
    "from sklearn.ensemble import RandomForestClassifier\n",
    "rf = RandomForestClassifier(n_estimators=100, random_state=42)\n",
    "rf.fit(X_train, y_train)\n",
    "print(\"Test Accuracy: {}%\".format(round(rf.score(X_test, y_test)*100, 2)))"
   ]
  },
  {
   "cell_type": "code",
   "execution_count": null,
   "metadata": {},
   "outputs": [],
   "source": [
    "y_pred_rf = rf.predict(X_test)\n",
    "print(\"Random Forest Classifier report: \\n\\n\", classification_report(y_test, y_pred_rf))"
   ]
  },
  {
   "cell_type": "code",
   "execution_count": null,
   "metadata": {},
   "outputs": [],
   "source": [
    "cm = confusion_matrix(y_test, y_pred_rf)\n",
    "x_axis_labels = [\"Edible\", \"Poisonous\"]\n",
    "y_axis_labels = [\"Edible\", \"Poisonous\"]\n",
    "f, ax = plt.subplots(figsize =(7,7))\n",
    "sns.heatmap(cm, annot = True, linewidths=0.2, linecolor=\"black\", fmt = \".0f\", ax=ax, cmap=\"Purples\", xticklabels=x_axis_labels, yticklabels=y_axis_labels)\n",
    "plt.xlabel(\"PREDICTED LABEL\")\n",
    "plt.ylabel(\"TRUE LABEL\")\n",
    "plt.title('Confusion Matrix for Random Forest Classifier');\n",
    "#plt.savefig(\"rfcm.png\", format='png', dpi=500, bbox_inches='tight')\n",
    "plt.show()"
   ]
  },
  {
   "cell_type": "code",
   "execution_count": null,
   "metadata": {},
   "outputs": [],
   "source": [
    "plt.rcParams['figure.figsize'] = [10,8]\n",
    "plt.bar(range(len(rf.feature_importances_)), rf.feature_importances_)"
   ]
  },
  {
   "cell_type": "code",
   "execution_count": null,
   "metadata": {},
   "outputs": [],
   "source": [
    "coef_pos_index = sorted(((value, index ) for index, value in enumerate(rf.feature_importances_)), reverse=True)\n",
    "coef_neg_index = sorted(((value,index) for index, value in enumerate(rf.feature_importances_)), reverse= False)"
   ]
  },
  {
   "cell_type": "code",
   "execution_count": null,
   "metadata": {},
   "outputs": [],
   "source": [
    "for coef in coef_pos_index[:100]:\n",
    "  print(invert_index_vectorizer[coef[1]], coef[0])"
   ]
  },
  {
   "cell_type": "code",
   "execution_count": null,
   "metadata": {},
   "outputs": [],
   "source": [
    "for coef in coef_neg_index[:100]:\n",
    "  print(invert_index_vectorizer[coef[1]])"
   ]
  },
  {
   "cell_type": "markdown",
   "metadata": {},
   "source": [
    "# 라쏘"
   ]
  },
  {
   "cell_type": "code",
   "execution_count": 163,
   "metadata": {},
   "outputs": [
    {
     "name": "stdout",
     "output_type": "stream",
     "text": [
      "X_train,y_train Accuracy: 78.81%\n",
      "X_test,y_test Accuracy: -28.52%\n",
      "lasso alpha1e-05 y_test,pred Mse 0.27319634359183964\n",
      "lasso alpha1e-05 y_test,pred SQRT Mse 0.45774452434483376\n"
     ]
    }
   ],
   "source": [
    "alpha = 0.00001\n",
    "lasso = Lasso(alpha=alpha,random_state=42)\n",
    "lasso.fit(X_train, y_train)\n",
    "print(\"X_train,y_train Accuracy: {}%\".format(round(lasso.score(X_train, y_train)*100, 2)))\n",
    "print(\"X_test,y_test Accuracy: {}%\".format(round(lasso.score(X_test, y_test)*100, 2)))\n",
    "pred = lasso.predict(X_test)\n",
    "print(f\"lasso alpha{alpha} y_test,pred Mse\",mean_absolute_error(y_test, pred))\n",
    "print(f\"lasso alpha{alpha} y_test,pred SQRT Mse\",np.sqrt(mean_squared_error(y_test, pred)))"
   ]
  },
  {
   "cell_type": "code",
   "execution_count": null,
   "metadata": {},
   "outputs": [],
   "source": []
  }
 ],
 "metadata": {
  "kernelspec": {
   "display_name": "Python 3",
   "language": "python",
   "name": "python3"
  },
  "language_info": {
   "codemirror_mode": {
    "name": "ipython",
    "version": 3
   },
   "file_extension": ".py",
   "mimetype": "text/x-python",
   "name": "python",
   "nbconvert_exporter": "python",
   "pygments_lexer": "ipython3",
   "version": "3.6.10"
  }
 },
 "nbformat": 4,
 "nbformat_minor": 4
}
