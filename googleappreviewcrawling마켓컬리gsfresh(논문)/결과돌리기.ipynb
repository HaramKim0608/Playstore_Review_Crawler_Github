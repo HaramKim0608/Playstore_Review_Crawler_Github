{
 "cells": [
  {
   "cell_type": "code",
   "execution_count": 119,
   "metadata": {},
   "outputs": [],
   "source": [
    "import numpy as np\n",
    "import pandas as pd\n",
    "import seaborn as sns\n",
    "import matplotlib.pyplot as plt\n",
    "import tensorflow as tf\n",
    "import os\n",
    "import graphviz\n",
    "from collections import Counter\n",
    "from sklearn.feature_extraction.text import CountVectorizer\n",
    "from sklearn.preprocessing import LabelEncoder\n",
    "from sklearn.model_selection import train_test_split \n",
    "from sklearn.tree import DecisionTreeClassifier\n",
    "from sklearn.metrics import classification_report, confusion_matrix, precision_recall_curve, auc, roc_curve\n",
    "from sklearn.tree import DecisionTreeClassifier, export_graphviz\n",
    "from konlpy.tag import Kkma\n",
    "import re"
   ]
  },
  {
   "cell_type": "code",
   "execution_count": 65,
   "metadata": {
    "scrolled": true
   },
   "outputs": [
    {
     "name": "stderr",
     "output_type": "stream",
     "text": [
      "D:\\programfiles\\anaconda3\\envs\\pythonopencv\\lib\\site-packages\\ipykernel_launcher.py:3: SettingWithCopyWarning: \n",
      "A value is trying to be set on a copy of a slice from a DataFrame\n",
      "\n",
      "See the caveats in the documentation: https://pandas.pydata.org/pandas-docs/stable/user_guide/indexing.html#returning-a-view-versus-a-copy\n",
      "  This is separate from the ipykernel package so we can avoid doing imports until\n"
     ]
    }
   ],
   "source": [
    "df = pd.read_csv('./result/마켓컬리전처리.csv')\n",
    "for i in range(len(df)):\n",
    "    df['nouns'][i] = df['nouns'][i].replace('[','').replace(']','').replace(\"'\",'').replace(' ','').split(',')\n",
    "for i in range(len(df)):\n",
    "    if df['nouns'][i] == ['']:\n",
    "        df.drop([i],inplace=True)\n",
    "        \n",
    "df.reset_index(inplace=True)\n",
    "del df['index']"
   ]
  },
  {
   "cell_type": "code",
   "execution_count": 120,
   "metadata": {},
   "outputs": [],
   "source": [
    "stopwords = \"./korean_stopwords.txt\"\n",
    "nouns_tagger =Kkma()\n",
    "def text_cleaning(text):\n",
    "  hangul = re.compile('[^ ㄱ-ㅣ가-힣]')\n",
    "  result = hangul.sub('', text)\n",
    "  tagger = Kkma()\n",
    "  nouns = nouns_tagger.nouns(result)\n",
    "  nouns = [x for x in nouns if len(x) >1]\n",
    "  nouns =[x for x in nouns if x not in stopwords]\n",
    "  return nouns\n",
    "\n",
    "vect = CountVectorizer(tokenizer= lambda x : text_cleaning(x))\n",
    "bow_vect = vect.fit_transform(df['comment'].tolist())\n",
    "word_list = vect.get_feature_names()\n",
    "count_list = bow_vect.toarray().sum(axis=0)"
   ]
  },
  {
   "cell_type": "code",
   "execution_count": 66,
   "metadata": {},
   "outputs": [
    {
     "data": {
      "text/html": [
       "<div>\n",
       "<style scoped>\n",
       "    .dataframe tbody tr th:only-of-type {\n",
       "        vertical-align: middle;\n",
       "    }\n",
       "\n",
       "    .dataframe tbody tr th {\n",
       "        vertical-align: top;\n",
       "    }\n",
       "\n",
       "    .dataframe thead th {\n",
       "        text-align: right;\n",
       "    }\n",
       "</style>\n",
       "<table border=\"1\" class=\"dataframe\">\n",
       "  <thead>\n",
       "    <tr style=\"text-align: right;\">\n",
       "      <th></th>\n",
       "      <th>date</th>\n",
       "      <th>comment</th>\n",
       "      <th>ratings</th>\n",
       "      <th>ko_text</th>\n",
       "      <th>nouns</th>\n",
       "      <th>y</th>\n",
       "    </tr>\n",
       "  </thead>\n",
       "  <tbody>\n",
       "    <tr>\n",
       "      <th>0</th>\n",
       "      <td>2021-03-10</td>\n",
       "      <td>긋긋긋 아주좋아여</td>\n",
       "      <td>5</td>\n",
       "      <td>긋긋긋 아주좋아여</td>\n",
       "      <td>[긋긋긋]</td>\n",
       "      <td>1</td>\n",
       "    </tr>\n",
       "    <tr>\n",
       "      <th>1</th>\n",
       "      <td>2021-03-10</td>\n",
       "      <td>정확한 시간에 배달되어 만족합니다.</td>\n",
       "      <td>4</td>\n",
       "      <td>정확한 시간에 배달되어 만족합니다</td>\n",
       "      <td>[정확, 배달, 만족]</td>\n",
       "      <td>1</td>\n",
       "    </tr>\n",
       "    <tr>\n",
       "      <th>2</th>\n",
       "      <td>2021-03-10</td>\n",
       "      <td>좋아요 만족합니다</td>\n",
       "      <td>4</td>\n",
       "      <td>좋아요 만족합니다</td>\n",
       "      <td>[만족]</td>\n",
       "      <td>1</td>\n",
       "    </tr>\n",
       "    <tr>\n",
       "      <th>3</th>\n",
       "      <td>2021-03-10</td>\n",
       "      <td>너무 좋습니다ㆍ다양한상품</td>\n",
       "      <td>5</td>\n",
       "      <td>너무 좋습니다다양한상품</td>\n",
       "      <td>[다양, 상품]</td>\n",
       "      <td>1</td>\n",
       "    </tr>\n",
       "    <tr>\n",
       "      <th>4</th>\n",
       "      <td>2021-03-10</td>\n",
       "      <td>후기보기 너무 불편해요. 3월 1일 후기보고 뒤로가기 누르면 3월 10일로 리스트가...</td>\n",
       "      <td>2</td>\n",
       "      <td>후기보기 너무 불편해요 월 일 후기보고 뒤로가기 누르면 월 일로 리스트가 확 올라가...</td>\n",
       "      <td>[후기보기, 기보기, 불편, 후기, 후기보고, 보고, 가기, 일로, 리스트, 있어요...</td>\n",
       "      <td>0</td>\n",
       "    </tr>\n",
       "    <tr>\n",
       "      <th>...</th>\n",
       "      <td>...</td>\n",
       "      <td>...</td>\n",
       "      <td>...</td>\n",
       "      <td>...</td>\n",
       "      <td>...</td>\n",
       "      <td>...</td>\n",
       "    </tr>\n",
       "    <tr>\n",
       "      <th>5468</th>\n",
       "      <td>2016-03-02</td>\n",
       "      <td>모바일로 쉽게 살수있어서 좋아요^^</td>\n",
       "      <td>5</td>\n",
       "      <td>모바일로 쉽게 살수있어서 좋아요</td>\n",
       "      <td>[모바일]</td>\n",
       "      <td>1</td>\n",
       "    </tr>\n",
       "    <tr>\n",
       "      <th>5469</th>\n",
       "      <td>2016-03-02</td>\n",
       "      <td>아이를 키우며 좋은 식자재에 대한 갈증이 있는데 이렇게  건강하고 신선한 먹거리를 ...</td>\n",
       "      <td>5</td>\n",
       "      <td>아이를 키우며 좋은 식자재에 대한 갈증이 있는데 이렇게  건강하고 신선한 먹거리를 ...</td>\n",
       "      <td>[식자재, 자재, 갈증, 건강, 먹거리, 컴퓨터, 부족, 엄마, 앱이네, 지금, 행...</td>\n",
       "      <td>1</td>\n",
       "    </tr>\n",
       "    <tr>\n",
       "      <th>5470</th>\n",
       "      <td>2016-03-02</td>\n",
       "      <td>아는동생소개로알게된마켓컬리 늦게안게아쉬울정도ㅋㅋ제품퀄리티완젼좋고,포장배송완벽함!내눈...</td>\n",
       "      <td>5</td>\n",
       "      <td>아는동생소개로알게된마켓컬리 늦게안게아쉬울정도ㅋㅋ제품퀄리티완젼좋고포장배송완벽함내눈으로...</td>\n",
       "      <td>[동생, 소개, 마켓, 정도, 제품, 포장, 완벽, 안보, 퀄리티, 포장배송, 안보...</td>\n",
       "      <td>1</td>\n",
       "    </tr>\n",
       "    <tr>\n",
       "      <th>5471</th>\n",
       "      <td>2016-03-02</td>\n",
       "      <td>샛별배송 정말 훌륭합니다. 컬리라면 무조건 믿고 주문~ ^^*</td>\n",
       "      <td>5</td>\n",
       "      <td>샛별배송 정말 훌륭합니다 컬리라면 무조건 믿고 주문</td>\n",
       "      <td>[샛별, 샛별배송, 배송, 주문]</td>\n",
       "      <td>1</td>\n",
       "    </tr>\n",
       "    <tr>\n",
       "      <th>5472</th>\n",
       "      <td>2016-03-01</td>\n",
       "      <td>더이상 밤늦게 슈퍼를 헤매고 다니지않아도됨</td>\n",
       "      <td>5</td>\n",
       "      <td>더이상 밤늦게 슈퍼를 헤매고 다니지않아도됨</td>\n",
       "      <td>[슈퍼]</td>\n",
       "      <td>1</td>\n",
       "    </tr>\n",
       "  </tbody>\n",
       "</table>\n",
       "<p>5473 rows × 6 columns</p>\n",
       "</div>"
      ],
      "text/plain": [
       "            date                                            comment  ratings  \\\n",
       "0     2021-03-10                                          긋긋긋 아주좋아여        5   \n",
       "1     2021-03-10                                정확한 시간에 배달되어 만족합니다.        4   \n",
       "2     2021-03-10                                          좋아요 만족합니다        4   \n",
       "3     2021-03-10                                      너무 좋습니다ㆍ다양한상품        5   \n",
       "4     2021-03-10  후기보기 너무 불편해요. 3월 1일 후기보고 뒤로가기 누르면 3월 10일로 리스트가...        2   \n",
       "...          ...                                                ...      ...   \n",
       "5468  2016-03-02                                모바일로 쉽게 살수있어서 좋아요^^        5   \n",
       "5469  2016-03-02  아이를 키우며 좋은 식자재에 대한 갈증이 있는데 이렇게  건강하고 신선한 먹거리를 ...        5   \n",
       "5470  2016-03-02  아는동생소개로알게된마켓컬리 늦게안게아쉬울정도ㅋㅋ제품퀄리티완젼좋고,포장배송완벽함!내눈...        5   \n",
       "5471  2016-03-02                 샛별배송 정말 훌륭합니다. 컬리라면 무조건 믿고 주문~ ^^*        5   \n",
       "5472  2016-03-01                            더이상 밤늦게 슈퍼를 헤매고 다니지않아도됨        5   \n",
       "\n",
       "                                                ko_text  \\\n",
       "0                                             긋긋긋 아주좋아여   \n",
       "1                                    정확한 시간에 배달되어 만족합니다   \n",
       "2                                             좋아요 만족합니다   \n",
       "3                                          너무 좋습니다다양한상품   \n",
       "4     후기보기 너무 불편해요 월 일 후기보고 뒤로가기 누르면 월 일로 리스트가 확 올라가...   \n",
       "...                                                 ...   \n",
       "5468                                  모바일로 쉽게 살수있어서 좋아요   \n",
       "5469  아이를 키우며 좋은 식자재에 대한 갈증이 있는데 이렇게  건강하고 신선한 먹거리를 ...   \n",
       "5470  아는동생소개로알게된마켓컬리 늦게안게아쉬울정도ㅋㅋ제품퀄리티완젼좋고포장배송완벽함내눈으로...   \n",
       "5471                      샛별배송 정말 훌륭합니다 컬리라면 무조건 믿고 주문    \n",
       "5472                            더이상 밤늦게 슈퍼를 헤매고 다니지않아도됨   \n",
       "\n",
       "                                                  nouns  y  \n",
       "0                                                 [긋긋긋]  1  \n",
       "1                                          [정확, 배달, 만족]  1  \n",
       "2                                                  [만족]  1  \n",
       "3                                              [다양, 상품]  1  \n",
       "4     [후기보기, 기보기, 불편, 후기, 후기보고, 보고, 가기, 일로, 리스트, 있어요...  0  \n",
       "...                                                 ... ..  \n",
       "5468                                              [모바일]  1  \n",
       "5469  [식자재, 자재, 갈증, 건강, 먹거리, 컴퓨터, 부족, 엄마, 앱이네, 지금, 행...  1  \n",
       "5470  [동생, 소개, 마켓, 정도, 제품, 포장, 완벽, 안보, 퀄리티, 포장배송, 안보...  1  \n",
       "5471                                 [샛별, 샛별배송, 배송, 주문]  1  \n",
       "5472                                               [슈퍼]  1  \n",
       "\n",
       "[5473 rows x 6 columns]"
      ]
     },
     "execution_count": 66,
     "metadata": {},
     "output_type": "execute_result"
    }
   ],
   "source": [
    "df"
   ]
  },
  {
   "cell_type": "code",
   "execution_count": 67,
   "metadata": {},
   "outputs": [
    {
     "data": {
      "text/html": [
       "<div>\n",
       "<style scoped>\n",
       "    .dataframe tbody tr th:only-of-type {\n",
       "        vertical-align: middle;\n",
       "    }\n",
       "\n",
       "    .dataframe tbody tr th {\n",
       "        vertical-align: top;\n",
       "    }\n",
       "\n",
       "    .dataframe thead th {\n",
       "        text-align: right;\n",
       "    }\n",
       "</style>\n",
       "<table border=\"1\" class=\"dataframe\">\n",
       "  <thead>\n",
       "    <tr style=\"text-align: right;\">\n",
       "      <th></th>\n",
       "      <th>긋긋긋</th>\n",
       "      <th>정확</th>\n",
       "      <th>배달</th>\n",
       "      <th>만족</th>\n",
       "      <th>다양</th>\n",
       "      <th>상품</th>\n",
       "      <th>후기보기</th>\n",
       "      <th>기보기</th>\n",
       "      <th>불편</th>\n",
       "      <th>후기</th>\n",
       "      <th>...</th>\n",
       "      <th>사용하다</th>\n",
       "      <th>수차례</th>\n",
       "      <th>처제</th>\n",
       "      <th>야식</th>\n",
       "      <th>스크롤등</th>\n",
       "      <th>구세주</th>\n",
       "      <th>갈증</th>\n",
       "      <th>안보고사</th>\n",
       "      <th>고사</th>\n",
       "      <th>족인</th>\n",
       "    </tr>\n",
       "  </thead>\n",
       "  <tbody>\n",
       "    <tr>\n",
       "      <th>0</th>\n",
       "      <td>1.0</td>\n",
       "      <td>0.0</td>\n",
       "      <td>0.0</td>\n",
       "      <td>0.0</td>\n",
       "      <td>0.0</td>\n",
       "      <td>0.0</td>\n",
       "      <td>0.0</td>\n",
       "      <td>0.0</td>\n",
       "      <td>0.0</td>\n",
       "      <td>0.0</td>\n",
       "      <td>...</td>\n",
       "      <td>0.0</td>\n",
       "      <td>0.0</td>\n",
       "      <td>0.0</td>\n",
       "      <td>0.0</td>\n",
       "      <td>0.0</td>\n",
       "      <td>0.0</td>\n",
       "      <td>0.0</td>\n",
       "      <td>0.0</td>\n",
       "      <td>0.0</td>\n",
       "      <td>0.0</td>\n",
       "    </tr>\n",
       "    <tr>\n",
       "      <th>1</th>\n",
       "      <td>0.0</td>\n",
       "      <td>1.0</td>\n",
       "      <td>1.0</td>\n",
       "      <td>1.0</td>\n",
       "      <td>0.0</td>\n",
       "      <td>0.0</td>\n",
       "      <td>0.0</td>\n",
       "      <td>0.0</td>\n",
       "      <td>0.0</td>\n",
       "      <td>0.0</td>\n",
       "      <td>...</td>\n",
       "      <td>0.0</td>\n",
       "      <td>0.0</td>\n",
       "      <td>0.0</td>\n",
       "      <td>0.0</td>\n",
       "      <td>0.0</td>\n",
       "      <td>0.0</td>\n",
       "      <td>0.0</td>\n",
       "      <td>0.0</td>\n",
       "      <td>0.0</td>\n",
       "      <td>0.0</td>\n",
       "    </tr>\n",
       "    <tr>\n",
       "      <th>2</th>\n",
       "      <td>0.0</td>\n",
       "      <td>0.0</td>\n",
       "      <td>0.0</td>\n",
       "      <td>1.0</td>\n",
       "      <td>0.0</td>\n",
       "      <td>0.0</td>\n",
       "      <td>0.0</td>\n",
       "      <td>0.0</td>\n",
       "      <td>0.0</td>\n",
       "      <td>0.0</td>\n",
       "      <td>...</td>\n",
       "      <td>0.0</td>\n",
       "      <td>0.0</td>\n",
       "      <td>0.0</td>\n",
       "      <td>0.0</td>\n",
       "      <td>0.0</td>\n",
       "      <td>0.0</td>\n",
       "      <td>0.0</td>\n",
       "      <td>0.0</td>\n",
       "      <td>0.0</td>\n",
       "      <td>0.0</td>\n",
       "    </tr>\n",
       "    <tr>\n",
       "      <th>3</th>\n",
       "      <td>0.0</td>\n",
       "      <td>0.0</td>\n",
       "      <td>0.0</td>\n",
       "      <td>0.0</td>\n",
       "      <td>1.0</td>\n",
       "      <td>1.0</td>\n",
       "      <td>0.0</td>\n",
       "      <td>0.0</td>\n",
       "      <td>0.0</td>\n",
       "      <td>0.0</td>\n",
       "      <td>...</td>\n",
       "      <td>0.0</td>\n",
       "      <td>0.0</td>\n",
       "      <td>0.0</td>\n",
       "      <td>0.0</td>\n",
       "      <td>0.0</td>\n",
       "      <td>0.0</td>\n",
       "      <td>0.0</td>\n",
       "      <td>0.0</td>\n",
       "      <td>0.0</td>\n",
       "      <td>0.0</td>\n",
       "    </tr>\n",
       "    <tr>\n",
       "      <th>4</th>\n",
       "      <td>0.0</td>\n",
       "      <td>0.0</td>\n",
       "      <td>0.0</td>\n",
       "      <td>0.0</td>\n",
       "      <td>0.0</td>\n",
       "      <td>0.0</td>\n",
       "      <td>1.0</td>\n",
       "      <td>1.0</td>\n",
       "      <td>1.0</td>\n",
       "      <td>1.0</td>\n",
       "      <td>...</td>\n",
       "      <td>0.0</td>\n",
       "      <td>0.0</td>\n",
       "      <td>0.0</td>\n",
       "      <td>0.0</td>\n",
       "      <td>0.0</td>\n",
       "      <td>0.0</td>\n",
       "      <td>0.0</td>\n",
       "      <td>0.0</td>\n",
       "      <td>0.0</td>\n",
       "      <td>0.0</td>\n",
       "    </tr>\n",
       "  </tbody>\n",
       "</table>\n",
       "<p>5 rows × 6116 columns</p>\n",
       "</div>"
      ],
      "text/plain": [
       "   긋긋긋   정확   배달   만족   다양   상품  후기보기  기보기   불편   후기  ...  사용하다  수차례   처제  \\\n",
       "0  1.0  0.0  0.0  0.0  0.0  0.0   0.0  0.0  0.0  0.0  ...   0.0  0.0  0.0   \n",
       "1  0.0  1.0  1.0  1.0  0.0  0.0   0.0  0.0  0.0  0.0  ...   0.0  0.0  0.0   \n",
       "2  0.0  0.0  0.0  1.0  0.0  0.0   0.0  0.0  0.0  0.0  ...   0.0  0.0  0.0   \n",
       "3  0.0  0.0  0.0  0.0  1.0  1.0   0.0  0.0  0.0  0.0  ...   0.0  0.0  0.0   \n",
       "4  0.0  0.0  0.0  0.0  0.0  0.0   1.0  1.0  1.0  1.0  ...   0.0  0.0  0.0   \n",
       "\n",
       "    야식  스크롤등  구세주   갈증  안보고사   고사   족인  \n",
       "0  0.0   0.0  0.0  0.0   0.0  0.0  0.0  \n",
       "1  0.0   0.0  0.0  0.0   0.0  0.0  0.0  \n",
       "2  0.0   0.0  0.0  0.0   0.0  0.0  0.0  \n",
       "3  0.0   0.0  0.0  0.0   0.0  0.0  0.0  \n",
       "4  0.0   0.0  0.0  0.0   0.0  0.0  0.0  \n",
       "\n",
       "[5 rows x 6116 columns]"
      ]
     },
     "execution_count": 67,
     "metadata": {},
     "output_type": "execute_result"
    }
   ],
   "source": [
    "all_words_df = pd.DataFrame()\n",
    "\n",
    "for n in range(len(df)):\n",
    "    words = df['nouns'][n]\n",
    "    words_df = pd.DataFrame()\n",
    "    for i in words:\n",
    "        words_df[i] = [1]\n",
    "        #satisfaction.append(df['ratings'].iloc[i])\n",
    "    all_words_df = pd.concat([all_words_df, words_df], ignore_index=True)\n",
    "all_words_df = all_words_df.fillna(0)\n",
    "all_words_df.head()    "
   ]
  },
  {
   "cell_type": "code",
   "execution_count": 68,
   "metadata": {},
   "outputs": [],
   "source": [
    "X = all_words_df\n",
    "y = df['y'] #\n",
    "#X = (X - X.min()) / (X.max() - X.min()) \n",
    "\n",
    "X_train, X_test, y_train, y_test = train_test_split(X, y, test_size=0.2)"
   ]
  },
  {
   "cell_type": "markdown",
   "metadata": {},
   "source": [
    "# 의사결정"
   ]
  },
  {
   "cell_type": "code",
   "execution_count": 70,
   "metadata": {},
   "outputs": [
    {
     "data": {
      "text/plain": [
       "DecisionTreeClassifier()"
      ]
     },
     "execution_count": 70,
     "metadata": {},
     "output_type": "execute_result"
    }
   ],
   "source": [
    "dt = DecisionTreeClassifier()\n",
    "dt.fit(X_train, y_train)"
   ]
  },
  {
   "cell_type": "code",
   "execution_count": 71,
   "metadata": {},
   "outputs": [
    {
     "name": "stdout",
     "output_type": "stream",
     "text": [
      "Decision Tree Classifier report: \n",
      "\n",
      "               precision    recall  f1-score   support\n",
      "\n",
      "           0       0.62      0.60      0.61       205\n",
      "           1       0.91      0.91      0.91       890\n",
      "\n",
      "    accuracy                           0.85      1095\n",
      "   macro avg       0.76      0.75      0.76      1095\n",
      "weighted avg       0.85      0.85      0.85      1095\n",
      "\n",
      "Test Accuracy: 85.48%\n"
     ]
    }
   ],
   "source": [
    "y_pred_dt = dt.predict(X_test)\n",
    "print(\"Decision Tree Classifier report: \\n\\n\", classification_report(y_test, y_pred_dt))\n",
    "print(\"Test Accuracy: {}%\".format(round(dt.score(X_test, y_test)*100, 2)))"
   ]
  },
  {
   "cell_type": "code",
   "execution_count": 72,
   "metadata": {},
   "outputs": [
    {
     "data": {
      "image/png": "[encoded data removed]",
      "text/plain": [
       "<Figure size 504x504 with 2 Axes>"
      ]
     },
     "metadata": {
      "needs_background": "light"
     },
     "output_type": "display_data"
    }
   ],
   "source": [
    "cm = confusion_matrix(y_test, y_pred_dt)\n",
    "x_axis_labels = [\"Edible\", \"Poisonous\"]\n",
    "y_axis_labels = [\"Edible\", \"Poisonous\"]\n",
    "f, ax = plt.subplots(figsize =(7,7))\n",
    "sns.heatmap(cm, annot = True, linewidths=0.2, linecolor=\"black\", fmt = \".0f\", ax=ax, cmap=\"Purples\", xticklabels=x_axis_labels, yticklabels=y_axis_labels)\n",
    "plt.xlabel(\"PREDICTED LABEL\")\n",
    "plt.ylabel(\"TRUE LABEL\")\n",
    "plt.title('Confusion Matrix for Decision Tree Classifier')\n",
    "#plt.savefig(\"dtcm.png\", format='png', dpi=500, bbox_inches='tight')\n",
    "plt.show()"
   ]
  },
  {
   "cell_type": "markdown",
   "metadata": {},
   "source": [
    "# 로지스틱회귀"
   ]
  },
  {
   "cell_type": "code",
   "execution_count": 73,
   "metadata": {},
   "outputs": [
    {
     "name": "stdout",
     "output_type": "stream",
     "text": [
      "Test Accuracy: 88.95%\n"
     ]
    }
   ],
   "source": [
    "from sklearn.linear_model import LogisticRegression\n",
    "lr = LogisticRegression(solver=\"lbfgs\", max_iter=500)\n",
    "lr.fit(X_train, y_train)\n",
    "print(\"Test Accuracy: {}%\".format(round(lr.score(X_test, y_test)*100,2)))\n",
    "\n",
    "\n"
   ]
  },
  {
   "cell_type": "code",
   "execution_count": 74,
   "metadata": {},
   "outputs": [
    {
     "name": "stdout",
     "output_type": "stream",
     "text": [
      "Logistic Regression Classifier report: \n",
      "\n",
      "               precision    recall  f1-score   support\n",
      "\n",
      "           0       0.83      0.52      0.64       205\n",
      "           1       0.90      0.98      0.93       890\n",
      "\n",
      "    accuracy                           0.89      1095\n",
      "   macro avg       0.86      0.75      0.79      1095\n",
      "weighted avg       0.88      0.89      0.88      1095\n",
      "\n"
     ]
    }
   ],
   "source": [
    "y_pred_lr = lr.predict(X_test)\n",
    "print(\"Logistic Regression Classifier report: \\n\\n\", classification_report(y_test, y_pred_lr))"
   ]
  },
  {
   "cell_type": "code",
   "execution_count": 75,
   "metadata": {
    "scrolled": true
   },
   "outputs": [
    {
     "data": {
      "image/png": "[encoded data removed]",
      "text/plain": [
       "<Figure size 504x504 with 2 Axes>"
      ]
     },
     "metadata": {
      "needs_background": "light"
     },
     "output_type": "display_data"
    }
   ],
   "source": [
    "cm = confusion_matrix(y_test, y_pred_lr)\n",
    "x_axis_labels = [\"Edible\", \"Poisonous\"]\n",
    "y_axis_labels = [\"Edible\", \"Poisonous\"]\n",
    "f, ax = plt.subplots(figsize =(7,7))\n",
    "sns.heatmap(cm, annot = True, linewidths=0.2, linecolor=\"black\", fmt = \".0f\", ax=ax, cmap=\"Purples\", xticklabels=x_axis_labels, yticklabels=y_axis_labels)\n",
    "plt.xlabel(\"PREDICTED LABEL\")\n",
    "plt.ylabel(\"TRUE LABEL\")\n",
    "plt.title('Confusion Matrix for Logistic Regression Classifier')\n",
    "#plt.savefig(\"lrcm.png\", format='png', dpi=500, bbox_inches='tight')\n",
    "plt.show()"
   ]
  },
  {
   "cell_type": "code",
   "execution_count": 88,
   "metadata": {
    "scrolled": true
   },
   "outputs": [
    {
     "name": "stdout",
     "output_type": "stream",
     "text": [
      "[(2.1324309687246594, 3), (2.083313398472812, 63), (1.7075105045264207, 33), (1.556881133658669, 73), (1.4361608424839856, 70)]\n",
      "[(-2.0090281774944807, 198), (-2.0098497171779686, 323), (-2.1244423715797343, 1205), (-2.2017195095654314, 836), (-2.4537035390312694, 22)]\n"
     ]
    }
   ],
   "source": [
    "print(sorted(((value, index) for index, value in enumerate(lr.coef_[0])), reverse=True)[:5])\n",
    "print(sorted(((value, index) for index, value in enumerate(lr.coef_[0])), reverse=True)[-5:])\n",
    "coef_pos_index = sorted(((value, index ) for index, value in enumerate(lr.coef_[0])), reverse=True)\n",
    "coef_neg_index = sorted(((value,index) for index, value in enumerate(lr.coef_[0])), reverse= False)"
   ]
  },
  {
   "cell_type": "code",
   "execution_count": 90,
   "metadata": {},
   "outputs": [
    {
     "ename": "NameError",
     "evalue": "name 'vect' is not defined",
     "output_type": "error",
     "traceback": [
      "\u001b[1;31m---------------------------------------------------------------------------\u001b[0m",
      "\u001b[1;31mNameError\u001b[0m                                 Traceback (most recent call last)",
      "\u001b[1;32m<ipython-input-90-de166223ca8c>\u001b[0m in \u001b[0;36m<module>\u001b[1;34m\u001b[0m\n\u001b[1;32m----> 1\u001b[1;33m \u001b[0minvert_index_vectorizer\u001b[0m \u001b[1;33m=\u001b[0m \u001b[1;33m{\u001b[0m\u001b[0mv\u001b[0m\u001b[1;33m:\u001b[0m\u001b[0mk\u001b[0m \u001b[1;32mfor\u001b[0m \u001b[0mk\u001b[0m\u001b[1;33m,\u001b[0m\u001b[0mv\u001b[0m \u001b[1;32min\u001b[0m \u001b[0mvect\u001b[0m\u001b[1;33m.\u001b[0m\u001b[0mvocabulary_\u001b[0m\u001b[1;33m.\u001b[0m\u001b[0mitems\u001b[0m\u001b[1;33m(\u001b[0m\u001b[1;33m)\u001b[0m\u001b[1;33m}\u001b[0m\u001b[1;33m\u001b[0m\u001b[1;33m\u001b[0m\u001b[0m\n\u001b[0m\u001b[0;32m      2\u001b[0m \u001b[0mprint\u001b[0m\u001b[1;33m(\u001b[0m\u001b[0mstr\u001b[0m\u001b[1;33m(\u001b[0m\u001b[0minvert_index_vectorizer\u001b[0m\u001b[1;33m)\u001b[0m\u001b[1;33m[\u001b[0m\u001b[1;33m:\u001b[0m\u001b[1;36m100\u001b[0m\u001b[1;33m]\u001b[0m\u001b[1;33m)\u001b[0m\u001b[1;33m\u001b[0m\u001b[1;33m\u001b[0m\u001b[0m\n",
      "\u001b[1;31mNameError\u001b[0m: name 'vect' is not defined"
     ]
    }
   ],
   "source": [
    "invert_index_vectorizer = {v:k for k,v in vect.vocabulary_.items()}\n",
    "print(str(invert_index_vectorizer)[:100])"
   ]
  },
  {
   "cell_type": "code",
   "execution_count": 89,
   "metadata": {
    "scrolled": true
   },
   "outputs": [
    {
     "ename": "NameError",
     "evalue": "name 'invert_index_vectorizer' is not defined",
     "output_type": "error",
     "traceback": [
      "\u001b[1;31m---------------------------------------------------------------------------\u001b[0m",
      "\u001b[1;31mNameError\u001b[0m                                 Traceback (most recent call last)",
      "\u001b[1;32m<ipython-input-89-b70b3ad45afd>\u001b[0m in \u001b[0;36m<module>\u001b[1;34m\u001b[0m\n\u001b[0;32m      1\u001b[0m \u001b[1;32mfor\u001b[0m \u001b[0mcoef\u001b[0m \u001b[1;32min\u001b[0m \u001b[0mcoef_pos_index\u001b[0m\u001b[1;33m[\u001b[0m\u001b[1;33m:\u001b[0m\u001b[1;36m15\u001b[0m\u001b[1;33m]\u001b[0m\u001b[1;33m:\u001b[0m\u001b[1;33m\u001b[0m\u001b[1;33m\u001b[0m\u001b[0m\n\u001b[1;32m----> 2\u001b[1;33m   \u001b[0mprint\u001b[0m\u001b[1;33m(\u001b[0m\u001b[0minvert_index_vectorizer\u001b[0m\u001b[1;33m[\u001b[0m\u001b[0mcoef\u001b[0m\u001b[1;33m[\u001b[0m\u001b[1;36m1\u001b[0m\u001b[1;33m]\u001b[0m\u001b[1;33m]\u001b[0m\u001b[1;33m,\u001b[0m \u001b[0mcoef\u001b[0m\u001b[1;33m[\u001b[0m\u001b[1;36m0\u001b[0m\u001b[1;33m]\u001b[0m\u001b[1;33m)\u001b[0m\u001b[1;33m\u001b[0m\u001b[1;33m\u001b[0m\u001b[0m\n\u001b[0m",
      "\u001b[1;31mNameError\u001b[0m: name 'invert_index_vectorizer' is not defined"
     ]
    }
   ],
   "source": [
    "for coef in coef_pos_index[:15]:\n",
    "  print(invert_index_vectorizer[coef[1]], coef[0])"
   ]
  },
  {
   "cell_type": "code",
   "execution_count": null,
   "metadata": {},
   "outputs": [],
   "source": [
    "for coef in coef_neg_index[:15]:\n",
    "  print(invert_index_vectorizer[coef[1]], coef[0])"
   ]
  },
  {
   "cell_type": "markdown",
   "metadata": {},
   "source": [
    "# KNN"
   ]
  },
  {
   "cell_type": "code",
   "execution_count": 76,
   "metadata": {},
   "outputs": [
    {
     "name": "stdout",
     "output_type": "stream",
     "text": [
      "Best KNN Value: 1\n",
      "Test Accuracy: 98.77%\n"
     ]
    }
   ],
   "source": [
    "from sklearn.neighbors import KNeighborsClassifier\n",
    "best_Kvalue = 0\n",
    "best_score = 0\n",
    "for i in range(1,10):\n",
    "    knn = KNeighborsClassifier(n_neighbors=i)\n",
    "    knn.fit(X_train, y_train)\n",
    "    if knn.score(X_test, y_test) > best_score:\n",
    "        best_score = knn.score(X_train, y_train)\n",
    "        best_Kvalue = i\n",
    "        \n",
    "print(\"Best KNN Value: {}\".format(best_Kvalue))\n",
    "print(\"Test Accuracy: {}%\".format(round(best_score*100,2)))"
   ]
  },
  {
   "cell_type": "code",
   "execution_count": 77,
   "metadata": {},
   "outputs": [
    {
     "name": "stdout",
     "output_type": "stream",
     "text": [
      "KNN Classifier report: \n",
      "\n",
      "               precision    recall  f1-score   support\n",
      "\n",
      "           0       0.76      0.09      0.17       205\n",
      "           1       0.83      0.99      0.90       890\n",
      "\n",
      "    accuracy                           0.82      1095\n",
      "   macro avg       0.79      0.54      0.53      1095\n",
      "weighted avg       0.81      0.82      0.76      1095\n",
      "\n"
     ]
    }
   ],
   "source": [
    "y_pred_knn = knn.predict(X_test)\n",
    "print(\"KNN Classifier report: \\n\\n\", classification_report(y_test, y_pred_knn))\n"
   ]
  },
  {
   "cell_type": "code",
   "execution_count": 78,
   "metadata": {},
   "outputs": [
    {
     "data": {
      "image/png": "[encoded data removed]",
      "text/plain": [
       "<Figure size 504x504 with 2 Axes>"
      ]
     },
     "metadata": {
      "needs_background": "light"
     },
     "output_type": "display_data"
    }
   ],
   "source": [
    "cm = confusion_matrix(y_test, y_pred_knn)\n",
    "x_axis_labels = [\"Edible\", \"Poisonous\"]\n",
    "y_axis_labels = [\"Edible\", \"Poisonous\"]\n",
    "f, ax = plt.subplots(figsize =(7,7))\n",
    "sns.heatmap(cm, annot = True, linewidths=0.2, linecolor=\"black\", fmt = \".0f\", ax=ax, cmap=\"Purples\", xticklabels=x_axis_labels, yticklabels=y_axis_labels)\n",
    "plt.xlabel(\"PREDICTED LABEL\")\n",
    "plt.ylabel(\"TRUE LABEL\")\n",
    "plt.title('Confusion Matrix for KNN Classifier')\n",
    "#plt.savefig(\"knncm.png\", format='png', dpi=500, bbox_inches='tight')\n",
    "plt.show()"
   ]
  },
  {
   "cell_type": "markdown",
   "metadata": {},
   "source": [
    "# SVM"
   ]
  },
  {
   "cell_type": "code",
   "execution_count": 79,
   "metadata": {},
   "outputs": [
    {
     "name": "stdout",
     "output_type": "stream",
     "text": [
      "Test Accuracy: 81.28%\n"
     ]
    }
   ],
   "source": [
    "from sklearn.svm import SVC\n",
    "svm = SVC(random_state=42, gamma=\"auto\")\n",
    "svm.fit(X_train, y_train)\n",
    "print(\"Test Accuracy: {}%\".format(round(svm.score(X_test, y_test)*100, 2)))\n"
   ]
  },
  {
   "cell_type": "code",
   "execution_count": 80,
   "metadata": {},
   "outputs": [
    {
     "name": "stdout",
     "output_type": "stream",
     "text": [
      "SVM Classifier report: \n",
      "\n",
      "               precision    recall  f1-score   support\n",
      "\n",
      "           0       0.00      0.00      0.00       205\n",
      "           1       0.81      1.00      0.90       890\n",
      "\n",
      "    accuracy                           0.81      1095\n",
      "   macro avg       0.41      0.50      0.45      1095\n",
      "weighted avg       0.66      0.81      0.73      1095\n",
      "\n"
     ]
    },
    {
     "name": "stderr",
     "output_type": "stream",
     "text": [
      "D:\\programfiles\\anaconda3\\envs\\pythonopencv\\lib\\site-packages\\sklearn\\metrics\\_classification.py:1221: UndefinedMetricWarning: Precision and F-score are ill-defined and being set to 0.0 in labels with no predicted samples. Use `zero_division` parameter to control this behavior.\n",
      "  _warn_prf(average, modifier, msg_start, len(result))\n"
     ]
    }
   ],
   "source": [
    "y_pred_svm = svm.predict(X_test)\n",
    "print(\"SVM Classifier report: \\n\\n\", classification_report(y_test, y_pred_svm))"
   ]
  },
  {
   "cell_type": "code",
   "execution_count": 81,
   "metadata": {},
   "outputs": [
    {
     "data": {
      "image/png": "[encoded data removed]",
      "text/plain": [
       "<Figure size 504x504 with 2 Axes>"
      ]
     },
     "metadata": {
      "needs_background": "light"
     },
     "output_type": "display_data"
    }
   ],
   "source": [
    "cm = confusion_matrix(y_test, y_pred_svm)\n",
    "x_axis_labels = [\"Edible\", \"Poisonous\"]\n",
    "y_axis_labels = [\"Edible\", \"Poisonous\"]\n",
    "f, ax = plt.subplots(figsize =(7,7))\n",
    "sns.heatmap(cm, annot = True, linewidths=0.2, linecolor=\"black\", fmt = \".0f\", ax=ax, cmap=\"Purples\", xticklabels=x_axis_labels, yticklabels=y_axis_labels)\n",
    "plt.xlabel(\"PREDICTED LABEL\")\n",
    "plt.ylabel(\"TRUE LABEL\")\n",
    "plt.title('Confusion Matrix for SVM Classifier')\n",
    "#plt.savefig(\"svmcm.png\", format='png', dpi=500, bbox_inches='tight')\n",
    "plt.show()"
   ]
  },
  {
   "cell_type": "markdown",
   "metadata": {},
   "source": [
    "# 가우시안\n"
   ]
  },
  {
   "cell_type": "code",
   "execution_count": 82,
   "metadata": {},
   "outputs": [
    {
     "name": "stdout",
     "output_type": "stream",
     "text": [
      "Test Accuracy: 38.26%\n"
     ]
    }
   ],
   "source": [
    "from sklearn.naive_bayes import GaussianNB\n",
    "nb = GaussianNB()\n",
    "nb.fit(X_train, y_train)\n",
    "print(\"Test Accuracy: {}%\".format(round(nb.score(X_test, y_test)*100, 2)))\n"
   ]
  },
  {
   "cell_type": "code",
   "execution_count": 83,
   "metadata": {},
   "outputs": [
    {
     "name": "stdout",
     "output_type": "stream",
     "text": [
      "Naive Bayes Classifier report: \n",
      "\n",
      "               precision    recall  f1-score   support\n",
      "\n",
      "           0       0.21      0.82      0.33       205\n",
      "           1       0.87      0.28      0.43       890\n",
      "\n",
      "    accuracy                           0.38      1095\n",
      "   macro avg       0.54      0.55      0.38      1095\n",
      "weighted avg       0.75      0.38      0.41      1095\n",
      "\n"
     ]
    }
   ],
   "source": [
    "y_pred_nb = nb.predict(X_test)\n",
    "print(\"Naive Bayes Classifier report: \\n\\n\", classification_report(y_test, y_pred_nb))"
   ]
  },
  {
   "cell_type": "code",
   "execution_count": 84,
   "metadata": {},
   "outputs": [
    {
     "data": {
      "image/png": "[encoded data removed]",
      "text/plain": [
       "<Figure size 504x504 with 2 Axes>"
      ]
     },
     "metadata": {
      "needs_background": "light"
     },
     "output_type": "display_data"
    }
   ],
   "source": [
    "cm = confusion_matrix(y_test, y_pred_nb)\n",
    "x_axis_labels = [\"Edible\", \"Poisonous\"]\n",
    "y_axis_labels = [\"Edible\", \"Poisonous\"]\n",
    "f, ax = plt.subplots(figsize =(7,7))\n",
    "sns.heatmap(cm, annot = True, linewidths=0.2, linecolor=\"black\", fmt = \".0f\", ax=ax, cmap=\"Purples\", xticklabels=x_axis_labels, yticklabels=y_axis_labels)\n",
    "plt.xlabel(\"PREDICTED LABEL\")\n",
    "plt.ylabel(\"TRUE LABEL\")\n",
    "plt.title('Confusion Matrix for Naive Bayes Classifier')\n",
    "#plt.savefig(\"nbcm.png\", format='png', dpi=500, bbox_inches='tight')\n",
    "plt.show()"
   ]
  },
  {
   "cell_type": "markdown",
   "metadata": {},
   "source": [
    "# 랜덤포레스트"
   ]
  },
  {
   "cell_type": "code",
   "execution_count": 85,
   "metadata": {},
   "outputs": [
    {
     "name": "stdout",
     "output_type": "stream",
     "text": [
      "Test Accuracy: 89.22%\n"
     ]
    }
   ],
   "source": [
    "from sklearn.ensemble import RandomForestClassifier\n",
    "rf = RandomForestClassifier(n_estimators=100, random_state=42)\n",
    "rf.fit(X_train, y_train)\n",
    "print(\"Test Accuracy: {}%\".format(round(rf.score(X_test, y_test)*100, 2)))"
   ]
  },
  {
   "cell_type": "code",
   "execution_count": 86,
   "metadata": {},
   "outputs": [
    {
     "name": "stdout",
     "output_type": "stream",
     "text": [
      "Random Forest Classifier report: \n",
      "\n",
      "               precision    recall  f1-score   support\n",
      "\n",
      "           0       0.78      0.59      0.67       205\n",
      "           1       0.91      0.96      0.94       890\n",
      "\n",
      "    accuracy                           0.89      1095\n",
      "   macro avg       0.85      0.77      0.80      1095\n",
      "weighted avg       0.89      0.89      0.89      1095\n",
      "\n"
     ]
    }
   ],
   "source": [
    "y_pred_rf = rf.predict(X_test)\n",
    "print(\"Random Forest Classifier report: \\n\\n\", classification_report(y_test, y_pred_rf))"
   ]
  },
  {
   "cell_type": "code",
   "execution_count": 87,
   "metadata": {
    "scrolled": false
   },
   "outputs": [
    {
     "data": {
      "image/png": "[encoded data removed]",
      "text/plain": [
       "<Figure size 504x504 with 2 Axes>"
      ]
     },
     "metadata": {
      "needs_background": "light"
     },
     "output_type": "display_data"
    }
   ],
   "source": [
    "cm = confusion_matrix(y_test, y_pred_rf)\n",
    "x_axis_labels = [\"Edible\", \"Poisonous\"]\n",
    "y_axis_labels = [\"Edible\", \"Poisonous\"]\n",
    "f, ax = plt.subplots(figsize =(7,7))\n",
    "sns.heatmap(cm, annot = True, linewidths=0.2, linecolor=\"black\", fmt = \".0f\", ax=ax, cmap=\"Purples\", xticklabels=x_axis_labels, yticklabels=y_axis_labels)\n",
    "plt.xlabel(\"PREDICTED LABEL\")\n",
    "plt.ylabel(\"TRUE LABEL\")\n",
    "plt.title('Confusion Matrix for Random Forest Classifier');\n",
    "#plt.savefig(\"rfcm.png\", format='png', dpi=500, bbox_inches='tight')\n",
    "plt.show()"
   ]
  },
  {
   "cell_type": "code",
   "execution_count": 96,
   "metadata": {},
   "outputs": [],
   "source": [
    "coef_pos_index = sorted(((value, index ) for index, value in enumerate(lr.coef_[0])), reverse=True)\n",
    "coef_neg_index = sorted(((value,index) for index, value in enumerate(lr.coef_[0])), reverse= False)"
   ]
  },
  {
   "cell_type": "code",
   "execution_count": 94,
   "metadata": {
    "scrolled": false
   },
   "outputs": [
    {
     "name": "stdout",
     "output_type": "stream",
     "text": [
      "1.024630791703909e-06\n",
      "0.00019381183694913083\n",
      "0.0007684914613796161\n",
      "0.005387485796345404\n",
      "0.002769862038358762\n",
      "0.005681996543817683\n",
      "0.0005987709485337879\n",
      "0.0009383081743586533\n",
      "0.006299881220892206\n",
      "0.0012622615118036851\n",
      "0.000572623389596559\n",
      "0.001313177642200385\n",
      "0.0003843109895780094\n",
      "7.139070465671733e-05\n",
      "0.000623823724766491\n"
     ]
    }
   ],
   "source": [
    "for coef in rf.feature_importances_[:15]:\n",
    "    print(coef)"
   ]
  },
  {
   "cell_type": "code",
   "execution_count": 124,
   "metadata": {},
   "outputs": [
    {
     "name": "stdout",
     "output_type": "stream",
     "text": [
      "[(2.1324309687246594, 3), (2.083313398472812, 63), (1.7075105045264207, 33), (1.556881133658669, 73), (1.4361608424839856, 70)]\n",
      "[(-2.0090281774944807, 198), (-2.0098497171779686, 323), (-2.1244423715797343, 1205), (-2.2017195095654314, 836), (-2.4537035390312694, 22)]\n"
     ]
    }
   ],
   "source": [
    "print(sorted(((value, index) for index, value in enumerate(lr.coef_[0])), reverse=True)[:5])\n",
    "print(sorted(((value, index) for index, value in enumerate(lr.coef_[0])), reverse=True)[-5:])\n"
   ]
  },
  {
   "cell_type": "code",
   "execution_count": 121,
   "metadata": {
    "scrolled": true
   },
   "outputs": [
    {
     "name": "stdout",
     "output_type": "stream",
     "text": [
      "{758: '긋긋긋', 4545: '정확', 2950: '시간', 1891: '배달', 1524: '만족', 1045: '다양', 2513: '상품', 6128: '후기보기', 7\n"
     ]
    }
   ],
   "source": [
    "invert_index_vectorizer = {v:k for k,v in vect.vocabulary_.items()}\n",
    "print(str(invert_index_vectorizer)[:100])"
   ]
  },
  {
   "cell_type": "code",
   "execution_count": 125,
   "metadata": {
    "scrolled": false
   },
   "outputs": [
    {
     "name": "stdout",
     "output_type": "stream",
     "text": [
      "ㄱㅣ회\n",
      "ㅠ구매주문\n",
      "ㅋㅍ은\n",
      "ㅣ당로또번호\n",
      "ㅣㅂ\n",
      "감동생산자\n",
      "개발\n",
      "ㅇㅈㅇㅈ\n",
      "기하\n",
      "개꿀\n",
      "과대포\n",
      "개념\n",
      "고객대응\n",
      "개편해\n",
      "가격옆\n",
      "개미\n",
      "ㅊㅓ\n",
      "게시\n",
      "구입조건\n",
      "노동자\n",
      "날짜제한\n",
      "가기\n",
      "구매의사\n",
      "ㅋㄷㅌㅇ\n",
      "다이어터\n",
      "구징도로\n",
      "과한포장\n",
      "개최악\n",
      "대구지역\n",
      "것만ㅋ빼고\n",
      "롯데\n",
      "다비\n",
      "대략\n",
      "되니\n",
      "네트\n",
      "그로\n",
      "가야\n",
      "가관\n",
      "간편결재\n",
      "ㅡㅂ족\n",
      "콘텐츠\n",
      "개로\n",
      "ㅊ츄\n",
      "ㅁㅊ\n",
      "ㅋㅍ을년\n",
      "그때\n",
      "가입자체\n",
      "하궁\n",
      "양념민물장어\n",
      "ㅊㅜ천인\n",
      "경기권\n",
      "항생제\n",
      "만들기\n",
      "과정\n",
      "디피\n",
      "다가\n",
      "가입미끼\n",
      "었습ㄴ\n",
      "경쟁업체\n",
      "대문의를해\n",
      "곤란\n",
      "리어\n",
      "대문의\n",
      "내부순환\n",
      "리예\n",
      "미지\n",
      "마크\n",
      "ㄱㅊ\n",
      "결제페이지\n",
      "추가상품구매\n",
      "추가기능\n",
      "추가\n",
      "냉동식품\n",
      "고향집\n",
      "광고비최고배우\n",
      "보내요\n",
      "기능위시리스트\n",
      "노릇\n",
      "사용불가\n",
      "과채류\n",
      "건강식품\n",
      "졸음운전\n",
      "졸음\n",
      "존트\n",
      "새벽시간\n",
      "앱디자인\n",
      "튕궈버리\n",
      "투자\n",
      "ㅔ크\n",
      "재발송\n",
      "건강\n",
      "영진\n",
      "마워용\n",
      "감동예\n",
      "근디앱\n",
      "마지막\n",
      "넘편리\n",
      "쇼핑앱\n",
      "다음날새벽\n",
      "냉동상품\n"
     ]
    }
   ],
   "source": [
    "for coef in coef_pos_index[:100]:\n",
    "  print(invert_index_vectorizer[coef[1]])"
   ]
  },
  {
   "cell_type": "code",
   "execution_count": 127,
   "metadata": {},
   "outputs": [
    {
     "name": "stdout",
     "output_type": "stream",
     "text": [
      "ㅉㅉ\n",
      "깔끙\n",
      "도안\n",
      "건의안\n",
      "감성팔\n",
      "각자\n",
      "광고효과\n",
      "계라\n",
      "가족건강\n",
      "너희\n",
      "안삼\n",
      "감안\n",
      "개발자지\n",
      "겨울\n",
      "간편식도\n",
      "기분\n",
      "대로\n",
      "강점\n",
      "개발자분\n",
      "강추\n",
      "가상\n",
      "강츄\n",
      "마하\n",
      "기본\n",
      "개발자님\n",
      "걱정\n",
      "가격변동\n",
      "광주\n",
      "개비\n",
      "메인메뉴\n",
      "드로이드\n",
      "ㅓ지네\n",
      "개수\n",
      "구동\n",
      "대처\n",
      "굿굿\n",
      "관련항목\n",
      "짜증\n",
      "동절기\n",
      "감이\n",
      "마감시간\n",
      "도난\n",
      "꼼수\n",
      "감시\n",
      "등등\n",
      "감수\n",
      "땀냄새\n",
      "리등\n",
      "국내\n",
      "내상태\n",
      "공정거래위원회\n",
      "구매순\n",
      "굿굿굿\n",
      "냉팩충이\n",
      "넘좋드라고\n",
      "ㅏ앱\n",
      "조사\n",
      "ㅓㅇ\n",
      "경쟁\n",
      "랭킹판매순\n",
      "경조정\n",
      "가상계좌번호\n",
      "경이\n",
      "동의\n",
      "검색기능\n",
      "법인\n",
      "공산품\n",
      "ㅠ마켓컬리어플생겨\n",
      "ㅠ서버\n",
      "내일\n",
      "영해\n",
      "좋드라고\n",
      "플있음\n",
      "멘트\n",
      "계란포장도\n",
      "기사\n",
      "배달직원\n",
      "맛잇\n",
      "너겟\n",
      "가성\n",
      "그놈\n",
      "도착시간\n",
      "하질\n",
      "간소화\n",
      "이제\n",
      "배송가능\n",
      "안받음\n",
      "계절\n",
      "음료\n",
      "조음\n",
      "서버\n",
      "걍좋움\n",
      "주의문구\n",
      "겉비닐\n",
      "아이스포장\n",
      "결제회사\n",
      "나사\n",
      "있습\n",
      "부유층\n",
      "각제품\n"
     ]
    }
   ],
   "source": [
    "for coef in coef_neg_index[:100]:\n",
    "  print(invert_index_vectorizer[coef[1]])"
   ]
  }
 ],
 "metadata": {
  "kernelspec": {
   "display_name": "Python 3",
   "language": "python",
   "name": "python3"
  },
  "language_info": {
   "codemirror_mode": {
    "name": "ipython",
    "version": 3
   },
   "file_extension": ".py",
   "mimetype": "text/x-python",
   "name": "python",
   "nbconvert_exporter": "python",
   "pygments_lexer": "ipython3",
   "version": "3.6.10"
  }
 },
 "nbformat": 4,
 "nbformat_minor": 4
}
