{
 "cells": [
  {
   "cell_type": "code",
   "execution_count": 1,
   "metadata": {},
   "outputs": [
    {
     "name": "stderr",
     "output_type": "stream",
     "text": [
      "D:\\programfiles\\anaconda3\\envs\\pythonopencv\\lib\\site-packages\\konlpy\\tag\\_okt.py:16: UserWarning: \"Twitter\" has changed to \"Okt\" since KoNLPy v0.4.5.\n",
      "  warn('\"Twitter\" has changed to \"Okt\" since KoNLPy v0.4.5.')\n"
     ]
    }
   ],
   "source": [
    "from datetime import datetime\n",
    "import pandas as pd\n",
    "import matplotlib.pyplot as plt\n",
    "%matplotlib inline\n",
    "from konlpy.tag import Twitter\n",
    "twt = Twitter()\n",
    "from hanspell import spell_checker\n",
    "import re\n",
    "from konlpy.tag import Okt\n",
    "from collections import Counter\n",
    "from sklearn.feature_extraction.text import CountVectorizer\n",
    "from konlpy.tag import Kkma\n",
    "from sklearn.linear_model import Lasso\n",
    "from sklearn.feature_extraction.text import TfidfTransformer\n",
    "from sklearn.model_selection import train_test_split\n",
    "from sklearn.linear_model import LogisticRegression\n",
    "from sklearn.metrics import accuracy_score, precision_score, recall_score, f1_score\n",
    "from sklearn.metrics import confusion_matrix\n",
    "import numpy as np\n",
    "import seaborn as sns\n",
    "import tensorflow as tf\n",
    "import os\n",
    "from tqdm.notebook import tqdm\n",
    "#import graphviz\n",
    "from sklearn.preprocessing import LabelEncoder\n",
    "from sklearn.tree import DecisionTreeClassifier\n",
    "from sklearn.metrics import classification_report, confusion_matrix, precision_recall_curve, auc, roc_curve\n",
    "#from sklearn.tree import DecisionTreeClassifier, export_graphviz\n",
    "from sklearn.metrics import mean_absolute_error, mean_squared_error\n",
    "from sklearn.model_selection import cross_val_score"
   ]
  },
  {
   "cell_type": "code",
   "execution_count": 3,
   "metadata": {
    "scrolled": true
   },
   "outputs": [
    {
     "data": {
      "text/html": [
       "<div>\n",
       "<style scoped>\n",
       "    .dataframe tbody tr th:only-of-type {\n",
       "        vertical-align: middle;\n",
       "    }\n",
       "\n",
       "    .dataframe tbody tr th {\n",
       "        vertical-align: top;\n",
       "    }\n",
       "\n",
       "    .dataframe thead th {\n",
       "        text-align: right;\n",
       "    }\n",
       "</style>\n",
       "<table border=\"1\" class=\"dataframe\">\n",
       "  <thead>\n",
       "    <tr style=\"text-align: right;\">\n",
       "      <th></th>\n",
       "      <th>name</th>\n",
       "      <th>ratings</th>\n",
       "      <th>date</th>\n",
       "      <th>helpful</th>\n",
       "      <th>comment</th>\n",
       "      <th>developer_comment</th>\n",
       "    </tr>\n",
       "  </thead>\n",
       "  <tbody>\n",
       "    <tr>\n",
       "      <th>0</th>\n",
       "      <td>H J</td>\n",
       "      <td>5</td>\n",
       "      <td>2021-03-10</td>\n",
       "      <td>0</td>\n",
       "      <td>긋긋긋 아주좋아여</td>\n",
       "      <td>NaN</td>\n",
       "    </tr>\n",
       "    <tr>\n",
       "      <th>1</th>\n",
       "      <td>Gwang-Won Woo</td>\n",
       "      <td>5</td>\n",
       "      <td>2021-03-10</td>\n",
       "      <td>0</td>\n",
       "      <td>좋네요</td>\n",
       "      <td>NaN</td>\n",
       "    </tr>\n",
       "    <tr>\n",
       "      <th>2</th>\n",
       "      <td>Olivia Kim</td>\n",
       "      <td>4</td>\n",
       "      <td>2021-03-10</td>\n",
       "      <td>0</td>\n",
       "      <td>정확한 시간에 배달되어 만족합니다.</td>\n",
       "      <td>NaN</td>\n",
       "    </tr>\n",
       "    <tr>\n",
       "      <th>3</th>\n",
       "      <td>hey jin kang</td>\n",
       "      <td>5</td>\n",
       "      <td>2021-03-10</td>\n",
       "      <td>0</td>\n",
       "      <td>좋아요</td>\n",
       "      <td>NaN</td>\n",
       "    </tr>\n",
       "    <tr>\n",
       "      <th>4</th>\n",
       "      <td>이쑤신장군</td>\n",
       "      <td>5</td>\n",
       "      <td>2021-03-10</td>\n",
       "      <td>0</td>\n",
       "      <td>좋아영</td>\n",
       "      <td>NaN</td>\n",
       "    </tr>\n",
       "  </tbody>\n",
       "</table>\n",
       "</div>"
      ],
      "text/plain": [
       "            name  ratings        date  helpful              comment  \\\n",
       "0            H J        5  2021-03-10        0            긋긋긋 아주좋아여   \n",
       "1  Gwang-Won Woo        5  2021-03-10        0                  좋네요   \n",
       "2     Olivia Kim        4  2021-03-10        0  정확한 시간에 배달되어 만족합니다.   \n",
       "3   hey jin kang        5  2021-03-10        0                  좋아요   \n",
       "4          이쑤신장군        5  2021-03-10        0                  좋아영   \n",
       "\n",
       "  developer_comment  \n",
       "0               NaN  \n",
       "1               NaN  \n",
       "2               NaN  \n",
       "3               NaN  \n",
       "4               NaN  "
      ]
     },
     "execution_count": 3,
     "metadata": {},
     "output_type": "execute_result"
    }
   ],
   "source": [
    "df = pd.read_csv('./result/2021-03-10_20-10-56 마켓컬리.csv')\n",
    "df.head()"
   ]
  },
  {
   "cell_type": "code",
   "execution_count": 4,
   "metadata": {
    "scrolled": false
   },
   "outputs": [
    {
     "data": {
      "text/html": [
       "<div>\n",
       "<style scoped>\n",
       "    .dataframe tbody tr th:only-of-type {\n",
       "        vertical-align: middle;\n",
       "    }\n",
       "\n",
       "    .dataframe tbody tr th {\n",
       "        vertical-align: top;\n",
       "    }\n",
       "\n",
       "    .dataframe thead th {\n",
       "        text-align: right;\n",
       "    }\n",
       "</style>\n",
       "<table border=\"1\" class=\"dataframe\">\n",
       "  <thead>\n",
       "    <tr style=\"text-align: right;\">\n",
       "      <th></th>\n",
       "      <th>ratings</th>\n",
       "      <th>helpful</th>\n",
       "    </tr>\n",
       "  </thead>\n",
       "  <tbody>\n",
       "    <tr>\n",
       "      <th>count</th>\n",
       "      <td>6890.000000</td>\n",
       "      <td>6890.000000</td>\n",
       "    </tr>\n",
       "    <tr>\n",
       "      <th>mean</th>\n",
       "      <td>4.353266</td>\n",
       "      <td>1.380697</td>\n",
       "    </tr>\n",
       "    <tr>\n",
       "      <th>std</th>\n",
       "      <td>1.248727</td>\n",
       "      <td>8.535908</td>\n",
       "    </tr>\n",
       "    <tr>\n",
       "      <th>min</th>\n",
       "      <td>1.000000</td>\n",
       "      <td>0.000000</td>\n",
       "    </tr>\n",
       "    <tr>\n",
       "      <th>25%</th>\n",
       "      <td>4.000000</td>\n",
       "      <td>0.000000</td>\n",
       "    </tr>\n",
       "    <tr>\n",
       "      <th>50%</th>\n",
       "      <td>5.000000</td>\n",
       "      <td>0.000000</td>\n",
       "    </tr>\n",
       "    <tr>\n",
       "      <th>75%</th>\n",
       "      <td>5.000000</td>\n",
       "      <td>0.000000</td>\n",
       "    </tr>\n",
       "    <tr>\n",
       "      <th>max</th>\n",
       "      <td>5.000000</td>\n",
       "      <td>283.000000</td>\n",
       "    </tr>\n",
       "  </tbody>\n",
       "</table>\n",
       "</div>"
      ],
      "text/plain": [
       "           ratings      helpful\n",
       "count  6890.000000  6890.000000\n",
       "mean      4.353266     1.380697\n",
       "std       1.248727     8.535908\n",
       "min       1.000000     0.000000\n",
       "25%       4.000000     0.000000\n",
       "50%       5.000000     0.000000\n",
       "75%       5.000000     0.000000\n",
       "max       5.000000   283.000000"
      ]
     },
     "execution_count": 4,
     "metadata": {},
     "output_type": "execute_result"
    }
   ],
   "source": [
    "df.describe()"
   ]
  },
  {
   "cell_type": "code",
   "execution_count": 5,
   "metadata": {},
   "outputs": [],
   "source": [
    "df = df[['date', 'comment', 'ratings']]"
   ]
  },
  {
   "cell_type": "code",
   "execution_count": 6,
   "metadata": {},
   "outputs": [
    {
     "name": "stdout",
     "output_type": "stream",
     "text": [
      "<class 'pandas.core.frame.DataFrame'>\n",
      "Int64Index: 6890 entries, 0 to 6889\n",
      "Data columns (total 3 columns):\n",
      " #   Column   Non-Null Count  Dtype \n",
      "---  ------   --------------  ----- \n",
      " 0   date     6890 non-null   object\n",
      " 1   comment  6890 non-null   object\n",
      " 2   ratings  6890 non-null   int64 \n",
      "dtypes: int64(1), object(2)\n",
      "memory usage: 215.3+ KB\n"
     ]
    }
   ],
   "source": [
    "df = df.dropna(axis = 0, how = 'any')\n",
    "df.info()"
   ]
  },
  {
   "cell_type": "code",
   "execution_count": 7,
   "metadata": {},
   "outputs": [
    {
     "name": "stdout",
     "output_type": "stream",
     "text": [
      "all tags length = 694236 --> 57795, (num_doc = 15602)"
     ]
    },
    {
     "data": {
      "text/html": [
       "<div>\n",
       "<style scoped>\n",
       "    .dataframe tbody tr th:only-of-type {\n",
       "        vertical-align: middle;\n",
       "    }\n",
       "\n",
       "    .dataframe tbody tr th {\n",
       "        vertical-align: top;\n",
       "    }\n",
       "\n",
       "    .dataframe thead th {\n",
       "        text-align: right;\n",
       "    }\n",
       "</style>\n",
       "<table border=\"1\" class=\"dataframe\">\n",
       "  <thead>\n",
       "    <tr style=\"text-align: right;\">\n",
       "      <th></th>\n",
       "      <th>date</th>\n",
       "      <th>comment</th>\n",
       "      <th>ratings</th>\n",
       "    </tr>\n",
       "  </thead>\n",
       "  <tbody>\n",
       "    <tr>\n",
       "      <th>0</th>\n",
       "      <td>2021-03-10</td>\n",
       "      <td>긋긋긋 아주 좋아여</td>\n",
       "      <td>5</td>\n",
       "    </tr>\n",
       "    <tr>\n",
       "      <th>1</th>\n",
       "      <td>2021-03-10</td>\n",
       "      <td>좋네요</td>\n",
       "      <td>5</td>\n",
       "    </tr>\n",
       "    <tr>\n",
       "      <th>2</th>\n",
       "      <td>2021-03-10</td>\n",
       "      <td>정확한 시간에 배달되어 만족합니다.</td>\n",
       "      <td>4</td>\n",
       "    </tr>\n",
       "    <tr>\n",
       "      <th>3</th>\n",
       "      <td>2021-03-10</td>\n",
       "      <td>좋아요</td>\n",
       "      <td>5</td>\n",
       "    </tr>\n",
       "    <tr>\n",
       "      <th>4</th>\n",
       "      <td>2021-03-10</td>\n",
       "      <td>좋아영</td>\n",
       "      <td>5</td>\n",
       "    </tr>\n",
       "  </tbody>\n",
       "</table>\n",
       "</div>"
      ],
      "text/plain": [
       "         date              comment  ratings\n",
       "0  2021-03-10           긋긋긋 아주 좋아여        5\n",
       "1  2021-03-10                  좋네요        5\n",
       "2  2021-03-10  정확한 시간에 배달되어 만족합니다.        4\n",
       "3  2021-03-10                  좋아요        5\n",
       "4  2021-03-10                  좋아영        5"
      ]
     },
     "execution_count": 7,
     "metadata": {},
     "output_type": "execute_result"
    }
   ],
   "source": [
    "from soyspacing.countbase import CountSpace\n",
    "def 띄어쓰기(text):\n",
    "    verbose=False\n",
    "    mc = 10  # min_count\n",
    "    ft = 0.3 # force_abs_threshold\n",
    "    nt =-0.3 # nonspace_threshold\n",
    "    st = 0.3 # space_threshold\n",
    "\n",
    "\n",
    "    sent_corrected, tags = model.correct(\n",
    "    doc=text,\n",
    "    verbose=verbose,\n",
    "    force_abs_threshold=ft,\n",
    "    nonspace_threshold=nt,\n",
    "    space_threshold=st,\n",
    "    min_count=mc)\n",
    "    sent_corrected, tags = model.correct(text)\n",
    "    result = sent_corrected\n",
    "    return result\n",
    "corpus_fname = './result/134963_norm.txt'\n",
    "model = CountSpace()\n",
    "model.train(corpus_fname)    \n",
    "\n",
    "df['comment'] = df['comment'].apply(lambda x: 띄어쓰기(x))\n",
    "df.head()\n",
    "    \n",
    "    "
   ]
  },
  {
   "cell_type": "code",
   "execution_count": 8,
   "metadata": {},
   "outputs": [
    {
     "data": {
      "application/vnd.jupyter.widget-view+json": {
       "model_id": "adeab1394113452f83d06691dd6416ca",
       "version_major": 2,
       "version_minor": 0
      },
      "text/plain": [
       "HBox(children=(FloatProgress(value=0.0, max=6890.0), HTML(value='')))"
      ]
     },
     "metadata": {},
     "output_type": "display_data"
    },
    {
     "name": "stderr",
     "output_type": "stream",
     "text": [
      "C:\\Users\\jby\\AppData\\Local\\Continuum\\anaconda3\\envs\\textmining\\lib\\site-packages\\ipykernel_launcher.py:6: SettingWithCopyWarning: \n",
      "A value is trying to be set on a copy of a slice from a DataFrame\n",
      "\n",
      "See the caveats in the documentation: https://pandas.pydata.org/pandas-docs/stable/user_guide/indexing.html#returning-a-view-versus-a-copy\n",
      "  \n"
     ]
    },
    {
     "name": "stdout",
     "output_type": "stream",
     "text": [
      "\n"
     ]
    }
   ],
   "source": [
    "#맞춤법 검사기\n",
    "for i in tqdm(range(len(df))): \n",
    "    try: \n",
    "        result = spell_checker.check(df['comment'][i])\n",
    "        a= result[1]\n",
    "        df['comment'][i] = a\n",
    "    except: \n",
    "        pass\n",
    "\n"
   ]
  },
  {
   "cell_type": "code",
   "execution_count": 9,
   "metadata": {},
   "outputs": [
    {
     "data": {
      "text/html": [
       "<div>\n",
       "<style scoped>\n",
       "    .dataframe tbody tr th:only-of-type {\n",
       "        vertical-align: middle;\n",
       "    }\n",
       "\n",
       "    .dataframe tbody tr th {\n",
       "        vertical-align: top;\n",
       "    }\n",
       "\n",
       "    .dataframe thead th {\n",
       "        text-align: right;\n",
       "    }\n",
       "</style>\n",
       "<table border=\"1\" class=\"dataframe\">\n",
       "  <thead>\n",
       "    <tr style=\"text-align: right;\">\n",
       "      <th></th>\n",
       "      <th>date</th>\n",
       "      <th>comment</th>\n",
       "      <th>ratings</th>\n",
       "      <th>ko_text</th>\n",
       "    </tr>\n",
       "  </thead>\n",
       "  <tbody>\n",
       "    <tr>\n",
       "      <th>0</th>\n",
       "      <td>2021-03-10</td>\n",
       "      <td>긋긋긋 아주 좋아여</td>\n",
       "      <td>5</td>\n",
       "      <td>긋긋긋 아주 좋아여</td>\n",
       "    </tr>\n",
       "    <tr>\n",
       "      <th>1</th>\n",
       "      <td>2021-03-10</td>\n",
       "      <td>좋네요</td>\n",
       "      <td>5</td>\n",
       "      <td>좋네요</td>\n",
       "    </tr>\n",
       "    <tr>\n",
       "      <th>2</th>\n",
       "      <td>2021-03-10</td>\n",
       "      <td>정확한 시간에 배달되어 만족합니다.</td>\n",
       "      <td>4</td>\n",
       "      <td>정확한 시간에 배달되어 만족합니다</td>\n",
       "    </tr>\n",
       "    <tr>\n",
       "      <th>3</th>\n",
       "      <td>2021-03-10</td>\n",
       "      <td>좋아요</td>\n",
       "      <td>5</td>\n",
       "      <td>좋아요</td>\n",
       "    </tr>\n",
       "    <tr>\n",
       "      <th>4</th>\n",
       "      <td>2021-03-10</td>\n",
       "      <td>좋아영</td>\n",
       "      <td>5</td>\n",
       "      <td>좋아영</td>\n",
       "    </tr>\n",
       "  </tbody>\n",
       "</table>\n",
       "</div>"
      ],
      "text/plain": [
       "         date              comment  ratings             ko_text\n",
       "0  2021-03-10           긋긋긋 아주 좋아여        5          긋긋긋 아주 좋아여\n",
       "1  2021-03-10                  좋네요        5                 좋네요\n",
       "2  2021-03-10  정확한 시간에 배달되어 만족합니다.        4  정확한 시간에 배달되어 만족합니다\n",
       "3  2021-03-10                  좋아요        5                 좋아요\n",
       "4  2021-03-10                  좋아영        5                 좋아영"
      ]
     },
     "execution_count": 9,
     "metadata": {},
     "output_type": "execute_result"
    }
   ],
   "source": [
    "def text_cleaning(text):\n",
    "    hangul = re.compile('[|ㄱ-ㅎ|ㅏ-ㅣ]+') # 한글의 정규표현식을 나타냅니다.\n",
    "    result = hangul.sub('', text)\n",
    "    hangul = re.compile('[^ ㄱ-ㅣ가-힣]+') # 한글의 정규표현식을 나타냅니다.\n",
    "    result = hangul.sub('', text)\n",
    "    return result\n",
    "df['ko_text'] = df['comment'].apply(lambda x: text_cleaning(x))\n",
    "df.head()"
   ]
  },
  {
   "cell_type": "code",
   "execution_count": 10,
   "metadata": {},
   "outputs": [
    {
     "name": "stdout",
     "output_type": "stream",
     "text": [
      "training was done. used memory 0.748 Gbry 0.746 Gb\n",
      "all cohesion probabilities was computed. # words = 170\n",
      "all branching entropies was computed # words = 8276\n",
      "all accessor variety was computed # words = 8276\n"
     ]
    },
    {
     "data": {
      "text/html": [
       "<div>\n",
       "<style scoped>\n",
       "    .dataframe tbody tr th:only-of-type {\n",
       "        vertical-align: middle;\n",
       "    }\n",
       "\n",
       "    .dataframe tbody tr th {\n",
       "        vertical-align: top;\n",
       "    }\n",
       "\n",
       "    .dataframe thead th {\n",
       "        text-align: right;\n",
       "    }\n",
       "</style>\n",
       "<table border=\"1\" class=\"dataframe\">\n",
       "  <thead>\n",
       "    <tr style=\"text-align: right;\">\n",
       "      <th></th>\n",
       "      <th>date</th>\n",
       "      <th>comment</th>\n",
       "      <th>ratings</th>\n",
       "      <th>ko_text</th>\n",
       "      <th>nouns</th>\n",
       "    </tr>\n",
       "  </thead>\n",
       "  <tbody>\n",
       "    <tr>\n",
       "      <th>0</th>\n",
       "      <td>2021-03-10</td>\n",
       "      <td>긋긋긋 아주 좋아여</td>\n",
       "      <td>5</td>\n",
       "      <td>긋긋긋 아주 좋아여</td>\n",
       "      <td>[긋긋긋, 아주, 좋아]</td>\n",
       "    </tr>\n",
       "    <tr>\n",
       "      <th>1</th>\n",
       "      <td>2021-03-10</td>\n",
       "      <td>좋네요</td>\n",
       "      <td>5</td>\n",
       "      <td>좋네요</td>\n",
       "      <td>[좋네요]</td>\n",
       "    </tr>\n",
       "    <tr>\n",
       "      <th>2</th>\n",
       "      <td>2021-03-10</td>\n",
       "      <td>정확한 시간에 배달되어 만족합니다.</td>\n",
       "      <td>4</td>\n",
       "      <td>정확한 시간에 배달되어 만족합니다</td>\n",
       "      <td>[정확한, 시간에, 배달, 만족합니다]</td>\n",
       "    </tr>\n",
       "    <tr>\n",
       "      <th>3</th>\n",
       "      <td>2021-03-10</td>\n",
       "      <td>좋아요</td>\n",
       "      <td>5</td>\n",
       "      <td>좋아요</td>\n",
       "      <td>[좋아요]</td>\n",
       "    </tr>\n",
       "    <tr>\n",
       "      <th>4</th>\n",
       "      <td>2021-03-10</td>\n",
       "      <td>좋아영</td>\n",
       "      <td>5</td>\n",
       "      <td>좋아영</td>\n",
       "      <td>[좋아]</td>\n",
       "    </tr>\n",
       "    <tr>\n",
       "      <th>...</th>\n",
       "      <td>...</td>\n",
       "      <td>...</td>\n",
       "      <td>...</td>\n",
       "      <td>...</td>\n",
       "      <td>...</td>\n",
       "    </tr>\n",
       "    <tr>\n",
       "      <th>6885</th>\n",
       "      <td>2016-03-02</td>\n",
       "      <td>아이를 키우며 좋은 식자재에 대한 갈증이 있는데 이렇게 건강하고 신선한 먹거리를 쉽...</td>\n",
       "      <td>5</td>\n",
       "      <td>아이를 키우며 좋은 식자재에 대한 갈증이 있는데 이렇게 건강하고 신선한 먹거리를 쉽...</td>\n",
       "      <td>[아이를, 키우며, 좋은, 식자재에, 대한, 갈증이, 있는, 이렇게, 건강하고, 신...</td>\n",
       "    </tr>\n",
       "    <tr>\n",
       "      <th>6886</th>\n",
       "      <td>2016-03-02</td>\n",
       "      <td>아는동생소개로알게된마켓컬리 늦게안게아쉬울정도ㅋㅋ제품퀄리티완젼좋고,포장배송완벽함!내눈...</td>\n",
       "      <td>5</td>\n",
       "      <td>아는동생소개로알게된마켓컬리 늦게안게아쉬울정도ㅋㅋ제품퀄리티완젼좋고포장배송완벽함내눈으로...</td>\n",
       "      <td>[아는동생소개로알게된마켓컬리, 늦게안게아쉬울정도ㅋㅋ제품퀄리티완젼좋고포장배송완벽함내눈...</td>\n",
       "    </tr>\n",
       "    <tr>\n",
       "      <th>6887</th>\n",
       "      <td>2016-03-02</td>\n",
       "      <td>샛별배송 정말 훌륭합니다. 컬리라면 무조건 믿고 주문~ ^^*</td>\n",
       "      <td>5</td>\n",
       "      <td>샛별배송 정말 훌륭합니다 컬리라면 무조건 믿고 주문</td>\n",
       "      <td>[샛별, 정말, 훌륭합니다, 컬리, 무조건, 믿고, 주문]</td>\n",
       "    </tr>\n",
       "    <tr>\n",
       "      <th>6888</th>\n",
       "      <td>2016-03-01</td>\n",
       "      <td>더이상 밤늦게 슈퍼를 헤매고 다니지않아도됨</td>\n",
       "      <td>5</td>\n",
       "      <td>더이상 밤늦게 슈퍼를 헤매고 다니지않아도됨</td>\n",
       "      <td>[더이상, 밤늦게, 슈퍼를, 헤매고, 다니지않아도됨]</td>\n",
       "    </tr>\n",
       "    <tr>\n",
       "      <th>6889</th>\n",
       "      <td>2016-03-01</td>\n",
       "      <td>Good</td>\n",
       "      <td>5</td>\n",
       "      <td></td>\n",
       "      <td>[]</td>\n",
       "    </tr>\n",
       "  </tbody>\n",
       "</table>\n",
       "<p>6890 rows × 5 columns</p>\n",
       "</div>"
      ],
      "text/plain": [
       "            date                                            comment  ratings  \\\n",
       "0     2021-03-10                                         긋긋긋 아주 좋아여        5   \n",
       "1     2021-03-10                                                좋네요        5   \n",
       "2     2021-03-10                                정확한 시간에 배달되어 만족합니다.        4   \n",
       "3     2021-03-10                                                좋아요        5   \n",
       "4     2021-03-10                                                좋아영        5   \n",
       "...          ...                                                ...      ...   \n",
       "6885  2016-03-02  아이를 키우며 좋은 식자재에 대한 갈증이 있는데 이렇게 건강하고 신선한 먹거리를 쉽...        5   \n",
       "6886  2016-03-02  아는동생소개로알게된마켓컬리 늦게안게아쉬울정도ㅋㅋ제품퀄리티완젼좋고,포장배송완벽함!내눈...        5   \n",
       "6887  2016-03-02                 샛별배송 정말 훌륭합니다. 컬리라면 무조건 믿고 주문~ ^^*        5   \n",
       "6888  2016-03-01                            더이상 밤늦게 슈퍼를 헤매고 다니지않아도됨        5   \n",
       "6889  2016-03-01                                               Good        5   \n",
       "\n",
       "                                                ko_text  \\\n",
       "0                                            긋긋긋 아주 좋아여   \n",
       "1                                                   좋네요   \n",
       "2                                    정확한 시간에 배달되어 만족합니다   \n",
       "3                                                   좋아요   \n",
       "4                                                   좋아영   \n",
       "...                                                 ...   \n",
       "6885  아이를 키우며 좋은 식자재에 대한 갈증이 있는데 이렇게 건강하고 신선한 먹거리를 쉽...   \n",
       "6886  아는동생소개로알게된마켓컬리 늦게안게아쉬울정도ㅋㅋ제품퀄리티완젼좋고포장배송완벽함내눈으로...   \n",
       "6887                      샛별배송 정말 훌륭합니다 컬리라면 무조건 믿고 주문    \n",
       "6888                            더이상 밤늦게 슈퍼를 헤매고 다니지않아도됨   \n",
       "6889                                                      \n",
       "\n",
       "                                                  nouns  \n",
       "0                                         [긋긋긋, 아주, 좋아]  \n",
       "1                                                 [좋네요]  \n",
       "2                                 [정확한, 시간에, 배달, 만족합니다]  \n",
       "3                                                 [좋아요]  \n",
       "4                                                  [좋아]  \n",
       "...                                                 ...  \n",
       "6885  [아이를, 키우며, 좋은, 식자재에, 대한, 갈증이, 있는, 이렇게, 건강하고, 신...  \n",
       "6886  [아는동생소개로알게된마켓컬리, 늦게안게아쉬울정도ㅋㅋ제품퀄리티완젼좋고포장배송완벽함내눈...  \n",
       "6887                   [샛별, 정말, 훌륭합니다, 컬리, 무조건, 믿고, 주문]  \n",
       "6888                      [더이상, 밤늦게, 슈퍼를, 헤매고, 다니지않아도됨]  \n",
       "6889                                                 []  \n",
       "\n",
       "[6890 rows x 5 columns]"
      ]
     },
     "execution_count": 10,
     "metadata": {},
     "output_type": "execute_result"
    }
   ],
   "source": [
    "from soynlp.word import WordExtractor\n",
    "from soynlp.utils import DoublespaceLineCorpus\n",
    "from soynlp.tokenizer import LTokenizer\n",
    "word_extractor = WordExtractor(min_frequency=100,\n",
    "   min_cohesion_forward=0.05,\n",
    "   min_right_branching_entropy=0.0\n",
    ")\n",
    "word_extractor.train(df['ko_text'].values)\n",
    "words = word_extractor.extract()\n",
    "words\n",
    "\n",
    "cohesion_score = {word:score.cohesion_forward for word, score in words.items()}\n",
    "tokenizer = LTokenizer(scores=cohesion_score)\n",
    "df['nouns'] = df['ko_text'].apply(lambda x: tokenizer.tokenize(x, remove_r=True)) # L과 R 분리하여 R은 삭제\n",
    "df"
   ]
  },
  {
   "cell_type": "code",
   "execution_count": 11,
   "metadata": {},
   "outputs": [
    {
     "data": {
      "text/html": [
       "<div>\n",
       "<style scoped>\n",
       "    .dataframe tbody tr th:only-of-type {\n",
       "        vertical-align: middle;\n",
       "    }\n",
       "\n",
       "    .dataframe tbody tr th {\n",
       "        vertical-align: top;\n",
       "    }\n",
       "\n",
       "    .dataframe thead th {\n",
       "        text-align: right;\n",
       "    }\n",
       "</style>\n",
       "<table border=\"1\" class=\"dataframe\">\n",
       "  <thead>\n",
       "    <tr style=\"text-align: right;\">\n",
       "      <th></th>\n",
       "      <th>ratings</th>\n",
       "    </tr>\n",
       "  </thead>\n",
       "  <tbody>\n",
       "    <tr>\n",
       "      <th>count</th>\n",
       "      <td>6890.000000</td>\n",
       "    </tr>\n",
       "    <tr>\n",
       "      <th>mean</th>\n",
       "      <td>4.353266</td>\n",
       "    </tr>\n",
       "    <tr>\n",
       "      <th>std</th>\n",
       "      <td>1.248727</td>\n",
       "    </tr>\n",
       "    <tr>\n",
       "      <th>min</th>\n",
       "      <td>1.000000</td>\n",
       "    </tr>\n",
       "    <tr>\n",
       "      <th>25%</th>\n",
       "      <td>4.000000</td>\n",
       "    </tr>\n",
       "    <tr>\n",
       "      <th>50%</th>\n",
       "      <td>5.000000</td>\n",
       "    </tr>\n",
       "    <tr>\n",
       "      <th>75%</th>\n",
       "      <td>5.000000</td>\n",
       "    </tr>\n",
       "    <tr>\n",
       "      <th>max</th>\n",
       "      <td>5.000000</td>\n",
       "    </tr>\n",
       "  </tbody>\n",
       "</table>\n",
       "</div>"
      ],
      "text/plain": [
       "           ratings\n",
       "count  6890.000000\n",
       "mean      4.353266\n",
       "std       1.248727\n",
       "min       1.000000\n",
       "25%       4.000000\n",
       "50%       5.000000\n",
       "75%       5.000000\n",
       "max       5.000000"
      ]
     },
     "execution_count": 11,
     "metadata": {},
     "output_type": "execute_result"
    }
   ],
   "source": [
    "df.describe()"
   ]
  },
  {
   "cell_type": "code",
   "execution_count": 12,
   "metadata": {},
   "outputs": [],
   "source": [
    "df = df.reset_index()\n",
    "del df['index']"
   ]
  },
  {
   "cell_type": "code",
   "execution_count": 13,
   "metadata": {},
   "outputs": [],
   "source": [
    "# 한국어 약식 불용어사전 예시 파일입니다. 출처 - (https://www.ranks.nl/stopwords/korean)\n",
    "korean_stopwords_path = \"./korean_stopwords2.txt\"\n",
    "with open(korean_stopwords_path, encoding='utf8') as f:\n",
    "    stopwords = f.readlines()\n",
    "stopwords = [x.strip() for x in stopwords]\n",
    "\n",
    "def get_nouns(x):\n",
    "    nouns_tagger = tokenizer\n",
    "    nouns = nouns_tagger.tokenize(x, remove_r=True)\n",
    "    nouns_tagger2 = Kkma()\n",
    "    nouns = nouns_tagger2.nouns(x)    \n",
    "    \n",
    "    # 한글자 키워드를 제거합니다.\n",
    "    nouns = [noun for noun in nouns if len(noun) > 1]\n",
    "    \n",
    "    # 불용어를 제거합니다.\n",
    "    nouns = [noun for noun in nouns if noun not in stopwords]\n",
    "    \n",
    "    return nouns"
   ]
  },
  {
   "cell_type": "code",
   "execution_count": 14,
   "metadata": {},
   "outputs": [
    {
     "name": "stdout",
     "output_type": "stream",
     "text": [
      "(3548, 5)\n"
     ]
    },
    {
     "data": {
      "text/html": [
       "<div>\n",
       "<style scoped>\n",
       "    .dataframe tbody tr th:only-of-type {\n",
       "        vertical-align: middle;\n",
       "    }\n",
       "\n",
       "    .dataframe tbody tr th {\n",
       "        vertical-align: top;\n",
       "    }\n",
       "\n",
       "    .dataframe thead th {\n",
       "        text-align: right;\n",
       "    }\n",
       "</style>\n",
       "<table border=\"1\" class=\"dataframe\">\n",
       "  <thead>\n",
       "    <tr style=\"text-align: right;\">\n",
       "      <th></th>\n",
       "      <th>date</th>\n",
       "      <th>comment</th>\n",
       "      <th>ratings</th>\n",
       "      <th>ko_text</th>\n",
       "      <th>nouns</th>\n",
       "    </tr>\n",
       "  </thead>\n",
       "  <tbody>\n",
       "    <tr>\n",
       "      <th>0</th>\n",
       "      <td>2021-03-10</td>\n",
       "      <td>정확한 시간에 배달되어 만족합니다.</td>\n",
       "      <td>4</td>\n",
       "      <td>정확한 시간에 배달되어 만족합니다</td>\n",
       "      <td>[정확]</td>\n",
       "    </tr>\n",
       "    <tr>\n",
       "      <th>1</th>\n",
       "      <td>2021-03-10</td>\n",
       "      <td>간편해서 좋아요</td>\n",
       "      <td>5</td>\n",
       "      <td>간편해서 좋아요</td>\n",
       "      <td>[간편]</td>\n",
       "    </tr>\n",
       "    <tr>\n",
       "      <th>2</th>\n",
       "      <td>2021-03-10</td>\n",
       "      <td>신선한 제품을 빠른 배송과 가격도 만족할수 있어 좋아요.</td>\n",
       "      <td>5</td>\n",
       "      <td>신선한 제품을 빠른 배송과 가격도 만족할수 있어 좋아요</td>\n",
       "      <td>[배송, 가격]</td>\n",
       "    </tr>\n",
       "    <tr>\n",
       "      <th>3</th>\n",
       "      <td>2021-03-10</td>\n",
       "      <td>상품의 질이 다른 오픈마켓 보다 좋네요~퀄리티가 달라요 특히 음식 시켜보니 믿음이 가네요</td>\n",
       "      <td>5</td>\n",
       "      <td>상품의 질이 다른 오픈마켓 보다 좋네요퀄리티가 달라요 특히 음식 시켜보니 믿음이 가네요</td>\n",
       "      <td>[오픈, 오픈마켓, 퀄리티, 믿음]</td>\n",
       "    </tr>\n",
       "    <tr>\n",
       "      <th>4</th>\n",
       "      <td>2021-03-10</td>\n",
       "      <td>추. ㅊ ..ㅓ.ㅇ .ㅣ : ( 222444 )친환경 재료에 신선한 완전 최고에요....</td>\n",
       "      <td>5</td>\n",
       "      <td>추 ㅊ ㅓㅇ ㅣ    친환경 재료에 신선한 완전 최고에요상품마다 별점 주는 게 있으...</td>\n",
       "      <td>[별점, 판단, 스토어]</td>\n",
       "    </tr>\n",
       "  </tbody>\n",
       "</table>\n",
       "</div>"
      ],
      "text/plain": [
       "         date                                            comment  ratings  \\\n",
       "0  2021-03-10                                정확한 시간에 배달되어 만족합니다.        4   \n",
       "1  2021-03-10                                           간편해서 좋아요        5   \n",
       "2  2021-03-10                    신선한 제품을 빠른 배송과 가격도 만족할수 있어 좋아요.        5   \n",
       "3  2021-03-10  상품의 질이 다른 오픈마켓 보다 좋네요~퀄리티가 달라요 특히 음식 시켜보니 믿음이 가네요        5   \n",
       "4  2021-03-10  추. ㅊ ..ㅓ.ㅇ .ㅣ : ( 222444 )친환경 재료에 신선한 완전 최고에요....        5   \n",
       "\n",
       "                                             ko_text                nouns  \n",
       "0                                 정확한 시간에 배달되어 만족합니다                 [정확]  \n",
       "1                                           간편해서 좋아요                 [간편]  \n",
       "2                     신선한 제품을 빠른 배송과 가격도 만족할수 있어 좋아요             [배송, 가격]  \n",
       "3   상품의 질이 다른 오픈마켓 보다 좋네요퀄리티가 달라요 특히 음식 시켜보니 믿음이 가네요  [오픈, 오픈마켓, 퀄리티, 믿음]  \n",
       "4  추 ㅊ ㅓㅇ ㅣ    친환경 재료에 신선한 완전 최고에요상품마다 별점 주는 게 있으...        [별점, 판단, 스토어]  "
      ]
     },
     "execution_count": 14,
     "metadata": {},
     "output_type": "execute_result"
    }
   ],
   "source": [
    "df['nouns'] = df['ko_text'].apply(lambda x: get_nouns(x))\n",
    "for i in range(len(df)):\n",
    "    if not df['nouns'][i]:\n",
    "        df.drop([i],inplace=True)\n",
    "        \n",
    "df.reset_index(inplace=True)\n",
    "del df['index']\n",
    "print(df.shape)\n",
    "df.head()"
   ]
  },
  {
   "cell_type": "code",
   "execution_count": 15,
   "metadata": {
    "scrolled": false
   },
   "outputs": [
    {
     "data": {
      "text/html": [
       "<div>\n",
       "<style scoped>\n",
       "    .dataframe tbody tr th:only-of-type {\n",
       "        vertical-align: middle;\n",
       "    }\n",
       "\n",
       "    .dataframe tbody tr th {\n",
       "        vertical-align: top;\n",
       "    }\n",
       "\n",
       "    .dataframe thead th {\n",
       "        text-align: right;\n",
       "    }\n",
       "</style>\n",
       "<table border=\"1\" class=\"dataframe\">\n",
       "  <thead>\n",
       "    <tr style=\"text-align: right;\">\n",
       "      <th></th>\n",
       "      <th>words</th>\n",
       "      <th>satisfaction</th>\n",
       "      <th>count</th>\n",
       "    </tr>\n",
       "  </thead>\n",
       "  <tbody>\n",
       "    <tr>\n",
       "      <th>0</th>\n",
       "      <td>정확</td>\n",
       "      <td>4</td>\n",
       "      <td>1</td>\n",
       "    </tr>\n",
       "    <tr>\n",
       "      <th>1</th>\n",
       "      <td>간편</td>\n",
       "      <td>5</td>\n",
       "      <td>1</td>\n",
       "    </tr>\n",
       "    <tr>\n",
       "      <th>2</th>\n",
       "      <td>배송</td>\n",
       "      <td>5</td>\n",
       "      <td>1</td>\n",
       "    </tr>\n",
       "    <tr>\n",
       "      <th>3</th>\n",
       "      <td>가격</td>\n",
       "      <td>5</td>\n",
       "      <td>1</td>\n",
       "    </tr>\n",
       "    <tr>\n",
       "      <th>4</th>\n",
       "      <td>오픈</td>\n",
       "      <td>5</td>\n",
       "      <td>1</td>\n",
       "    </tr>\n",
       "  </tbody>\n",
       "</table>\n",
       "</div>"
      ],
      "text/plain": [
       "  words  satisfaction  count\n",
       "0    정확             4      1\n",
       "1    간편             5      1\n",
       "2    배송             5      1\n",
       "3    가격             5      1\n",
       "4    오픈             5      1"
      ]
     },
     "execution_count": 15,
     "metadata": {},
     "output_type": "execute_result"
    }
   ],
   "source": [
    "all_words = []\n",
    "satisfaction= []\n",
    "for i in range(len(df)):\n",
    "    words = df['nouns'][i]\n",
    "    words_arr = []\n",
    "    for n in words:\n",
    "        words_arr.append(n)\n",
    "        satisfaction.append(df['ratings'].iloc[i])\n",
    "    all_words.extend(words_arr)\n",
    "    \n",
    "all_words_df = pd.DataFrame({\"words\":all_words, \"satisfaction\":satisfaction, \"count\":len(all_words)*[1]})\n",
    "all_words_df.head()        \n",
    "    "
   ]
  },
  {
   "cell_type": "code",
   "execution_count": 16,
   "metadata": {
    "scrolled": false
   },
   "outputs": [
    {
     "data": {
      "text/html": [
       "<div>\n",
       "<style scoped>\n",
       "    .dataframe tbody tr th:only-of-type {\n",
       "        vertical-align: middle;\n",
       "    }\n",
       "\n",
       "    .dataframe tbody tr th {\n",
       "        vertical-align: top;\n",
       "    }\n",
       "\n",
       "    .dataframe thead th {\n",
       "        text-align: right;\n",
       "    }\n",
       "</style>\n",
       "<table border=\"1\" class=\"dataframe\">\n",
       "  <thead>\n",
       "    <tr style=\"text-align: right;\">\n",
       "      <th></th>\n",
       "      <th>satisfaction</th>\n",
       "      <th>count</th>\n",
       "    </tr>\n",
       "    <tr>\n",
       "      <th>words</th>\n",
       "      <th></th>\n",
       "      <th></th>\n",
       "    </tr>\n",
       "  </thead>\n",
       "  <tbody>\n",
       "    <tr>\n",
       "      <th>가격</th>\n",
       "      <td>4.133621</td>\n",
       "      <td>232</td>\n",
       "    </tr>\n",
       "    <tr>\n",
       "      <th>가격경쟁력</th>\n",
       "      <td>1.000000</td>\n",
       "      <td>1</td>\n",
       "    </tr>\n",
       "    <tr>\n",
       "      <th>가격대</th>\n",
       "      <td>4.062500</td>\n",
       "      <td>16</td>\n",
       "    </tr>\n",
       "    <tr>\n",
       "      <th>가격대비</th>\n",
       "      <td>3.375000</td>\n",
       "      <td>8</td>\n",
       "    </tr>\n",
       "    <tr>\n",
       "      <th>가격면</th>\n",
       "      <td>1.500000</td>\n",
       "      <td>2</td>\n",
       "    </tr>\n",
       "  </tbody>\n",
       "</table>\n",
       "</div>"
      ],
      "text/plain": [
       "       satisfaction  count\n",
       "words                     \n",
       "가격         4.133621    232\n",
       "가격경쟁력      1.000000      1\n",
       "가격대        4.062500     16\n",
       "가격대비       3.375000      8\n",
       "가격면        1.500000      2"
      ]
     },
     "execution_count": 16,
     "metadata": {},
     "output_type": "execute_result"
    }
   ],
   "source": [
    "words_satisfaction = all_words_df.groupby('words').mean()['satisfaction']\n",
    "words_count = all_words_df.groupby('words').sum()['count']\n",
    "words_df = pd.concat([words_satisfaction, words_count], axis=1)\n",
    "words_df.head()"
   ]
  },
  {
   "cell_type": "code",
   "execution_count": 17,
   "metadata": {},
   "outputs": [
    {
     "data": {
      "text/html": [
       "<div>\n",
       "<style scoped>\n",
       "    .dataframe tbody tr th:only-of-type {\n",
       "        vertical-align: middle;\n",
       "    }\n",
       "\n",
       "    .dataframe tbody tr th {\n",
       "        vertical-align: top;\n",
       "    }\n",
       "\n",
       "    .dataframe thead th {\n",
       "        text-align: right;\n",
       "    }\n",
       "</style>\n",
       "<table border=\"1\" class=\"dataframe\">\n",
       "  <thead>\n",
       "    <tr style=\"text-align: right;\">\n",
       "      <th></th>\n",
       "      <th>satisfaction</th>\n",
       "      <th>count</th>\n",
       "    </tr>\n",
       "    <tr>\n",
       "      <th>words</th>\n",
       "      <th></th>\n",
       "      <th></th>\n",
       "    </tr>\n",
       "  </thead>\n",
       "  <tbody>\n",
       "    <tr>\n",
       "      <th>군의</th>\n",
       "      <td>5.0</td>\n",
       "      <td>4</td>\n",
       "    </tr>\n",
       "    <tr>\n",
       "      <th>오천원</th>\n",
       "      <td>5.0</td>\n",
       "      <td>3</td>\n",
       "    </tr>\n",
       "    <tr>\n",
       "      <th>두말</th>\n",
       "      <td>5.0</td>\n",
       "      <td>3</td>\n",
       "    </tr>\n",
       "    <tr>\n",
       "      <th>나ㅇ</th>\n",
       "      <td>5.0</td>\n",
       "      <td>5</td>\n",
       "    </tr>\n",
       "    <tr>\n",
       "      <th>볶음밥</th>\n",
       "      <td>5.0</td>\n",
       "      <td>6</td>\n",
       "    </tr>\n",
       "    <tr>\n",
       "      <th>...</th>\n",
       "      <td>...</td>\n",
       "      <td>...</td>\n",
       "    </tr>\n",
       "    <tr>\n",
       "      <th>월일</th>\n",
       "      <td>1.0</td>\n",
       "      <td>4</td>\n",
       "    </tr>\n",
       "    <tr>\n",
       "      <th>스팸</th>\n",
       "      <td>1.0</td>\n",
       "      <td>3</td>\n",
       "    </tr>\n",
       "    <tr>\n",
       "      <th>승인</th>\n",
       "      <td>1.0</td>\n",
       "      <td>4</td>\n",
       "    </tr>\n",
       "    <tr>\n",
       "      <th>비용</th>\n",
       "      <td>1.0</td>\n",
       "      <td>3</td>\n",
       "    </tr>\n",
       "    <tr>\n",
       "      <th>안주</th>\n",
       "      <td>1.0</td>\n",
       "      <td>3</td>\n",
       "    </tr>\n",
       "  </tbody>\n",
       "</table>\n",
       "<p>647 rows × 2 columns</p>\n",
       "</div>"
      ],
      "text/plain": [
       "       satisfaction  count\n",
       "words                     \n",
       "군의              5.0      4\n",
       "오천원             5.0      3\n",
       "두말              5.0      3\n",
       "나ㅇ              5.0      5\n",
       "볶음밥             5.0      6\n",
       "...             ...    ...\n",
       "월일              1.0      4\n",
       "스팸              1.0      3\n",
       "승인              1.0      4\n",
       "비용              1.0      3\n",
       "안주              1.0      3\n",
       "\n",
       "[647 rows x 2 columns]"
      ]
     },
     "execution_count": 17,
     "metadata": {},
     "output_type": "execute_result"
    }
   ],
   "source": [
    "words_df = words_df.loc[words_df['count']>=3]\n",
    "words_df.sort_values('satisfaction', ascending=False)"
   ]
  },
  {
   "cell_type": "code",
   "execution_count": 18,
   "metadata": {},
   "outputs": [
    {
     "data": {
      "text/html": [
       "<div>\n",
       "<style scoped>\n",
       "    .dataframe tbody tr th:only-of-type {\n",
       "        vertical-align: middle;\n",
       "    }\n",
       "\n",
       "    .dataframe tbody tr th {\n",
       "        vertical-align: top;\n",
       "    }\n",
       "\n",
       "    .dataframe thead th {\n",
       "        text-align: right;\n",
       "    }\n",
       "</style>\n",
       "<table border=\"1\" class=\"dataframe\">\n",
       "  <thead>\n",
       "    <tr style=\"text-align: right;\">\n",
       "      <th></th>\n",
       "      <th>satisfaction</th>\n",
       "      <th>count</th>\n",
       "    </tr>\n",
       "    <tr>\n",
       "      <th>words</th>\n",
       "      <th></th>\n",
       "      <th></th>\n",
       "    </tr>\n",
       "  </thead>\n",
       "  <tbody>\n",
       "    <tr>\n",
       "      <th>배송</th>\n",
       "      <td>4.345946</td>\n",
       "      <td>1295</td>\n",
       "    </tr>\n",
       "    <tr>\n",
       "      <th>신선</th>\n",
       "      <td>4.800000</td>\n",
       "      <td>315</td>\n",
       "    </tr>\n",
       "    <tr>\n",
       "      <th>포장</th>\n",
       "      <td>4.560886</td>\n",
       "      <td>271</td>\n",
       "    </tr>\n",
       "    <tr>\n",
       "      <th>가격</th>\n",
       "      <td>4.133621</td>\n",
       "      <td>232</td>\n",
       "    </tr>\n",
       "    <tr>\n",
       "      <th>새벽배송</th>\n",
       "      <td>4.412935</td>\n",
       "      <td>201</td>\n",
       "    </tr>\n",
       "    <tr>\n",
       "      <th>품질</th>\n",
       "      <td>4.639752</td>\n",
       "      <td>161</td>\n",
       "    </tr>\n",
       "    <tr>\n",
       "      <th>샛별배송</th>\n",
       "      <td>4.390977</td>\n",
       "      <td>133</td>\n",
       "    </tr>\n",
       "    <tr>\n",
       "      <th>장바구니</th>\n",
       "      <td>3.347107</td>\n",
       "      <td>121</td>\n",
       "    </tr>\n",
       "    <tr>\n",
       "      <th>할인</th>\n",
       "      <td>4.279661</td>\n",
       "      <td>118</td>\n",
       "    </tr>\n",
       "    <tr>\n",
       "      <th>택배</th>\n",
       "      <td>3.451613</td>\n",
       "      <td>93</td>\n",
       "    </tr>\n",
       "    <tr>\n",
       "      <th>종류</th>\n",
       "      <td>4.295455</td>\n",
       "      <td>88</td>\n",
       "    </tr>\n",
       "    <tr>\n",
       "      <th>서비스</th>\n",
       "      <td>3.870588</td>\n",
       "      <td>85</td>\n",
       "    </tr>\n",
       "    <tr>\n",
       "      <th>유용</th>\n",
       "      <td>4.862500</td>\n",
       "      <td>80</td>\n",
       "    </tr>\n",
       "    <tr>\n",
       "      <th>검색</th>\n",
       "      <td>3.675000</td>\n",
       "      <td>80</td>\n",
       "    </tr>\n",
       "    <tr>\n",
       "      <th>박스</th>\n",
       "      <td>3.944444</td>\n",
       "      <td>72</td>\n",
       "    </tr>\n",
       "    <tr>\n",
       "      <th>처음</th>\n",
       "      <td>3.411765</td>\n",
       "      <td>68</td>\n",
       "    </tr>\n",
       "    <tr>\n",
       "      <th>선택</th>\n",
       "      <td>3.484848</td>\n",
       "      <td>66</td>\n",
       "    </tr>\n",
       "    <tr>\n",
       "      <th>간편</th>\n",
       "      <td>4.893939</td>\n",
       "      <td>66</td>\n",
       "    </tr>\n",
       "    <tr>\n",
       "      <th>때문</th>\n",
       "      <td>3.769231</td>\n",
       "      <td>65</td>\n",
       "    </tr>\n",
       "    <tr>\n",
       "      <th>사람</th>\n",
       "      <td>3.158730</td>\n",
       "      <td>63</td>\n",
       "    </tr>\n",
       "  </tbody>\n",
       "</table>\n",
       "</div>"
      ],
      "text/plain": [
       "       satisfaction  count\n",
       "words                     \n",
       "배송         4.345946   1295\n",
       "신선         4.800000    315\n",
       "포장         4.560886    271\n",
       "가격         4.133621    232\n",
       "새벽배송       4.412935    201\n",
       "품질         4.639752    161\n",
       "샛별배송       4.390977    133\n",
       "장바구니       3.347107    121\n",
       "할인         4.279661    118\n",
       "택배         3.451613     93\n",
       "종류         4.295455     88\n",
       "서비스        3.870588     85\n",
       "유용         4.862500     80\n",
       "검색         3.675000     80\n",
       "박스         3.944444     72\n",
       "처음         3.411765     68\n",
       "선택         3.484848     66\n",
       "간편         4.893939     66\n",
       "때문         3.769231     65\n",
       "사람         3.158730     63"
      ]
     },
     "execution_count": 18,
     "metadata": {},
     "output_type": "execute_result"
    }
   ],
   "source": [
    "words_df.sort_values('count', ascending =False).head(20)"
   ]
  },
  {
   "cell_type": "code",
   "execution_count": 19,
   "metadata": {},
   "outputs": [],
   "source": [
    "korean_stopwords_path = \"./korean_stopwords2.txt\"\n",
    "with open(korean_stopwords_path, encoding='utf8') as f:\n",
    "    stopwords = f.readlines()\n",
    "stopwords = [x.strip() for x in stopwords]\n",
    "nouns_tagger =Kkma()\n",
    "def text_cleaning(text):\n",
    "    hangul = re.compile('[|ㄱ-ㅎ|ㅏ-ㅣ]+') # 한글의 정규표현식을 나타냅니다.\n",
    "    result = hangul.sub('', text)\n",
    "    hangul = re.compile('[^ ㄱ-ㅣ가-힣]+') # 한글의 정규표현식을 나타냅니다.\n",
    "    result = hangul.sub('', text)\n",
    "    nouns_tagger = tokenizer\n",
    "    nouns = nouns_tagger.tokenize(result, remove_r=True)\n",
    "    nouns = [x for x in nouns if len(x) >1]\n",
    "    nouns =[x for x in nouns if x not in stopwords]\n",
    "    return nouns\n",
    "\n",
    "vect = CountVectorizer(tokenizer= lambda x : text_cleaning(x))\n",
    "bow_vect = vect.fit_transform(df['comment'].tolist())\n",
    "word_list = vect.get_feature_names()\n",
    "count_list = bow_vect.toarray().sum(axis=0)"
   ]
  },
  {
   "cell_type": "code",
   "execution_count": 20,
   "metadata": {},
   "outputs": [
    {
     "data": {
      "text/plain": [
       "(3548, 13452)"
      ]
     },
     "execution_count": 20,
     "metadata": {},
     "output_type": "execute_result"
    }
   ],
   "source": [
    "bow_vect.shape"
   ]
  },
  {
   "cell_type": "code",
   "execution_count": 21,
   "metadata": {},
   "outputs": [
    {
     "name": "stdout",
     "output_type": "stream",
     "text": [
      "{'ㄱㅣ회를': 1, 'ㅇㅈㅇㅈ홧팅': 1, 'ㅈㅜㅊㅓㄴㅣ': 1, 'ㅊㅜㅊㅓㄴㅇㅣㄴ': 2, 'ㅊㅜ우쳐햐시면': 2, 'ㅊㅜ쳐햐시면': 2, 'ㅋㄹ': 1, 'ㅋㅋ': 19, '\n"
     ]
    }
   ],
   "source": [
    "word_count_dict = dict(zip(word_list, count_list))\n",
    "print(str(word_count_dict)[:100])"
   ]
  },
  {
   "cell_type": "code",
   "execution_count": 22,
   "metadata": {},
   "outputs": [],
   "source": [
    "tfidf_vectorizer = TfidfTransformer()\n",
    "tf_idf_vect = tfidf_vectorizer.fit_transform(bow_vect)"
   ]
  },
  {
   "cell_type": "code",
   "execution_count": 23,
   "metadata": {
    "scrolled": true
   },
   "outputs": [
    {
     "name": "stdout",
     "output_type": "stream",
     "text": [
      "  (0, 10415)\t0.666723611449234\n",
      "  (0, 6446)\t0.7453050556222538\n"
     ]
    }
   ],
   "source": [
    "print(tf_idf_vect[0])"
   ]
  },
  {
   "cell_type": "code",
   "execution_count": 24,
   "metadata": {},
   "outputs": [
    {
     "name": "stdout",
     "output_type": "stream",
     "text": [
      "{10415: '정확한', 6446: '시간에', 215: '간편', 6759: '신선', 5366: '빠른', 4663: '배송', 66: '가격', 11105: '질이', 85\n"
     ]
    }
   ],
   "source": [
    "invert_index_vectorizer = {v:k for k,v in vect.vocabulary_.items()}\n",
    "print(str(invert_index_vectorizer)[:100])"
   ]
  },
  {
   "cell_type": "code",
   "execution_count": 25,
   "metadata": {
    "scrolled": false
   },
   "outputs": [
    {
     "data": {
      "text/html": [
       "<div>\n",
       "<style scoped>\n",
       "    .dataframe tbody tr th:only-of-type {\n",
       "        vertical-align: middle;\n",
       "    }\n",
       "\n",
       "    .dataframe tbody tr th {\n",
       "        vertical-align: top;\n",
       "    }\n",
       "\n",
       "    .dataframe thead th {\n",
       "        text-align: right;\n",
       "    }\n",
       "</style>\n",
       "<table border=\"1\" class=\"dataframe\">\n",
       "  <thead>\n",
       "    <tr style=\"text-align: right;\">\n",
       "      <th></th>\n",
       "      <th>date</th>\n",
       "      <th>comment</th>\n",
       "      <th>ratings</th>\n",
       "      <th>ko_text</th>\n",
       "      <th>nouns</th>\n",
       "    </tr>\n",
       "  </thead>\n",
       "  <tbody>\n",
       "    <tr>\n",
       "      <th>2216</th>\n",
       "      <td>2020-04-01</td>\n",
       "      <td>퍼퍽트하고똑소리나상품 대만족</td>\n",
       "      <td>5</td>\n",
       "      <td>퍼퍽트하고똑소리나상품 대만족</td>\n",
       "      <td>[트하, 소리]</td>\n",
       "    </tr>\n",
       "    <tr>\n",
       "      <th>953</th>\n",
       "      <td>2020-10-28</td>\n",
       "      <td>일단 고기들 위주로 주문하는데 신선해서 좋네요!!</td>\n",
       "      <td>4</td>\n",
       "      <td>일단 고기들 위주로 주문하는데 신선해서 좋네요</td>\n",
       "      <td>[신선]</td>\n",
       "    </tr>\n",
       "    <tr>\n",
       "      <th>187</th>\n",
       "      <td>2021-02-09</td>\n",
       "      <td>구글통해서만 꼭 가능한지요</td>\n",
       "      <td>3</td>\n",
       "      <td>구글통해서만 꼭 가능한지요</td>\n",
       "      <td>[통해]</td>\n",
       "    </tr>\n",
       "    <tr>\n",
       "      <th>2956</th>\n",
       "      <td>2019-11-12</td>\n",
       "      <td>질도좋고~배송도 빠르고 너무 좋아요♡</td>\n",
       "      <td>5</td>\n",
       "      <td>질도좋고배송도 빠르고 너무 좋아요</td>\n",
       "      <td>[배송]</td>\n",
       "    </tr>\n",
       "    <tr>\n",
       "      <th>2915</th>\n",
       "      <td>2019-12-07</td>\n",
       "      <td>컬리만의 상품도 있어 좋은거 같고 콘텐츠가 이뻐서 사고 싶은 충동이 생깁니다 콘텐츠...</td>\n",
       "      <td>5</td>\n",
       "      <td>컬리만의 상품도 있어 좋은거 같고 콘텐츠가 이뻐서 사고 싶은 충동이 생깁니다 콘텐츠...</td>\n",
       "      <td>[콘텐츠보고, 경우]</td>\n",
       "    </tr>\n",
       "  </tbody>\n",
       "</table>\n",
       "</div>"
      ],
      "text/plain": [
       "            date                                            comment  ratings  \\\n",
       "2216  2020-04-01                                    퍼퍽트하고똑소리나상품 대만족        5   \n",
       "953   2020-10-28                        일단 고기들 위주로 주문하는데 신선해서 좋네요!!        4   \n",
       "187   2021-02-09                                     구글통해서만 꼭 가능한지요        3   \n",
       "2956  2019-11-12                               질도좋고~배송도 빠르고 너무 좋아요♡        5   \n",
       "2915  2019-12-07  컬리만의 상품도 있어 좋은거 같고 콘텐츠가 이뻐서 사고 싶은 충동이 생깁니다 콘텐츠...        5   \n",
       "\n",
       "                                                ko_text        nouns  \n",
       "2216                                    퍼퍽트하고똑소리나상품 대만족     [트하, 소리]  \n",
       "953                           일단 고기들 위주로 주문하는데 신선해서 좋네요         [신선]  \n",
       "187                                      구글통해서만 꼭 가능한지요         [통해]  \n",
       "2956                                 질도좋고배송도 빠르고 너무 좋아요         [배송]  \n",
       "2915  컬리만의 상품도 있어 좋은거 같고 콘텐츠가 이뻐서 사고 싶은 충동이 생깁니다 콘텐츠...  [콘텐츠보고, 경우]  "
      ]
     },
     "execution_count": 25,
     "metadata": {},
     "output_type": "execute_result"
    }
   ],
   "source": [
    "df.sample(10).head()"
   ]
  },
  {
   "cell_type": "code",
   "execution_count": 26,
   "metadata": {
    "scrolled": true
   },
   "outputs": [
    {
     "data": {
      "text/plain": [
       "<matplotlib.axes._subplots.AxesSubplot at 0x211f5fd00f0>"
      ]
     },
     "execution_count": 26,
     "metadata": {},
     "output_type": "execute_result"
    },
    {
     "data": {
      "image/png": "[encoded data removed]",
      "text/plain": [
       "<Figure size 432x288 with 1 Axes>"
      ]
     },
     "metadata": {
      "needs_background": "light"
     },
     "output_type": "display_data"
    }
   ],
   "source": [
    "df.ratings.hist()"
   ]
  },
  {
   "cell_type": "code",
   "execution_count": 27,
   "metadata": {},
   "outputs": [],
   "source": [
    "def rating_to_label(rating) :\n",
    "  if rating >3:\n",
    "    return 1\n",
    "  else:\n",
    "    return 0\n",
    "df['y'] = df['ratings'].apply(lambda x : rating_to_label(x))"
   ]
  },
  {
   "cell_type": "code",
   "execution_count": 28,
   "metadata": {
    "scrolled": false
   },
   "outputs": [
    {
     "data": {
      "text/html": [
       "<div>\n",
       "<style scoped>\n",
       "    .dataframe tbody tr th:only-of-type {\n",
       "        vertical-align: middle;\n",
       "    }\n",
       "\n",
       "    .dataframe tbody tr th {\n",
       "        vertical-align: top;\n",
       "    }\n",
       "\n",
       "    .dataframe thead th {\n",
       "        text-align: right;\n",
       "    }\n",
       "</style>\n",
       "<table border=\"1\" class=\"dataframe\">\n",
       "  <thead>\n",
       "    <tr style=\"text-align: right;\">\n",
       "      <th></th>\n",
       "      <th>date</th>\n",
       "      <th>comment</th>\n",
       "      <th>ratings</th>\n",
       "      <th>ko_text</th>\n",
       "      <th>nouns</th>\n",
       "      <th>y</th>\n",
       "    </tr>\n",
       "  </thead>\n",
       "  <tbody>\n",
       "    <tr>\n",
       "      <th>0</th>\n",
       "      <td>2021-03-10</td>\n",
       "      <td>정확한 시간에 배달되어 만족합니다.</td>\n",
       "      <td>4</td>\n",
       "      <td>정확한 시간에 배달되어 만족합니다</td>\n",
       "      <td>[정확]</td>\n",
       "      <td>1</td>\n",
       "    </tr>\n",
       "    <tr>\n",
       "      <th>1</th>\n",
       "      <td>2021-03-10</td>\n",
       "      <td>간편해서 좋아요</td>\n",
       "      <td>5</td>\n",
       "      <td>간편해서 좋아요</td>\n",
       "      <td>[간편]</td>\n",
       "      <td>1</td>\n",
       "    </tr>\n",
       "    <tr>\n",
       "      <th>2</th>\n",
       "      <td>2021-03-10</td>\n",
       "      <td>신선한 제품을 빠른 배송과 가격도 만족할수 있어 좋아요.</td>\n",
       "      <td>5</td>\n",
       "      <td>신선한 제품을 빠른 배송과 가격도 만족할수 있어 좋아요</td>\n",
       "      <td>[배송, 가격]</td>\n",
       "      <td>1</td>\n",
       "    </tr>\n",
       "    <tr>\n",
       "      <th>3</th>\n",
       "      <td>2021-03-10</td>\n",
       "      <td>상품의 질이 다른 오픈마켓 보다 좋네요~퀄리티가 달라요 특히 음식 시켜보니 믿음이 가네요</td>\n",
       "      <td>5</td>\n",
       "      <td>상품의 질이 다른 오픈마켓 보다 좋네요퀄리티가 달라요 특히 음식 시켜보니 믿음이 가네요</td>\n",
       "      <td>[오픈, 오픈마켓, 퀄리티, 믿음]</td>\n",
       "      <td>1</td>\n",
       "    </tr>\n",
       "    <tr>\n",
       "      <th>4</th>\n",
       "      <td>2021-03-10</td>\n",
       "      <td>추. ㅊ ..ㅓ.ㅇ .ㅣ : ( 222444 )친환경 재료에 신선한 완전 최고에요....</td>\n",
       "      <td>5</td>\n",
       "      <td>추 ㅊ ㅓㅇ ㅣ    친환경 재료에 신선한 완전 최고에요상품마다 별점 주는 게 있으...</td>\n",
       "      <td>[별점, 판단, 스토어]</td>\n",
       "      <td>1</td>\n",
       "    </tr>\n",
       "    <tr>\n",
       "      <th>...</th>\n",
       "      <td>...</td>\n",
       "      <td>...</td>\n",
       "      <td>...</td>\n",
       "      <td>...</td>\n",
       "      <td>...</td>\n",
       "      <td>...</td>\n",
       "    </tr>\n",
       "    <tr>\n",
       "      <th>3543</th>\n",
       "      <td>2016-03-02</td>\n",
       "      <td>신선 품질좋은 장보기 정확하고 빠른 배송</td>\n",
       "      <td>5</td>\n",
       "      <td>신선 품질좋은 장보기 정확하고 빠른 배송</td>\n",
       "      <td>[신선, 품질, 정확, 배송]</td>\n",
       "      <td>1</td>\n",
       "    </tr>\n",
       "    <tr>\n",
       "      <th>3544</th>\n",
       "      <td>2016-03-02</td>\n",
       "      <td>아이를 키우며 좋은 식자재에 대한 갈증이 있는데 이렇게 건강하고 신선한 먹거리를 쉽...</td>\n",
       "      <td>5</td>\n",
       "      <td>아이를 키우며 좋은 식자재에 대한 갈증이 있는데 이렇게 건강하고 신선한 먹거리를 쉽...</td>\n",
       "      <td>[식자재, 컴퓨터, 부족, 앱이네]</td>\n",
       "      <td>1</td>\n",
       "    </tr>\n",
       "    <tr>\n",
       "      <th>3545</th>\n",
       "      <td>2016-03-02</td>\n",
       "      <td>아는동생소개로알게된마켓컬리 늦게안게아쉬울정도ㅋㅋ제품퀄리티완젼좋고,포장배송완벽함!내눈...</td>\n",
       "      <td>5</td>\n",
       "      <td>아는동생소개로알게된마켓컬리 늦게안게아쉬울정도ㅋㅋ제품퀄리티완젼좋고포장배송완벽함내눈으로...</td>\n",
       "      <td>[동생, 포장, 안보, 퀄리티, 포장배송, 배송, 배송오고, 소분, 경우, 가도]</td>\n",
       "      <td>1</td>\n",
       "    </tr>\n",
       "    <tr>\n",
       "      <th>3546</th>\n",
       "      <td>2016-03-02</td>\n",
       "      <td>샛별배송 정말 훌륭합니다. 컬리라면 무조건 믿고 주문~ ^^*</td>\n",
       "      <td>5</td>\n",
       "      <td>샛별배송 정말 훌륭합니다 컬리라면 무조건 믿고 주문</td>\n",
       "      <td>[샛별배송, 배송]</td>\n",
       "      <td>1</td>\n",
       "    </tr>\n",
       "    <tr>\n",
       "      <th>3547</th>\n",
       "      <td>2016-03-01</td>\n",
       "      <td>더이상 밤늦게 슈퍼를 헤매고 다니지않아도됨</td>\n",
       "      <td>5</td>\n",
       "      <td>더이상 밤늦게 슈퍼를 헤매고 다니지않아도됨</td>\n",
       "      <td>[슈퍼]</td>\n",
       "      <td>1</td>\n",
       "    </tr>\n",
       "  </tbody>\n",
       "</table>\n",
       "<p>3548 rows × 6 columns</p>\n",
       "</div>"
      ],
      "text/plain": [
       "            date                                            comment  ratings  \\\n",
       "0     2021-03-10                                정확한 시간에 배달되어 만족합니다.        4   \n",
       "1     2021-03-10                                           간편해서 좋아요        5   \n",
       "2     2021-03-10                    신선한 제품을 빠른 배송과 가격도 만족할수 있어 좋아요.        5   \n",
       "3     2021-03-10  상품의 질이 다른 오픈마켓 보다 좋네요~퀄리티가 달라요 특히 음식 시켜보니 믿음이 가네요        5   \n",
       "4     2021-03-10  추. ㅊ ..ㅓ.ㅇ .ㅣ : ( 222444 )친환경 재료에 신선한 완전 최고에요....        5   \n",
       "...          ...                                                ...      ...   \n",
       "3543  2016-03-02                             신선 품질좋은 장보기 정확하고 빠른 배송        5   \n",
       "3544  2016-03-02  아이를 키우며 좋은 식자재에 대한 갈증이 있는데 이렇게 건강하고 신선한 먹거리를 쉽...        5   \n",
       "3545  2016-03-02  아는동생소개로알게된마켓컬리 늦게안게아쉬울정도ㅋㅋ제품퀄리티완젼좋고,포장배송완벽함!내눈...        5   \n",
       "3546  2016-03-02                 샛별배송 정말 훌륭합니다. 컬리라면 무조건 믿고 주문~ ^^*        5   \n",
       "3547  2016-03-01                            더이상 밤늦게 슈퍼를 헤매고 다니지않아도됨        5   \n",
       "\n",
       "                                                ko_text  \\\n",
       "0                                    정확한 시간에 배달되어 만족합니다   \n",
       "1                                              간편해서 좋아요   \n",
       "2                        신선한 제품을 빠른 배송과 가격도 만족할수 있어 좋아요   \n",
       "3      상품의 질이 다른 오픈마켓 보다 좋네요퀄리티가 달라요 특히 음식 시켜보니 믿음이 가네요   \n",
       "4     추 ㅊ ㅓㅇ ㅣ    친환경 재료에 신선한 완전 최고에요상품마다 별점 주는 게 있으...   \n",
       "...                                                 ...   \n",
       "3543                             신선 품질좋은 장보기 정확하고 빠른 배송   \n",
       "3544  아이를 키우며 좋은 식자재에 대한 갈증이 있는데 이렇게 건강하고 신선한 먹거리를 쉽...   \n",
       "3545  아는동생소개로알게된마켓컬리 늦게안게아쉬울정도ㅋㅋ제품퀄리티완젼좋고포장배송완벽함내눈으로...   \n",
       "3546                      샛별배송 정말 훌륭합니다 컬리라면 무조건 믿고 주문    \n",
       "3547                            더이상 밤늦게 슈퍼를 헤매고 다니지않아도됨   \n",
       "\n",
       "                                              nouns  y  \n",
       "0                                              [정확]  1  \n",
       "1                                              [간편]  1  \n",
       "2                                          [배송, 가격]  1  \n",
       "3                               [오픈, 오픈마켓, 퀄리티, 믿음]  1  \n",
       "4                                     [별점, 판단, 스토어]  1  \n",
       "...                                             ... ..  \n",
       "3543                               [신선, 품질, 정확, 배송]  1  \n",
       "3544                            [식자재, 컴퓨터, 부족, 앱이네]  1  \n",
       "3545  [동생, 포장, 안보, 퀄리티, 포장배송, 배송, 배송오고, 소분, 경우, 가도]  1  \n",
       "3546                                     [샛별배송, 배송]  1  \n",
       "3547                                           [슈퍼]  1  \n",
       "\n",
       "[3548 rows x 6 columns]"
      ]
     },
     "execution_count": 28,
     "metadata": {},
     "output_type": "execute_result"
    }
   ],
   "source": [
    "df"
   ]
  },
  {
   "cell_type": "code",
   "execution_count": 29,
   "metadata": {
    "scrolled": true
   },
   "outputs": [
    {
     "data": {
      "text/plain": [
       "1    2797\n",
       "0     751\n",
       "Name: y, dtype: int64"
      ]
     },
     "execution_count": 29,
     "metadata": {},
     "output_type": "execute_result"
    }
   ],
   "source": [
    "df.y.value_counts()"
   ]
  },
  {
   "cell_type": "code",
   "execution_count": 30,
   "metadata": {},
   "outputs": [],
   "source": [
    "y= df['y']\n",
    "X_train,X_test, y_train, y_test = train_test_split(tf_idf_vect, y, test_size = 0.2)"
   ]
  },
  {
   "cell_type": "code",
   "execution_count": 31,
   "metadata": {
    "scrolled": true
   },
   "outputs": [
    {
     "name": "stdout",
     "output_type": "stream",
     "text": [
      "(710, 13452)\n"
     ]
    }
   ],
   "source": [
    "print(X_test.shape)"
   ]
  },
  {
   "cell_type": "markdown",
   "metadata": {},
   "source": [
    "# 여기까지 "
   ]
  },
  {
   "cell_type": "markdown",
   "metadata": {},
   "source": [
    "# 로지스틱 회귀"
   ]
  },
  {
   "cell_type": "code",
   "execution_count": 32,
   "metadata": {},
   "outputs": [
    {
     "name": "stdout",
     "output_type": "stream",
     "text": [
      "Test Accuracy: 80.42%\n"
     ]
    }
   ],
   "source": [
    "from sklearn.linear_model import LogisticRegression\n",
    "lr = LogisticRegression(solver=\"lbfgs\", max_iter=500)\n",
    "lr.fit(X_train, y_train)\n",
    "print(\"Test Accuracy: {}%\".format(round(lr.score(X_test, y_test)*100,2)))"
   ]
  },
  {
   "cell_type": "code",
   "execution_count": 33,
   "metadata": {},
   "outputs": [
    {
     "name": "stdout",
     "output_type": "stream",
     "text": [
      "cross-val-score \n",
      "[0.78873239 0.7915493  0.7971831  0.78873239 0.7915493  0.7943662\n",
      " 0.7971831  0.7915493  0.79096045 0.80225989]\n",
      "cross-val-score.mean \n",
      "0.793\n"
     ]
    }
   ],
   "source": [
    "scores = cross_val_score(lr, tf_idf_vect, y, cv=10) # model, train, target, cross validation\n",
    "\n",
    "print('cross-val-score \\n{}'.format(scores))\n",
    "\n",
    "print('cross-val-score.mean \\n{:.3f}'.format(scores.mean()))"
   ]
  },
  {
   "cell_type": "code",
   "execution_count": 34,
   "metadata": {
    "scrolled": true
   },
   "outputs": [
    {
     "name": "stdout",
     "output_type": "stream",
     "text": [
      "Logistic Regression Classifier report: \n",
      "\n",
      "               precision    recall  f1-score   support\n",
      "\n",
      "           0       0.50      0.01      0.03       139\n",
      "           1       0.81      1.00      0.89       571\n",
      "\n",
      "    accuracy                           0.80       710\n",
      "   macro avg       0.65      0.51      0.46       710\n",
      "weighted avg       0.75      0.80      0.72       710\n",
      "\n"
     ]
    }
   ],
   "source": [
    "y_pred_lr = lr.predict(X_test)\n",
    "print(\"Logistic Regression Classifier report: \\n\\n\", classification_report(y_test, y_pred_lr))"
   ]
  },
  {
   "cell_type": "code",
   "execution_count": 35,
   "metadata": {},
   "outputs": [
    {
     "data": {
      "image/png": "[encoded data removed]",
      "text/plain": [
       "<Figure size 504x504 with 2 Axes>"
      ]
     },
     "metadata": {
      "needs_background": "light"
     },
     "output_type": "display_data"
    }
   ],
   "source": [
    "cm = confusion_matrix(y_test, y_pred_lr)\n",
    "x_axis_labels = [\"Edible\", \"Poisonous\"]\n",
    "y_axis_labels = [\"Edible\", \"Poisonous\"]\n",
    "f, ax = plt.subplots(figsize =(7,7))\n",
    "sns.heatmap(cm, annot = True, linewidths=0.2, linecolor=\"black\", fmt = \".0f\", ax=ax, cmap=\"Purples\", xticklabels=x_axis_labels, yticklabels=y_axis_labels)\n",
    "plt.xlabel(\"PREDICTED LABEL\")\n",
    "plt.ylabel(\"TRUE LABEL\")\n",
    "plt.title('Confusion Matrix for Logistic Regression Classifier')\n",
    "#plt.savefig(\"lrcm.png\", format='png', dpi=500, bbox_inches='tight')\n",
    "plt.show()"
   ]
  },
  {
   "cell_type": "code",
   "execution_count": 36,
   "metadata": {
    "scrolled": true
   },
   "outputs": [],
   "source": [
    "# plt.rcParams['figure.figsize'] = [10,8]\n",
    "# plt.bar(range(len(lr.coef_[0])), lr.coef_[0])"
   ]
  },
  {
   "cell_type": "code",
   "execution_count": 37,
   "metadata": {},
   "outputs": [],
   "source": [
    "coef_pos_index = sorted(((value, index ) for index, value in enumerate(lr.coef_[0])), reverse=True)\n",
    "coef_neg_index = sorted(((value,index) for index, value in enumerate(lr.coef_[0])), reverse= False)"
   ]
  },
  {
   "cell_type": "code",
   "execution_count": 38,
   "metadata": {
    "scrolled": false
   },
   "outputs": [
    {
     "name": "stdout",
     "output_type": "stream",
     "text": [
      "신선\n",
      "포장\n",
      "빠르고\n",
      "편하고\n",
      "간편\n",
      "빠른배송\n",
      "편해요\n",
      "품질\n",
      "빠른\n",
      "다양한\n",
      "편리하고\n",
      "할인\n",
      "편하\n",
      "배송\n",
      "믿고\n",
      "많고\n",
      "퀄리티가\n",
      "빨라서\n",
      "질이\n",
      "많아\n",
      "친절하고\n",
      "편해\n",
      "빨라요\n",
      "종류도\n",
      "빠르\n",
      "정확하고\n",
      "쉽고\n",
      "퀄리티\n",
      "찜기능\n",
      "저렴하게\n",
      "가격\n",
      "싸고\n",
      "신뢰가\n",
      "싱싱하고\n",
      "많은\n",
      "나아지는\n",
      "친환경\n",
      "저렴하고\n",
      "택배가\n",
      "ㅔ요\n",
      "자세한\n",
      "정확한\n",
      "재미가\n",
      "쉽게\n",
      "신속하게\n",
      "점점\n",
      "쉬워요\n",
      "좋고요\n",
      "이벤트가\n",
      "메뉴\n"
     ]
    }
   ],
   "source": [
    "for coef in coef_pos_index[:50]:\n",
    "  print(invert_index_vectorizer[coef[1]])"
   ]
  },
  {
   "cell_type": "code",
   "execution_count": 39,
   "metadata": {
    "scrolled": false
   },
   "outputs": [
    {
     "name": "stdout",
     "output_type": "stream",
     "text": [
      "안되\n",
      "안됩니다\n",
      "느리고\n",
      "장바구니\n",
      "없습니다\n",
      "않고\n",
      "만원이상\n",
      "물품이\n",
      "싼게\n",
      "않았는데\n",
      "없네요\n",
      "하는\n",
      "갑자기\n",
      "원이라고\n",
      "비싸게\n",
      "최악의\n",
      "ㅋㅋ\n",
      "이라고\n",
      "안오고\n",
      "이유가\n",
      "듭니당\n",
      "지렸구요\n",
      "최악최악최악최악\n",
      "가질\n",
      "없네\n",
      "자체가\n",
      "비싸네요\n",
      "했는데도\n",
      "봅니다\n",
      "비쌈\n",
      "그다지\n",
      "아이디가\n",
      "최악입니다\n",
      "비싸내요\n",
      "못하게\n",
      "경기도권인데도\n",
      "공유하신다면서요\n",
      "노동환경개선하세요\n",
      "쿠팡쓸게요\n",
      "제도도\n",
      "답변도\n",
      "서비스는\n",
      "못함\n",
      "떠요\n",
      "뒤에\n",
      "삭제했습니다\n",
      "아깝네요\n",
      "연결이\n",
      "창이\n",
      "회원가입할때\n",
      "실컷\n",
      "뭔가요\n",
      "매우만족\n",
      "사람들은\n",
      "괜히\n",
      "못하고\n",
      "하라고\n",
      "떠서\n",
      "로그인이\n",
      "비싸고\n",
      "터져서\n",
      "오류로\n",
      "없는데요\n",
      "오배송\n",
      "왔는데\n",
      "건가요\n",
      "원어치사야\n",
      "하려는데\n",
      "않다고\n",
      "건지\n",
      "말라는건지\n",
      "비싸요\n",
      "데이터를\n",
      "저희집이\n",
      "하루종일\n",
      "최악임\n",
      "별로에요\n",
      "결국은\n",
      "별로입니다\n",
      "지역은\n",
      "느리면\n",
      "사라는건지\n",
      "낫네요\n",
      "한다고\n",
      "아쉽네요\n",
      "안씁니다\n",
      "오류만\n",
      "어이가없어서\n",
      "택배\n",
      "나오고\n",
      "담긴것같은\n",
      "대구\n",
      "오전에\n",
      "깨지고\n",
      "뜹니다\n",
      "경남지역은\n",
      "울산이나\n",
      "이라네요ㅎ\n",
      "못사고\n",
      "안드로이드\n"
     ]
    }
   ],
   "source": [
    "for coef in coef_neg_index[:100]:\n",
    "  print(invert_index_vectorizer[coef[1]])"
   ]
  },
  {
   "cell_type": "markdown",
   "metadata": {},
   "source": [
    "# 의사결정"
   ]
  },
  {
   "cell_type": "code",
   "execution_count": 40,
   "metadata": {},
   "outputs": [
    {
     "data": {
      "text/plain": [
       "DecisionTreeClassifier(ccp_alpha=0.0, class_weight=None, criterion='gini',\n",
       "                       max_depth=None, max_features=None, max_leaf_nodes=None,\n",
       "                       min_impurity_decrease=0.0, min_impurity_split=None,\n",
       "                       min_samples_leaf=1, min_samples_split=2,\n",
       "                       min_weight_fraction_leaf=0.0, presort='deprecated',\n",
       "                       random_state=None, splitter='best')"
      ]
     },
     "execution_count": 40,
     "metadata": {},
     "output_type": "execute_result"
    }
   ],
   "source": [
    "dt = DecisionTreeClassifier()\n",
    "dt.fit(X_train, y_train)"
   ]
  },
  {
   "cell_type": "code",
   "execution_count": 41,
   "metadata": {
    "scrolled": true
   },
   "outputs": [
    {
     "name": "stdout",
     "output_type": "stream",
     "text": [
      "Decision Tree Classifier report: \n",
      "\n",
      "               precision    recall  f1-score   support\n",
      "\n",
      "           0       0.55      0.29      0.38       139\n",
      "           1       0.85      0.94      0.89       571\n",
      "\n",
      "    accuracy                           0.82       710\n",
      "   macro avg       0.70      0.62      0.64       710\n",
      "weighted avg       0.79      0.82      0.79       710\n",
      "\n",
      "Test Accuracy: 81.55%\n"
     ]
    }
   ],
   "source": [
    "y_pred_dt = dt.predict(X_test)\n",
    "print(\"Decision Tree Classifier report: \\n\\n\", classification_report(y_test, y_pred_dt))\n",
    "print(\"Test Accuracy: {}%\".format(round(dt.score(X_test, y_test)*100, 2)))"
   ]
  },
  {
   "cell_type": "code",
   "execution_count": 42,
   "metadata": {
    "scrolled": true
   },
   "outputs": [
    {
     "data": {
      "image/png": "[encoded data removed]",
      "text/plain": [
       "<Figure size 504x504 with 2 Axes>"
      ]
     },
     "metadata": {
      "needs_background": "light"
     },
     "output_type": "display_data"
    }
   ],
   "source": [
    "cm = confusion_matrix(y_test, y_pred_dt)\n",
    "x_axis_labels = [\"Edible\", \"Poisonous\"]\n",
    "y_axis_labels = [\"Edible\", \"Poisonous\"]\n",
    "f, ax = plt.subplots(figsize =(7,7))\n",
    "sns.heatmap(cm, annot = True, linewidths=0.2, linecolor=\"black\", fmt = \".0f\", ax=ax, cmap=\"Purples\", xticklabels=x_axis_labels, yticklabels=y_axis_labels)\n",
    "plt.xlabel(\"PREDICTED LABEL\")\n",
    "plt.ylabel(\"TRUE LABEL\")\n",
    "plt.title('Confusion Matrix for Decision Tree Classifier')\n",
    "#plt.savefig(\"dtcm.png\", format='png', dpi=500, bbox_inches='tight')\n",
    "plt.show()"
   ]
  },
  {
   "cell_type": "code",
   "execution_count": 43,
   "metadata": {
    "scrolled": false
   },
   "outputs": [],
   "source": [
    "# plt.rcParams['figure.figsize'] = [10,8]\n",
    "# plt.bar(range(len(dt.feature_importances_)), dt.feature_importances_)"
   ]
  },
  {
   "cell_type": "code",
   "execution_count": 44,
   "metadata": {},
   "outputs": [],
   "source": [
    "coef_pos_index = sorted(((value, index ) for index, value in enumerate(dt.feature_importances_)), reverse=True)\n",
    "coef_neg_index = sorted(((value,index) for index, value in enumerate(dt.feature_importances_)), reverse= False)"
   ]
  },
  {
   "cell_type": "code",
   "execution_count": 45,
   "metadata": {
    "scrolled": true
   },
   "outputs": [
    {
     "name": "stdout",
     "output_type": "stream",
     "text": [
      "안되 0.07013399625494952\n",
      "신선 0.029549645604888458\n",
      "배송 0.02130142317673795\n",
      "장바구니 0.019277471058472925\n",
      "간편 0.011116302007319098\n",
      "할인 0.011090345255464287\n",
      "않고 0.01030629057809958\n",
      "안됩니다 0.010150437394162987\n",
      "포장 0.008331915533318404\n",
      "느리고 0.006990088797274647\n",
      "편하고 0.006573402325664872\n",
      "똑같은 0.006214595485969908\n",
      "답변도 0.006182362106893599\n",
      "품질 0.005829318961108299\n",
      "빠르고 0.005580523043650765\n",
      "만원이상 0.005400891803430948\n",
      "느려요 0.005347492664174625\n",
      "없습니다 0.005324508314035962\n",
      "빠른배송 0.004946019460185556\n",
      "못하고 0.0048713701794036515\n",
      "원이라고 0.004849227587678652\n",
      "입니다 0.004829924396968306\n",
      "아깝네요 0.00482723562583\n",
      "않았는데 0.0048053929306903324\n",
      "없어서 0.00474507470380168\n",
      "없네 0.0038667343624978505\n",
      "쓰는 0.0038522068695896862\n",
      "이라고 0.0038377610938283555\n",
      "많고 0.0038267998510260436\n",
      "낫네요 0.0038233964234837274\n",
      "엉망입니다 0.0038091122525365268\n",
      "비싸게 0.0037949079806190874\n",
      "데이터를 0.0037807830129491225\n",
      "연결이 0.003766736760269498\n",
      "고객센터에 0.0037527686387854296\n",
      "비쌈 0.003738878070103767\n",
      "어이가없어서 0.003725064481174723\n",
      "결국은 0.003711327304231399\n",
      "시부터 0.0036976659767310243\n",
      "택배 0.003658647133700604\n",
      "근데 0.0036551635918555215\n",
      "같고 0.0036391218528654314\n",
      "없네요 0.0036369496115152317\n",
      "되는 0.003604644961985475\n",
      "유용한 0.003350006814270483\n",
      "오랜만에 0.0031516166026308726\n",
      "시스템 0.0031444270800201107\n",
      "비싸요 0.0030248412631752285\n",
      "ㅋㅋ 0.003022621602011666\n",
      "시켜서 0.0029943398204890937\n",
      "가능했으면 0.0029861974960281403\n",
      "필터링 0.0029780883378583136\n",
      "박스에 0.0029708385257160926\n",
      "사고싶은 0.002961968802069911\n",
      "안왔는데 0.002953958068325497\n",
      "지우고 0.002949583554172038\n",
      "어이없는 0.002945979788600092\n",
      "못함 0.0029380337878215364\n",
      "답답 0.002930119892097033\n",
      "그러는데 0.0029222379287017625\n",
      "폰도 0.0029143877260726374\n",
      "렉이 0.002906569113796309\n",
      "괜히 0.0028987819226004114\n",
      "애초에 0.002891025984346034\n",
      "동일한 0.0028833011320164603\n",
      "아이디가 0.0028756071997094535\n",
      "한다고 0.0028679440226283834\n",
      "원어치사야 0.002860311437072614\n",
      "해달라는 0.0028545436215716546\n",
      "엉망이네요 0.002852709280428939\n",
      "못한 0.0028451373911645983\n",
      "그대로 0.002837595608815408\n",
      "상대로 0.0028300837739807386\n",
      "하네 0.002822601728312684\n",
      "느낌도 0.0028151493145084066\n",
      "가질 0.0028077263763027958\n",
      "당연한 0.0028003327584587346\n",
      "전화번호라고 0.002792968306759876\n",
      "안씁니다 0.002785632868002809\n",
      "새로 0.00277832628998837\n",
      "종류가 0.002777906061431857\n",
      "않는 0.002771048421514413\n",
      "뜨게 0.0027637991123670657\n",
      "사이트도 0.0027565782133144178\n",
      "모바일로 0.0027493855760979554\n",
      "필요하다 0.0027422210534238083\n",
      "갤럭시노트 0.002735084498958342\n",
      "비싸내요 0.0027279757673170165\n",
      "편히 0.0027208947140599823\n",
      "말라는건지 0.0027138411956824696\n",
      "지웠다 0.002706815069609706\n",
      "뒤에 0.0026998161941871254\n",
      "다양한 0.00269558620578716\n",
      "해야지 0.002692844428676145\n",
      "봅니다 0.002685899633244247\n",
      "국물이 0.0026789816689604513\n",
      "실망입니다 0.0026720903977861957\n",
      "어제부터 0.002665225682570193\n",
      "누가 0.002658387387040841\n",
      "길이 0.0026515753757993693\n"
     ]
    }
   ],
   "source": [
    "for coef in coef_pos_index[:100]:\n",
    "  print(invert_index_vectorizer[coef[1]], coef[0])"
   ]
  },
  {
   "cell_type": "code",
   "execution_count": 46,
   "metadata": {
    "scrolled": true
   },
   "outputs": [
    {
     "name": "stdout",
     "output_type": "stream",
     "text": [
      "ㄱㅣ회를 0.0\n",
      "ㅇㅈㅇㅈ홧팅 0.0\n",
      "ㅊㅜㅊㅓㄴㅇㅣㄴ 0.0\n",
      "ㅊㅜ우쳐햐시면 0.0\n",
      "ㅊㅜ쳐햐시면 0.0\n",
      "ㅋㄹ 0.0\n",
      "ㅋㅋㅋ 0.0\n",
      "ㅋㅋㅋㅋ 0.0\n",
      "ㅋㅋㅋㅋㅋㄱ 0.0\n",
      "ㅋㅋㅋㅋㅋㅋ 0.0\n",
      "ㅋㅋㅋㅋㅋㅋㅋㅋㅋㅋ 0.0\n",
      "ㅋㅋㅋㅋㅋㅋㅋㅋㅋㅋㅋ새로가입해서 0.0\n",
      "ㅋㅋㅋㅋㅋ웃긴 0.0\n",
      "ㅋㅋㅋㅋ아니 0.0\n",
      "ㅋㅋㅋ그딴개소리는 0.0\n",
      "ㅋㅋ전화 0.0\n",
      "ㅋㅜ팡 0.0\n",
      "ㅋ그지같은 0.0\n",
      "ㅋ망하길기도합니다 0.0\n",
      "ㅎㅎㅎ 0.0\n",
      "ㅎㅎㅎㅎ 0.0\n",
      "ㅎㅎㅎㅎ이럴거면 0.0\n",
      "ㅎㅎ아침에 0.0\n",
      "ㅎㅎ장보기즐거움 0.0\n",
      "ㅏ고싶어ㅈ 0.0\n",
      "ㅏ서 0.0\n",
      "ㅏ지는 0.0\n",
      "ㅏ켓컬 0.0\n",
      "ㅏ켓컬리 0.0\n",
      "ㅐ요 0.0\n",
      "ㅐ월째 0.0\n",
      "ㅓ들었고 0.0\n",
      "ㅓ요 0.0\n",
      "ㅓ지ㄴ 0.0\n",
      "ㅓ지네요 0.0\n",
      "ㅔ요 0.0\n",
      "ㅜㅜㅜ 0.0\n",
      "ㅜㅜㅜㅜ 0.0\n",
      "ㅜㅜㅜㅜㅜ 0.0\n",
      "ㅜㅜ대실망이예요 0.0\n",
      "ㅜㅠㅋㅋㅋㅋㅋ개수좀 0.0\n",
      "ㅠㅜ 0.0\n",
      "ㅠㅜㅠㅜㅠ 0.0\n",
      "ㅠㅠㅠ 0.0\n",
      "ㅠㅠㅠㅠ 0.0\n",
      "ㅠㅠㅠㅠㅜㅠㅜ 0.0\n",
      "ㅠㅠㅠㅠㅠ 0.0\n",
      "ㅠㅠㅠㅠㅠㅠㅠ 0.0\n",
      "ㅠㅠㅠ얼어요 0.0\n",
      "ㅠㅠ해결좀다른분들 0.0\n",
      "ㅠㅡㅠ 0.0\n",
      "ㅠ그리고 0.0\n",
      "ㅡㅡㅋ 0.0\n",
      "ㅡㅡㅡㅡㅡ 0.0\n",
      "ㅣ네요 0.0\n",
      "ㅣ당로또번호을 0.0\n",
      "ㅣ더라고요 0.0\n",
      "ㅣ용하고 0.0\n",
      "ㅣ용하고있습ㄴ 0.0\n",
      "ㅣ용하고있습니다 0.0\n",
      "ㅣ적립오류도 0.0\n",
      "가고 0.0\n",
      "가고편리성타 0.0\n",
      "가공식품 0.0\n",
      "가공식품등 0.0\n",
      "가관이네요 0.0\n",
      "가구이다보니 0.0\n",
      "가기도 0.0\n",
      "가길 0.0\n",
      "가까운 0.0\n",
      "가까운데 0.0\n",
      "가까이 0.0\n",
      "가까이오면 0.0\n",
      "가끔먹어보지 0.0\n",
      "가끔사용하는데 0.0\n",
      "가끔씩 0.0\n",
      "가끔오고 0.0\n",
      "가난해져만 0.0\n",
      "가네요 0.0\n",
      "가네요다만 0.0\n",
      "가는 0.0\n",
      "가는것도 0.0\n",
      "가는데 0.0\n",
      "가능도 0.0\n",
      "가능지역이 0.0\n",
      "가능지역이라고 0.0\n",
      "가능하게 0.0\n",
      "가능하고 0.0\n",
      "가능하고저는 0.0\n",
      "가능하네요 0.0\n",
      "가능하니불편하기가 0.0\n",
      "가능하다고 0.0\n",
      "가능하다길래 0.0\n",
      "가능하다네요 0.0\n",
      "가능하다는 0.0\n",
      "가능하며 0.0\n",
      "가능하면좋겠어요 0.0\n",
      "가능한거죠 0.0\n",
      "가능한것이 0.0\n",
      "가능한게 0.0\n"
     ]
    }
   ],
   "source": [
    "for coef in coef_neg_index[:100]:\n",
    "  print(invert_index_vectorizer[coef[1]],coef[0])"
   ]
  },
  {
   "cell_type": "markdown",
   "metadata": {},
   "source": [
    "# KNN"
   ]
  },
  {
   "cell_type": "code",
   "execution_count": 47,
   "metadata": {},
   "outputs": [
    {
     "name": "stdout",
     "output_type": "stream",
     "text": [
      "Best KNN Value: 1\n",
      "Test Accuracy: 98.94%\n"
     ]
    }
   ],
   "source": [
    "from sklearn.neighbors import KNeighborsClassifier\n",
    "best_Kvalue = 0\n",
    "best_score = 0\n",
    "for i in range(1,10):\n",
    "    knn = KNeighborsClassifier(n_neighbors=i)\n",
    "    knn.fit(X_train, y_train)\n",
    "    if knn.score(X_test, y_test) > best_score:\n",
    "        best_score = knn.score(X_train, y_train)\n",
    "        best_Kvalue = i\n",
    "        \n",
    "print(\"Best KNN Value: {}\".format(best_Kvalue))\n",
    "print(\"Test Accuracy: {}%\".format(round(best_score*100,2)))"
   ]
  },
  {
   "cell_type": "code",
   "execution_count": 48,
   "metadata": {},
   "outputs": [
    {
     "name": "stdout",
     "output_type": "stream",
     "text": [
      "KNN Classifier report: \n",
      "\n",
      "               precision    recall  f1-score   support\n",
      "\n",
      "           0       0.00      0.00      0.00       139\n",
      "           1       0.80      1.00      0.89       571\n",
      "\n",
      "    accuracy                           0.80       710\n",
      "   macro avg       0.40      0.50      0.45       710\n",
      "weighted avg       0.65      0.80      0.72       710\n",
      "\n"
     ]
    }
   ],
   "source": [
    "y_pred_knn = knn.predict(X_test)\n",
    "print(\"KNN Classifier report: \\n\\n\", classification_report(y_test, y_pred_knn))\n"
   ]
  },
  {
   "cell_type": "code",
   "execution_count": 49,
   "metadata": {
    "scrolled": true
   },
   "outputs": [
    {
     "data": {
      "image/png": "[encoded data removed]",
      "text/plain": [
       "<Figure size 504x504 with 2 Axes>"
      ]
     },
     "metadata": {
      "needs_background": "light"
     },
     "output_type": "display_data"
    }
   ],
   "source": [
    "cm = confusion_matrix(y_test, y_pred_knn)\n",
    "x_axis_labels = [\"Edible\", \"Poisonous\"]\n",
    "y_axis_labels = [\"Edible\", \"Poisonous\"]\n",
    "f, ax = plt.subplots(figsize =(7,7))\n",
    "sns.heatmap(cm, annot = True, linewidths=0.2, linecolor=\"black\", fmt = \".0f\", ax=ax, cmap=\"Purples\", xticklabels=x_axis_labels, yticklabels=y_axis_labels)\n",
    "plt.xlabel(\"PREDICTED LABEL\")\n",
    "plt.ylabel(\"TRUE LABEL\")\n",
    "plt.title('Confusion Matrix for KNN Classifier')\n",
    "#plt.savefig(\"knncm.png\", format='png', dpi=500, bbox_inches='tight')\n",
    "plt.show()"
   ]
  },
  {
   "cell_type": "markdown",
   "metadata": {},
   "source": [
    "# svm"
   ]
  },
  {
   "cell_type": "code",
   "execution_count": 50,
   "metadata": {},
   "outputs": [
    {
     "name": "stdout",
     "output_type": "stream",
     "text": [
      "Test Accuracy: 80.42%\n"
     ]
    }
   ],
   "source": [
    "from sklearn.svm import SVC\n",
    "svm = SVC(random_state=42, gamma=\"auto\")\n",
    "svm.fit(X_train, y_train)\n",
    "print(\"Test Accuracy: {}%\".format(round(svm.score(X_test, y_test)*100, 2)))\n"
   ]
  },
  {
   "cell_type": "code",
   "execution_count": 51,
   "metadata": {},
   "outputs": [
    {
     "name": "stdout",
     "output_type": "stream",
     "text": [
      "SVM Classifier report: \n",
      "\n",
      "               precision    recall  f1-score   support\n",
      "\n",
      "           0       0.00      0.00      0.00       139\n",
      "           1       0.80      1.00      0.89       571\n",
      "\n",
      "    accuracy                           0.80       710\n",
      "   macro avg       0.40      0.50      0.45       710\n",
      "weighted avg       0.65      0.80      0.72       710\n",
      "\n"
     ]
    },
    {
     "name": "stderr",
     "output_type": "stream",
     "text": [
      "C:\\Users\\jby\\AppData\\Local\\Continuum\\anaconda3\\envs\\textmining\\lib\\site-packages\\sklearn\\metrics\\_classification.py:1272: UndefinedMetricWarning: Precision and F-score are ill-defined and being set to 0.0 in labels with no predicted samples. Use `zero_division` parameter to control this behavior.\n",
      "  _warn_prf(average, modifier, msg_start, len(result))\n"
     ]
    }
   ],
   "source": [
    "y_pred_svm = svm.predict(X_test)\n",
    "print(\"SVM Classifier report: \\n\\n\", classification_report(y_test, y_pred_svm))"
   ]
  },
  {
   "cell_type": "code",
   "execution_count": 52,
   "metadata": {
    "scrolled": false
   },
   "outputs": [
    {
     "data": {
      "image/png": "[encoded data removed]",
      "text/plain": [
       "<Figure size 504x504 with 2 Axes>"
      ]
     },
     "metadata": {
      "needs_background": "light"
     },
     "output_type": "display_data"
    }
   ],
   "source": [
    "cm = confusion_matrix(y_test, y_pred_svm)\n",
    "x_axis_labels = [\"Edible\", \"Poisonous\"]\n",
    "y_axis_labels = [\"Edible\", \"Poisonous\"]\n",
    "f, ax = plt.subplots(figsize =(7,7))\n",
    "sns.heatmap(cm, annot = True, linewidths=0.2, linecolor=\"black\", fmt = \".0f\", ax=ax, cmap=\"Purples\", xticklabels=x_axis_labels, yticklabels=y_axis_labels)\n",
    "plt.xlabel(\"PREDICTED LABEL\")\n",
    "plt.ylabel(\"TRUE LABEL\")\n",
    "plt.title('Confusion Matrix for SVM Classifier')\n",
    "#plt.savefig(\"svmcm.png\", format='png', dpi=500, bbox_inches='tight')\n",
    "plt.show()"
   ]
  },
  {
   "cell_type": "markdown",
   "metadata": {},
   "source": [
    "# 랜덤포레스트"
   ]
  },
  {
   "cell_type": "code",
   "execution_count": 53,
   "metadata": {},
   "outputs": [
    {
     "name": "stdout",
     "output_type": "stream",
     "text": [
      "Test Accuracy: 81.27%\n"
     ]
    }
   ],
   "source": [
    "from sklearn.ensemble import RandomForestClassifier\n",
    "rf = RandomForestClassifier(n_estimators=100, random_state=42)\n",
    "rf.fit(X_train, y_train)\n",
    "print(\"Test Accuracy: {}%\".format(round(rf.score(X_test, y_test)*100, 2)))"
   ]
  },
  {
   "cell_type": "code",
   "execution_count": 54,
   "metadata": {},
   "outputs": [
    {
     "name": "stdout",
     "output_type": "stream",
     "text": [
      "Random Forest Classifier report: \n",
      "\n",
      "               precision    recall  f1-score   support\n",
      "\n",
      "           0       0.69      0.08      0.14       139\n",
      "           1       0.82      0.99      0.89       571\n",
      "\n",
      "    accuracy                           0.81       710\n",
      "   macro avg       0.75      0.54      0.52       710\n",
      "weighted avg       0.79      0.81      0.75       710\n",
      "\n"
     ]
    }
   ],
   "source": [
    "y_pred_rf = rf.predict(X_test)\n",
    "print(\"Random Forest Classifier report: \\n\\n\", classification_report(y_test, y_pred_rf))"
   ]
  },
  {
   "cell_type": "code",
   "execution_count": 55,
   "metadata": {},
   "outputs": [
    {
     "data": {
      "image/png": "[encoded data removed]",
      "text/plain": [
       "<Figure size 504x504 with 2 Axes>"
      ]
     },
     "metadata": {
      "needs_background": "light"
     },
     "output_type": "display_data"
    }
   ],
   "source": [
    "cm = confusion_matrix(y_test, y_pred_rf)\n",
    "x_axis_labels = [\"Edible\", \"Poisonous\"]\n",
    "y_axis_labels = [\"Edible\", \"Poisonous\"]\n",
    "f, ax = plt.subplots(figsize =(7,7))\n",
    "sns.heatmap(cm, annot = True, linewidths=0.2, linecolor=\"black\", fmt = \".0f\", ax=ax, cmap=\"Purples\", xticklabels=x_axis_labels, yticklabels=y_axis_labels)\n",
    "plt.xlabel(\"PREDICTED LABEL\")\n",
    "plt.ylabel(\"TRUE LABEL\")\n",
    "plt.title('Confusion Matrix for Random Forest Classifier');\n",
    "#plt.savefig(\"rfcm.png\", format='png', dpi=500, bbox_inches='tight')\n",
    "plt.show()"
   ]
  },
  {
   "cell_type": "code",
   "execution_count": 56,
   "metadata": {},
   "outputs": [],
   "source": [
    "# plt.rcParams['figure.figsize'] = [10,8]\n",
    "# plt.bar(range(len(rf.feature_importances_)), rf.feature_importances_)"
   ]
  },
  {
   "cell_type": "code",
   "execution_count": 57,
   "metadata": {},
   "outputs": [],
   "source": [
    "coef_pos_index = sorted(((value, index ) for index, value in enumerate(rf.feature_importances_)), reverse=True)\n",
    "coef_neg_index = sorted(((value,index) for index, value in enumerate(rf.feature_importances_)), reverse= False)"
   ]
  },
  {
   "cell_type": "code",
   "execution_count": 58,
   "metadata": {},
   "outputs": [
    {
     "name": "stdout",
     "output_type": "stream",
     "text": [
      "안되 0.029527145116824926\n",
      "신선 0.011932784108078607\n",
      "배송 0.007884749825573394\n",
      "안됩니다 0.007646603685940262\n",
      "장바구니 0.006228627553356708\n",
      "느리고 0.005637998958052274\n",
      "포장 0.005140714696857347\n",
      "없습니다 0.0046064200948568055\n",
      "빠르고 0.004143011751924351\n",
      "만원이상 0.003417278346062017\n",
      "않고 0.003321988961604788\n",
      "간편 0.0028715358737286586\n",
      "편하고 0.0026358876483137455\n",
      "갑자기 0.0024976047468740197\n",
      "비싸게 0.0023823675273783144\n",
      "종류가 0.002337599452638726\n",
      "많아 0.002290769350098605\n",
      "ㅋㅋ 0.002201567434454414\n",
      "비싸요 0.0021909646744644974\n",
      "물품이 0.0021597703694827943\n",
      "품질 0.002137369132607643\n",
      "검색 0.002113994008582893\n",
      "이라고 0.0020744413442419086\n",
      "없네요 0.0020269295672452154\n",
      "지렸구요 0.0020249028508533416\n",
      "듭니당 0.0019949472402196232\n",
      "원이라고 0.0019911015326755043\n",
      "최악최악최악최악 0.0019569979503250147\n",
      "노동환경개선하세요 0.0019523361729204614\n",
      "않았는데 0.0019345412570448087\n",
      "빠른배송 0.0019094823337249783\n",
      "못하고 0.0018901291880192672\n",
      "공유하신다면서요 0.0018582329813047805\n",
      "싼게 0.0018549975166270876\n",
      "택배 0.0018226209752065577\n",
      "비쌈 0.001807155143354036\n",
      "없네 0.0017973664564182553\n",
      "고객센터는 0.001795666140360215\n",
      "할인 0.0017539806572640943\n",
      "가격 0.0017462554797592178\n",
      "아깝네요 0.0017360154543928238\n",
      "쿠팡쓸게요 0.001734213494112852\n",
      "뭔가요 0.0016994991347369967\n",
      "실컷 0.0016988958444323979\n",
      "회원가입할때 0.0016736330900749402\n",
      "연결이 0.0016587054223874986\n",
      "경기도권인데도 0.0016446572446634918\n",
      "사고싶은 0.0016421623427923743\n",
      "가질 0.0016148006134850314\n",
      "사람들은 0.0015855315775211033\n",
      "못하게 0.0015841460184766079\n",
      "이유가 0.0015605738397115201\n",
      "빠름 0.0015365632121775816\n",
      "그다지 0.0015355079796917801\n",
      "가능했으면 0.0015258301218627577\n",
      "괜찮네요 0.001523174572655748\n",
      "비싸네요 0.0015118756981229637\n",
      "했는데도 0.0014948921062451445\n",
      "말라는 0.0014712928715681444\n",
      "떠요 0.0014180475411630774\n",
      "하라고 0.0014133957540493182\n",
      "뒤에 0.001411709663337059\n",
      "안오고 0.0013909902752642438\n",
      "매우만족 0.001390414658909872\n",
      "제도도 0.001379506536328022\n",
      "못함 0.0013550816789322023\n",
      "뜹니다 0.001344376442756763\n",
      "똑같은 0.0013374259191867945\n",
      "로그인이 0.0013339469505493405\n",
      "자체가 0.0013258137786663782\n",
      "봅니다 0.0013170845120473393\n",
      "최악의 0.0012989864111151233\n",
      "괜히 0.001291119396690147\n",
      "비싸고 0.0012721474490071127\n",
      "휴지 0.0012614975901064926\n",
      "이렇게 0.0012604465702191663\n",
      "최악입니다 0.001251512195142668\n",
      "아이디가 0.0012425371846245177\n",
      "시스템 0.0012365525727119613\n",
      "선택이 0.0012361910587168371\n",
      "안씁니다 0.0012157259279507646\n",
      "낫네요 0.0012049879005469827\n",
      "데이터를 0.0012025184392695908\n",
      "답변도 0.0012020815743410903\n",
      "미리 0.001197513358898704\n",
      "비싸내요 0.0011926832723448382\n",
      "않다고 0.0011909775596113269\n",
      "못사고 0.0011437625316999258\n",
      "제발 0.0011233393002839302\n",
      "오랜만에 0.0011223392321658373\n",
      "가시성 0.0011223211600919852\n",
      "떠서 0.001120872005729618\n",
      "하필이면 0.001107957323416315\n",
      "서비스는 0.0011019391013656079\n",
      "없는데요 0.0011003910213279473\n",
      "저만 0.0011003164401253392\n",
      "창이 0.0010982981206984481\n",
      "아쉽네요 0.001097021037437866\n",
      "답답 0.0010946325169428328\n",
      "그대로 0.00109330874875353\n"
     ]
    }
   ],
   "source": [
    "for coef in coef_pos_index[:100]:\n",
    "  print(invert_index_vectorizer[coef[1]], coef[0])"
   ]
  },
  {
   "cell_type": "code",
   "execution_count": 59,
   "metadata": {},
   "outputs": [
    {
     "name": "stdout",
     "output_type": "stream",
     "text": [
      "ㄱㅣ회를\n",
      "ㅇㅈㅇㅈ홧팅\n",
      "ㅋㅋㅋㅋㅋㅋ\n",
      "ㅋㅋㅋ그딴개소리는\n",
      "ㅋㅜ팡\n",
      "ㅋ그지같은\n",
      "ㅋ망하길기도합니다\n",
      "ㅎㅎㅎㅎ\n",
      "ㅏ고싶어ㅈ\n",
      "ㅏ서\n",
      "ㅐ요\n",
      "ㅓ요\n",
      "ㅓ지ㄴ\n",
      "ㅓ지네요\n",
      "ㅜㅠㅋㅋㅋㅋㅋ개수좀\n",
      "ㅠㅜㅠㅜㅠ\n",
      "ㅠㅠㅠㅠㅠㅠㅠ\n",
      "ㅠㅠㅠ얼어요\n",
      "ㅠㅠ해결좀다른분들\n",
      "ㅠ그리고\n",
      "ㅡㅡㅡㅡㅡ\n",
      "ㅣ더라고요\n",
      "ㅣ용하고\n",
      "가공식품등\n",
      "가길\n",
      "가까이오면\n",
      "가끔먹어보지\n",
      "가능하다네요\n",
      "가능한거죠\n",
      "가능한지\n",
      "가능한지요\n",
      "가능할까\n",
      "가능할듯합니다\n",
      "가능합니다\n",
      "가득\n",
      "가루\n",
      "가만히만\n",
      "가방으로\n",
      "가보니\n",
      "가상계좌이체도\n",
      "가성비가좋아요\n",
      "가성비좋게\n",
      "가성비좋은\n",
      "가슴을\n",
      "가야되는데\n",
      "가정에선\n",
      "가져가던걸\n",
      "가져간다해놓고\n",
      "가져간대서\n",
      "가져간더니\n",
      "가져간줄\n",
      "가져다\n",
      "가져야\n",
      "가족들\n",
      "가족위해\n",
      "가족이\n",
      "가지고\n",
      "가지런히\n",
      "가지만\n",
      "가지셔야\n",
      "가지수도\n",
      "각자의\n",
      "간결한\n",
      "간단결제\n",
      "간단하고\n",
      "간단한\n",
      "간식들과\n",
      "간적이\n",
      "갇혀지내는데\n",
      "갈시간이\n",
      "갈아\n",
      "갈아타려고요\n",
      "갈아탈\n",
      "갈아탈걸\n",
      "갈아탔다가\n",
      "갈아탔어요\n",
      "갈증이\n",
      "갈치\n",
      "감당할\n",
      "감동생산자와\n",
      "감동이에요\n",
      "감동합니다\n",
      "감동했어요\n",
      "감수해야\n",
      "감싸는거면\n",
      "감아\n",
      "감탄하고\n",
      "감탄했네요\n",
      "갑니디ㅣ\n",
      "값도\n",
      "값은\n",
      "갔거나\n",
      "강아지에겐\n",
      "강요하지\n",
      "강제적으로\n",
      "강조하며\n",
      "갖다줘야지\n",
      "같기도\n",
      "같네요그래도\n",
      "같네용\n"
     ]
    }
   ],
   "source": [
    "for coef in coef_neg_index[:100]:\n",
    "  print(invert_index_vectorizer[coef[1]])"
   ]
  }
 ],
 "metadata": {
  "kernelspec": {
   "display_name": "Python 3",
   "language": "python",
   "name": "python3"
  },
  "language_info": {
   "codemirror_mode": {
    "name": "ipython",
    "version": 3
   },
   "file_extension": ".py",
   "mimetype": "text/x-python",
   "name": "python",
   "nbconvert_exporter": "python",
   "pygments_lexer": "ipython3",
   "version": "3.6.10"
  }
 },
 "nbformat": 4,
 "nbformat_minor": 4
}
